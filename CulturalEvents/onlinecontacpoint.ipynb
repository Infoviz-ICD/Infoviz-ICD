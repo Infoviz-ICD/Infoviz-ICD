{
 "cells": [
  {
   "attachments": {},
   "cell_type": "markdown",
   "metadata": {},
   "source": [
    "I tried to use the proper <a href=\"https://ontopia-lode.agid.gov.it/lode/extract?url=https://w3id.org/italia/onto/SM#d4e1494\"><b>hasOnlineContactPoint</b></a> to actually obtain a view where these events were shared on social medias.\n"
   ]
  },
  {
   "cell_type": "code",
   "execution_count": null,
   "metadata": {},
   "outputs": [],
   "source": [
    "query = '''PREFIX cis: <http://dati.beniculturali.it/cis/>\n",
    "PREFIX arco: <https://w3id.org/arco/ontology/arco/>\n",
    "PREFIX clvapit:<https://w3id.org/italia/onto/CLV/>\n",
    "PREFIX tiapit:<https://w3id.org/italia/onto/TI/>\n",
    "PREFIX smapit: <https://w3id.org/italia/onto/SM/>\n",
    "\n",
    "SELECT DISTINCT ?o ?label WHERE {\n",
    " ?s a cis:CulturalEvent; \n",
    "    smapit:hasOnlineContactPoint ?o .\n",
    "?o rdfs:label ?label\n",
    "}\n",
    "'''"
   ]
  },
  {
   "attachments": {},
   "cell_type": "markdown",
   "metadata": {},
   "source": [
    "I then extracted all the properties from this first initial one and moved onto finding some rather useful ones, such as: hasEmail, hasTelephone, hasWebsite, hasAccessConditions."
   ]
  },
  {
   "cell_type": "code",
   "execution_count": null,
   "metadata": {},
   "outputs": [],
   "source": [
    "query='''PREFIX cis: <http://dati.beniculturali.it/cis/>\n",
    "PREFIX arco: <https://w3id.org/arco/ontology/arco/>\n",
    "PREFIX clvapit:<https://w3id.org/italia/onto/CLV/>\n",
    "PREFIX tiapit:<https://w3id.org/italia/onto/TI/>\n",
    "PREFIX smapit: <https://w3id.org/italia/onto/SM/>\n",
    "\n",
    "SELECT DISTINCT ?p WHERE {\n",
    " ?s a cis:CulturalEvent; \n",
    "    smapit:hasOnlineContactPoint ?o .\n",
    "?o ?p ?o2\n",
    "}'''"
   ]
  },
  {
   "attachments": {},
   "cell_type": "markdown",
   "metadata": {},
   "source": [
    "hasAccessConditions -> inutile, ti dice gli orari, ma tu non li puoi vedere (e le altre non danno risultati, perciò niente)"
   ]
  },
  {
   "cell_type": "code",
   "execution_count": null,
   "metadata": {},
   "outputs": [],
   "source": [
    "query = '''SELECT DISTINCT ?o2 ?label WHERE {\n",
    " ?s a cis:CulturalEvent; \n",
    "    smapit:hasOnlineContactPoint ?o .\n",
    "?o accessCondition:hasAccessCondition ?o2.\n",
    "?o2 rdfs:label ?label\n",
    "}'''"
   ]
  },
  {
   "attachments": {},
   "cell_type": "markdown",
   "metadata": {},
   "source": [
    "I am not too sure but this should be for counting how many events in each city"
   ]
  },
  {
   "cell_type": "code",
   "execution_count": null,
   "metadata": {},
   "outputs": [],
   "source": [
    "query ='''PREFIX cis: <http://dati.beniculturali.it/cis/>\n",
    "PREFIX arco: <https://w3id.org/arco/ontology/arco/>\n",
    "PREFIX clvapit:<https://w3id.org/italia/onto/CLV/>\n",
    "\n",
    "SELECT DISTINCT ?label (count (?s) as ?count) WHERE {\n",
    " ?s a cis:CulturalEvent; \n",
    "    cis:isHostedBySite ?o .\n",
    "?o cis:siteAddress ?o2 .\n",
    "?o2 clvapit:hasCity ?o3 .\n",
    "?o3 rdfs:label ?label.\n",
    "}'''"
   ]
  },
  {
   "attachments": {},
   "cell_type": "markdown",
   "metadata": {},
   "source": [
    "everything is ordered by descent\n"
   ]
  },
  {
   "cell_type": "code",
   "execution_count": null,
   "metadata": {},
   "outputs": [],
   "source": [
    "query =\"\"\"PREFIX cis: <http://dati.beniculturali.it/cis/>\n",
    "PREFIX arco: <https://w3id.org/arco/ontology/arco/>\n",
    "PREFIX clvapit:<https://w3id.org/italia/onto/CLV/>\n",
    "\n",
    "SELECT DISTINCT ?label (count (?s) as ?count) WHERE {\n",
    " ?s a cis:CulturalEvent; \n",
    "    cis:isHostedBySite ?o .\n",
    "?o cis:siteAddress ?o2 .\n",
    "?o2 clvapit:hasCity ?o3 .\n",
    "?o3 rdfs:label ?label.\n",
    "\n",
    "}\n",
    "\n",
    "GROUP BY ?label\n",
    "ORDER BY DESC (?count)\"\"\""
   ]
  },
  {
   "attachments": {},
   "cell_type": "markdown",
   "metadata": {},
   "source": [
    "did the same for the properties"
   ]
  },
  {
   "cell_type": "code",
   "execution_count": null,
   "metadata": {},
   "outputs": [],
   "source": [
    "query= \"\"\"\n",
    "PREFIX arco: <https://w3id.org/arco/ontology/arco/>\n",
    "PREFIX a-loc: \t<https://w3id.org/arco/ontology/location/>\n",
    "\n",
    "SELECT DISTINCT ?label (count (?s) as ?count) WHERE{\n",
    "?s a arco:CulturalProperty; \n",
    " a-loc:hasCulturalInstituteOrSite ?o .\n",
    "?o cis:hasSite ?o2.\n",
    "?o2 cis:siteAddress ?o3.\n",
    "?o3 rdfs:label ?label.\n",
    "}\n",
    "\n",
    "GROUP BY ?label\n",
    "ORDER BY DESC (?count)\"\"\"\n"
   ]
  },
  {
   "attachments": {},
   "cell_type": "markdown",
   "metadata": {},
   "source": [
    "better to employ dc:coverage"
   ]
  },
  {
   "cell_type": "code",
   "execution_count": null,
   "metadata": {},
   "outputs": [],
   "source": [
    "query=\"\"\"PREFIX arco: <https://w3id.org/arco/ontology/arco/>\n",
    "PREFIX a-loc: \t<https://w3id.org/arco/ontology/location/>\n",
    "\n",
    "SELECT DISTINCT ?o (count (?o) as ?count) WHERE {\n",
    "?s a arco:CulturalProperty; \n",
    " dc:coverage ?o .\n",
    "}\n",
    "\n",
    "GROUP BY ?o\n",
    "ORDER BY DESC (?count)\"\"\""
   ]
  },
  {
   "cell_type": "code",
   "execution_count": null,
   "metadata": {},
   "outputs": [],
   "source": [
    "query=\"\"\"PREFIX cis: <http://dati.beniculturali.it/cis/>\n",
    "PREFIX arco: <https://w3id.org/arco/ontology/arco/>\n",
    "PREFIX clvapit:<https://w3id.org/italia/onto/CLV/>\n",
    "\n",
    "SELECT DISTINCT ?event ?site ?city WHERE {\n",
    " ?s a cis:CulturalEvent.\n",
    "?s rdfs:label ?event;\n",
    " cis:isHostedBySite ?o .\n",
    "?o rdfs:label ?site.\n",
    "?o cis:siteAddress ?o2 .\n",
    "?o2 rdfs:label ?labelO.\n",
    "?o2 clvapit:hasCity ?o3 .\n",
    "?o3 rdfs:label ?city.\n",
    "\n",
    "\n",
    "\n",
    "}\"\"\""
   ]
  },
  {
   "cell_type": "code",
   "execution_count": null,
   "metadata": {},
   "outputs": [],
   "source": [
    "query =\"\"\"\n",
    "PREFIX cis: <http://dati.beniculturali.it/cis/>\n",
    "PREFIX arco: <https://w3id.org/arco/ontology/arco/>\n",
    "PREFIX clvapit:<https://w3id.org/italia/onto/CLV/>\n",
    "\n",
    "SELECT DISTINCT  ?labelO (count (?s) as ?count){\n",
    " ?s a cis:CulturalEvent.\n",
    "?s rdfs:label ?label;\n",
    " cis:isHostedBySite ?o .\n",
    "?o cis:siteAddress ?o2 .\n",
    "?o2 rdfs:label ?labelO.\n",
    "?o2 clvapit:hasCity ?o3 .\n",
    "?o3 rdfs:label ?labelCi.\n",
    "\n",
    "\n",
    "\n",
    "}\n",
    "\n",
    "GROUP BY ?labelO\n",
    "ORDER BY DESC (?count)\"\"\""
   ]
  },
  {
   "cell_type": "code",
   "execution_count": null,
   "metadata": {},
   "outputs": [],
   "source": [
    "query=\"\"\"PREFIX cis: <http://dati.beniculturali.it/cis/>\n",
    "PREFIX arco: <https://w3id.org/arco/ontology/arco/>\n",
    "PREFIX clvapit:<https://w3id.org/italia/onto/CLV/>\n",
    "\n",
    "SELECT DISTINCT ?labelOO (count (?s) as ?count){\n",
    " ?s a cis:CulturalEvent.\n",
    "?s rdfs:label ?label;\n",
    " cis:isHostedBySite ?o .\n",
    "?o rdfs:label ?labelOO .\n",
    "?o cis:siteAddress ?o2 .\n",
    "?o2 rdfs:label ?labelO.\n",
    "?o2 clvapit:hasCity ?o3 .\n",
    "?o3 rdfs:label ?labelCi.\n",
    "\n",
    "\n",
    "\n",
    "}\n",
    "\n",
    "GROUP BY ?labelOO\n",
    "ORDER BY DESC (?count)\"\"\""
   ]
  },
  {
   "cell_type": "code",
   "execution_count": null,
   "metadata": {},
   "outputs": [],
   "source": []
  }
 ],
 "metadata": {
  "kernelspec": {
   "display_name": "Python 3",
   "language": "python",
   "name": "python3"
  },
  "language_info": {
   "name": "python",
   "version": "3.10.7"
  },
  "orig_nbformat": 4,
  "vscode": {
   "interpreter": {
    "hash": "909775f4c1c1337c10dd26386ad7fdd8e68c24cfe611dcacc1a198b9e09c3e1f"
   }
  }
 },
 "nbformat": 4,
 "nbformat_minor": 2
}
