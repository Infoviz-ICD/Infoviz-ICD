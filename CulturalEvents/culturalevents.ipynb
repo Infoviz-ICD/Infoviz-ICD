{
 "cells": [
  {
   "attachments": {},
   "cell_type": "markdown",
   "metadata": {},
   "source": [
    "The **CIS (Cultural Institute/Site and Cultural Event) ontology** aims at modelling the data on cultural institutes or sites such as data regarding the agents that play a specific role on cultural institutes or sites, the sites themselves, the contact points, all multimedia files which describe the cultural institute or site and any other information useful to the public in order to access the institute or site.\n",
    "\n",
    "We specificially employed it to extract all the cultural events present in the dataset through the property **cis:CulturalEvent**"
   ]
  },
  {
   "attachments": {},
   "cell_type": "markdown",
   "metadata": {},
   "source": [
    "**cis:CulturalEvent** represents an event that typically is related to the cultural domain"
   ]
  },
  {
   "cell_type": "code",
   "execution_count": 7,
   "metadata": {},
   "outputs": [],
   "source": [
    "import sparql_dataframe\n",
    "\n",
    "from SPARQLWrapper import SPARQLWrapper, JSON\n",
    "import ssl\n",
    "\n",
    "ssl._create_default_https_context = ssl._create_unverified_context\n",
    "\n",
    "endpoint = 'https://dati.cultura.gov.it/sparql'\n",
    "\n",
    "query_events = \"\"\"\n",
    "PREFIX cis: <http://dati.beniculturali.it/cis/>\n",
    "PREFIX arco: <https://w3id.org/arco/ontology/arco/>\n",
    "PREFIX clvapit:<https://w3id.org/italia/onto/CLV/>\n",
    "\n",
    "SELECT DISTINCT ?s  WHERE {\n",
    " ?s a cis:CulturalEvent.\n",
    " }\n",
    "\"\"\""
   ]
  },
  {
   "cell_type": "code",
   "execution_count": 8,
   "metadata": {},
   "outputs": [],
   "source": [
    "df = sparql_dataframe.get(endpoint, query_events)"
   ]
  },
  {
   "attachments": {},
   "cell_type": "markdown",
   "metadata": {},
   "source": [
    "We procede getting the cultural events' names, through using the property, **rdfs:label**. We also kept the IRI in order to have a unique identifier both for institutes and sites that will help us to merge our tables."
   ]
  },
  {
   "cell_type": "code",
   "execution_count": 9,
   "metadata": {},
   "outputs": [],
   "source": [
    "import sparql_dataframe\n",
    "\n",
    "from SPARQLWrapper import SPARQLWrapper, JSON\n",
    "import ssl\n",
    "\n",
    "ssl._create_default_https_context = ssl._create_unverified_context\n",
    "\n",
    "endpoint = 'https://dati.cultura.gov.it/sparql'\n",
    "\n",
    "query_event_label = \"\"\"\n",
    "PREFIX cis: <http://dati.beniculturali.it/cis/>\n",
    "PREFIX arco: <https://w3id.org/arco/ontology/arco/>\n",
    "PREFIX clvapit:<https://w3id.org/italia/onto/CLV/>\n",
    "\n",
    "SELECT DISTINCT ?s ?event WHERE {\n",
    " ?s a cis:CulturalEvent;\n",
    "rdfs:label ?event.\n",
    "}\n",
    "\"\"\""
   ]
  },
  {
   "cell_type": "code",
   "execution_count": 10,
   "metadata": {},
   "outputs": [],
   "source": [
    "df = sparql_dataframe.get(endpoint, query_event_label)"
   ]
  },
  {
   "attachments": {},
   "cell_type": "markdown",
   "metadata": {},
   "source": [
    "We then employed the property **cis:isHostedBySite** to extract all the sites in which the events were held as this specific property links the Event to the Site of the Cultural Institute or Site.\n",
    "\n",
    "Also in this case we actually extracted both the IRIs and the label through the same property as the one mentioned above."
   ]
  },
  {
   "cell_type": "code",
   "execution_count": 11,
   "metadata": {},
   "outputs": [],
   "source": [
    "import sparql_dataframe\n",
    "\n",
    "from SPARQLWrapper import SPARQLWrapper, JSON\n",
    "import ssl\n",
    "\n",
    "ssl._create_default_https_context = ssl._create_unverified_context\n",
    "\n",
    "endpoint = 'https://dati.cultura.gov.it/sparql'\n",
    "\n",
    "query_site= \"\"\"\n",
    "PREFIX cis: <http://dati.beniculturali.it/cis/>\n",
    "PREFIX arco: <https://w3id.org/arco/ontology/arco/>\n",
    "PREFIX clvapit:<https://w3id.org/italia/onto/CLV/>\n",
    "\n",
    "SELECT DISTINCT ?s ?event ?o ?site  WHERE {\n",
    " ?s a cis:CulturalEvent;\n",
    "rdfs:label ?event.\n",
    "?s cis:isHostedBySite ?o.\n",
    "?o rdfs:label ?site.\n",
    "}\n",
    "\"\"\""
   ]
  },
  {
   "cell_type": "code",
   "execution_count": 12,
   "metadata": {},
   "outputs": [],
   "source": [
    "df = sparql_dataframe.get(endpoint, query_site)"
   ]
  },
  {
   "attachments": {},
   "cell_type": "markdown",
   "metadata": {},
   "source": [
    "Then we examined various ways to retrieve the city of each city, examing the various predicates associated to them; the most appropriate and helpful way for us was to first extract the address through **cis:siteAddress** and then from here to get the city through the employment of another ontology (Address (Location) Ontology) and its property **clavpit:hasCity**."
   ]
  },
  {
   "cell_type": "code",
   "execution_count": 13,
   "metadata": {},
   "outputs": [],
   "source": [
    "import sparql_dataframe\n",
    "\n",
    "from SPARQLWrapper import SPARQLWrapper, JSON\n",
    "import ssl\n",
    "\n",
    "ssl._create_default_https_context = ssl._create_unverified_context\n",
    "\n",
    "endpoint = 'https://dati.cultura.gov.it/sparql'\n",
    "\n",
    "query_culture_events = \"\"\"\n",
    "PREFIX cis: <http://dati.beniculturali.it/cis/>\n",
    "PREFIX arco: <https://w3id.org/arco/ontology/arco/>\n",
    "PREFIX clvapit:<https://w3id.org/italia/onto/CLV/>\n",
    "\n",
    "SELECT DISTINCT ?s ?event ?o ?site ?urlcity ?city WHERE {\n",
    " ?s a cis:CulturalEvent;\n",
    "rdfs:label ?event.\n",
    "?s cis:isHostedBySite ?o.\n",
    "?o rdfs:label ?site.\n",
    "?o cis:siteAddress ?address.\n",
    "?address clvapit:hasCity ?urlcity.\n",
    "?urlcity rdfs:label ?city\n",
    "}\n",
    "\"\"\""
   ]
  },
  {
   "cell_type": "code",
   "execution_count": 14,
   "metadata": {},
   "outputs": [],
   "source": [
    "df = sparql_dataframe.get(endpoint, query_culture_events)"
   ]
  },
  {
   "attachments": {},
   "cell_type": "markdown",
   "metadata": {},
   "source": [
    "To further clear up this file from any duplicates that might appear we used the pandas method **drop_duplicates** in order to obtain a clearer table of all the data that we obtained together."
   ]
  },
  {
   "cell_type": "code",
   "execution_count": 15,
   "metadata": {},
   "outputs": [],
   "source": [
    "df=df.drop_duplicates([\"s\", \"o\"])"
   ]
  },
  {
   "attachments": {},
   "cell_type": "markdown",
   "metadata": {},
   "source": [
    "Finally we saved all of this data in a csv file to then reuse it for our own graph."
   ]
  },
  {
   "cell_type": "code",
   "execution_count": 16,
   "metadata": {},
   "outputs": [],
   "source": [
    "df.to_csv(\"cleancefile.csv\")"
   ]
  },
  {
   "attachments": {},
   "cell_type": "markdown",
   "metadata": {},
   "source": [
    "Then we worked onto counting first the events per sites"
   ]
  },
  {
   "cell_type": "code",
   "execution_count": 2,
   "metadata": {},
   "outputs": [],
   "source": [
    "import sparql_dataframe\n",
    "\n",
    "from SPARQLWrapper import SPARQLWrapper, JSON\n",
    "import ssl\n",
    "\n",
    "ssl._create_default_https_context = ssl._create_unverified_context\n",
    "\n",
    "endpoint = 'https://dati.cultura.gov.it/sparql'\n",
    "\n",
    "query_site = \"\"\"\n",
    "PREFIX cis: <http://dati.beniculturali.it/cis/>\n",
    "PREFIX arco: <https://w3id.org/arco/ontology/arco/>\n",
    "PREFIX clvapit:<https://w3id.org/italia/onto/CLV/>\n",
    "\n",
    "SELECT DISTINCT (count (?o) as ?count) ?site WHERE {\n",
    " ?s a cis:CulturalEvent;\n",
    "rdfs:label ?event.\n",
    "?s cis:isHostedBySite ?o.\n",
    "?o rdfs:label ?site.\n",
    "?o cis:siteAddress ?address.\n",
    "?address clvapit:hasCity ?urlcity.\n",
    "?urlcity rdfs:label ?city\n",
    "}\n",
    "\"\"\""
   ]
  },
  {
   "cell_type": "code",
   "execution_count": 3,
   "metadata": {},
   "outputs": [],
   "source": [
    "df_count_sites = sparql_dataframe.get(endpoint, query_site)"
   ]
  },
  {
   "cell_type": "code",
   "execution_count": 4,
   "metadata": {},
   "outputs": [],
   "source": [
    "df_count_sites.to_csv(\"numbersite.csv\")"
   ]
  },
  {
   "attachments": {},
   "cell_type": "markdown",
   "metadata": {},
   "source": [
    "Then the events per city."
   ]
  },
  {
   "cell_type": "code",
   "execution_count": 31,
   "metadata": {},
   "outputs": [],
   "source": [
    "import sparql_dataframe\n",
    "\n",
    "from SPARQLWrapper import SPARQLWrapper, JSON\n",
    "import ssl\n",
    "\n",
    "ssl._create_default_https_context = ssl._create_unverified_context\n",
    "\n",
    "endpoint = 'https://dati.cultura.gov.it/sparql'\n",
    "\n",
    "query_city = \"\"\"\n",
    "PREFIX cis: <http://dati.beniculturali.it/cis/>\n",
    "PREFIX arco: <https://w3id.org/arco/ontology/arco/>\n",
    "PREFIX clvapit:<https://w3id.org/italia/onto/CLV/>\n",
    "\n",
    "SELECT DISTINCT (count (?s) as ?count) ?city WHERE {\n",
    " ?s a cis:CulturalEvent;\n",
    "rdfs:label ?event.\n",
    "?s cis:isHostedBySite ?o.\n",
    "?o rdfs:label ?site.\n",
    "?o cis:siteAddress ?address.\n",
    "?address clvapit:hasCity ?urlcity.\n",
    "?urlcity rdfs:label ?city\n",
    "}\n",
    "\"\"\""
   ]
  },
  {
   "cell_type": "code",
   "execution_count": 32,
   "metadata": {},
   "outputs": [],
   "source": [
    "df_city = sparql_dataframe.get(endpoint, query_city)"
   ]
  },
  {
   "cell_type": "code",
   "execution_count": 33,
   "metadata": {},
   "outputs": [],
   "source": [
    "df_city.to_csv(\"numbercity.csv\")"
   ]
  },
  {
   "cell_type": "code",
   "execution_count": 15,
   "metadata": {},
   "outputs": [],
   "source": [
    "endpoint = 'https://dati.cultura.gov.it/sparql'\n",
    "\n",
    "query = '''\n",
    "SELECT DISTINCT(?urlcity2) ?dbCity WHERE {\n",
    " ?s a cis:CulturalEvent;\n",
    "rdfs:label ?event.\n",
    "?s cis:isHostedBySite ?o.\n",
    "?o rdfs:label ?site.\n",
    "?o cis:siteAddress ?address.\n",
    "?address clvapit:hasCity ?urlcity.\n",
    "?urlcity owl:sameAs ?urlcity2.\n",
    "?urlcity2 owl:sameAs ?dbCity. \n",
    "FILTER(contains (str(?dbCity), \"dbpedia\") )\n",
    "}\n",
    "'''"
   ]
  },
  {
   "cell_type": "code",
   "execution_count": 16,
   "metadata": {},
   "outputs": [],
   "source": [
    "df = sparql_dataframe.get(endpoint, query)"
   ]
  },
  {
   "cell_type": "code",
   "execution_count": 17,
   "metadata": {},
   "outputs": [
    {
     "data": {
      "text/html": [
       "<div>\n",
       "<style scoped>\n",
       "    .dataframe tbody tr th:only-of-type {\n",
       "        vertical-align: middle;\n",
       "    }\n",
       "\n",
       "    .dataframe tbody tr th {\n",
       "        vertical-align: top;\n",
       "    }\n",
       "\n",
       "    .dataframe thead th {\n",
       "        text-align: right;\n",
       "    }\n",
       "</style>\n",
       "<table border=\"1\" class=\"dataframe\">\n",
       "  <thead>\n",
       "    <tr style=\"text-align: right;\">\n",
       "      <th></th>\n",
       "      <th>urlcity2</th>\n",
       "      <th>dbCity</th>\n",
       "    </tr>\n",
       "  </thead>\n",
       "  <tbody>\n",
       "    <tr>\n",
       "      <th>0</th>\n",
       "      <td>http://dati.beniculturali.it/mibact/luoghi/res...</td>\n",
       "      <td>http://dbpedia.org/resource/Besenello</td>\n",
       "    </tr>\n",
       "    <tr>\n",
       "      <th>1</th>\n",
       "      <td>http://dati.beniculturali.it/mibact/luoghi/res...</td>\n",
       "      <td>http://dbpedia.org/resource/Calci</td>\n",
       "    </tr>\n",
       "    <tr>\n",
       "      <th>2</th>\n",
       "      <td>http://dati.beniculturali.it/mibact/luoghi/res...</td>\n",
       "      <td>http://dbpedia.org/resource/Carmignano</td>\n",
       "    </tr>\n",
       "    <tr>\n",
       "      <th>3</th>\n",
       "      <td>http://dati.beniculturali.it/mibact/luoghi/res...</td>\n",
       "      <td>http://dbpedia.org/resource/Cetona</td>\n",
       "    </tr>\n",
       "    <tr>\n",
       "      <th>4</th>\n",
       "      <td>http://dati.beniculturali.it/mibact/luoghi/res...</td>\n",
       "      <td>http://dbpedia.org/resource/Chiusi</td>\n",
       "    </tr>\n",
       "    <tr>\n",
       "      <th>...</th>\n",
       "      <td>...</td>\n",
       "      <td>...</td>\n",
       "    </tr>\n",
       "    <tr>\n",
       "      <th>789</th>\n",
       "      <td>http://dati.beniculturali.it/mibact/luoghi/res...</td>\n",
       "      <td>http://dbpedia.org/resource/Casalciprano</td>\n",
       "    </tr>\n",
       "    <tr>\n",
       "      <th>790</th>\n",
       "      <td>http://dati.beniculturali.it/mibact/luoghi/res...</td>\n",
       "      <td>http://dbpedia.org/resource/Monterosso_Grana</td>\n",
       "    </tr>\n",
       "    <tr>\n",
       "      <th>791</th>\n",
       "      <td>http://dati.beniculturali.it/mibact/luoghi/res...</td>\n",
       "      <td>http://dbpedia.org/resource/Castrocielo</td>\n",
       "    </tr>\n",
       "    <tr>\n",
       "      <th>792</th>\n",
       "      <td>http://dati.beniculturali.it/mibact/luoghi/res...</td>\n",
       "      <td>http://dbpedia.org/resource/Lu_e_Cuccaro_Monfe...</td>\n",
       "    </tr>\n",
       "    <tr>\n",
       "      <th>793</th>\n",
       "      <td>http://dati.beniculturali.it/mibact/luoghi/res...</td>\n",
       "      <td>http://dbpedia.org/resource/Sinnai</td>\n",
       "    </tr>\n",
       "  </tbody>\n",
       "</table>\n",
       "<p>794 rows × 2 columns</p>\n",
       "</div>"
      ],
      "text/plain": [
       "                                              urlcity2  \\\n",
       "0    http://dati.beniculturali.it/mibact/luoghi/res...   \n",
       "1    http://dati.beniculturali.it/mibact/luoghi/res...   \n",
       "2    http://dati.beniculturali.it/mibact/luoghi/res...   \n",
       "3    http://dati.beniculturali.it/mibact/luoghi/res...   \n",
       "4    http://dati.beniculturali.it/mibact/luoghi/res...   \n",
       "..                                                 ...   \n",
       "789  http://dati.beniculturali.it/mibact/luoghi/res...   \n",
       "790  http://dati.beniculturali.it/mibact/luoghi/res...   \n",
       "791  http://dati.beniculturali.it/mibact/luoghi/res...   \n",
       "792  http://dati.beniculturali.it/mibact/luoghi/res...   \n",
       "793  http://dati.beniculturali.it/mibact/luoghi/res...   \n",
       "\n",
       "                                                dbCity  \n",
       "0                http://dbpedia.org/resource/Besenello  \n",
       "1                    http://dbpedia.org/resource/Calci  \n",
       "2               http://dbpedia.org/resource/Carmignano  \n",
       "3                   http://dbpedia.org/resource/Cetona  \n",
       "4                   http://dbpedia.org/resource/Chiusi  \n",
       "..                                                 ...  \n",
       "789           http://dbpedia.org/resource/Casalciprano  \n",
       "790       http://dbpedia.org/resource/Monterosso_Grana  \n",
       "791            http://dbpedia.org/resource/Castrocielo  \n",
       "792  http://dbpedia.org/resource/Lu_e_Cuccaro_Monfe...  \n",
       "793                 http://dbpedia.org/resource/Sinnai  \n",
       "\n",
       "[794 rows x 2 columns]"
      ]
     },
     "execution_count": 17,
     "metadata": {},
     "output_type": "execute_result"
    }
   ],
   "source": [
    "df"
   ]
  },
  {
   "cell_type": "code",
   "execution_count": null,
   "metadata": {},
   "outputs": [],
   "source": [
    "from sparql_dataframe import get\n",
    "endpoint = 'https://dati.cultura.gov.it/sparql'\n",
    "\n",
    "#count of all the cities\n",
    "query = '''\n",
    "SELECT COUNT(DISTINCT(?urlcity) as ?count) WHERE {\n",
    " ?s a cis:CulturalEvent;\n",
    "rdfs:label ?event.\n",
    "?s cis:isHostedBySite ?o.\n",
    "?o rdfs:label ?site.\n",
    "?o cis:siteAddress ?address.\n",
    "?address clvapit:hasCity ?urlcity.\n",
    "}\n",
    "'''\n",
    "CountCity = get(endpoint, query)\n",
    "CountCity"
   ]
  },
  {
   "attachments": {},
   "cell_type": "markdown",
   "metadata": {},
   "source": [
    "After having extracted all the geographical information, we then moved onto working into the temporal one.\n",
    "\n",
    "We did this through the employment of the **Time ontology** (Italian application profile) in the properties tiapit:atTime.\n",
    "\n",
    "This actually gave us a time interval composed by a **start time** and **end time**, which were then explicited through the xsd format with the properties **tiapit:StartMonth** and **tiapit:EndMonth**."
   ]
  },
  {
   "cell_type": "code",
   "execution_count": 3,
   "metadata": {},
   "outputs": [],
   "source": [
    "import sparql_dataframe\n",
    "\n",
    "from SPARQLWrapper import SPARQLWrapper, JSON\n",
    "import ssl\n",
    "\n",
    "ssl._create_default_https_context = ssl._create_unverified_context\n",
    "\n",
    "endpoint = 'https://dati.cultura.gov.it/sparql'\n",
    "\n",
    "query_time=\"\"\"SELECT DISTINCT ?s ?time ?starttime ?endtime WHERE {\n",
    " ?s a cis:CulturalEvent;\n",
    "rdfs:label ?event.\n",
    "?s tiapit:atTime ?time.\n",
    "?time tiapit:startTime ?startTime;\n",
    "tiapit:endTime ?endtime.\n",
    "}\"\"\""
   ]
  },
  {
   "cell_type": "code",
   "execution_count": 52,
   "metadata": {},
   "outputs": [],
   "source": [
    "df_time = sparql_dataframe.get(endpoint, query_time)"
   ]
  },
  {
   "attachments": {},
   "cell_type": "markdown",
   "metadata": {},
   "source": [
    "Everything was saved in a csv file."
   ]
  },
  {
   "cell_type": "code",
   "execution_count": 8,
   "metadata": {},
   "outputs": [],
   "source": [
    "df.to_csv(\"time.csv\")"
   ]
  },
  {
   "attachments": {},
   "cell_type": "markdown",
   "metadata": {},
   "source": [
    "Similarly as we had done with the geographical information we counted how many events through the years."
   ]
  },
  {
   "cell_type": "code",
   "execution_count": 53,
   "metadata": {},
   "outputs": [],
   "source": [
    "query_count_time =\"\"\"SELECT DISTINCT (count (?s) as ?count)  (year(xsd:dateTime(?starttime)) as ?StartYear) (year(xsd:dateTime(?endtime)) as ?EndYear) WHERE {\n",
    " ?s a cis:CulturalEvent;\n",
    "rdfs:label ?event.\n",
    "?s tiapit:atTime ?time.\n",
    "?time tiapit:startTime ?starttime;\n",
    "tiapit:endTime ?entime.\n",
    "?s cis:isHostedBySite ?o.\n",
    "?o rdfs:label ?site.\n",
    "?o cis:siteAddress ?address.\n",
    "?address clvapit:hasCity ?urlcity.\n",
    "}\"\"\""
   ]
  },
  {
   "cell_type": "code",
   "execution_count": 54,
   "metadata": {},
   "outputs": [],
   "source": [
    "df_time_count = sparql_dataframe.get(endpoint, query_count_time)"
   ]
  },
  {
   "attachments": {},
   "cell_type": "markdown",
   "metadata": {},
   "source": [
    "As always it was saved in a csv file."
   ]
  },
  {
   "cell_type": "code",
   "execution_count": 12,
   "metadata": {},
   "outputs": [],
   "source": [
    "df.to_csv(\"time_count.csv\")"
   ]
  },
  {
   "attachments": {},
   "cell_type": "markdown",
   "metadata": {},
   "source": [
    "Since it'd be difficult and troublesome to represent all the events per city, we worked onto getting the events per region and then to represent them in the most appropriate graph."
   ]
  },
  {
   "cell_type": "code",
   "execution_count": 1,
   "metadata": {},
   "outputs": [],
   "source": [
    "endpoint = 'https://dati.cultura.gov.it/sparql'\n",
    "\n",
    "query_regions=\"\"\"SELECT DISTINCT (count (?s) as ?count) ?region WHERE {\n",
    " ?s a cis:CulturalEvent;\n",
    "rdfs:label ?event.\n",
    "?s cis:isHostedBySite ?o.\n",
    "?o rdfs:label ?site.\n",
    "?o cis:siteAddress ?address.\n",
    "?address clvapit:hasRegion ?regionurl.\n",
    "?regionurl rdfs:label ?region\n",
    "\n",
    "\n",
    "}\"\"\""
   ]
  },
  {
   "cell_type": "code",
   "execution_count": 4,
   "metadata": {},
   "outputs": [],
   "source": [
    "df_region = sparql_dataframe.get(endpoint, query_regions)"
   ]
  },
  {
   "cell_type": "code",
   "execution_count": 5,
   "metadata": {},
   "outputs": [
    {
     "data": {
      "text/html": [
       "<div>\n",
       "<style scoped>\n",
       "    .dataframe tbody tr th:only-of-type {\n",
       "        vertical-align: middle;\n",
       "    }\n",
       "\n",
       "    .dataframe tbody tr th {\n",
       "        vertical-align: top;\n",
       "    }\n",
       "\n",
       "    .dataframe thead th {\n",
       "        text-align: right;\n",
       "    }\n",
       "</style>\n",
       "<table border=\"1\" class=\"dataframe\">\n",
       "  <thead>\n",
       "    <tr style=\"text-align: right;\">\n",
       "      <th></th>\n",
       "      <th>count</th>\n",
       "      <th>region</th>\n",
       "    </tr>\n",
       "  </thead>\n",
       "  <tbody>\n",
       "    <tr>\n",
       "      <th>0</th>\n",
       "      <td>1857</td>\n",
       "      <td>Toscana</td>\n",
       "    </tr>\n",
       "    <tr>\n",
       "      <th>1</th>\n",
       "      <td>1389</td>\n",
       "      <td>Lombardia</td>\n",
       "    </tr>\n",
       "    <tr>\n",
       "      <th>2</th>\n",
       "      <td>4489</td>\n",
       "      <td>Lazio</td>\n",
       "    </tr>\n",
       "    <tr>\n",
       "      <th>3</th>\n",
       "      <td>813</td>\n",
       "      <td>Piemonte</td>\n",
       "    </tr>\n",
       "    <tr>\n",
       "      <th>4</th>\n",
       "      <td>1116</td>\n",
       "      <td>Emilia-Romagna</td>\n",
       "    </tr>\n",
       "    <tr>\n",
       "      <th>5</th>\n",
       "      <td>483</td>\n",
       "      <td>Basilicata</td>\n",
       "    </tr>\n",
       "    <tr>\n",
       "      <th>6</th>\n",
       "      <td>1006</td>\n",
       "      <td>Puglia</td>\n",
       "    </tr>\n",
       "    <tr>\n",
       "      <th>7</th>\n",
       "      <td>338</td>\n",
       "      <td>Abruzzo</td>\n",
       "    </tr>\n",
       "    <tr>\n",
       "      <th>8</th>\n",
       "      <td>2396</td>\n",
       "      <td>Campania</td>\n",
       "    </tr>\n",
       "    <tr>\n",
       "      <th>9</th>\n",
       "      <td>775</td>\n",
       "      <td>Umbria</td>\n",
       "    </tr>\n",
       "    <tr>\n",
       "      <th>10</th>\n",
       "      <td>1156</td>\n",
       "      <td>Marche</td>\n",
       "    </tr>\n",
       "    <tr>\n",
       "      <th>11</th>\n",
       "      <td>71</td>\n",
       "      <td>Trentino-Alto Adige</td>\n",
       "    </tr>\n",
       "    <tr>\n",
       "      <th>12</th>\n",
       "      <td>981</td>\n",
       "      <td>Calabria</td>\n",
       "    </tr>\n",
       "    <tr>\n",
       "      <th>13</th>\n",
       "      <td>773</td>\n",
       "      <td>Sardegna</td>\n",
       "    </tr>\n",
       "    <tr>\n",
       "      <th>14</th>\n",
       "      <td>1389</td>\n",
       "      <td>Veneto</td>\n",
       "    </tr>\n",
       "    <tr>\n",
       "      <th>15</th>\n",
       "      <td>635</td>\n",
       "      <td>Friuli-Venezia Giulia</td>\n",
       "    </tr>\n",
       "    <tr>\n",
       "      <th>16</th>\n",
       "      <td>378</td>\n",
       "      <td>Molise</td>\n",
       "    </tr>\n",
       "    <tr>\n",
       "      <th>17</th>\n",
       "      <td>938</td>\n",
       "      <td>Liguria</td>\n",
       "    </tr>\n",
       "    <tr>\n",
       "      <th>18</th>\n",
       "      <td>214</td>\n",
       "      <td>Sicilia</td>\n",
       "    </tr>\n",
       "    <tr>\n",
       "      <th>19</th>\n",
       "      <td>58</td>\n",
       "      <td>Valle d'Aosta/Vallée d'Aoste</td>\n",
       "    </tr>\n",
       "  </tbody>\n",
       "</table>\n",
       "</div>"
      ],
      "text/plain": [
       "    count                        region\n",
       "0    1857                       Toscana\n",
       "1    1389                     Lombardia\n",
       "2    4489                         Lazio\n",
       "3     813                      Piemonte\n",
       "4    1116                Emilia-Romagna\n",
       "5     483                    Basilicata\n",
       "6    1006                        Puglia\n",
       "7     338                       Abruzzo\n",
       "8    2396                      Campania\n",
       "9     775                        Umbria\n",
       "10   1156                        Marche\n",
       "11     71           Trentino-Alto Adige\n",
       "12    981                      Calabria\n",
       "13    773                      Sardegna\n",
       "14   1389                        Veneto\n",
       "15    635         Friuli-Venezia Giulia\n",
       "16    378                        Molise\n",
       "17    938                       Liguria\n",
       "18    214                       Sicilia\n",
       "19     58  Valle d'Aosta/Vallée d'Aoste"
      ]
     },
     "execution_count": 5,
     "metadata": {},
     "output_type": "execute_result"
    }
   ],
   "source": [
    "df_region"
   ]
  },
  {
   "cell_type": "code",
   "execution_count": 67,
   "metadata": {},
   "outputs": [
    {
     "name": "stderr",
     "output_type": "stream",
     "text": [
      "/var/folders/qz/b4z_rj3s15jbrn1l_dv90b9c0000gn/T/ipykernel_2240/1500153003.py:21: UserWarning: FixedFormatter should only be used together with FixedLocator\n",
      "  my_plot.set_xticklabels(my_plot.get_xticklabels(), rotation=90)\n"
     ]
    },
    {
     "data": {
      "text/plain": [
       "[Text(0.0, 0, ''),\n",
       " Text(1000.0, 0, ''),\n",
       " Text(2000.0, 0, ''),\n",
       " Text(3000.0, 0, ''),\n",
       " Text(4000.0, 0, ''),\n",
       " Text(5000.0, 0, '')]"
      ]
     },
     "execution_count": 67,
     "metadata": {},
     "output_type": "execute_result"
    },
    {
     "data": {
      "image/png": "[encoded data removed]",
      "text/plain": [
       "<Figure size 720x360 with 1 Axes>"
      ]
     },
     "metadata": {},
     "output_type": "display_data"
    },
    {
     "data": {
      "text/plain": [
       "<Figure size 7200x504 with 0 Axes>"
      ]
     },
     "metadata": {},
     "output_type": "display_data"
    }
   ],
   "source": [
    "import seaborn as sns\n",
    "import matplotlib.pyplot as plt\n",
    "\n",
    "# Apply the default theme\n",
    "# sns.set_theme() in older versions of seaborn\n",
    "sns.set()\n",
    "\n",
    "# rename data frame\n",
    "periods = df\n",
    "\n",
    "# count function to show the number of observations of a category (period_label) in a dataset as a bar chart\n",
    "# see documentation here https://seaborn.pydata.org/generated/seaborn.catplot.html\n",
    "my_plot=sns.barplot(\n",
    "    data=df_region, x=\"count\", y=\"region\",\n",
    "    errorbar=(\"pi\", 50), capsize=.4, errcolor=\".5\",\n",
    "    linewidth=3, edgecolor=\".5\", facecolor=(0, 0, 0, 0), \n",
    ")\n",
    "plt.figure(figsize=(100,7))\n",
    "plt.rcParams[\"xtick.labelsize\"] = 7\n",
    "\n",
    "my_plot.set_xticklabels(my_plot.get_xticklabels(), rotation=90)"
   ]
  },
  {
   "cell_type": "code",
   "execution_count": 104,
   "metadata": {},
   "outputs": [],
   "source": [
    "from sparql_dataframe import get\n",
    "endpoint = 'https://dati.cultura.gov.it/sparql'\n",
    "\n",
    "query_time_years=\"\"\"SELECT DISTINCT ?s (year(xsd:dateTime(?starttime)) as ?StartYear) (year(xsd:dateTime(endtime)) as ?EndYear)WHERE {\n",
    " ?s a cis:CulturalEvent;\n",
    "rdfs:label ?event.\n",
    "?s tiapit:atTime ?time.\n",
    "?time tiapit:startTime ?starttime;\n",
    "tiapit:endtime ?endtime.\n",
    "}\"\"\"\n"
   ]
  },
  {
   "cell_type": "code",
   "execution_count": 105,
   "metadata": {},
   "outputs": [],
   "source": [
    "df_start_end_time =  sparql_dataframe.get(endpoint, query_time_years)"
   ]
  },
  {
   "cell_type": "code",
   "execution_count": 86,
   "metadata": {},
   "outputs": [
    {
     "data": {
      "text/plain": [
       "<bound method NDFrame.head of                                                        s  StartYear  EndYear\n",
       "0      http://dati.beniculturali.it/mibact/eventi/res...       2022     2022\n",
       "1      http://dati.beniculturali.it/mibact/eventi/res...       2022     2022\n",
       "2      http://dati.beniculturali.it/mibact/eventi/res...       2022     2022\n",
       "3      http://dati.beniculturali.it/mibact/eventi/res...       2022     2022\n",
       "4      http://dati.beniculturali.it/mibact/eventi/res...       2022     2022\n",
       "...                                                  ...        ...      ...\n",
       "21179  http://dati.beniculturali.it/mibact/eventi/res...       2023     2023\n",
       "21180  http://dati.beniculturali.it/mibact/eventi/res...       2023     2023\n",
       "21181  http://dati.beniculturali.it/mibact/eventi/res...       2023     2023\n",
       "21182  http://dati.beniculturali.it/mibact/eventi/res...       2023     2023\n",
       "21183  http://dati.beniculturali.it/mibact/eventi/res...       2023     2023\n",
       "\n",
       "[21184 rows x 3 columns]>"
      ]
     },
     "execution_count": 86,
     "metadata": {},
     "output_type": "execute_result"
    }
   ],
   "source": [
    "df_start_end_time.head"
   ]
  },
  {
   "cell_type": "code",
   "execution_count": 159,
   "metadata": {},
   "outputs": [
    {
     "name": "stdout",
     "output_type": "stream",
     "text": [
      "{2023: 472}\n"
     ]
    }
   ],
   "source": [
    "counts = dict()\n",
    "for i in df_start_end_time[\"StartYear\"]:\n",
    "    if i==2023:\n",
    "        counts[i] = counts.get(i, 0) + 1\n",
    "print(counts)"
   ]
  },
  {
   "cell_type": "code",
   "execution_count": 161,
   "metadata": {},
   "outputs": [
    {
     "name": "stdout",
     "output_type": "stream",
     "text": [
      "{2022: 6068}\n"
     ]
    }
   ],
   "source": [
    "counts = dict()\n",
    "for i in df_start_end_time[\"StartYear\"]:\n",
    "    if i==2022:\n",
    "        counts[i] = counts.get(i, 0) + 1\n",
    "print(counts)"
   ]
  },
  {
   "cell_type": "code",
   "execution_count": 157,
   "metadata": {},
   "outputs": [
    {
     "name": "stdout",
     "output_type": "stream",
     "text": [
      "{2021: 4992}\n"
     ]
    }
   ],
   "source": [
    "counts = dict()\n",
    "for i in df_start_end_time[\"StartYear\"]:\n",
    "    if i==2021:\n",
    "        counts[i] = counts.get(i, 0) + 1\n",
    "print(counts)"
   ]
  },
  {
   "cell_type": "code",
   "execution_count": 160,
   "metadata": {},
   "outputs": [
    {
     "name": "stdout",
     "output_type": "stream",
     "text": [
      "{2020: 6808}\n"
     ]
    }
   ],
   "source": [
    "counts = dict()\n",
    "for i in df_start_end_time[\"StartYear\"]:\n",
    "    if i==2020:\n",
    "        counts[i] = counts.get(i, 0) + 1\n",
    "print(counts)"
   ]
  },
  {
   "cell_type": "code",
   "execution_count": 180,
   "metadata": {},
   "outputs": [
    {
     "name": "stdout",
     "output_type": "stream",
     "text": [
      "{2019: 2820}\n"
     ]
    }
   ],
   "source": [
    "counts = dict()\n",
    "for i in df_start_end_time[\"StartYear\"]:\n",
    "    if i==2019:\n",
    "        counts[i] = counts.get(i, 0) + 1\n",
    "print(counts)"
   ]
  },
  {
   "cell_type": "code",
   "execution_count": 181,
   "metadata": {},
   "outputs": [
    {
     "name": "stdout",
     "output_type": "stream",
     "text": [
      "{2018: 13}\n"
     ]
    }
   ],
   "source": [
    "counts = dict()\n",
    "for i in df_start_end_time[\"StartYear\"]:\n",
    "    if i==2018:\n",
    "        counts[i] = counts.get(i, 0) + 1\n",
    "print(counts)"
   ]
  },
  {
   "cell_type": "code",
   "execution_count": 182,
   "metadata": {},
   "outputs": [
    {
     "name": "stdout",
     "output_type": "stream",
     "text": [
      "{2017: 3}\n"
     ]
    }
   ],
   "source": [
    "counts = dict()\n",
    "for i in df_start_end_time[\"StartYear\"]:\n",
    "    if i==2017:\n",
    "        counts[i] = counts.get(i, 0) + 1\n",
    "print(counts)"
   ]
  },
  {
   "cell_type": "code",
   "execution_count": 183,
   "metadata": {},
   "outputs": [
    {
     "name": "stdout",
     "output_type": "stream",
     "text": [
      "{}\n"
     ]
    }
   ],
   "source": [
    "counts = dict()\n",
    "for i in df_start_end_time[\"StartYear\"]:\n",
    "    if i==2016:\n",
    "        counts[i] = counts.get(i, 0) + 1\n",
    "print(counts)"
   ]
  },
  {
   "cell_type": "code",
   "execution_count": 184,
   "metadata": {},
   "outputs": [
    {
     "name": "stdout",
     "output_type": "stream",
     "text": [
      "{2015: 5}\n"
     ]
    }
   ],
   "source": [
    "counts = dict()\n",
    "for i in df_start_end_time[\"StartYear\"]:\n",
    "    if i==2015:\n",
    "        counts[i] = counts.get(i, 0) + 1\n",
    "print(counts)"
   ]
  },
  {
   "cell_type": "code",
   "execution_count": 185,
   "metadata": {},
   "outputs": [
    {
     "name": "stdout",
     "output_type": "stream",
     "text": [
      "{2014: 1}\n"
     ]
    }
   ],
   "source": [
    "counts = dict()\n",
    "for i in df_start_end_time[\"StartYear\"]:\n",
    "    if i==2014:\n",
    "        counts[i] = counts.get(i, 0) + 1\n",
    "print(counts)"
   ]
  },
  {
   "cell_type": "code",
   "execution_count": 186,
   "metadata": {},
   "outputs": [
    {
     "name": "stdout",
     "output_type": "stream",
     "text": [
      "{2013: 1}\n"
     ]
    }
   ],
   "source": [
    "counts = dict()\n",
    "for i in df_start_end_time[\"StartYear\"]:\n",
    "    if i==2013:\n",
    "        counts[i] = counts.get(i, 0) + 1\n",
    "print(counts)"
   ]
  },
  {
   "cell_type": "code",
   "execution_count": 162,
   "metadata": {},
   "outputs": [
    {
     "name": "stdout",
     "output_type": "stream",
     "text": [
      "{2023: 615}\n"
     ]
    }
   ],
   "source": [
    "counts = dict()\n",
    "for i in df_start_end_time[\"EndYear\"]:\n",
    "    if i==2023:\n",
    "        counts[i] = counts.get(i, 0) + 1\n",
    "print(counts)"
   ]
  },
  {
   "cell_type": "code",
   "execution_count": 155,
   "metadata": {},
   "outputs": [
    {
     "name": "stdout",
     "output_type": "stream",
     "text": [
      "{2022: 6118}\n"
     ]
    }
   ],
   "source": [
    "counts = dict()\n",
    "for i in df_start_end_time[\"EndYear\"]:\n",
    "    if i==2022:\n",
    "        counts[i] = counts.get(i, 0) + 1\n",
    "print(counts)"
   ]
  },
  {
   "cell_type": "code",
   "execution_count": 158,
   "metadata": {},
   "outputs": [
    {
     "name": "stdout",
     "output_type": "stream",
     "text": [
      "{2021: 4983}\n"
     ]
    }
   ],
   "source": [
    "counts = dict()\n",
    "for i in df_start_end_time[\"EndYear\"]:\n",
    "    if i==2021:\n",
    "        counts[i] = counts.get(i, 0) + 1\n",
    "print(counts)"
   ]
  },
  {
   "cell_type": "code",
   "execution_count": 163,
   "metadata": {},
   "outputs": [
    {
     "name": "stdout",
     "output_type": "stream",
     "text": [
      "{2020: 6861}\n"
     ]
    }
   ],
   "source": [
    "counts = dict()\n",
    "for i in df_start_end_time[\"EndYear\"]:\n",
    "    if i==2020:\n",
    "        counts[i] = counts.get(i, 0) + 1\n",
    "print(counts)"
   ]
  },
  {
   "cell_type": "code",
   "execution_count": 171,
   "metadata": {},
   "outputs": [
    {
     "name": "stdout",
     "output_type": "stream",
     "text": [
      "{2019: 2585}\n"
     ]
    }
   ],
   "source": [
    "counts = dict()\n",
    "for i in df_start_end_time[\"EndYear\"]:\n",
    "    if i==2019:\n",
    "        counts[i] = counts.get(i, 0) + 1\n",
    "print(counts)"
   ]
  },
  {
   "cell_type": "code",
   "execution_count": 172,
   "metadata": {},
   "outputs": [
    {
     "name": "stdout",
     "output_type": "stream",
     "text": [
      "{2018: 13}\n"
     ]
    }
   ],
   "source": [
    "counts = dict()\n",
    "for i in df_start_end_time[\"EndYear\"]:\n",
    "    if i==2018:\n",
    "        counts[i] = counts.get(i, 0) + 1\n",
    "print(counts)"
   ]
  },
  {
   "cell_type": "code",
   "execution_count": 173,
   "metadata": {},
   "outputs": [
    {
     "name": "stdout",
     "output_type": "stream",
     "text": [
      "{2017: 2}\n"
     ]
    }
   ],
   "source": [
    "counts = dict()\n",
    "for i in df_start_end_time[\"EndYear\"]:\n",
    "    if i==2017:\n",
    "        counts[i] = counts.get(i, 0) + 1\n",
    "print(counts)"
   ]
  },
  {
   "cell_type": "code",
   "execution_count": 174,
   "metadata": {},
   "outputs": [
    {
     "name": "stdout",
     "output_type": "stream",
     "text": [
      "{2016: 1}\n"
     ]
    }
   ],
   "source": [
    "counts = dict()\n",
    "for i in df_start_end_time[\"EndYear\"]:\n",
    "    if i==2016:\n",
    "        counts[i] = counts.get(i, 0) + 1\n",
    "print(counts)"
   ]
  },
  {
   "cell_type": "code",
   "execution_count": 175,
   "metadata": {},
   "outputs": [
    {
     "name": "stdout",
     "output_type": "stream",
     "text": [
      "{2015: 4}\n"
     ]
    }
   ],
   "source": [
    "counts = dict()\n",
    "for i in df_start_end_time[\"EndYear\"]:\n",
    "    if i==2015:\n",
    "        counts[i] = counts.get(i, 0) + 1\n",
    "print(counts)"
   ]
  },
  {
   "cell_type": "code",
   "execution_count": 176,
   "metadata": {},
   "outputs": [
    {
     "name": "stdout",
     "output_type": "stream",
     "text": [
      "{2014: 1}\n"
     ]
    }
   ],
   "source": [
    "counts = dict()\n",
    "for i in df_start_end_time[\"EndYear\"]:\n",
    "    if i==2014:\n",
    "        counts[i] = counts.get(i, 0) + 1\n",
    "print(counts)"
   ]
  },
  {
   "cell_type": "code",
   "execution_count": 178,
   "metadata": {},
   "outputs": [
    {
     "name": "stdout",
     "output_type": "stream",
     "text": [
      "{}\n"
     ]
    }
   ],
   "source": [
    "counts = dict()\n",
    "for i in df_start_end_time[\"EndYear\"]:\n",
    "    if i==2013:\n",
    "        counts[i] = counts.get(i, 0) + 1\n",
    "print(counts)"
   ]
  },
  {
   "cell_type": "code",
   "execution_count": 231,
   "metadata": {},
   "outputs": [
    {
     "name": "stdout",
     "output_type": "stream",
     "text": [
      "{2022: 128544512}\n"
     ]
    }
   ],
   "source": [
    "counts = dict()\n",
    "for index, row in df_start_end_time.iterrows():\n",
    "    for i in df_start_end_time[\"StartYear\"]:\n",
    "        if i ==2022:\n",
    "            counts[i] = counts.get(i, 0) + 1\n",
    "print(counts)\n",
    "   \n",
    "    \n",
    "\n"
   ]
  },
  {
   "cell_type": "code",
   "execution_count": 2,
   "metadata": {},
   "outputs": [
    {
     "data": {
      "text/html": [
       "<div>\n",
       "<style scoped>\n",
       "    .dataframe tbody tr th:only-of-type {\n",
       "        vertical-align: middle;\n",
       "    }\n",
       "\n",
       "    .dataframe tbody tr th {\n",
       "        vertical-align: top;\n",
       "    }\n",
       "\n",
       "    .dataframe thead th {\n",
       "        text-align: right;\n",
       "    }\n",
       "</style>\n",
       "<table border=\"1\" class=\"dataframe\">\n",
       "  <thead>\n",
       "    <tr style=\"text-align: right;\">\n",
       "      <th></th>\n",
       "      <th>s</th>\n",
       "      <th>region</th>\n",
       "      <th>StartYear</th>\n",
       "    </tr>\n",
       "  </thead>\n",
       "  <tbody>\n",
       "    <tr>\n",
       "      <th>0</th>\n",
       "      <td>http://dati.beniculturali.it/mibact/eventi/res...</td>\n",
       "      <td>Lazio</td>\n",
       "      <td>2022</td>\n",
       "    </tr>\n",
       "    <tr>\n",
       "      <th>1</th>\n",
       "      <td>http://dati.beniculturali.it/mibact/eventi/res...</td>\n",
       "      <td>Toscana</td>\n",
       "      <td>2022</td>\n",
       "    </tr>\n",
       "    <tr>\n",
       "      <th>2</th>\n",
       "      <td>http://dati.beniculturali.it/mibact/eventi/res...</td>\n",
       "      <td>Friuli-Venezia Giulia</td>\n",
       "      <td>2022</td>\n",
       "    </tr>\n",
       "    <tr>\n",
       "      <th>3</th>\n",
       "      <td>http://dati.beniculturali.it/mibact/eventi/res...</td>\n",
       "      <td>Lombardia</td>\n",
       "      <td>2022</td>\n",
       "    </tr>\n",
       "    <tr>\n",
       "      <th>4</th>\n",
       "      <td>http://dati.beniculturali.it/mibact/eventi/res...</td>\n",
       "      <td>Puglia</td>\n",
       "      <td>2022</td>\n",
       "    </tr>\n",
       "    <tr>\n",
       "      <th>...</th>\n",
       "      <td>...</td>\n",
       "      <td>...</td>\n",
       "      <td>...</td>\n",
       "    </tr>\n",
       "    <tr>\n",
       "      <th>21143</th>\n",
       "      <td>http://dati.beniculturali.it/mibact/eventi/res...</td>\n",
       "      <td>Piemonte</td>\n",
       "      <td>2022</td>\n",
       "    </tr>\n",
       "    <tr>\n",
       "      <th>21144</th>\n",
       "      <td>http://dati.beniculturali.it/mibact/eventi/res...</td>\n",
       "      <td>Toscana</td>\n",
       "      <td>2022</td>\n",
       "    </tr>\n",
       "    <tr>\n",
       "      <th>21145</th>\n",
       "      <td>http://dati.beniculturali.it/mibact/eventi/res...</td>\n",
       "      <td>Toscana</td>\n",
       "      <td>2022</td>\n",
       "    </tr>\n",
       "    <tr>\n",
       "      <th>21146</th>\n",
       "      <td>http://dati.beniculturali.it/mibact/eventi/res...</td>\n",
       "      <td>Toscana</td>\n",
       "      <td>2022</td>\n",
       "    </tr>\n",
       "    <tr>\n",
       "      <th>21147</th>\n",
       "      <td>http://dati.beniculturali.it/mibact/eventi/res...</td>\n",
       "      <td>Toscana</td>\n",
       "      <td>2022</td>\n",
       "    </tr>\n",
       "  </tbody>\n",
       "</table>\n",
       "<p>21148 rows × 3 columns</p>\n",
       "</div>"
      ],
      "text/plain": [
       "                                                       s  \\\n",
       "0      http://dati.beniculturali.it/mibact/eventi/res...   \n",
       "1      http://dati.beniculturali.it/mibact/eventi/res...   \n",
       "2      http://dati.beniculturali.it/mibact/eventi/res...   \n",
       "3      http://dati.beniculturali.it/mibact/eventi/res...   \n",
       "4      http://dati.beniculturali.it/mibact/eventi/res...   \n",
       "...                                                  ...   \n",
       "21143  http://dati.beniculturali.it/mibact/eventi/res...   \n",
       "21144  http://dati.beniculturali.it/mibact/eventi/res...   \n",
       "21145  http://dati.beniculturali.it/mibact/eventi/res...   \n",
       "21146  http://dati.beniculturali.it/mibact/eventi/res...   \n",
       "21147  http://dati.beniculturali.it/mibact/eventi/res...   \n",
       "\n",
       "                      region  StartYear  \n",
       "0                      Lazio       2022  \n",
       "1                    Toscana       2022  \n",
       "2      Friuli-Venezia Giulia       2022  \n",
       "3                  Lombardia       2022  \n",
       "4                     Puglia       2022  \n",
       "...                      ...        ...  \n",
       "21143               Piemonte       2022  \n",
       "21144                Toscana       2022  \n",
       "21145                Toscana       2022  \n",
       "21146                Toscana       2022  \n",
       "21147                Toscana       2022  \n",
       "\n",
       "[21148 rows x 3 columns]"
      ]
     },
     "execution_count": 2,
     "metadata": {},
     "output_type": "execute_result"
    }
   ],
   "source": [
    "from sparql_dataframe import get\n",
    "import ssl\n",
    "endpoint = 'https://dati.cultura.gov.it/sparql'\n",
    "ssl._create_default_https_context = ssl._create_unverified_context\n",
    "\n",
    "query = '''\n",
    "SELECT DISTINCT (?s) ?region (year(xsd:dateTime(?StartMonth)) as ?StartYear) WHERE {\n",
    " ?s a cis:CulturalEvent;\n",
    "rdfs:label ?event.\n",
    "?s cis:isHostedBySite ?o.\n",
    "?s tiapit:atTime ?time.\n",
    "?time tiapit:StartMonth ?StartMonth;\n",
    "tiapit:EndMonth ?EndMonth.\n",
    "?o rdfs:label ?site.\n",
    "?o cis:siteAddress ?address.\n",
    "?address clvapit:hasRegion ?regionurl.\n",
    "?regionurl rdfs:label ?region\n",
    "\n",
    "\n",
    "}\n",
    "'''\n",
    "\n",
    "EventsStart = get(endpoint, query)\n",
    "EventsStart"
   ]
  },
  {
   "cell_type": "code",
   "execution_count": 44,
   "metadata": {},
   "outputs": [
    {
     "name": "stdout",
     "output_type": "stream",
     "text": [
      "{'2022Lombardia': 366, '2020Lombardia': 409, '2021Lombardia': 363, '2023Lombardia': 25, '2019Lombardia': 226}\n"
     ]
    }
   ],
   "source": [
    "\n",
    "\n",
    "counts = dict()\n",
    "for index, row in EventsStart.iterrows():\n",
    "    if row[\"StartYear\"] ==2010 and row[\"region\"]==\"Lombardia\":\n",
    "        counts[\"2010Lombardia\"] = counts.get(\"2010Lombardia\", 0) + 1\n",
    "    elif row[\"StartYear\"]==2011 and row[\"region\"]==\"Lombardia\":\n",
    "        counts[\"2011Lombardia\"] = counts.get(\"2011Lombardia\", 0) + 1\n",
    "    elif row[\"StartYear\"]==2012 and row[\"region\"]==\"Lombardia\":\n",
    "        counts[\"2012Lombardia\"] = counts.get(\"2012ombardia\", 0) + 1\n",
    "    elif row[\"StartYear\"]==2013 and row[\"region\"]==\"Lombardia\":\n",
    "        counts[\"2013Lombardia\"] = counts.get(\"2013Lombardia\", 0) + 1\n",
    "    elif row[\"StartYear\"]==2014 and row[\"region\"]==\"Lombardia\":\n",
    "        counts[\"2014Lombardia\"] = counts.get(\"2014Lombardia\", 0) + 1\n",
    "    elif row[\"StartYear\"]==2015 and row[\"region\"]==\"Lombardia\":\n",
    "        counts[\"2015Lombardia\"] = counts.get(\"2015Lombardia\", 0) + 1\n",
    "    elif row[\"StartYear\"]==2016 and row[\"region\"]==\"Lombardia\":\n",
    "        counts[\"2016Lombardia\"] = counts.get(\"2016Lombardia\", 0) + 1\n",
    "    elif row[\"StartYear\"]==2017 and row[\"region\"]==\"Lombardia\":\n",
    "        counts[\"2017Lombardia\"] = counts.get(\"2017Lombardia\", 0) + 1\n",
    "    elif row[\"StartYear\"]==2018 and row[\"region\"]==\"Lombardia\":\n",
    "        counts[\"2018Lombardia\"] = counts.get(\"2018Lombardia\", 0) + 1\n",
    "    elif row[\"StartYear\"]==2019 and row[\"region\"]==\"Lombardia\":\n",
    "        counts[\"2019Lombardia\"] = counts.get(\"2019Lombardia\", 0) + 1\n",
    "    elif row[\"StartYear\"]==2020 and row[\"region\"]==\"Lombardia\":\n",
    "        counts[\"2020Lombardia\"] = counts.get(\"2020Lombardia\", 0) + 1\n",
    "    elif row[\"StartYear\"]==2021 and row[\"region\"]==\"Lombardia\":\n",
    "        counts[\"2021Lombardia\"] = counts.get(\"2021Lombardia\", 0) + 1\n",
    "    elif row[\"StartYear\"]==2022 and row[\"region\"]==\"Lombardia\":\n",
    "        counts[\"2022Lombardia\"] = counts.get(\"2022Lombardia\", 0) + 1\n",
    "    elif row[\"StartYear\"]==2023 and row[\"region\"]==\"Lombardia\":\n",
    "        counts[\"2023Lombardia\"] = counts.get(\"2023Lombardia\", 0) + 1\n",
    "\n",
    "print(counts)\n",
    "\n"
   ]
  },
  {
   "cell_type": "code",
   "execution_count": 10,
   "metadata": {},
   "outputs": [
    {
     "name": "stdout",
     "output_type": "stream",
     "text": [
      "{'2022Toscana': 613, '2020Toscana': 432, '2023Toscana': 62, '2018Toscana': 2, '2021Toscana': 442, '2019Toscana': 292, '2014Toscana': 1}\n"
     ]
    }
   ],
   "source": [
    "\n",
    "\n",
    "counts = dict()\n",
    "for index, row in EventsStart.iterrows():\n",
    "    if row[\"StartYear\"] ==2010 and row[\"region\"]==\"Toscana\":\n",
    "        counts[\"2010Toscana\"] = counts.get(\"2010Toscana\", 0) + 1\n",
    "    elif row[\"StartYear\"]==2011 and row[\"region\"]==\"Toscana\":\n",
    "        counts[\"2011Toscana\"] = counts.get(\"2011Toscana\", 0) + 1\n",
    "    elif row[\"StartYear\"]==2012 and row[\"region\"]==\"Toscana\":\n",
    "        counts[\"2012Toscana\"] = counts.get(\"2012Toscana\", 0) + 1\n",
    "    elif row[\"StartYear\"]==2013 and row[\"region\"]==\"Toscana\":\n",
    "        counts[\"2013Toscana\"] = counts.get(\"2013Toscana\", 0) + 1\n",
    "    elif row[\"StartYear\"]==2014 and row[\"region\"]==\"Toscana\":\n",
    "        counts[\"2014Toscana\"] = counts.get(\"2014Toscana\", 0) + 1\n",
    "    elif row[\"StartYear\"]==2015 and row[\"region\"]==\"Toscana\":\n",
    "        counts[\"2015Toscana\"] = counts.get(\"2015Toscana\", 0) + 1\n",
    "    elif row[\"StartYear\"]==2016 and row[\"region\"]==\"Toscana\":\n",
    "        counts[\"2016Toscana\"] = counts.get(\"2016Toscana\", 0) + 1\n",
    "    elif row[\"StartYear\"]==2017 and row[\"region\"]==\"Toscana\":\n",
    "        counts[\"2017Toscana\"] = counts.get(\"2017Toscana\", 0) + 1\n",
    "    elif row[\"StartYear\"]==2018 and row[\"region\"]==\"Toscana\":\n",
    "        counts[\"2018Toscana\"] = counts.get(\"2018Toscana\", 0) + 1\n",
    "    elif row[\"StartYear\"]==2019 and row[\"region\"]==\"Toscana\":\n",
    "        counts[\"2019Toscana\"] = counts.get(\"2019Toscana\", 0) + 1\n",
    "    elif row[\"StartYear\"]==2020 and row[\"region\"]==\"Toscana\":\n",
    "        counts[\"2020Toscana\"] = counts.get(\"2020Toscana\", 0) + 1\n",
    "    elif row[\"StartYear\"]==2021 and row[\"region\"]==\"Toscana\":\n",
    "        counts[\"2021Toscana\"] = counts.get(\"2021Toscana\", 0) + 1\n",
    "    elif row[\"StartYear\"]==2022 and row[\"region\"]==\"Toscana\":\n",
    "        counts[\"2022Toscana\"] = counts.get(\"2022Toscana\", 0) + 1\n",
    "    elif row[\"StartYear\"]==2023 and row[\"region\"]==\"Toscana\":\n",
    "        counts[\"2023Toscana\"] = counts.get(\"2023Toscana\", 0) + 1\n",
    "\n",
    "print(counts)\n"
   ]
  },
  {
   "cell_type": "code",
   "execution_count": 11,
   "metadata": {},
   "outputs": [
    {
     "name": "stdout",
     "output_type": "stream",
     "text": [
      "{'2022Marche': 273, '2020Marche': 464, '2023Marche': 9, '2021Marche': 273, '2019Marche': 137}\n"
     ]
    }
   ],
   "source": [
    "\n",
    "counts = dict()\n",
    "for index, row in EventsStart.iterrows():\n",
    "    if row[\"StartYear\"] ==2010 and row[\"region\"]==\"Marche\":\n",
    "        counts[\"2010Marche\"] = counts.get(\"2010Marche\", 0) + 1\n",
    "    elif row[\"StartYear\"]==2011 and row[\"region\"]==\"Marche\":\n",
    "        counts[\"2011Marche\"] = counts.get(\"2011Marche\", 0) + 1\n",
    "    elif row[\"StartYear\"]==2012 and row[\"region\"]==\"Marche\":\n",
    "        counts[\"2012Marche\"] = counts.get(\"2012Marche\", 0) + 1\n",
    "    elif row[\"StartYear\"]==2013 and row[\"region\"]==\"Marche\":\n",
    "        counts[\"2013Marche\"] = counts.get(\"2013Marche\", 0) + 1\n",
    "    elif row[\"StartYear\"]==2014 and row[\"region\"]==\"Marche\":\n",
    "        counts[\"2014Marche\"] = counts.get(\"2014Marche\", 0) + 1\n",
    "    elif row[\"StartYear\"]==2015 and row[\"region\"]==\"Marche\":\n",
    "        counts[\"2015Marche\"] = counts.get(\"2015Marche\", 0) + 1\n",
    "    elif row[\"StartYear\"]==2016 and row[\"region\"]==\"Marche\":\n",
    "        counts[\"2016Marche\"] = counts.get(\"2016Marche\", 0) + 1\n",
    "    elif row[\"StartYear\"]==2017 and row[\"region\"]==\"Marche\":\n",
    "        counts[\"2017Marche\"] = counts.get(\"2017Marche\", 0) + 1\n",
    "    elif row[\"StartYear\"]==2018 and row[\"region\"]==\"Marche\":\n",
    "        counts[\"2018Marche\"] = counts.get(\"2018Marche\", 0) + 1\n",
    "    elif row[\"StartYear\"]==2019 and row[\"region\"]==\"Marche\":\n",
    "        counts[\"2019Marche\"] = counts.get(\"2019Marche\", 0) + 1\n",
    "    elif row[\"StartYear\"]==2020 and row[\"region\"]==\"Marche\":\n",
    "        counts[\"2020Marche\"] = counts.get(\"2020Marche\", 0) + 1\n",
    "    elif row[\"StartYear\"]==2021 and row[\"region\"]==\"Marche\":\n",
    "        counts[\"2021Marche\"] = counts.get(\"2021Marche\", 0) + 1\n",
    "    elif row[\"StartYear\"]==2022 and row[\"region\"]==\"Marche\":\n",
    "        counts[\"2022Marche\"] = counts.get(\"2022Marche\", 0) + 1\n",
    "    elif row[\"StartYear\"]==2023 and row[\"region\"]==\"Marche\":\n",
    "        counts[\"2023Marche\"] = counts.get(\"2023Marche\", 0) + 1\n",
    "\n",
    "print(counts)\n"
   ]
  },
  {
   "cell_type": "code",
   "execution_count": 12,
   "metadata": {},
   "outputs": [
    {
     "name": "stdout",
     "output_type": "stream",
     "text": [
      "{'2022Lazio': 1193, '2020Lazio': 1678, '2021Lazio': 964, '2023Lazio': 75, '2019Lazio': 544, '2015Lazio': 5, '2018Lazio': 4, '2017Lazio': 2}\n"
     ]
    }
   ],
   "source": [
    "\n",
    "counts = dict()\n",
    "for index, row in EventsStart.iterrows():\n",
    "    if row[\"StartYear\"] ==2010 and row[\"region\"]==\"Lazio\":\n",
    "        counts[\"2010Lazio\"] = counts.get(\"2010Lazio\", 0) + 1\n",
    "    elif row[\"StartYear\"]==2011 and row[\"region\"]==\"Lazio\":\n",
    "        counts[\"2011Lazio\"] = counts.get(\"2011Lazio\", 0) + 1\n",
    "    elif row[\"StartYear\"]==2012 and row[\"region\"]==\"Lazio\":\n",
    "        counts[\"2012Lazio\"] = counts.get(\"2012Lazio\", 0) + 1\n",
    "    elif row[\"StartYear\"]==2013 and row[\"region\"]==\"Lazio\":\n",
    "        counts[\"2013Lazio\"] = counts.get(\"2013Lazio\", 0) + 1\n",
    "    elif row[\"StartYear\"]==2014 and row[\"region\"]==\"Lazio\":\n",
    "        counts[\"2014Lazio\"] = counts.get(\"2014Lazio\", 0) + 1\n",
    "    elif row[\"StartYear\"]==2015 and row[\"region\"]==\"Lazio\":\n",
    "        counts[\"2015Lazio\"] = counts.get(\"2015Lazio\", 0) + 1\n",
    "    elif row[\"StartYear\"]==2016 and row[\"region\"]==\"Lazio\":\n",
    "        counts[\"2016Lazio\"] = counts.get(\"2016Lazio\", 0) + 1\n",
    "    elif row[\"StartYear\"]==2017 and row[\"region\"]==\"Lazio\":\n",
    "        counts[\"2017Lazio\"] = counts.get(\"2017Lazio\", 0) + 1\n",
    "    elif row[\"StartYear\"]==2018 and row[\"region\"]==\"Lazio\":\n",
    "        counts[\"2018Lazio\"] = counts.get(\"2018Lazio\", 0) + 1\n",
    "    elif row[\"StartYear\"]==2019 and row[\"region\"]==\"Lazio\":\n",
    "        counts[\"2019Lazio\"] = counts.get(\"2019Lazio\", 0) + 1\n",
    "    elif row[\"StartYear\"]==2020 and row[\"region\"]==\"Lazio\":\n",
    "        counts[\"2020Lazio\"] = counts.get(\"2020Lazio\", 0) + 1\n",
    "    elif row[\"StartYear\"]==2021 and row[\"region\"]==\"Lazio\":\n",
    "        counts[\"2021Lazio\"] = counts.get(\"2021Lazio\", 0) + 1\n",
    "    elif row[\"StartYear\"]==2022 and row[\"region\"]==\"Lazio\":\n",
    "        counts[\"2022Lazio\"] = counts.get(\"2022Lazio\", 0) + 1\n",
    "    elif row[\"StartYear\"]==2023 and row[\"region\"]==\"Lazio\":\n",
    "        counts[\"2023Lazio\"] = counts.get(\"2023Lazio\", 0) + 1\n",
    "\n",
    "print(counts)\n"
   ]
  },
  {
   "cell_type": "code",
   "execution_count": 13,
   "metadata": {},
   "outputs": [
    {
     "name": "stdout",
     "output_type": "stream",
     "text": [
      "{'2022Abruzzo': 101, '2023Abruzzo': 10, '2021Abruzzo': 67, '2019Abruzzo': 70, '2020Abruzzo': 89}\n"
     ]
    }
   ],
   "source": [
    "\n",
    "counts = dict()\n",
    "for index, row in EventsStart.iterrows():\n",
    "    if row[\"StartYear\"] ==2010 and row[\"region\"]==\"Abruzzo\":\n",
    "        counts[\"2010Abruzzo\"] = counts.get(\"2010Abruzzo\", 0) + 1\n",
    "    elif row[\"StartYear\"]==2011 and row[\"region\"]==\"Abruzzo\":\n",
    "        counts[\"2011Abruzzo\"] = counts.get(\"2011Abruzzo\", 0) + 1\n",
    "    elif row[\"StartYear\"]==2012 and row[\"region\"]==\"Abruzzo\":\n",
    "        counts[\"2012Abruzzo\"] = counts.get(\"2012Abruzzo\", 0) + 1\n",
    "    elif row[\"StartYear\"]==2013 and row[\"region\"]==\"Abruzzo\":\n",
    "        counts[\"2013Abruzzo\"] = counts.get(\"2013Abruzzo\", 0) + 1\n",
    "    elif row[\"StartYear\"]==2014 and row[\"region\"]==\"Abruzzo\":\n",
    "        counts[\"2014Abruzzo\"] = counts.get(\"2014Abruzzo\", 0) + 1\n",
    "    elif row[\"StartYear\"]==2015 and row[\"region\"]==\"Abruzzo\":\n",
    "        counts[\"2015Abruzzo\"] = counts.get(\"2015Abruzzo\", 0) + 1\n",
    "    elif row[\"StartYear\"]==2016 and row[\"region\"]==\"Abruzzo\":\n",
    "        counts[\"2016Abruzzo\"] = counts.get(\"2016Abruzzo\", 0) + 1\n",
    "    elif row[\"StartYear\"]==2017 and row[\"region\"]==\"Abruzzo\":\n",
    "        counts[\"2017Abruzzo\"] = counts.get(\"2017Abruzzo\", 0) + 1\n",
    "    elif row[\"StartYear\"]==2018 and row[\"region\"]==\"Abruzzo\":\n",
    "        counts[\"2018Abruzzo\"] = counts.get(\"2018Abruzzo\", 0) + 1\n",
    "    elif row[\"StartYear\"]==2019 and row[\"region\"]==\"Abruzzo\":\n",
    "        counts[\"2019Abruzzo\"] = counts.get(\"2019Abruzzo\", 0) + 1\n",
    "    elif row[\"StartYear\"]==2020 and row[\"region\"]==\"Abruzzo\":\n",
    "        counts[\"2020Abruzzo\"] = counts.get(\"2020Abruzzo\", 0) + 1\n",
    "    elif row[\"StartYear\"]==2021 and row[\"region\"]==\"Abruzzo\":\n",
    "        counts[\"2021Abruzzo\"] = counts.get(\"2021Abruzzo\", 0) + 1\n",
    "    elif row[\"StartYear\"]==2022 and row[\"region\"]==\"Abruzzo\":\n",
    "        counts[\"2022Abruzzo\"] = counts.get(\"2022Abruzzo\", 0) + 1\n",
    "    elif row[\"StartYear\"]==2023 and row[\"region\"]==\"Abruzzo\":\n",
    "        counts[\"2023Abruzzo\"] = counts.get(\"2023Abruzzo\", 0) + 1\n",
    "\n",
    "print(counts)\n"
   ]
  },
  {
   "cell_type": "code",
   "execution_count": 15,
   "metadata": {},
   "outputs": [
    {
     "name": "stdout",
     "output_type": "stream",
     "text": [
      "{'Puglia': 20134, '2022Puglia': 271, '2020Puglia': 294, '2023Puglia': 16, '2021Puglia': 263, '2019Puglia': 159}\n"
     ]
    }
   ],
   "source": [
    "\n",
    "counts = dict()\n",
    "for index, row in EventsStart.iterrows():\n",
    "    if row[\"StartYear\"] ==2010 and row[\"region\"]==\"Puglia\":\n",
    "        counts[\"2010Puglia\"] = counts.get(\"2010Puglia\", 0) + 1\n",
    "    elif row[\"StartYear\"]==2011 and row[\"region\"]==\"Puglia\":\n",
    "        counts[\"2011Puglia\"] = counts.get(\"2011Puglia\", 0) + 1\n",
    "    elif row[\"StartYear\"]==2012 and row[\"region\"]==\"Puglia\":\n",
    "        counts[\"2012Puglia\"] = counts.get(\"2012Puglia\", 0) + 1\n",
    "    elif row[\"StartYear\"]==2013 and row[\"region\"]==\"Puglia\":\n",
    "        counts[\"2013Puglia\"] = counts.get(\"2013Puglia\", 0) + 1\n",
    "    elif row[\"StartYear\"]==2014 and row[\"region\"]==\"Puglia\":\n",
    "        counts[\"2014Puglia\"] = counts.get(\"2014Puglia\", 0) + 1\n",
    "    elif row[\"StartYear\"]==2015 and row[\"region\"]==\"Puglia\":\n",
    "        counts[\"2015Puglia\"] = counts.get(\"2015Puglia\", 0) + 1\n",
    "    elif row[\"StartYear\"]==2016 and row[\"region\"]==\"Puglia\":\n",
    "        counts[\"2016Puglia\"] = counts.get(\"2016Puglia\", 0) + 1\n",
    "    elif row[\"StartYear\"]==2017 and row[\"region\"]==\"Puglia\":\n",
    "        counts[\"2017Puglia\"] = counts.get(\"2017Puglia\", 0) + 1\n",
    "    elif row[\"StartYear\"]==2018 and row[\"region\"]==\"Puglia\":\n",
    "        counts[\"2018Puglia\"] = counts.get(\"2018Puglia\", 0) + 1\n",
    "    elif row[\"StartYear\"]==2019 and row[\"region\"]==\"Puglia\":\n",
    "        counts[\"2019Puglia\"] = counts.get(\"2019Puglia\", 0) + 1\n",
    "    elif row[\"StartYear\"]==2020 and row[\"region\"]==\"Puglia\":\n",
    "        counts[\"2020Puglia\"] = counts.get(\"2020Puglia\", 0) + 1\n",
    "    elif row[\"StartYear\"]==2021 and row[\"region\"]==\"Puglia\":\n",
    "        counts[\"2021Puglia\"] = counts.get(\"2021Puglia\", 0) + 1\n",
    "    elif row[\"StartYear\"]==2022 and row[\"region\"]==\"Puglia\":\n",
    "        counts[\"2022Puglia\"] = counts.get(\"2022Puglia\", 0) + 1\n",
    "    elif row[\"StartYear\"]==2023 and row[\"region\"]==\"Puglia\":\n",
    "        counts[\"2023Puglia\"] = counts.get(\"2023Puglia\", 0) + 1\n",
    "\n",
    "print(counts)\n"
   ]
  },
  {
   "cell_type": "code",
   "execution_count": 16,
   "metadata": {},
   "outputs": [
    {
     "name": "stdout",
     "output_type": "stream",
     "text": [
      "{'2022Emilia-Romagna': 347, '2020Emilia-Romagna': 226, '2023Emilia-Romagna': 30, '2021Emilia-Romagna': 324, '2018Emilia-Romagna': 3, '2019Emilia-Romagna': 185, '2010Emilia-Romagna': 1}\n"
     ]
    }
   ],
   "source": [
    "\n",
    "counts = dict()\n",
    "for index, row in EventsStart.iterrows():\n",
    "    if row[\"StartYear\"] ==2010 and row[\"region\"]==\"Emilia-Romagna\":\n",
    "        counts[\"2010Emilia-Romagna\"] = counts.get(\"2010Emilia-Romagna\", 0) + 1\n",
    "    elif row[\"StartYear\"]==2011 and row[\"region\"]==\"Emilia-Romagna\":\n",
    "        counts[\"2011Emilia-Romagna\"] = counts.get(\"2011Emilia-Romagna\", 0) + 1\n",
    "    elif row[\"StartYear\"]==2012 and row[\"region\"]==\"Emilia-Romagna\":\n",
    "        counts[\"2012Emilia-Romagna\"] = counts.get(\"2012Emilia-Romagna\", 0) + 1\n",
    "    elif row[\"StartYear\"]==2013 and row[\"region\"]==\"Emilia-Romagna\":\n",
    "        counts[\"2013Emilia-Romagna\"] = counts.get(\"2013Emilia-Romagna\", 0) + 1\n",
    "    elif row[\"StartYear\"]==2014 and row[\"region\"]==\"Emilia-Romagna\":\n",
    "        counts[\"2014Emilia-Romagna\"] = counts.get(\"2014Emilia-Romagna\", 0) + 1\n",
    "    elif row[\"StartYear\"]==2015 and row[\"region\"]==\"Emilia-Romagna\":\n",
    "        counts[\"2015Emilia-Romagna\"] = counts.get(\"2015Emilia-Romagna\", 0) + 1\n",
    "    elif row[\"StartYear\"]==2016 and row[\"region\"]==\"Emilia-Romagna\":\n",
    "        counts[\"2016Emilia-Romagna\"] = counts.get(\"2016Emilia-Romagna\", 0) + 1\n",
    "    elif row[\"StartYear\"]==2017 and row[\"region\"]==\"Emilia-Romagna\":\n",
    "        counts[\"2017Emilia-Romagna\"] = counts.get(\"2017Emilia-Romagna\", 0) + 1\n",
    "    elif row[\"StartYear\"]==2018 and row[\"region\"]==\"Emilia-Romagna\":\n",
    "        counts[\"2018Emilia-Romagna\"] = counts.get(\"2018Emilia-Romagna\", 0) + 1\n",
    "    elif row[\"StartYear\"]==2019 and row[\"region\"]==\"Emilia-Romagna\":\n",
    "        counts[\"2019Emilia-Romagna\"] = counts.get(\"2019Emilia-Romagna\", 0) + 1\n",
    "    elif row[\"StartYear\"]==2020 and row[\"region\"]==\"Emilia-Romagna\":\n",
    "        counts[\"2020Emilia-Romagna\"] = counts.get(\"2020Emilia-Romagna\", 0) + 1\n",
    "    elif row[\"StartYear\"]==2021 and row[\"region\"]==\"Emilia-Romagna\":\n",
    "        counts[\"2021Emilia-Romagna\"] = counts.get(\"2021Emilia-Romagna\", 0) + 1\n",
    "    elif row[\"StartYear\"]==2022 and row[\"region\"]==\"Emilia-Romagna\":\n",
    "        counts[\"2022Emilia-Romagna\"] = counts.get(\"2022Emilia-Romagna\", 0) + 1\n",
    "    elif row[\"StartYear\"]==2023 and row[\"region\"]==\"Emilia-Romagna\":\n",
    "        counts[\"2023Emilia-Romagna\"] = counts.get(\"2023Emilia-Romagna\", 0) + 1\n",
    "\n",
    "print(counts)\n"
   ]
  },
  {
   "cell_type": "code",
   "execution_count": 17,
   "metadata": {},
   "outputs": [
    {
     "name": "stdout",
     "output_type": "stream",
     "text": [
      "{'2022Basilicata': 199, '2023Basilicata': 20, '2021Basilicata': 125, '2019Basilicata': 53, '2020Basilicata': 80}\n"
     ]
    }
   ],
   "source": [
    "\n",
    "counts = dict()\n",
    "for index, row in EventsStart.iterrows():\n",
    "    if row[\"StartYear\"] ==2010 and row[\"region\"]==\"Basilicata\":\n",
    "        counts[\"2010Basilicata\"] = counts.get(\"2010Basilicata\", 0) + 1\n",
    "    elif row[\"StartYear\"]==2011 and row[\"region\"]==\"Basilicata\":\n",
    "        counts[\"2011Basilicata\"] = counts.get(\"2011Basilicata\", 0) + 1\n",
    "    elif row[\"StartYear\"]==2012 and row[\"region\"]==\"Basilicata\":\n",
    "        counts[\"2012Basilicata\"] = counts.get(\"2012Basilicata\", 0) + 1\n",
    "    elif row[\"StartYear\"]==2013 and row[\"region\"]==\"Basilicata\":\n",
    "        counts[\"2013Basilicata\"] = counts.get(\"2013Basilicata\", 0) + 1\n",
    "    elif row[\"StartYear\"]==2014 and row[\"region\"]==\"Basilicata\":\n",
    "        counts[\"2014Basilicata\"] = counts.get(\"2014Basilicata\", 0) + 1\n",
    "    elif row[\"StartYear\"]==2015 and row[\"region\"]==\"Basilicata\":\n",
    "        counts[\"2015Basilicata\"] = counts.get(\"2015Basilicata\", 0) + 1\n",
    "    elif row[\"StartYear\"]==2016 and row[\"region\"]==\"Basilicata\":\n",
    "        counts[\"2016Basilicata\"] = counts.get(\"2016Basilicata\", 0) + 1\n",
    "    elif row[\"StartYear\"]==2017 and row[\"region\"]==\"Basilicata\":\n",
    "        counts[\"2017Basilicata\"] = counts.get(\"2017Basilicata\", 0) + 1\n",
    "    elif row[\"StartYear\"]==2018 and row[\"region\"]==\"Basilicata\":\n",
    "        counts[\"2018Basilicata\"] = counts.get(\"2018Basilicata\", 0) + 1\n",
    "    elif row[\"StartYear\"]==2019 and row[\"region\"]==\"Basilicata\":\n",
    "        counts[\"2019Basilicata\"] = counts.get(\"2019Basilicata\", 0) + 1\n",
    "    elif row[\"StartYear\"]==2020 and row[\"region\"]==\"Basilicata\":\n",
    "        counts[\"2020Basilicata\"] = counts.get(\"2020Basilicata\", 0) + 1\n",
    "    elif row[\"StartYear\"]==2021 and row[\"region\"]==\"Basilicata\":\n",
    "        counts[\"2021Basilicata\"] = counts.get(\"2021Basilicata\", 0) + 1\n",
    "    elif row[\"StartYear\"]==2022 and row[\"region\"]==\"Basilicata\":\n",
    "        counts[\"2022Basilicata\"] = counts.get(\"2022Basilicata\", 0) + 1\n",
    "    elif row[\"StartYear\"]==2023 and row[\"region\"]==\"Basilicata\":\n",
    "        counts[\"2023Basilicata\"] = counts.get(\"2023Basilicata\", 0) + 1\n",
    "\n",
    "print(counts)\n"
   ]
  },
  {
   "cell_type": "code",
   "execution_count": 18,
   "metadata": {},
   "outputs": [
    {
     "name": "stdout",
     "output_type": "stream",
     "text": [
      "{'2022Piemonte': 219, '2020Piemonte': 217, '2023Piemonte': 11, '2021Piemonte': 245, '2019Piemonte': 106}\n"
     ]
    }
   ],
   "source": [
    "\n",
    "counts = dict()\n",
    "for index, row in EventsStart.iterrows():\n",
    "    if row[\"StartYear\"] ==2010 and row[\"region\"]==\"Piemonte\":\n",
    "        counts[\"2010Piemonte\"] = counts.get(\"2010Piemonte\", 0) + 1\n",
    "    elif row[\"StartYear\"]==2011 and row[\"region\"]==\"Piemonte\":\n",
    "        counts[\"2011Piemonte\"] = counts.get(\"2011Piemonte\", 0) + 1\n",
    "    elif row[\"StartYear\"]==2012 and row[\"region\"]==\"Piemonte\":\n",
    "        counts[\"2012Piemonte\"] = counts.get(\"2012Piemonte\", 0) + 1\n",
    "    elif row[\"StartYear\"]==2013 and row[\"region\"]==\"Piemonte\":\n",
    "        counts[\"2013Piemonte\"] = counts.get(\"2013Piemonte\", 0) + 1\n",
    "    elif row[\"StartYear\"]==2014 and row[\"region\"]==\"Piemonte\":\n",
    "        counts[\"2014Piemonte\"] = counts.get(\"2014Piemonte\", 0) + 1\n",
    "    elif row[\"StartYear\"]==2015 and row[\"region\"]==\"Piemonte\":\n",
    "        counts[\"2015Piemonte\"] = counts.get(\"2015Piemonte\", 0) + 1\n",
    "    elif row[\"StartYear\"]==2016 and row[\"region\"]==\"Piemonte\":\n",
    "        counts[\"2016Piemonte\"] = counts.get(\"2016Piemonte\", 0) + 1\n",
    "    elif row[\"StartYear\"]==2017 and row[\"region\"]==\"Piemonte\":\n",
    "        counts[\"2017Piemonte\"] = counts.get(\"2017Piemonte\", 0) + 1\n",
    "    elif row[\"StartYear\"]==2018 and row[\"region\"]==\"Piemonte\":\n",
    "        counts[\"2018Piemonte\"] = counts.get(\"2018Piemonte\", 0) + 1\n",
    "    elif row[\"StartYear\"]==2019 and row[\"region\"]==\"Piemonte\":\n",
    "        counts[\"2019Piemonte\"] = counts.get(\"2019Piemonte\", 0) + 1\n",
    "    elif row[\"StartYear\"]==2020 and row[\"region\"]==\"Piemonte\":\n",
    "        counts[\"2020Piemonte\"] = counts.get(\"2020Piemonte\", 0) + 1\n",
    "    elif row[\"StartYear\"]==2021 and row[\"region\"]==\"Piemonte\":\n",
    "        counts[\"2021Piemonte\"] = counts.get(\"2021Piemonte\", 0) + 1\n",
    "    elif row[\"StartYear\"]==2022 and row[\"region\"]==\"Piemonte\":\n",
    "        counts[\"2022Piemonte\"] = counts.get(\"2022Piemonte\", 0) + 1\n",
    "    elif row[\"StartYear\"]==2023 and row[\"region\"]==\"Piemonte\":\n",
    "        counts[\"2023Piemonte\"] = counts.get(\"2023Piemonte\", 0) + 1\n",
    "\n",
    "print(counts)\n"
   ]
  },
  {
   "cell_type": "code",
   "execution_count": 19,
   "metadata": {},
   "outputs": [
    {
     "name": "stdout",
     "output_type": "stream",
     "text": [
      "{'2022Campania': 599, '2020Campania': 1177, '2021Campania': 391, '2023Campania': 60, '2018Campania': 2, '2013Campania': 1, '2019Campania': 163}\n"
     ]
    }
   ],
   "source": [
    "\n",
    "counts = dict()\n",
    "for index, row in EventsStart.iterrows():\n",
    "    if row[\"StartYear\"] ==2010 and row[\"region\"]==\"Campania\":\n",
    "        counts[\"2010Campania\"] = counts.get(\"2010Campania\", 0) + 1\n",
    "    elif row[\"StartYear\"]==2011 and row[\"region\"]==\"Campania\":\n",
    "        counts[\"2011Campania\"] = counts.get(\"2011Campania\", 0) + 1\n",
    "    elif row[\"StartYear\"]==2012 and row[\"region\"]==\"Campania\":\n",
    "        counts[\"2012Campania\"] = counts.get(\"2012Campania\", 0) + 1\n",
    "    elif row[\"StartYear\"]==2013 and row[\"region\"]==\"Campania\":\n",
    "        counts[\"2013Campania\"] = counts.get(\"2013Campania\", 0) + 1\n",
    "    elif row[\"StartYear\"]==2014 and row[\"region\"]==\"Campania\":\n",
    "        counts[\"2014Campania\"] = counts.get(\"2014Campania\", 0) + 1\n",
    "    elif row[\"StartYear\"]==2015 and row[\"region\"]==\"Campania\":\n",
    "        counts[\"2015Campania\"] = counts.get(\"2015Campania\", 0) + 1\n",
    "    elif row[\"StartYear\"]==2016 and row[\"region\"]==\"Campania\":\n",
    "        counts[\"2016Campania\"] = counts.get(\"2016Campania\", 0) + 1\n",
    "    elif row[\"StartYear\"]==2017 and row[\"region\"]==\"Campania\":\n",
    "        counts[\"2017Campania\"] = counts.get(\"2017Campania\", 0) + 1\n",
    "    elif row[\"StartYear\"]==2018 and row[\"region\"]==\"Campania\":\n",
    "        counts[\"2018Campania\"] = counts.get(\"2018Campania\", 0) + 1\n",
    "    elif row[\"StartYear\"]==2019 and row[\"region\"]==\"Campania\":\n",
    "        counts[\"2019Campania\"] = counts.get(\"2019Campania\", 0) + 1\n",
    "    elif row[\"StartYear\"]==2020 and row[\"region\"]==\"Campania\":\n",
    "        counts[\"2020Campania\"] = counts.get(\"2020Campania\", 0) + 1\n",
    "    elif row[\"StartYear\"]==2021 and row[\"region\"]==\"Campania\":\n",
    "        counts[\"2021Campania\"] = counts.get(\"2021Campania\", 0) + 1\n",
    "    elif row[\"StartYear\"]==2022 and row[\"region\"]==\"Campania\":\n",
    "        counts[\"2022Campania\"] = counts.get(\"2022Campania\", 0) + 1\n",
    "    elif row[\"StartYear\"]==2023 and row[\"region\"]==\"Campania\":\n",
    "        counts[\"2023Campania\"] = counts.get(\"2023Campania\", 0) + 1\n",
    "\n",
    "print(counts)\n"
   ]
  },
  {
   "cell_type": "code",
   "execution_count": 20,
   "metadata": {},
   "outputs": [
    {
     "name": "stdout",
     "output_type": "stream",
     "text": [
      "{'2022Umbria': 231, '2023Umbria': 9, '2019Umbria': 123, '2021Umbria': 244, '2020Umbria': 161}\n"
     ]
    }
   ],
   "source": [
    "\n",
    "counts = dict()\n",
    "for index, row in EventsStart.iterrows():\n",
    "    if row[\"StartYear\"] ==2010 and row[\"region\"]==\"Umbria\":\n",
    "        counts[\"2010Umbria\"] = counts.get(\"2010Umbria\", 0) + 1\n",
    "    elif row[\"StartYear\"]==2011 and row[\"region\"]==\"Umbria\":\n",
    "        counts[\"2011Umbria\"] = counts.get(\"2011Umbria\", 0) + 1\n",
    "    elif row[\"StartYear\"]==2012 and row[\"region\"]==\"Umbria\":\n",
    "        counts[\"2012Umbria\"] = counts.get(\"2012Umbria\", 0) + 1\n",
    "    elif row[\"StartYear\"]==2013 and row[\"region\"]==\"Umbria\":\n",
    "        counts[\"2013Umbria\"] = counts.get(\"2013Umbria\", 0) + 1\n",
    "    elif row[\"StartYear\"]==2014 and row[\"region\"]==\"Umbria\":\n",
    "        counts[\"2014Umbria\"] = counts.get(\"2014Umbria\", 0) + 1\n",
    "    elif row[\"StartYear\"]==2015 and row[\"region\"]==\"Umbria\":\n",
    "        counts[\"2015Umbria\"] = counts.get(\"2015Umbria\", 0) + 1\n",
    "    elif row[\"StartYear\"]==2016 and row[\"region\"]==\"Umbria\":\n",
    "        counts[\"2016Umbria\"] = counts.get(\"2016Umbria\", 0) + 1\n",
    "    elif row[\"StartYear\"]==2017 and row[\"region\"]==\"Umbria\":\n",
    "        counts[\"2017Umbria\"] = counts.get(\"2017Umbria\", 0) + 1\n",
    "    elif row[\"StartYear\"]==2018 and row[\"region\"]==\"Umbria\":\n",
    "        counts[\"2018Umbria\"] = counts.get(\"2018Umbria\", 0) + 1\n",
    "    elif row[\"StartYear\"]==2019 and row[\"region\"]==\"Umbria\":\n",
    "        counts[\"2019Umbria\"] = counts.get(\"2019Umbria\", 0) + 1\n",
    "    elif row[\"StartYear\"]==2020 and row[\"region\"]==\"Umbria\":\n",
    "        counts[\"2020Umbria\"] = counts.get(\"2020Umbria\", 0) + 1\n",
    "    elif row[\"StartYear\"]==2021 and row[\"region\"]==\"Umbria\":\n",
    "        counts[\"2021Umbria\"] = counts.get(\"2021Umbria\", 0) + 1\n",
    "    elif row[\"StartYear\"]==2022 and row[\"region\"]==\"Umbria\":\n",
    "        counts[\"2022Umbria\"] = counts.get(\"2022Umbria\", 0) + 1\n",
    "    elif row[\"StartYear\"]==2023 and row[\"region\"]==\"Umbria\":\n",
    "        counts[\"2023Umbria\"] = counts.get(\"2023Umbria\", 0) + 1\n",
    "\n",
    "print(counts)\n"
   ]
  },
  {
   "cell_type": "code",
   "execution_count": 21,
   "metadata": {},
   "outputs": [
    {
     "name": "stdout",
     "output_type": "stream",
     "text": [
      "{'2020Trentino-Alto Adige': 21, '2022Trentino-Alto Adige': 21, '2021Trentino-Alto Adige': 17, '2019Trentino-Alto Adige': 11, '2018Trentino-Alto Adige': 1}\n"
     ]
    }
   ],
   "source": [
    "\n",
    "counts = dict()\n",
    "for index, row in EventsStart.iterrows():\n",
    "    if row[\"StartYear\"] ==2010 and row[\"region\"]==\"Trentino-Alto Adige\":\n",
    "        counts[\"2010Trentino-Alto Adige\"] = counts.get(\"2010Trentino-Alto Adige\", 0) + 1\n",
    "    elif row[\"StartYear\"]==2011 and row[\"region\"]==\"Trentino-Alto Adige\":\n",
    "        counts[\"2011Trentino-Alto Adige\"] = counts.get(\"2011Trentino-Alto Adige\", 0) + 1\n",
    "    elif row[\"StartYear\"]==2012 and row[\"region\"]==\"Trentino-Alto Adige\":\n",
    "        counts[\"2012Trentino-Alto Adige\"] = counts.get(\"2012Trentino-Alto Adige\", 0) + 1\n",
    "    elif row[\"StartYear\"]==2013 and row[\"region\"]==\"Trentino-Alto Adige\":\n",
    "        counts[\"2013Trentino-Alto Adige\"] = counts.get(\"2013Trentino-Alto Adige\", 0) + 1\n",
    "    elif row[\"StartYear\"]==2014 and row[\"region\"]==\"Trentino-Alto Adige\":\n",
    "        counts[\"2014Trentino-Alto Adige\"] = counts.get(\"2014Trentino-Alto Adige\", 0) + 1\n",
    "    elif row[\"StartYear\"]==2015 and row[\"region\"]==\"Trentino-Alto Adige\":\n",
    "        counts[\"2015Trentino-Alto Adige\"] = counts.get(\"2015Trentino-Alto Adige\", 0) + 1\n",
    "    elif row[\"StartYear\"]==2016 and row[\"region\"]==\"Trentino-Alto Adige\":\n",
    "        counts[\"2016Trentino-Alto Adige\"] = counts.get(\"2016Trentino-Alto Adige\", 0) + 1\n",
    "    elif row[\"StartYear\"]==2017 and row[\"region\"]==\"Trentino-Alto Adige\":\n",
    "        counts[\"2017Trentino-Alto Adige\"] = counts.get(\"2017Trentino-Alto Adige\", 0) + 1\n",
    "    elif row[\"StartYear\"]==2018 and row[\"region\"]==\"Trentino-Alto Adige\":\n",
    "        counts[\"2018Trentino-Alto Adige\"] = counts.get(\"2018Trentino-Alto Adige\", 0) + 1\n",
    "    elif row[\"StartYear\"]==2019 and row[\"region\"]==\"Trentino-Alto Adige\":\n",
    "        counts[\"2019Trentino-Alto Adige\"] = counts.get(\"2019Trentino-Alto Adige\", 0) + 1\n",
    "    elif row[\"StartYear\"]==2020 and row[\"region\"]==\"Trentino-Alto Adige\":\n",
    "        counts[\"2020Trentino-Alto Adige\"] = counts.get(\"2020Trentino-Alto Adige\", 0) + 1\n",
    "    elif row[\"StartYear\"]==2021 and row[\"region\"]==\"Trentino-Alto Adige\":\n",
    "        counts[\"2021Trentino-Alto Adige\"] = counts.get(\"2021Trentino-Alto Adige\", 0) + 1\n",
    "    elif row[\"StartYear\"]==2022 and row[\"region\"]==\"Trentino-Alto Adige\":\n",
    "        counts[\"2022Trentino-Alto Adige\"] = counts.get(\"2022Trentino-Alto Adige\", 0) + 1\n",
    "    elif row[\"StartYear\"]==2023 and row[\"region\"]==\"Trentino-Alto Adige\":\n",
    "        counts[\"2023Trentino-Alto Adige\"] = counts.get(\"2023Trentino-Alto Adige\", 0) + 1\n",
    "\n",
    "print(counts)\n"
   ]
  },
  {
   "cell_type": "code",
   "execution_count": 22,
   "metadata": {},
   "outputs": [
    {
     "name": "stdout",
     "output_type": "stream",
     "text": [
      "{'2022Sardegna': 226, '2020Sardegna': 264, '2023Sardegna': 25, '2021Sardegna': 169, '2019Sardegna': 89}\n"
     ]
    }
   ],
   "source": [
    "\n",
    "counts = dict()\n",
    "for index, row in EventsStart.iterrows():\n",
    "    if row[\"StartYear\"] ==2010 and row[\"region\"]==\"Sardegna\":\n",
    "        counts[\"2010Sardegna\"] = counts.get(\"2010Sardegna\", 0) + 1\n",
    "    elif row[\"StartYear\"]==2011 and row[\"region\"]==\"Sardegna\":\n",
    "        counts[\"2011Sardegna\"] = counts.get(\"2011Sardegna\", 0) + 1\n",
    "    elif row[\"StartYear\"]==2012 and row[\"region\"]==\"Sardegna\":\n",
    "        counts[\"2012Sardegna\"] = counts.get(\"2012Sardegna\", 0) + 1\n",
    "    elif row[\"StartYear\"]==2013 and row[\"region\"]==\"Sardegna\":\n",
    "        counts[\"2013Sardegna\"] = counts.get(\"2013Sardegna\", 0) + 1\n",
    "    elif row[\"StartYear\"]==2014 and row[\"region\"]==\"Sardegna\":\n",
    "        counts[\"2014Sardegna\"] = counts.get(\"2014Sardegna\", 0) + 1\n",
    "    elif row[\"StartYear\"]==2015 and row[\"region\"]==\"Sardegna\":\n",
    "        counts[\"2015Sardegna\"] = counts.get(\"2015Sardegna\", 0) + 1\n",
    "    elif row[\"StartYear\"]==2016 and row[\"region\"]==\"Sardegna\":\n",
    "        counts[\"2016Sardegna\"] = counts.get(\"2016Sardegna\", 0) + 1\n",
    "    elif row[\"StartYear\"]==2017 and row[\"region\"]==\"Sardegna\":\n",
    "        counts[\"2017Sardegna\"] = counts.get(\"2017Sardegna\", 0) + 1\n",
    "    elif row[\"StartYear\"]==2018 and row[\"region\"]==\"Sardegna\":\n",
    "        counts[\"2018Sardegna\"] = counts.get(\"2018Sardegna\", 0) + 1\n",
    "    elif row[\"StartYear\"]==2019 and row[\"region\"]==\"Sardegna\":\n",
    "        counts[\"2019Sardegna\"] = counts.get(\"2019Sardegna\", 0) + 1\n",
    "    elif row[\"StartYear\"]==2020 and row[\"region\"]==\"Sardegna\":\n",
    "        counts[\"2020Sardegna\"] = counts.get(\"2020Sardegna\", 0) + 1\n",
    "    elif row[\"StartYear\"]==2021 and row[\"region\"]==\"Sardegna\":\n",
    "        counts[\"2021Sardegna\"] = counts.get(\"2021Sardegna\", 0) + 1\n",
    "    elif row[\"StartYear\"]==2022 and row[\"region\"]==\"Sardegna\":\n",
    "        counts[\"2022Sardegna\"] = counts.get(\"2022Sardegna\", 0) + 1\n",
    "    elif row[\"StartYear\"]==2023 and row[\"region\"]==\"Sardegna\":\n",
    "        counts[\"2023Sardegna\"] = counts.get(\"2023Sardegna\", 0) + 1\n",
    "\n",
    "print(counts)\n"
   ]
  },
  {
   "cell_type": "code",
   "execution_count": 23,
   "metadata": {},
   "outputs": [
    {
     "name": "stdout",
     "output_type": "stream",
     "text": [
      "{'2022Veneto': 464, '2020Veneto': 357, '2023Veneto': 47, '2019Veneto': 224, '2021Veneto': 275, '2017Veneto': 1}\n"
     ]
    }
   ],
   "source": [
    "\n",
    "counts = dict()\n",
    "for index, row in EventsStart.iterrows():\n",
    "    if row[\"StartYear\"] ==2010 and row[\"region\"]==\"Veneto\":\n",
    "        counts[\"2010Veneto\"] = counts.get(\"2010Veneto\", 0) + 1\n",
    "    elif row[\"StartYear\"]==2011 and row[\"region\"]==\"Veneto\":\n",
    "        counts[\"2011Veneto\"] = counts.get(\"2011Veneto\", 0) + 1\n",
    "    elif row[\"StartYear\"]==2012 and row[\"region\"]==\"Veneto\":\n",
    "        counts[\"2012Veneto\"] = counts.get(\"2012Veneto\", 0) + 1\n",
    "    elif row[\"StartYear\"]==2013 and row[\"region\"]==\"Veneto\":\n",
    "        counts[\"2013Veneto\"] = counts.get(\"2013Veneto\", 0) + 1\n",
    "    elif row[\"StartYear\"]==2014 and row[\"region\"]==\"Veneto\":\n",
    "        counts[\"2014Veneto\"] = counts.get(\"2014Veneto\", 0) + 1\n",
    "    elif row[\"StartYear\"]==2015 and row[\"region\"]==\"Veneto\":\n",
    "        counts[\"2015Veneto\"] = counts.get(\"2015Veneto\", 0) + 1\n",
    "    elif row[\"StartYear\"]==2016 and row[\"region\"]==\"Veneto\":\n",
    "        counts[\"2016Veneto\"] = counts.get(\"2016Veneto\", 0) + 1\n",
    "    elif row[\"StartYear\"]==2017 and row[\"region\"]==\"Veneto\":\n",
    "        counts[\"2017Veneto\"] = counts.get(\"2017Veneto\", 0) + 1\n",
    "    elif row[\"StartYear\"]==2018 and row[\"region\"]==\"Veneto\":\n",
    "        counts[\"2018Veneto\"] = counts.get(\"2018Veneto\", 0) + 1\n",
    "    elif row[\"StartYear\"]==2019 and row[\"region\"]==\"Veneto\":\n",
    "        counts[\"2019Veneto\"] = counts.get(\"2019Veneto\", 0) + 1\n",
    "    elif row[\"StartYear\"]==2020 and row[\"region\"]==\"Veneto\":\n",
    "        counts[\"2020Veneto\"] = counts.get(\"2020Veneto\", 0) + 1\n",
    "    elif row[\"StartYear\"]==2021 and row[\"region\"]==\"Veneto\":\n",
    "        counts[\"2021Veneto\"] = counts.get(\"2021Veneto\", 0) + 1\n",
    "    elif row[\"StartYear\"]==2022 and row[\"region\"]==\"Veneto\":\n",
    "        counts[\"2022Veneto\"] = counts.get(\"2022Veneto\", 0) + 1\n",
    "    elif row[\"StartYear\"]==2023 and row[\"region\"]==\"Veneto\":\n",
    "        counts[\"2023Veneto\"] = counts.get(\"2023Veneto\", 0) + 1\n",
    "\n",
    "print(counts)\n"
   ]
  },
  {
   "cell_type": "code",
   "execution_count": 24,
   "metadata": {},
   "outputs": [
    {
     "name": "stdout",
     "output_type": "stream",
     "text": [
      "{'2022Calabria': 293, '2020Calabria': 286, '2023Calabria': 35, '2019Calabria': 136, '2021Calabria': 225}\n"
     ]
    }
   ],
   "source": [
    "\n",
    "counts = dict()\n",
    "for index, row in EventsStart.iterrows():\n",
    "    if row[\"StartYear\"] ==2010 and row[\"region\"]==\"Calabria\":\n",
    "        counts[\"2010Calabria\"] = counts.get(\"2010Calabria\", 0) + 1\n",
    "    elif row[\"StartYear\"]==2011 and row[\"region\"]==\"Calabria\":\n",
    "        counts[\"2011Calabria\"] = counts.get(\"2011Calabria\", 0) + 1\n",
    "    elif row[\"StartYear\"]==2012 and row[\"region\"]==\"Calabria\":\n",
    "        counts[\"2012Calabria\"] = counts.get(\"2012Calabria\", 0) + 1\n",
    "    elif row[\"StartYear\"]==2013 and row[\"region\"]==\"Calabria\":\n",
    "        counts[\"2013Calabria\"] = counts.get(\"2013Calabria\", 0) + 1\n",
    "    elif row[\"StartYear\"]==2014 and row[\"region\"]==\"Calabria\":\n",
    "        counts[\"2014Calabria\"] = counts.get(\"2014Calabria\", 0) + 1\n",
    "    elif row[\"StartYear\"]==2015 and row[\"region\"]==\"Calabria\":\n",
    "        counts[\"2015Calabria\"] = counts.get(\"2015Calabria\", 0) + 1\n",
    "    elif row[\"StartYear\"]==2016 and row[\"region\"]==\"Calabria\":\n",
    "        counts[\"2016Calabria\"] = counts.get(\"2016Calabria\", 0) + 1\n",
    "    elif row[\"StartYear\"]==2017 and row[\"region\"]==\"Calabria\":\n",
    "        counts[\"2017Calabria\"] = counts.get(\"2017Calabria\", 0) + 1\n",
    "    elif row[\"StartYear\"]==2018 and row[\"region\"]==\"Calabria\":\n",
    "        counts[\"2018Calabria\"] = counts.get(\"2018Calabria\", 0) + 1\n",
    "    elif row[\"StartYear\"]==2019 and row[\"region\"]==\"Calabria\":\n",
    "        counts[\"2019Calabria\"] = counts.get(\"2019Calabria\", 0) + 1\n",
    "    elif row[\"StartYear\"]==2020 and row[\"region\"]==\"Calabria\":\n",
    "        counts[\"2020Calabria\"] = counts.get(\"2020Calabria\", 0) + 1\n",
    "    elif row[\"StartYear\"]==2021 and row[\"region\"]==\"Calabria\":\n",
    "        counts[\"2021Calabria\"] = counts.get(\"2021Calabria\", 0) + 1\n",
    "    elif row[\"StartYear\"]==2022 and row[\"region\"]==\"Calabria\":\n",
    "        counts[\"2022Calabria\"] = counts.get(\"2022Calabria\", 0) + 1\n",
    "    elif row[\"StartYear\"]==2023 and row[\"region\"]==\"Calabria\":\n",
    "        counts[\"2023Calabria\"] = counts.get(\"2023Calabria\", 0) + 1\n",
    "\n",
    "print(counts)\n"
   ]
  },
  {
   "cell_type": "code",
   "execution_count": 25,
   "metadata": {},
   "outputs": [
    {
     "name": "stdout",
     "output_type": "stream",
     "text": [
      "{'2020Liguria': 246, '2021Liguria': 280, '2022Liguria': 261, '2023Liguria': 13, '2019Liguria': 128}\n"
     ]
    }
   ],
   "source": [
    "\n",
    "counts = dict()\n",
    "for index, row in EventsStart.iterrows():\n",
    "    if row[\"StartYear\"] ==2010 and row[\"region\"]==\"Liguria\":\n",
    "        counts[\"2010Liguria\"] = counts.get(\"2010Liguria\", 0) + 1\n",
    "    elif row[\"StartYear\"]==2011 and row[\"region\"]==\"Liguria\":\n",
    "        counts[\"2011Liguria\"] = counts.get(\"2011Liguria\", 0) + 1\n",
    "    elif row[\"StartYear\"]==2012 and row[\"region\"]==\"Liguria\":\n",
    "        counts[\"2012Liguria\"] = counts.get(\"2012Liguria\", 0) + 1\n",
    "    elif row[\"StartYear\"]==2013 and row[\"region\"]==\"Liguria\":\n",
    "        counts[\"2013Liguria\"] = counts.get(\"2013Liguria\", 0) + 1\n",
    "    elif row[\"StartYear\"]==2014 and row[\"region\"]==\"Liguria\":\n",
    "        counts[\"2014Liguria\"] = counts.get(\"2014Liguria\", 0) + 1\n",
    "    elif row[\"StartYear\"]==2015 and row[\"region\"]==\"Liguria\":\n",
    "        counts[\"2015Liguria\"] = counts.get(\"2015Liguria\", 0) + 1\n",
    "    elif row[\"StartYear\"]==2016 and row[\"region\"]==\"Liguria\":\n",
    "        counts[\"2016Liguria\"] = counts.get(\"2016Liguria\", 0) + 1\n",
    "    elif row[\"StartYear\"]==2017 and row[\"region\"]==\"Liguria\":\n",
    "        counts[\"2017Liguria\"] = counts.get(\"2017Liguria\", 0) + 1\n",
    "    elif row[\"StartYear\"]==2018 and row[\"region\"]==\"Liguria\":\n",
    "        counts[\"2018Liguria\"] = counts.get(\"2018Liguria\", 0) + 1\n",
    "    elif row[\"StartYear\"]==2019 and row[\"region\"]==\"Liguria\":\n",
    "        counts[\"2019Liguria\"] = counts.get(\"2019Liguria\", 0) + 1\n",
    "    elif row[\"StartYear\"]==2020 and row[\"region\"]==\"Liguria\":\n",
    "        counts[\"2020Liguria\"] = counts.get(\"2020Liguria\", 0) + 1\n",
    "    elif row[\"StartYear\"]==2021 and row[\"region\"]==\"Liguria\":\n",
    "        counts[\"2021Liguria\"] = counts.get(\"2021Liguria\", 0) + 1\n",
    "    elif row[\"StartYear\"]==2022 and row[\"region\"]==\"Liguria\":\n",
    "        counts[\"2022Liguria\"] = counts.get(\"2022Liguria\", 0) + 1\n",
    "    elif row[\"StartYear\"]==2023 and row[\"region\"]==\"Liguria\":\n",
    "        counts[\"2023Liguria\"] = counts.get(\"2023Liguria\", 0) + 1\n",
    "\n",
    "print(counts)\n"
   ]
  },
  {
   "cell_type": "code",
   "execution_count": 28,
   "metadata": {},
   "outputs": [
    {
     "name": "stdout",
     "output_type": "stream",
     "text": [
      "{'2022Friuli-Venezia Giulia': 136, '2023Friuli-Venezia Giulia': 10, '2021Friuli-Venezia Giulia': 164, '2019Friuli-Venezia Giulia': 91, '2020Friuli-Venezia Giulia': 225}\n"
     ]
    }
   ],
   "source": [
    "\n",
    "counts = dict()\n",
    "for index, row in EventsStart.iterrows():\n",
    "    if row[\"StartYear\"] ==2010 and row[\"region\"]==\"Friuli-Venezia Giulia\":\n",
    "        counts[\"2010Friuli-Venezia Giulia\"] = counts.get(\"2010Friuli-Venezia Giulia\", 0) + 1\n",
    "    elif row[\"StartYear\"]==2011 and row[\"region\"]==\"Friuli-Venezia Giulia\":\n",
    "        counts[\"2011Friuli-Venezia Giulia\"] = counts.get(\"2011Friuli-Venezia Giulia\", 0) + 1\n",
    "    elif row[\"StartYear\"]==2012 and row[\"region\"]==\"Friuli-Venezia Giulia\":\n",
    "        counts[\"2012Friuli-Venezia Giulia\"] = counts.get(\"2012Friuli-Venezia Giulia\", 0) + 1\n",
    "    elif row[\"StartYear\"]==2013 and row[\"region\"]==\"Friuli-Venezia Giulia\":\n",
    "        counts[\"2013Friuli-Venezia Giulia\"] = counts.get(\"2013Friuli-Venezia Giulia\", 0) + 1\n",
    "    elif row[\"StartYear\"]==2014 and row[\"region\"]==\"Friuli-Venezia Giulia\":\n",
    "        counts[\"2014Friuli-Venezia Giulia\"] = counts.get(\"2014Friuli-Venezia Giulia\", 0) + 1\n",
    "    elif row[\"StartYear\"]==2015 and row[\"region\"]==\"Friuli-Venezia Giulia\":\n",
    "        counts[\"2015Friuli-Venezia Giulia\"] = counts.get(\"2015Friuli-Venezia Giulia\", 0) + 1\n",
    "    elif row[\"StartYear\"]==2016 and row[\"region\"]==\"Friuli-Venezia Giulia\":\n",
    "        counts[\"2016Friuli-Venezia Giulia\"] = counts.get(\"2016Friuli-Venezia Giulia\", 0) + 1\n",
    "    elif row[\"StartYear\"]==2017 and row[\"region\"]==\"Friuli-Venezia Giulia\":\n",
    "        counts[\"2017Friuli-Venezia Giulia\"] = counts.get(\"2017Friuli-Venezia Giulia\", 0) + 1\n",
    "    elif row[\"StartYear\"]==2018 and row[\"region\"]==\"Friuli-Venezia Giulia\":\n",
    "        counts[\"2018Friuli-Venezia Giulia\"] = counts.get(\"2018Friuli-Venezia Giulia\", 0) + 1\n",
    "    elif row[\"StartYear\"]==2019 and row[\"region\"]==\"Friuli-Venezia Giulia\":\n",
    "        counts[\"2019Friuli-Venezia Giulia\"] = counts.get(\"2019Friuli-Venezia Giulia\", 0) + 1\n",
    "    elif row[\"StartYear\"]==2020 and row[\"region\"]==\"Friuli-Venezia Giulia\":\n",
    "        counts[\"2020Friuli-Venezia Giulia\"] = counts.get(\"2020Friuli-Venezia Giulia\", 0) + 1\n",
    "    elif row[\"StartYear\"]==2021 and row[\"region\"]==\"Friuli-Venezia Giulia\":\n",
    "        counts[\"2021Friuli-Venezia Giulia\"] = counts.get(\"2021Friuli-Venezia Giulia\", 0) + 1\n",
    "    elif row[\"StartYear\"]==2022 and row[\"region\"]==\"Friuli-Venezia Giulia\":\n",
    "        counts[\"2022Friuli-Venezia Giulia\"] = counts.get(\"2022Friuli-Venezia Giulia\", 0) + 1\n",
    "    elif row[\"StartYear\"]==2023 and row[\"region\"]==\"Friuli-Venezia Giulia\":\n",
    "        counts[\"2023Friuli-Venezia Giulia\"] = counts.get(\"2023Friuli-Venezia Giulia\", 0) + 1\n",
    "\n",
    "print(counts)\n",
    "\n"
   ]
  },
  {
   "cell_type": "code",
   "execution_count": 29,
   "metadata": {},
   "outputs": [
    {
     "name": "stdout",
     "output_type": "stream",
     "text": [
      "{'2022Sicilia': 53, '2020Sicilia': 56, '2021Sicilia': 72, '2019Sicilia': 33}\n"
     ]
    }
   ],
   "source": [
    "counts = dict()\n",
    "for index, row in EventsStart.iterrows():\n",
    "    if row[\"StartYear\"] ==2010 and row[\"region\"]==\"Sicilia\":\n",
    "        counts[\"2010Sicilia\"] = counts.get(\"2010Sicilia\", 0) + 1\n",
    "    elif row[\"StartYear\"]==2011 and row[\"region\"]==\"Sicilia\":\n",
    "        counts[\"2011Sicilia\"] = counts.get(\"2011Sicilia\", 0) + 1\n",
    "    elif row[\"StartYear\"]==2012 and row[\"region\"]==\"Sicilia\":\n",
    "        counts[\"2012Sicilia\"] = counts.get(\"2012Sicilia\", 0) + 1\n",
    "    elif row[\"StartYear\"]==2013 and row[\"region\"]==\"Sicilia\":\n",
    "        counts[\"2013Sicilia\"] = counts.get(\"2013Sicilia\", 0) + 1\n",
    "    elif row[\"StartYear\"]==2014 and row[\"region\"]==\"Sicilia\":\n",
    "        counts[\"2014Sicilia\"] = counts.get(\"2014Sicilia\", 0) + 1\n",
    "    elif row[\"StartYear\"]==2015 and row[\"region\"]==\"Sicilia\":\n",
    "        counts[\"2015Sicilia\"] = counts.get(\"2015Sicilia\", 0) + 1\n",
    "    elif row[\"StartYear\"]==2016 and row[\"region\"]==\"Sicilia\":\n",
    "        counts[\"2016Sicilia\"] = counts.get(\"2016Sicilia\", 0) + 1\n",
    "    elif row[\"StartYear\"]==2017 and row[\"region\"]==\"Sicilia\":\n",
    "        counts[\"2017Sicilia\"] = counts.get(\"2017Sicilia\", 0) + 1\n",
    "    elif row[\"StartYear\"]==2018 and row[\"region\"]==\"Sicilia\":\n",
    "        counts[\"2018Sicilia\"] = counts.get(\"2018Sicilia\", 0) + 1\n",
    "    elif row[\"StartYear\"]==2019 and row[\"region\"]==\"Sicilia\":\n",
    "        counts[\"2019Sicilia\"] = counts.get(\"2019Sicilia\", 0) + 1\n",
    "    elif row[\"StartYear\"]==2020 and row[\"region\"]==\"Sicilia\":\n",
    "        counts[\"2020Sicilia\"] = counts.get(\"2020Sicilia\", 0) + 1\n",
    "    elif row[\"StartYear\"]==2021 and row[\"region\"]==\"Sicilia\":\n",
    "        counts[\"2021Sicilia\"] = counts.get(\"2021Sicilia\", 0) + 1\n",
    "    elif row[\"StartYear\"]==2022 and row[\"region\"]==\"Sicilia\":\n",
    "        counts[\"2022Sicilia\"] = counts.get(\"2022Sicilia\", 0) + 1\n",
    "    elif row[\"StartYear\"]==2023 and row[\"region\"]==\"Sicilia\":\n",
    "        counts[\"2023Sicilia\"] = counts.get(\"2023Sicilia\", 0) + 1\n",
    "\n",
    "print(counts)\n"
   ]
  },
  {
   "cell_type": "code",
   "execution_count": 37,
   "metadata": {},
   "outputs": [
    {
     "name": "stdout",
     "output_type": "stream",
     "text": [
      "{'2022Molise': 160, '2023Molise': 20, '2021Molise': 68, '2019Molise': 44, '2020Molise': 86}\n"
     ]
    }
   ],
   "source": [
    "counts = dict()\n",
    "for index, row in EventsStart.iterrows():\n",
    "    if row[\"StartYear\"] ==2010 and row[\"region\"]==\"Molise\":\n",
    "        counts[\"2010Molise\"] = counts.get(\"2010Molise\", 0) + 1\n",
    "    elif row[\"StartYear\"]==2011 and row[\"region\"]==\"Molise\":\n",
    "        counts[\"2011Molise\"] = counts.get(\"2011Molise\", 0) + 1\n",
    "    elif row[\"StartYear\"]==2012 and row[\"region\"]==\"Molise\":\n",
    "        counts[\"2012Molise\"] = counts.get(\"2012Molise\", 0) + 1\n",
    "    elif row[\"StartYear\"]==2013 and row[\"region\"]==\"Molise\":\n",
    "        counts[\"2013Molise\"] = counts.get(\"2013Molise\", 0) + 1\n",
    "    elif row[\"StartYear\"]==2014 and row[\"region\"]==\"Molise\":\n",
    "        counts[\"2014Molise\"] = counts.get(\"2014Molise\", 0) + 1\n",
    "    elif row[\"StartYear\"]==2015 and row[\"region\"]==\"Molise\":\n",
    "        counts[\"2015Molise\"] = counts.get(\"2015Molise\", 0) + 1\n",
    "    elif row[\"StartYear\"]==2016 and row[\"region\"]==\"Molise\":\n",
    "        counts[\"2016Molise\"] = counts.get(\"2016Molise\", 0) + 1\n",
    "    elif row[\"StartYear\"]==2017 and row[\"region\"]==\"Molise\":\n",
    "        counts[\"2017Molise\"] = counts.get(\"2017Molise\", 0) + 1\n",
    "    elif row[\"StartYear\"]==2018 and row[\"region\"]==\"Molise\":\n",
    "        counts[\"2018Molise\"] = counts.get(\"2018Molise\", 0) + 1\n",
    "    elif row[\"StartYear\"]==2019 and row[\"region\"]==\"Molise\":\n",
    "        counts[\"2019Molise\"] = counts.get(\"2019Molise\", 0) + 1\n",
    "    elif row[\"StartYear\"]==2020 and row[\"region\"]==\"Molise\":\n",
    "        counts[\"2020Molise\"] = counts.get(\"2020Molise\", 0) + 1\n",
    "    elif row[\"StartYear\"]==2021 and row[\"region\"]==\"Molise\":\n",
    "        counts[\"2021Molise\"] = counts.get(\"2021Molise\", 0) + 1\n",
    "    elif row[\"StartYear\"]==2022 and row[\"region\"]==\"Molise\":\n",
    "        counts[\"2022Molise\"] = counts.get(\"2022Molise\", 0) + 1\n",
    "    elif row[\"StartYear\"]==2023 and row[\"region\"]==\"Molise\":\n",
    "        counts[\"2023Molise\"] = counts.get(\"2023Molise\", 0) + 1\n",
    "\n",
    "print(counts)\n"
   ]
  },
  {
   "cell_type": "code",
   "execution_count": 11,
   "metadata": {},
   "outputs": [
    {
     "name": "stdout",
     "output_type": "stream",
     "text": [
      "{'2022ValleAosta': 10, '2021ValleAosta': 11, '2019ValleAosta': 5, '2020ValleAosta': 32}\n"
     ]
    }
   ],
   "source": [
    "counts = dict()\n",
    "for index, row in EventsStart.iterrows():\n",
    "    if row[\"StartYear\"] ==2010 and row[\"region\"]==\"Valle d'Aosta/Vallée d'Aoste\":\n",
    "        counts[\"2010ValleAosta\"] = counts.get(\"2010ValleAosta\", 0) + 1\n",
    "    elif row[\"StartYear\"] ==2011 and row[\"region\"]==\"Valle d'Aosta/Vallée d'Aoste\":\n",
    "        counts[\"2011ValleAosta\"] = counts.get(\"2011ValleAosta\", 0) + 1\n",
    "    elif row[\"StartYear\"] ==2012 and row[\"region\"]==\"Valle d'Aosta/Vallée d'Aoste\":\n",
    "        counts[\"2012ValleAosta\"] = counts.get(\"2012ValleAosta\", 0) + 1\n",
    "    elif row[\"StartYear\"] ==2013 and row[\"region\"]==\"Valle d'Aosta/Vallée d'Aoste\":\n",
    "        counts[\"2013ValleAosta\"] = counts.get(\"2013ValleAosta\", 0) + 1\n",
    "    elif row[\"StartYear\"] ==2014 and row[\"region\"]==\"Valle d'Aosta/Vallée d'Aoste\":\n",
    "        counts[\"2014ValleAosta\"] = counts.get(\"2014ValleAosta\", 0) + 1\n",
    "    elif row[\"StartYear\"] ==2015 and row[\"region\"]==\"Valle d'Aosta/Vallée d'Aoste\":\n",
    "        counts[\"2015ValleAosta\"] = counts.get(\"2015ValleAosta\", 0) + 1\n",
    "    elif row[\"StartYear\"] ==2016 and row[\"region\"]==\"Valle d'Aosta/Vallée d'Aoste\":\n",
    "        counts[\"2016ValleAosta\"] = counts.get(\"2016ValleAosta\", 0) + 1\n",
    "    elif row[\"StartYear\"] ==2017 and row[\"region\"]==\"Valle d'Aosta/Vallée d'Aoste\":\n",
    "        counts[\"2017ValleAosta\"] = counts.get(\"2017ValleAosta\", 0) + 1\n",
    "    elif row[\"StartYear\"] ==2018 and row[\"region\"]==\"Valle d'Aosta/Vallée d'Aoste\":\n",
    "        counts[\"2018ValleAosta\"] = counts.get(\"2018ValleAosta\", 0) + 1\n",
    "    elif row[\"StartYear\"] ==2019 and row[\"region\"]==\"Valle d'Aosta/Vallée d'Aoste\":\n",
    "        counts[\"2019ValleAosta\"] = counts.get(\"2019ValleAosta\", 0) + 1\n",
    "    elif row[\"StartYear\"] ==2020 and row[\"region\"]==\"Valle d'Aosta/Vallée d'Aoste\":\n",
    "        counts[\"2020ValleAosta\"] = counts.get(\"2020ValleAosta\", 0) + 1\n",
    "    elif row[\"StartYear\"] ==2021 and row[\"region\"]==\"Valle d'Aosta/Vallée d'Aoste\":\n",
    "        counts[\"2021ValleAosta\"] = counts.get(\"2021ValleAosta\", 0) + 1\n",
    "    elif row[\"StartYear\"] ==2022 and row[\"region\"]==\"Valle d'Aosta/Vallée d'Aoste\":\n",
    "        counts[\"2022ValleAosta\"] = counts.get(\"2022ValleAosta\", 0) + 1\n",
    "    elif row[\"StartYear\"] ==2023 and row[\"region\"]==\"Valle d'Aosta/Vallée d'Aoste\":\n",
    "        counts[\"2023ValleAosta\"] = counts.get(\"2023ValleAosta\", 0) + 1\n",
    "print(counts)"
   ]
  },
  {
   "cell_type": "code",
   "execution_count": 11,
   "metadata": {},
   "outputs": [],
   "source": [
    "import sparql_dataframe\n",
    "\n",
    "from SPARQLWrapper import SPARQLWrapper, JSON\n",
    "import ssl\n",
    "\n",
    "ssl._create_default_https_context = ssl._create_unverified_context\n",
    "\n",
    "endpoint = 'https://dati.cultura.gov.it/sparql'\n",
    "\n",
    "query_2020=\"\"\"SELECT DISTINCT (?s) (month(xsd:dateTime(?starttime)) as ?StartMonth) (month(xsd:dateTime(?endtime)) as ?EndMonth)WHERE {\n",
    " ?s a cis:CulturalEvent;\n",
    "rdfs:label ?event.\n",
    "?s tiapit:atTime ?time.\n",
    "?time tiapit:startTime ?starttime;\n",
    "tiapit:endTime ?endtime.\n",
    "\n",
    "FILTER (year(xsd:dateTime(?starttime))=2020)\n",
    "FILTER (year(xsd:dateTime(?endtime))=2020)\n",
    "\n",
    "}\"\"\"\n",
    "\n"
   ]
  },
  {
   "cell_type": "code",
   "execution_count": 12,
   "metadata": {},
   "outputs": [],
   "source": [
    "df_2020 =  sparql_dataframe.get(endpoint, query_2020)"
   ]
  },
  {
   "cell_type": "code",
   "execution_count": 13,
   "metadata": {},
   "outputs": [
    {
     "data": {
      "text/plain": [
       "{11: 154,\n",
       " 10: 597,\n",
       " 12: 297,\n",
       " 9: 1441,\n",
       " 1: 264,\n",
       " 2: 468,\n",
       " 3: 1857,\n",
       " 5: 2656,\n",
       " 4: 3767,\n",
       " 7: 181,\n",
       " 6: 1095,\n",
       " 8: 109}"
      ]
     },
     "execution_count": 13,
     "metadata": {},
     "output_type": "execute_result"
    }
   ],
   "source": [
    "EventCountPerMonth = {}\n",
    "\n",
    "for idx, row in df_2020.iterrows():\n",
    "    if row[\"StartMonth\"] == row[\"EndMonth\"]:\n",
    "        if row[\"StartMonth\"] not in EventCountPerMonth:\n",
    "            EventCountPerMonth[row[\"StartMonth\"]] = 1\n",
    "        else:\n",
    "            EventCountPerMonth[row[\"StartMonth\"]] += 1\n",
    "    elif row[\"StartMonth\"] < row[\"EndMonth\"]:\n",
    "        if row[\"StartMonth\"] not in EventCountPerMonth:\n",
    "            EventCountPerMonth[row[\"StartMonth\"]] = 1\n",
    "        else:\n",
    "            EventCountPerMonth[row[\"StartMonth\"]] += 1\n",
    "        if row[\"EndMonth\"] not in EventCountPerMonth:\n",
    "            EventCountPerMonth[row[\"EndMonth\"]] = 1\n",
    "        else:\n",
    "            EventCountPerMonth[row[\"EndMonth\"]] += 1\n",
    "        OtherYears = int(row[\"EndMonth\"]) - int(row[\"StartMonth\"])\n",
    "        for i in range(OtherYears):\n",
    "            year = int(row[\"StartMonth\"]) + 1\n",
    "            if year not in EventCountPerMonth:\n",
    "                EventCountPerMonth[year] = 1\n",
    "            else:\n",
    "                EventCountPerMonth[year] += 1\n",
    "    else:         \n",
    "        if row[\"StartMonth\"] not in EventCountPerMonth:\n",
    "            EventCountPerMonth[row[\"StartMonth\"]] = 1\n",
    "        else:\n",
    "            EventCountPerMonth[row[\"StartMonth\"]] += 1\n",
    "        if row[\"EndMonth\"] not in EventCountPerMonth:\n",
    "            EventCountPerMonth[row[\"EndMonth\"]] = 1\n",
    "        else:\n",
    "            EventCountPerMonth[row[\"EndMonth\"]] += 1\n",
    "EventCountPerMonth\n",
    "    "
   ]
  },
  {
   "cell_type": "code",
   "execution_count": 23,
   "metadata": {},
   "outputs": [
    {
     "data": {
      "text/html": [
       "<div>\n",
       "<style scoped>\n",
       "    .dataframe tbody tr th:only-of-type {\n",
       "        vertical-align: middle;\n",
       "    }\n",
       "\n",
       "    .dataframe tbody tr th {\n",
       "        vertical-align: top;\n",
       "    }\n",
       "\n",
       "    .dataframe thead th {\n",
       "        text-align: right;\n",
       "    }\n",
       "</style>\n",
       "<table border=\"1\" class=\"dataframe\">\n",
       "  <thead>\n",
       "    <tr style=\"text-align: right;\">\n",
       "      <th></th>\n",
       "      <th>CP</th>\n",
       "      <th>stripped_CPLabel</th>\n",
       "      <th>city</th>\n",
       "      <th>cityLabel</th>\n",
       "    </tr>\n",
       "  </thead>\n",
       "  <tbody>\n",
       "    <tr>\n",
       "      <th>0</th>\n",
       "      <td>https://w3id.org/arco/resource/DemoEthnoAnthro...</td>\n",
       "      <td>FIBBIA A GANCIO</td>\n",
       "      <td>https://w3id.org/arco/resource/City/roma</td>\n",
       "      <td>Roma</td>\n",
       "    </tr>\n",
       "    <tr>\n",
       "      <th>1</th>\n",
       "      <td>https://w3id.org/arco/resource/DemoEthnoAnthro...</td>\n",
       "      <td>FIBBIA A GANCIO</td>\n",
       "      <td>https://w3id.org/arco/resource/City/roma</td>\n",
       "      <td>ROMA</td>\n",
       "    </tr>\n",
       "    <tr>\n",
       "      <th>2</th>\n",
       "      <td>https://w3id.org/arco/resource/DemoEthnoAnthro...</td>\n",
       "      <td>FIBBIA RETTANGOLARE</td>\n",
       "      <td>https://w3id.org/arco/resource/City/roma</td>\n",
       "      <td>Roma</td>\n",
       "    </tr>\n",
       "    <tr>\n",
       "      <th>3</th>\n",
       "      <td>https://w3id.org/arco/resource/DemoEthnoAnthro...</td>\n",
       "      <td>FIBBIA RETTANGOLARE</td>\n",
       "      <td>https://w3id.org/arco/resource/City/roma</td>\n",
       "      <td>ROMA</td>\n",
       "    </tr>\n",
       "    <tr>\n",
       "      <th>4</th>\n",
       "      <td>https://w3id.org/arco/resource/DemoEthnoAnthro...</td>\n",
       "      <td>FIBBIA OVALOIDE</td>\n",
       "      <td>https://w3id.org/arco/resource/City/roma</td>\n",
       "      <td>Roma</td>\n",
       "    </tr>\n",
       "    <tr>\n",
       "      <th>...</th>\n",
       "      <td>...</td>\n",
       "      <td>...</td>\n",
       "      <td>...</td>\n",
       "      <td>...</td>\n",
       "    </tr>\n",
       "    <tr>\n",
       "      <th>29995</th>\n",
       "      <td>https://w3id.org/arco/resource/AltoAdige/Histo...</td>\n",
       "      <td>opuscolo pubblicitario, opuscolo pubblicitario...</td>\n",
       "      <td>https://w3id.org/arco/resource/AltoAdige/City/...</td>\n",
       "      <td>Meran</td>\n",
       "    </tr>\n",
       "    <tr>\n",
       "      <th>29996</th>\n",
       "      <td>https://w3id.org/arco/resource/AltoAdige/Histo...</td>\n",
       "      <td>opuscolo pubblicitario, opuscolo pubblicitario...</td>\n",
       "      <td>https://w3id.org/arco/resource/AltoAdige/City/...</td>\n",
       "      <td>Merano</td>\n",
       "    </tr>\n",
       "    <tr>\n",
       "      <th>29997</th>\n",
       "      <td>https://w3id.org/arco/resource/AltoAdige/Histo...</td>\n",
       "      <td>opuscolo pubblicitario, opuscolo pubblicitario...</td>\n",
       "      <td>https://w3id.org/arco/resource/AltoAdige/City/...</td>\n",
       "      <td>Merano</td>\n",
       "    </tr>\n",
       "    <tr>\n",
       "      <th>29998</th>\n",
       "      <td>https://w3id.org/arco/resource/AltoAdige/Histo...</td>\n",
       "      <td>opuscolo pubblicitario, opuscolo pubblicitario...</td>\n",
       "      <td>https://w3id.org/arco/resource/AltoAdige/City/...</td>\n",
       "      <td>Meran</td>\n",
       "    </tr>\n",
       "    <tr>\n",
       "      <th>29999</th>\n",
       "      <td>https://w3id.org/arco/resource/AltoAdige/Histo...</td>\n",
       "      <td>opuscolo pubblicitario, opuscolo pubblicitario...</td>\n",
       "      <td>https://w3id.org/arco/resource/AltoAdige/City/...</td>\n",
       "      <td>Meran</td>\n",
       "    </tr>\n",
       "  </tbody>\n",
       "</table>\n",
       "<p>30000 rows × 4 columns</p>\n",
       "</div>"
      ],
      "text/plain": [
       "                                                      CP  \\\n",
       "0      https://w3id.org/arco/resource/DemoEthnoAnthro...   \n",
       "1      https://w3id.org/arco/resource/DemoEthnoAnthro...   \n",
       "2      https://w3id.org/arco/resource/DemoEthnoAnthro...   \n",
       "3      https://w3id.org/arco/resource/DemoEthnoAnthro...   \n",
       "4      https://w3id.org/arco/resource/DemoEthnoAnthro...   \n",
       "...                                                  ...   \n",
       "29995  https://w3id.org/arco/resource/AltoAdige/Histo...   \n",
       "29996  https://w3id.org/arco/resource/AltoAdige/Histo...   \n",
       "29997  https://w3id.org/arco/resource/AltoAdige/Histo...   \n",
       "29998  https://w3id.org/arco/resource/AltoAdige/Histo...   \n",
       "29999  https://w3id.org/arco/resource/AltoAdige/Histo...   \n",
       "\n",
       "                                        stripped_CPLabel  \\\n",
       "0                                        FIBBIA A GANCIO   \n",
       "1                                        FIBBIA A GANCIO   \n",
       "2                                    FIBBIA RETTANGOLARE   \n",
       "3                                    FIBBIA RETTANGOLARE   \n",
       "4                                        FIBBIA OVALOIDE   \n",
       "...                                                  ...   \n",
       "29995  opuscolo pubblicitario, opuscolo pubblicitario...   \n",
       "29996  opuscolo pubblicitario, opuscolo pubblicitario...   \n",
       "29997  opuscolo pubblicitario, opuscolo pubblicitario...   \n",
       "29998  opuscolo pubblicitario, opuscolo pubblicitario...   \n",
       "29999  opuscolo pubblicitario, opuscolo pubblicitario...   \n",
       "\n",
       "                                                    city cityLabel  \n",
       "0               https://w3id.org/arco/resource/City/roma      Roma  \n",
       "1               https://w3id.org/arco/resource/City/roma      ROMA  \n",
       "2               https://w3id.org/arco/resource/City/roma      Roma  \n",
       "3               https://w3id.org/arco/resource/City/roma      ROMA  \n",
       "4               https://w3id.org/arco/resource/City/roma      Roma  \n",
       "...                                                  ...       ...  \n",
       "29995  https://w3id.org/arco/resource/AltoAdige/City/...     Meran  \n",
       "29996  https://w3id.org/arco/resource/AltoAdige/City/...    Merano  \n",
       "29997  https://w3id.org/arco/resource/AltoAdige/City/...    Merano  \n",
       "29998  https://w3id.org/arco/resource/AltoAdige/City/...     Meran  \n",
       "29999  https://w3id.org/arco/resource/AltoAdige/City/...     Meran  \n",
       "\n",
       "[30000 rows x 4 columns]"
      ]
     },
     "execution_count": 23,
     "metadata": {},
     "output_type": "execute_result"
    }
   ],
   "source": [
    "from pandas import *\n",
    "\n",
    "from bokeh.plotting import figure\n",
    "from bokeh.tile_providers import get_provider, CARTODBPOSITRON\n",
    "from bokeh.io import output_notebook, show\n",
    "from bokeh.models import LogColorMapper, ColumnDataSource\n",
    "from bokeh.palettes import Oranges256 as oranges\n",
    "\n",
    "from pyproj import Proj, transform\n",
    "\n",
    "from sparql_dataframe import get\n",
    "endpoint = 'https://dati.cultura.gov.it/sparql'\n",
    "\n",
    "endpointDB = 'https://dbpedia.org/sparql'\n",
    "query = '''\n",
    "SELECT DISTINCT(?CP) ?stripped_CPLabel ?city ?cityLabel WHERE {\n",
    "?CP a ?o.\n",
    "FILTER (?o = arco:CulturalProperty)\n",
    "?CP rdfs:label ?CPLabel;\n",
    " a-loc:hasCulturalInstituteOrSite ?institute.\n",
    " BIND (STR(?CPLabel)  AS ?stripped_CPLabel)\n",
    "?institute cis:hasSite ?site.\n",
    "?site cis:siteAddress ?address.\n",
    "?address clvapit:hasCity ?city.\n",
    "?city rdfs:label ?cityLabel\n",
    "}\n",
    "'''\n",
    "\n",
    "cities = get(endpoint, query)\n",
    "cities"
   ]
  },
  {
   "cell_type": "code",
   "execution_count": 24,
   "metadata": {},
   "outputs": [
    {
     "data": {
      "text/html": [
       "<div>\n",
       "<style scoped>\n",
       "    .dataframe tbody tr th:only-of-type {\n",
       "        vertical-align: middle;\n",
       "    }\n",
       "\n",
       "    .dataframe tbody tr th {\n",
       "        vertical-align: top;\n",
       "    }\n",
       "\n",
       "    .dataframe thead th {\n",
       "        text-align: right;\n",
       "    }\n",
       "</style>\n",
       "<table border=\"1\" class=\"dataframe\">\n",
       "  <thead>\n",
       "    <tr style=\"text-align: right;\">\n",
       "      <th></th>\n",
       "      <th>s</th>\n",
       "      <th>event</th>\n",
       "      <th>dbpedia</th>\n",
       "      <th>label</th>\n",
       "    </tr>\n",
       "  </thead>\n",
       "  <tbody>\n",
       "    <tr>\n",
       "      <th>0</th>\n",
       "      <td>http://dati.beniculturali.it/mibact/eventi/res...</td>\n",
       "      <td>Palazzo Mediceo: il patrimonio De’Medici in Ve...</td>\n",
       "      <td>http://dbpedia.org/resource/Seravezza</td>\n",
       "      <td>Seravezza</td>\n",
       "    </tr>\n",
       "    <tr>\n",
       "      <th>1</th>\n",
       "      <td>http://dati.beniculturali.it/mibact/eventi/res...</td>\n",
       "      <td>Orvieto – Area archeologica della Cannicella</td>\n",
       "      <td>http://dbpedia.org/resource/Orvieto</td>\n",
       "      <td>Orvieto</td>\n",
       "    </tr>\n",
       "    <tr>\n",
       "      <th>2</th>\n",
       "      <td>http://dati.beniculturali.it/mibact/eventi/res...</td>\n",
       "      <td>Collemancio di Cannara – Area archeologica di ...</td>\n",
       "      <td>http://dbpedia.org/resource/Cannara</td>\n",
       "      <td>Cannara</td>\n",
       "    </tr>\n",
       "    <tr>\n",
       "      <th>3</th>\n",
       "      <td>http://dati.beniculturali.it/mibact/eventi/res...</td>\n",
       "      <td>AQUANAE Performance site specific</td>\n",
       "      <td>http://dbpedia.org/resource/Lucca</td>\n",
       "      <td>Lucca</td>\n",
       "    </tr>\n",
       "    <tr>\n",
       "      <th>4</th>\n",
       "      <td>http://dati.beniculturali.it/mibact/eventi/res...</td>\n",
       "      <td>ASSISI 1822</td>\n",
       "      <td>http://dbpedia.org/resource/Assisi</td>\n",
       "      <td>Assisi</td>\n",
       "    </tr>\n",
       "    <tr>\n",
       "      <th>...</th>\n",
       "      <td>...</td>\n",
       "      <td>...</td>\n",
       "      <td>...</td>\n",
       "      <td>...</td>\n",
       "    </tr>\n",
       "    <tr>\n",
       "      <th>21988</th>\n",
       "      <td>http://dati.beniculturali.it/mibact/eventi/res...</td>\n",
       "      <td>Non più \"Anonimo Veneziano\": la riscoperta di ...</td>\n",
       "      <td>http://dbpedia.org/resource/Naples</td>\n",
       "      <td>Napoli</td>\n",
       "    </tr>\n",
       "    <tr>\n",
       "      <th>21989</th>\n",
       "      <td>http://dati.beniculturali.it/mibact/eventi/res...</td>\n",
       "      <td>Apertura straordinaria di Palazzo Patrizi Clem...</td>\n",
       "      <td>http://dbpedia.org/resource/Rome</td>\n",
       "      <td>Roma</td>\n",
       "    </tr>\n",
       "    <tr>\n",
       "      <th>21990</th>\n",
       "      <td>http://dati.beniculturali.it/mibact/eventi/res...</td>\n",
       "      <td>Apertura straordinaria del Mitreo di Marino (RM)</td>\n",
       "      <td>http://dbpedia.org/resource/Marino,_Lazio</td>\n",
       "      <td>Marino</td>\n",
       "    </tr>\n",
       "    <tr>\n",
       "      <th>21991</th>\n",
       "      <td>http://dati.beniculturali.it/mibact/eventi/res...</td>\n",
       "      <td>50° DEI BRONZI DI RIACE –IL MARE TESTIMONE E C...</td>\n",
       "      <td>http://dbpedia.org/resource/Gioia_Tauro</td>\n",
       "      <td>Gioia Tauro</td>\n",
       "    </tr>\n",
       "    <tr>\n",
       "      <th>21992</th>\n",
       "      <td>http://dati.beniculturali.it/mibact/eventi/res...</td>\n",
       "      <td>Voci diverse, dolci melodie</td>\n",
       "      <td>http://dbpedia.org/resource/Sarno</td>\n",
       "      <td>Sarno</td>\n",
       "    </tr>\n",
       "  </tbody>\n",
       "</table>\n",
       "<p>21993 rows × 4 columns</p>\n",
       "</div>"
      ],
      "text/plain": [
       "                                                       s  \\\n",
       "0      http://dati.beniculturali.it/mibact/eventi/res...   \n",
       "1      http://dati.beniculturali.it/mibact/eventi/res...   \n",
       "2      http://dati.beniculturali.it/mibact/eventi/res...   \n",
       "3      http://dati.beniculturali.it/mibact/eventi/res...   \n",
       "4      http://dati.beniculturali.it/mibact/eventi/res...   \n",
       "...                                                  ...   \n",
       "21988  http://dati.beniculturali.it/mibact/eventi/res...   \n",
       "21989  http://dati.beniculturali.it/mibact/eventi/res...   \n",
       "21990  http://dati.beniculturali.it/mibact/eventi/res...   \n",
       "21991  http://dati.beniculturali.it/mibact/eventi/res...   \n",
       "21992  http://dati.beniculturali.it/mibact/eventi/res...   \n",
       "\n",
       "                                                   event  \\\n",
       "0      Palazzo Mediceo: il patrimonio De’Medici in Ve...   \n",
       "1           Orvieto – Area archeologica della Cannicella   \n",
       "2      Collemancio di Cannara – Area archeologica di ...   \n",
       "3                      AQUANAE Performance site specific   \n",
       "4                                            ASSISI 1822   \n",
       "...                                                  ...   \n",
       "21988  Non più \"Anonimo Veneziano\": la riscoperta di ...   \n",
       "21989  Apertura straordinaria di Palazzo Patrizi Clem...   \n",
       "21990   Apertura straordinaria del Mitreo di Marino (RM)   \n",
       "21991  50° DEI BRONZI DI RIACE –IL MARE TESTIMONE E C...   \n",
       "21992                        Voci diverse, dolci melodie   \n",
       "\n",
       "                                         dbpedia        label  \n",
       "0          http://dbpedia.org/resource/Seravezza    Seravezza  \n",
       "1            http://dbpedia.org/resource/Orvieto      Orvieto  \n",
       "2            http://dbpedia.org/resource/Cannara      Cannara  \n",
       "3              http://dbpedia.org/resource/Lucca        Lucca  \n",
       "4             http://dbpedia.org/resource/Assisi       Assisi  \n",
       "...                                          ...          ...  \n",
       "21988         http://dbpedia.org/resource/Naples       Napoli  \n",
       "21989           http://dbpedia.org/resource/Rome         Roma  \n",
       "21990  http://dbpedia.org/resource/Marino,_Lazio       Marino  \n",
       "21991    http://dbpedia.org/resource/Gioia_Tauro  Gioia Tauro  \n",
       "21992          http://dbpedia.org/resource/Sarno        Sarno  \n",
       "\n",
       "[21993 rows x 4 columns]"
      ]
     },
     "execution_count": 24,
     "metadata": {},
     "output_type": "execute_result"
    }
   ],
   "source": [
    "#since I have the institute for the properties I should keep the site instead of the subject\n",
    "query = '''\n",
    "SELECT DISTINCT(?s) ?event ?dbpedia ?label WHERE {\n",
    " ?s a cis:CulturalEvent;\n",
    "rdfs:label ?event.\n",
    "?s cis:isHostedBySite ?o.\n",
    "?o rdfs:label ?site.\n",
    "?o cis:siteAddress ?address.\n",
    "?address clvapit:hasCity ?urlcity.\n",
    "?urlcity owl:sameAs ?urlcity2.\n",
    "?urlcity2 rdfs:label ?label.\n",
    "?urlcity2 owl:sameAs ?dbpedia.\n",
    "FILTER (contains(str(?dbpedia), \"dbpedia\"))\n",
    "}\n",
    "'''\n",
    "\n",
    "dbPediaLinks = get(endpoint, query)\n",
    "dbPediaLinks"
   ]
  },
  {
   "cell_type": "code",
   "execution_count": 25,
   "metadata": {},
   "outputs": [
    {
     "data": {
      "text/html": [
       "<div>\n",
       "<style scoped>\n",
       "    .dataframe tbody tr th:only-of-type {\n",
       "        vertical-align: middle;\n",
       "    }\n",
       "\n",
       "    .dataframe tbody tr th {\n",
       "        vertical-align: top;\n",
       "    }\n",
       "\n",
       "    .dataframe thead th {\n",
       "        text-align: right;\n",
       "    }\n",
       "</style>\n",
       "<table border=\"1\" class=\"dataframe\">\n",
       "  <thead>\n",
       "    <tr style=\"text-align: right;\">\n",
       "      <th></th>\n",
       "      <th>dbPedia</th>\n",
       "      <th>latitude</th>\n",
       "      <th>longitude</th>\n",
       "    </tr>\n",
       "  </thead>\n",
       "  <tbody>\n",
       "    <tr>\n",
       "      <th>0</th>\n",
       "      <td>http://dbpedia.org/resource/Seravezza</td>\n",
       "      <td>44.0000</td>\n",
       "      <td>10.23330</td>\n",
       "    </tr>\n",
       "    <tr>\n",
       "      <th>0</th>\n",
       "      <td>http://dbpedia.org/resource/Orvieto</td>\n",
       "      <td>42.7183</td>\n",
       "      <td>12.11030</td>\n",
       "    </tr>\n",
       "    <tr>\n",
       "      <th>0</th>\n",
       "      <td>http://dbpedia.org/resource/Cannara</td>\n",
       "      <td>43.0017</td>\n",
       "      <td>12.58330</td>\n",
       "    </tr>\n",
       "    <tr>\n",
       "      <th>0</th>\n",
       "      <td>http://dbpedia.org/resource/Lucca</td>\n",
       "      <td>43.8417</td>\n",
       "      <td>10.50280</td>\n",
       "    </tr>\n",
       "    <tr>\n",
       "      <th>0</th>\n",
       "      <td>http://dbpedia.org/resource/Assisi</td>\n",
       "      <td>43.0758</td>\n",
       "      <td>12.61750</td>\n",
       "    </tr>\n",
       "    <tr>\n",
       "      <th>...</th>\n",
       "      <td>...</td>\n",
       "      <td>...</td>\n",
       "      <td>...</td>\n",
       "    </tr>\n",
       "    <tr>\n",
       "      <th>0</th>\n",
       "      <td>http://dbpedia.org/resource/Busca,_Piedmont</td>\n",
       "      <td>44.5167</td>\n",
       "      <td>7.46667</td>\n",
       "    </tr>\n",
       "    <tr>\n",
       "      <th>0</th>\n",
       "      <td>http://dbpedia.org/resource/Casalciprano</td>\n",
       "      <td>41.5833</td>\n",
       "      <td>14.53330</td>\n",
       "    </tr>\n",
       "    <tr>\n",
       "      <th>0</th>\n",
       "      <td>http://dbpedia.org/resource/Castrocielo</td>\n",
       "      <td>41.5333</td>\n",
       "      <td>13.70000</td>\n",
       "    </tr>\n",
       "    <tr>\n",
       "      <th>0</th>\n",
       "      <td>http://dbpedia.org/resource/Lu_e_Cuccaro_Monfe...</td>\n",
       "      <td>44.9972</td>\n",
       "      <td>8.47222</td>\n",
       "    </tr>\n",
       "    <tr>\n",
       "      <th>0</th>\n",
       "      <td>http://dbpedia.org/resource/Sinnai</td>\n",
       "      <td>39.3000</td>\n",
       "      <td>9.20000</td>\n",
       "    </tr>\n",
       "  </tbody>\n",
       "</table>\n",
       "<p>794 rows × 3 columns</p>\n",
       "</div>"
      ],
      "text/plain": [
       "                                              dbPedia  latitude  longitude\n",
       "0               http://dbpedia.org/resource/Seravezza   44.0000   10.23330\n",
       "0                 http://dbpedia.org/resource/Orvieto   42.7183   12.11030\n",
       "0                 http://dbpedia.org/resource/Cannara   43.0017   12.58330\n",
       "0                   http://dbpedia.org/resource/Lucca   43.8417   10.50280\n",
       "0                  http://dbpedia.org/resource/Assisi   43.0758   12.61750\n",
       "..                                                ...       ...        ...\n",
       "0         http://dbpedia.org/resource/Busca,_Piedmont   44.5167    7.46667\n",
       "0            http://dbpedia.org/resource/Casalciprano   41.5833   14.53330\n",
       "0             http://dbpedia.org/resource/Castrocielo   41.5333   13.70000\n",
       "0   http://dbpedia.org/resource/Lu_e_Cuccaro_Monfe...   44.9972    8.47222\n",
       "0                  http://dbpedia.org/resource/Sinnai   39.3000    9.20000\n",
       "\n",
       "[794 rows x 3 columns]"
      ]
     },
     "execution_count": 25,
     "metadata": {},
     "output_type": "execute_result"
    }
   ],
   "source": [
    "dbpedia = dbPediaLinks[\"dbpedia\"].drop_duplicates()\n",
    "link = []\n",
    "\n",
    "\n",
    "CE_coordinates = DataFrame({\"latitude\":[], \"longitude\":[]})\n",
    "\n",
    "for idx, item in dbpedia.items():\n",
    "    query = '''\n",
    "    SELECT ?latitude ?longitude WHERE {\n",
    "       '''f'<{item}>''''  geo:lat ?latitude;\n",
    "        geo:long ?longitude.\n",
    "    } '''\n",
    "    coordinates = get(endpointDB, query)\n",
    "    link.append(item)\n",
    "    CE_coordinates = concat([CE_coordinates, coordinates])\n",
    "\n",
    "CE_coordinates.insert(0, \"dbPedia\", link)\n",
    "CE_coordinates"
   ]
  },
  {
   "cell_type": "code",
   "execution_count": 27,
   "metadata": {},
   "outputs": [
    {
     "data": {
      "text/html": [
       "<div>\n",
       "<style scoped>\n",
       "    .dataframe tbody tr th:only-of-type {\n",
       "        vertical-align: middle;\n",
       "    }\n",
       "\n",
       "    .dataframe tbody tr th {\n",
       "        vertical-align: top;\n",
       "    }\n",
       "\n",
       "    .dataframe thead th {\n",
       "        text-align: right;\n",
       "    }\n",
       "</style>\n",
       "<table border=\"1\" class=\"dataframe\">\n",
       "  <thead>\n",
       "    <tr style=\"text-align: right;\">\n",
       "      <th></th>\n",
       "      <th>CP</th>\n",
       "      <th>stripped_CPLabel</th>\n",
       "      <th>city</th>\n",
       "      <th>cityLabel</th>\n",
       "    </tr>\n",
       "  </thead>\n",
       "  <tbody>\n",
       "    <tr>\n",
       "      <th>0</th>\n",
       "      <td>https://w3id.org/arco/resource/DemoEthnoAnthro...</td>\n",
       "      <td>FIBBIA A GANCIO</td>\n",
       "      <td>https://w3id.org/arco/resource/City/roma</td>\n",
       "      <td>Roma</td>\n",
       "    </tr>\n",
       "    <tr>\n",
       "      <th>1</th>\n",
       "      <td>https://w3id.org/arco/resource/DemoEthnoAnthro...</td>\n",
       "      <td>FIBBIA A GANCIO</td>\n",
       "      <td>https://w3id.org/arco/resource/City/roma</td>\n",
       "      <td>ROMA</td>\n",
       "    </tr>\n",
       "    <tr>\n",
       "      <th>2</th>\n",
       "      <td>https://w3id.org/arco/resource/DemoEthnoAnthro...</td>\n",
       "      <td>FIBBIA RETTANGOLARE</td>\n",
       "      <td>https://w3id.org/arco/resource/City/roma</td>\n",
       "      <td>Roma</td>\n",
       "    </tr>\n",
       "    <tr>\n",
       "      <th>3</th>\n",
       "      <td>https://w3id.org/arco/resource/DemoEthnoAnthro...</td>\n",
       "      <td>FIBBIA RETTANGOLARE</td>\n",
       "      <td>https://w3id.org/arco/resource/City/roma</td>\n",
       "      <td>ROMA</td>\n",
       "    </tr>\n",
       "    <tr>\n",
       "      <th>4</th>\n",
       "      <td>https://w3id.org/arco/resource/DemoEthnoAnthro...</td>\n",
       "      <td>FIBBIA OVALOIDE</td>\n",
       "      <td>https://w3id.org/arco/resource/City/roma</td>\n",
       "      <td>Roma</td>\n",
       "    </tr>\n",
       "    <tr>\n",
       "      <th>...</th>\n",
       "      <td>...</td>\n",
       "      <td>...</td>\n",
       "      <td>...</td>\n",
       "      <td>...</td>\n",
       "    </tr>\n",
       "    <tr>\n",
       "      <th>29995</th>\n",
       "      <td>https://w3id.org/arco/resource/AltoAdige/Histo...</td>\n",
       "      <td>opuscolo pubblicitario, opuscolo pubblicitario...</td>\n",
       "      <td>https://w3id.org/arco/resource/AltoAdige/City/...</td>\n",
       "      <td>Meran</td>\n",
       "    </tr>\n",
       "    <tr>\n",
       "      <th>29996</th>\n",
       "      <td>https://w3id.org/arco/resource/AltoAdige/Histo...</td>\n",
       "      <td>opuscolo pubblicitario, opuscolo pubblicitario...</td>\n",
       "      <td>https://w3id.org/arco/resource/AltoAdige/City/...</td>\n",
       "      <td>Merano</td>\n",
       "    </tr>\n",
       "    <tr>\n",
       "      <th>29997</th>\n",
       "      <td>https://w3id.org/arco/resource/AltoAdige/Histo...</td>\n",
       "      <td>opuscolo pubblicitario, opuscolo pubblicitario...</td>\n",
       "      <td>https://w3id.org/arco/resource/AltoAdige/City/...</td>\n",
       "      <td>Merano</td>\n",
       "    </tr>\n",
       "    <tr>\n",
       "      <th>29998</th>\n",
       "      <td>https://w3id.org/arco/resource/AltoAdige/Histo...</td>\n",
       "      <td>opuscolo pubblicitario, opuscolo pubblicitario...</td>\n",
       "      <td>https://w3id.org/arco/resource/AltoAdige/City/...</td>\n",
       "      <td>Meran</td>\n",
       "    </tr>\n",
       "    <tr>\n",
       "      <th>29999</th>\n",
       "      <td>https://w3id.org/arco/resource/AltoAdige/Histo...</td>\n",
       "      <td>opuscolo pubblicitario, opuscolo pubblicitario...</td>\n",
       "      <td>https://w3id.org/arco/resource/AltoAdige/City/...</td>\n",
       "      <td>Meran</td>\n",
       "    </tr>\n",
       "  </tbody>\n",
       "</table>\n",
       "<p>30000 rows × 4 columns</p>\n",
       "</div>"
      ],
      "text/plain": [
       "                                                      CP  \\\n",
       "0      https://w3id.org/arco/resource/DemoEthnoAnthro...   \n",
       "1      https://w3id.org/arco/resource/DemoEthnoAnthro...   \n",
       "2      https://w3id.org/arco/resource/DemoEthnoAnthro...   \n",
       "3      https://w3id.org/arco/resource/DemoEthnoAnthro...   \n",
       "4      https://w3id.org/arco/resource/DemoEthnoAnthro...   \n",
       "...                                                  ...   \n",
       "29995  https://w3id.org/arco/resource/AltoAdige/Histo...   \n",
       "29996  https://w3id.org/arco/resource/AltoAdige/Histo...   \n",
       "29997  https://w3id.org/arco/resource/AltoAdige/Histo...   \n",
       "29998  https://w3id.org/arco/resource/AltoAdige/Histo...   \n",
       "29999  https://w3id.org/arco/resource/AltoAdige/Histo...   \n",
       "\n",
       "                                        stripped_CPLabel  \\\n",
       "0                                        FIBBIA A GANCIO   \n",
       "1                                        FIBBIA A GANCIO   \n",
       "2                                    FIBBIA RETTANGOLARE   \n",
       "3                                    FIBBIA RETTANGOLARE   \n",
       "4                                        FIBBIA OVALOIDE   \n",
       "...                                                  ...   \n",
       "29995  opuscolo pubblicitario, opuscolo pubblicitario...   \n",
       "29996  opuscolo pubblicitario, opuscolo pubblicitario...   \n",
       "29997  opuscolo pubblicitario, opuscolo pubblicitario...   \n",
       "29998  opuscolo pubblicitario, opuscolo pubblicitario...   \n",
       "29999  opuscolo pubblicitario, opuscolo pubblicitario...   \n",
       "\n",
       "                                                    city cityLabel  \n",
       "0               https://w3id.org/arco/resource/City/roma      Roma  \n",
       "1               https://w3id.org/arco/resource/City/roma      ROMA  \n",
       "2               https://w3id.org/arco/resource/City/roma      Roma  \n",
       "3               https://w3id.org/arco/resource/City/roma      ROMA  \n",
       "4               https://w3id.org/arco/resource/City/roma      Roma  \n",
       "...                                                  ...       ...  \n",
       "29995  https://w3id.org/arco/resource/AltoAdige/City/...     Meran  \n",
       "29996  https://w3id.org/arco/resource/AltoAdige/City/...    Merano  \n",
       "29997  https://w3id.org/arco/resource/AltoAdige/City/...    Merano  \n",
       "29998  https://w3id.org/arco/resource/AltoAdige/City/...     Meran  \n",
       "29999  https://w3id.org/arco/resource/AltoAdige/City/...     Meran  \n",
       "\n",
       "[30000 rows x 4 columns]"
      ]
     },
     "execution_count": 27,
     "metadata": {},
     "output_type": "execute_result"
    }
   ],
   "source": [
    "query = '''\n",
    "SELECT DISTINCT(?CP) ?stripped_CPLabel ?city ?cityLabel WHERE {\n",
    "?CP a ?o.\n",
    "FILTER (?o = arco:CulturalProperty)\n",
    "?CP rdfs:label ?CPLabel;\n",
    " a-loc:hasCulturalInstituteOrSite ?institute.\n",
    " BIND (STR(?CPLabel)  AS ?stripped_CPLabel)\n",
    "?institute cis:hasSite ?site.\n",
    "?site cis:siteAddress ?address.\n",
    "?address clvapit:hasCity ?city.\n",
    "?city rdfs:label ?cityLabel\n",
    "}\n",
    "'''\n",
    "\n",
    "cities = get(endpoint, query)\n",
    "cities"
   ]
  },
  {
   "cell_type": "code",
   "execution_count": 28,
   "metadata": {},
   "outputs": [
    {
     "data": {
      "text/html": [
       "<div>\n",
       "<style scoped>\n",
       "    .dataframe tbody tr th:only-of-type {\n",
       "        vertical-align: middle;\n",
       "    }\n",
       "\n",
       "    .dataframe tbody tr th {\n",
       "        vertical-align: top;\n",
       "    }\n",
       "\n",
       "    .dataframe thead th {\n",
       "        text-align: right;\n",
       "    }\n",
       "</style>\n",
       "<table border=\"1\" class=\"dataframe\">\n",
       "  <thead>\n",
       "    <tr style=\"text-align: right;\">\n",
       "      <th></th>\n",
       "      <th>city</th>\n",
       "      <th>dbpedia</th>\n",
       "    </tr>\n",
       "  </thead>\n",
       "  <tbody>\n",
       "    <tr>\n",
       "      <th>0</th>\n",
       "      <td>https://w3id.org/arco/resource/City/roma</td>\n",
       "      <td>http://dbpedia.org/resource/Province_of_Rome</td>\n",
       "    </tr>\n",
       "  </tbody>\n",
       "</table>\n",
       "</div>"
      ],
      "text/plain": [
       "                                       city  \\\n",
       "0  https://w3id.org/arco/resource/City/roma   \n",
       "\n",
       "                                        dbpedia  \n",
       "0  http://dbpedia.org/resource/Province_of_Rome  "
      ]
     },
     "execution_count": 28,
     "metadata": {},
     "output_type": "execute_result"
    }
   ],
   "source": [
    "cityLinksToSearch = cities[\"city\"].drop_duplicates()\n",
    "citiesLinks = DataFrame({\"city\":[], \"dbpedia\":[]})\n",
    "\n",
    "for idx, city in cityLinksToSearch.items(): \n",
    "    query1 = '''\n",
    "    SELECT ('''f'<{city}>'''') as ?city ?dbpedia WHERE {\n",
    "        '''f'<{city}>'''' owl:sameAs ?dbpedia \n",
    "        FILTER (contains(str(?dbpedia), \"dbpedia\"))}'''\n",
    "    CP_dbPediaLink = get(endpoint, query1)\n",
    "    citiesLinks = concat([citiesLinks, CP_dbPediaLink])\n",
    "\n",
    "citiesLinks"
   ]
  },
  {
   "cell_type": "code",
   "execution_count": 31,
   "metadata": {},
   "outputs": [
    {
     "data": {
      "text/plain": [
       "0                 https://w3id.org/arco/resource/City/roma\n",
       "26044    https://w3id.org/arco/resource/AltoAdige/City/...\n",
       "26052    https://w3id.org/arco/resource/AltoAdige/City/...\n",
       "26062    https://w3id.org/arco/resource/AltoAdige/City/...\n",
       "26138    https://w3id.org/arco/resource/AltoAdige/City/...\n",
       "26720    https://w3id.org/arco/resource/AltoAdige/City/...\n",
       "28090    https://w3id.org/arco/resource/AltoAdige/City/...\n",
       "28142    https://w3id.org/arco/resource/AltoAdige/City/...\n",
       "28198    https://w3id.org/arco/resource/AltoAdige/City/...\n",
       "Name: city, dtype: object"
      ]
     },
     "execution_count": 31,
     "metadata": {},
     "output_type": "execute_result"
    }
   ],
   "source": [
    "cityLinksToSearch"
   ]
  },
  {
   "cell_type": "code",
   "execution_count": 32,
   "metadata": {},
   "outputs": [
    {
     "data": {
      "text/html": [
       "<div>\n",
       "<style scoped>\n",
       "    .dataframe tbody tr th:only-of-type {\n",
       "        vertical-align: middle;\n",
       "    }\n",
       "\n",
       "    .dataframe tbody tr th {\n",
       "        vertical-align: top;\n",
       "    }\n",
       "\n",
       "    .dataframe thead th {\n",
       "        text-align: right;\n",
       "    }\n",
       "</style>\n",
       "<table border=\"1\" class=\"dataframe\">\n",
       "  <thead>\n",
       "    <tr style=\"text-align: right;\">\n",
       "      <th></th>\n",
       "      <th>city</th>\n",
       "      <th>dbpedia</th>\n",
       "    </tr>\n",
       "  </thead>\n",
       "  <tbody>\n",
       "    <tr>\n",
       "      <th>0</th>\n",
       "      <td>https://w3id.org/arco/resource/City/roma</td>\n",
       "      <td>http://dbpedia.org/resource/Province_of_Rome</td>\n",
       "    </tr>\n",
       "  </tbody>\n",
       "</table>\n",
       "</div>"
      ],
      "text/plain": [
       "                                       city  \\\n",
       "0  https://w3id.org/arco/resource/City/roma   \n",
       "\n",
       "                                        dbpedia  \n",
       "0  http://dbpedia.org/resource/Province_of_Rome  "
      ]
     },
     "execution_count": 32,
     "metadata": {},
     "output_type": "execute_result"
    }
   ],
   "source": [
    "cityLinksToSearch = cities[\"city\"].drop_duplicates()\n",
    "citiesLinks = DataFrame({\"city\":[], \"dbpedia\":[]})\n",
    "\n",
    "for idx, city in cityLinksToSearch.items(): \n",
    "    query1 = '''\n",
    "    SELECT ('''f'<{city}>'''') as ?city ?dbpedia WHERE {\n",
    "        '''f'<{city}>'''' owl:sameAs ?dbpedia \n",
    "        FILTER (contains(str(?dbpedia), \"dbpedia\"))}'''\n",
    "    CP_dbPediaLink = get(endpoint, query1)\n",
    "    citiesLinks = concat([citiesLinks, CP_dbPediaLink])\n",
    "\n",
    "citiesLinks"
   ]
  },
  {
   "cell_type": "code",
   "execution_count": 33,
   "metadata": {},
   "outputs": [
    {
     "data": {
      "text/html": [
       "<div>\n",
       "<style scoped>\n",
       "    .dataframe tbody tr th:only-of-type {\n",
       "        vertical-align: middle;\n",
       "    }\n",
       "\n",
       "    .dataframe tbody tr th {\n",
       "        vertical-align: top;\n",
       "    }\n",
       "\n",
       "    .dataframe thead th {\n",
       "        text-align: right;\n",
       "    }\n",
       "</style>\n",
       "<table border=\"1\" class=\"dataframe\">\n",
       "  <thead>\n",
       "    <tr style=\"text-align: right;\">\n",
       "      <th></th>\n",
       "      <th>dbpedia</th>\n",
       "      <th>latitude</th>\n",
       "      <th>longitude</th>\n",
       "      <th>region</th>\n",
       "      <th>regionLabel</th>\n",
       "    </tr>\n",
       "  </thead>\n",
       "  <tbody>\n",
       "  </tbody>\n",
       "</table>\n",
       "</div>"
      ],
      "text/plain": [
       "Empty DataFrame\n",
       "Columns: [dbpedia, latitude, longitude, region, regionLabel]\n",
       "Index: []"
      ]
     },
     "execution_count": 33,
     "metadata": {},
     "output_type": "execute_result"
    }
   ],
   "source": [
    "CP_city_coordinates = DataFrame({\"dbpedia\":[], \"latitude\":[], \"longitude\":[]})\n",
    "for idx, item in citiesLinks[\"dbpedia\"].drop_duplicates().items() :\n",
    "    query2 = '''\n",
    "        SELECT ('''f'<{item}>'''') as ?dbpedia ?latitude ?longitude ?region ?regionLabel WHERE{\n",
    "           '''f'<{item}>'''' geo:lat ?latitude;\n",
    "        geo:long ?longitude.\n",
    "        '''f'<{item}>'''' dbo:region ?region.\n",
    "        ?region rdfs:label ?regionLabel.\n",
    "        FILTER (langMatches(lang(?regionLabel), \"it\"))\n",
    "    }'''\n",
    "    coordinates = get(endpointDB, query2)\n",
    "    CP_city_coordinates = concat([CP_city_coordinates, coordinates])\n",
    "CP_city_coordinates"
   ]
  },
  {
   "cell_type": "code",
   "execution_count": 30,
   "metadata": {},
   "outputs": [
    {
     "data": {
      "text/html": [
       "<div>\n",
       "<style scoped>\n",
       "    .dataframe tbody tr th:only-of-type {\n",
       "        vertical-align: middle;\n",
       "    }\n",
       "\n",
       "    .dataframe tbody tr th {\n",
       "        vertical-align: top;\n",
       "    }\n",
       "\n",
       "    .dataframe thead th {\n",
       "        text-align: right;\n",
       "    }\n",
       "</style>\n",
       "<table border=\"1\" class=\"dataframe\">\n",
       "  <thead>\n",
       "    <tr style=\"text-align: right;\">\n",
       "      <th></th>\n",
       "      <th>dbpedia</th>\n",
       "      <th>latitude</th>\n",
       "      <th>longitude</th>\n",
       "      <th>region</th>\n",
       "      <th>regionLabel</th>\n",
       "    </tr>\n",
       "  </thead>\n",
       "  <tbody>\n",
       "  </tbody>\n",
       "</table>\n",
       "</div>"
      ],
      "text/plain": [
       "Empty DataFrame\n",
       "Columns: [dbpedia, latitude, longitude, region, regionLabel]\n",
       "Index: []"
      ]
     },
     "execution_count": 30,
     "metadata": {},
     "output_type": "execute_result"
    }
   ],
   "source": [
    "CP_city_coordinates[\"regionLabel\"] = CP_city_coordinates[\"regionLabel\"].replace(to_replace=\"Marken\", value='Marche')\n",
    "CP_city_coordinates[\"regionLabel\"] = CP_city_coordinates[\"regionLabel\"].replace(to_replace=\"Consiglio regionale della Lombardia\", value='Lombardia')\n",
    "CP_city_coordinates[\"regionLabel\"] = CP_city_coordinates[\"regionLabel\"].replace(to_replace=\"Consiglio regionale del Friuli-Venezia Giulia\", value='Friuli-Venezia Giulia')\n",
    "CP_city_coordinates[\"regionLabel\"] = CP_city_coordinates[\"regionLabel\"].replace(to_replace=\"Friuli\", value='Friuli-Venezia Giulia')\n",
    "CP_city_coordinates[\"regionLabel\"] = CP_city_coordinates[\"regionLabel\"].replace(to_replace=\"Emilia\", value='Emilia Romagna')\n",
    "CP_city_coordinates[\"regionLabel\"].drop_duplicates()\n",
    "CP_city_coordinates"
   ]
  },
  {
   "cell_type": "code",
   "execution_count": null,
   "metadata": {},
   "outputs": [],
   "source": [
    "query_lazio =\"\"\"SELECT DISTINCT (count (?s) as ?count) ?city WHERE {\n",
    " ?s a cis:CulturalEvent;\n",
    "rdfs:label ?event.\n",
    "?s cis:isHostedBySite ?o.\n",
    "?s tiapit:atTime ?time.\n",
    "?time tiapit:startTime ?starttime;\n",
    "tiapit:endTime ?endtime.\n",
    "?o rdfs:label ?site.\n",
    "?o cis:siteAddress ?address.\n",
    "?address clvapit:hasCity ?urlcity.\n",
    "?urlcity rdfs:label ?city.\n",
    "?address clvapit:hasRegion ?regionurl.\n",
    "?regionurl rdfs:label ?region.\n",
    "\n",
    "FILTER (?region=\"Lazio\")\n",
    "}\"\"\"\n"
   ]
  },
  {
   "cell_type": "code",
   "execution_count": null,
   "metadata": {},
   "outputs": [],
   "source": [
    "query_Aosta=\"\"\"SELECT DISTINCT (count (?s) as ?count) ?city WHERE {\n",
    " ?s a cis:CulturalEvent;\n",
    "rdfs:label ?event.\n",
    "?s cis:isHostedBySite ?o.\n",
    "?o rdfs:label ?site.\n",
    "?o cis:siteAddress ?address.\n",
    "?address clvapit:hasCity ?urlcity.\n",
    "?urlcity rdfs:label ?city.\n",
    "?address clvapit:hasRegion ?regionurl.\n",
    "?regionurl rdfs:label ?region.\n",
    "FILTER (?region=\"Valle d'Aosta/Vallée d'Aoste\")\n",
    "\n",
    "\n",
    "}\"\"\""
   ]
  },
  {
   "cell_type": "code",
   "execution_count": null,
   "metadata": {},
   "outputs": [],
   "source": []
  }
 ],
 "metadata": {
  "kernelspec": {
   "display_name": "Python 3",
   "language": "python",
   "name": "python3"
  },
  "language_info": {
   "codemirror_mode": {
    "name": "ipython",
    "version": 3
   },
   "file_extension": ".py",
   "mimetype": "text/x-python",
   "name": "python",
   "nbconvert_exporter": "python",
   "pygments_lexer": "ipython3",
   "version": "3.10.0"
  },
  "orig_nbformat": 4,
  "vscode": {
   "interpreter": {
    "hash": "aee8b7b246df8f9039afb4144a1f6fd8d2ca17a180786b69acc140d282b71a49"
   }
  }
 },
 "nbformat": 4,
 "nbformat_minor": 2
}
