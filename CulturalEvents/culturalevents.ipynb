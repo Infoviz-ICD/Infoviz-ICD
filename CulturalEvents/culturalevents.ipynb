{
 "cells": [
  {
   "attachments": {},
   "cell_type": "markdown",
   "metadata": {},
   "source": [
    "The **CIS (Cultural Institute/Site and Cultural Event) ontology** aims at modelling the data on cultural institutes or sites such as data regarding the agents that play a specific role on cultural institutes or sites, the sites themselves, the contact points, all multimedia files which describe the cultural institute or site and any other information useful to the public in order to access the institute or site.\n",
    "\n",
    "We specificially employed it to extract all the cultural events present in the dataset through the property **cis:CulturalEvent**"
   ]
  },
  {
   "attachments": {},
   "cell_type": "markdown",
   "metadata": {},
   "source": [
    "**cis:CulturalEvent** represents an event that typically is related to the cultural domain"
   ]
  },
  {
   "cell_type": "code",
   "execution_count": 7,
   "metadata": {},
   "outputs": [],
   "source": [
    "import sparql_dataframe\n",
    "\n",
    "from SPARQLWrapper import SPARQLWrapper, JSON\n",
    "import ssl\n",
    "\n",
    "ssl._create_default_https_context = ssl._create_unverified_context\n",
    "\n",
    "endpoint = 'https://dati.cultura.gov.it/sparql'\n",
    "\n",
    "query_events = \"\"\"\n",
    "PREFIX cis: <http://dati.beniculturali.it/cis/>\n",
    "PREFIX arco: <https://w3id.org/arco/ontology/arco/>\n",
    "PREFIX clvapit:<https://w3id.org/italia/onto/CLV/>\n",
    "\n",
    "SELECT DISTINCT ?s  WHERE {\n",
    " ?s a cis:CulturalEvent.\n",
    " }\n",
    "\"\"\""
   ]
  },
  {
   "cell_type": "code",
   "execution_count": 8,
   "metadata": {},
   "outputs": [],
   "source": [
    "df = sparql_dataframe.get(endpoint, query_events)"
   ]
  },
  {
   "attachments": {},
   "cell_type": "markdown",
   "metadata": {},
   "source": [
    "We procede getting the cultural events' names, through using the property, **rdfs:label**. We also kept the IRI in order to have a unique identifier both for institutes and sites that will help us to merge our tables."
   ]
  },
  {
   "cell_type": "code",
   "execution_count": 9,
   "metadata": {},
   "outputs": [],
   "source": [
    "import sparql_dataframe\n",
    "\n",
    "from SPARQLWrapper import SPARQLWrapper, JSON\n",
    "import ssl\n",
    "\n",
    "ssl._create_default_https_context = ssl._create_unverified_context\n",
    "\n",
    "endpoint = 'https://dati.cultura.gov.it/sparql'\n",
    "\n",
    "query_event_label = \"\"\"\n",
    "PREFIX cis: <http://dati.beniculturali.it/cis/>\n",
    "PREFIX arco: <https://w3id.org/arco/ontology/arco/>\n",
    "PREFIX clvapit:<https://w3id.org/italia/onto/CLV/>\n",
    "\n",
    "SELECT DISTINCT ?s ?event ?o ?site ?urlcity ?city WHERE {\n",
    " ?s a cis:CulturalEvent;\n",
    "rdfs:label ?event.\n",
    "}\n",
    "\"\"\""
   ]
  },
  {
   "cell_type": "code",
   "execution_count": 10,
   "metadata": {},
   "outputs": [],
   "source": [
    "df = sparql_dataframe.get(endpoint, query_event_label)"
   ]
  },
  {
   "attachments": {},
   "cell_type": "markdown",
   "metadata": {},
   "source": [
    "We then employed the property **cis:isHostedBySite** to extract all the sites in which the events were held as this specific property links the Event to the Site of the Cultural Institute or Site.\n",
    "\n",
    "Also in this case we actually extracted both the IRIs and the label through the same property as the one mentioned above."
   ]
  },
  {
   "cell_type": "code",
   "execution_count": 11,
   "metadata": {},
   "outputs": [],
   "source": [
    "import sparql_dataframe\n",
    "\n",
    "from SPARQLWrapper import SPARQLWrapper, JSON\n",
    "import ssl\n",
    "\n",
    "ssl._create_default_https_context = ssl._create_unverified_context\n",
    "\n",
    "endpoint = 'https://dati.cultura.gov.it/sparql'\n",
    "\n",
    "query_site= \"\"\"\n",
    "PREFIX cis: <http://dati.beniculturali.it/cis/>\n",
    "PREFIX arco: <https://w3id.org/arco/ontology/arco/>\n",
    "PREFIX clvapit:<https://w3id.org/italia/onto/CLV/>\n",
    "\n",
    "SELECT DISTINCT ?s ?event ?o ?site ?urlcity ?city WHERE {\n",
    " ?s a cis:CulturalEvent;\n",
    "rdfs:label ?event.\n",
    "?s cis:isHostedBySite ?o.\n",
    "?o rdfs:label ?site.\n",
    "}\n",
    "\"\"\""
   ]
  },
  {
   "cell_type": "code",
   "execution_count": 12,
   "metadata": {},
   "outputs": [],
   "source": [
    "df = sparql_dataframe.get(endpoint, query_site)"
   ]
  },
  {
   "attachments": {},
   "cell_type": "markdown",
   "metadata": {},
   "source": [
    "Then we examined various ways to retrieve the city of each city, examing the various predicates associated to them; the most appropriate and helpful way for us was to first extract the address through **cis:siteAddress** and then from here to get the city through the employment of another ontology (Address (Location) Ontology) and its property **clavpit:hasCity**."
   ]
  },
  {
   "cell_type": "code",
   "execution_count": 13,
   "metadata": {},
   "outputs": [],
   "source": [
    "import sparql_dataframe\n",
    "\n",
    "from SPARQLWrapper import SPARQLWrapper, JSON\n",
    "import ssl\n",
    "\n",
    "ssl._create_default_https_context = ssl._create_unverified_context\n",
    "\n",
    "endpoint = 'https://dati.cultura.gov.it/sparql'\n",
    "\n",
    "query_culture_events = \"\"\"\n",
    "PREFIX cis: <http://dati.beniculturali.it/cis/>\n",
    "PREFIX arco: <https://w3id.org/arco/ontology/arco/>\n",
    "PREFIX clvapit:<https://w3id.org/italia/onto/CLV/>\n",
    "\n",
    "SELECT DISTINCT ?s ?event ?o ?site ?urlcity ?city WHERE {\n",
    " ?s a cis:CulturalEvent;\n",
    "rdfs:label ?event.\n",
    "?s cis:isHostedBySite ?o.\n",
    "?o rdfs:label ?site.\n",
    "?o cis:siteAddress ?address.\n",
    "?address clvapit:hasCity ?urlcity.\n",
    "?urlcity rdfs:label ?city\n",
    "}\n",
    "\"\"\""
   ]
  },
  {
   "cell_type": "code",
   "execution_count": 14,
   "metadata": {},
   "outputs": [],
   "source": [
    "df = sparql_dataframe.get(endpoint, query_culture_events)"
   ]
  },
  {
   "attachments": {},
   "cell_type": "markdown",
   "metadata": {},
   "source": [
    "To further clear up this file from any duplicates that might appear we used the pandas method **drop_duplicates** in order to obtain a clearer table of all the data that we obtained together."
   ]
  },
  {
   "cell_type": "code",
   "execution_count": 15,
   "metadata": {},
   "outputs": [],
   "source": [
    "df=df.drop_duplicates([\"s\", \"o\"])"
   ]
  },
  {
   "attachments": {},
   "cell_type": "markdown",
   "metadata": {},
   "source": [
    "Finally we saved all of this data in a csv file to then reuse it for our own graph."
   ]
  },
  {
   "cell_type": "code",
   "execution_count": 16,
   "metadata": {},
   "outputs": [],
   "source": [
    "df.to_csv(\"cleancefile.csv\")"
   ]
  },
  {
   "attachments": {},
   "cell_type": "markdown",
   "metadata": {},
   "source": [
    "Then we worked onto counting first the events per sites"
   ]
  },
  {
   "cell_type": "code",
   "execution_count": 6,
   "metadata": {},
   "outputs": [],
   "source": [
    "import sparql_dataframe\n",
    "\n",
    "from SPARQLWrapper import SPARQLWrapper, JSON\n",
    "import ssl\n",
    "\n",
    "ssl._create_default_https_context = ssl._create_unverified_context\n",
    "\n",
    "endpoint = 'https://dati.cultura.gov.it/sparql'\n",
    "\n",
    "query_site = \"\"\"\n",
    "PREFIX cis: <http://dati.beniculturali.it/cis/>\n",
    "PREFIX arco: <https://w3id.org/arco/ontology/arco/>\n",
    "PREFIX clvapit:<https://w3id.org/italia/onto/CLV/>\n",
    "\n",
    "SELECT DISTINCT (count (?o) as ?count) ?site WHERE {\n",
    " ?s a cis:CulturalEvent;\n",
    "rdfs:label ?event.\n",
    "?s cis:isHostedBySite ?o.\n",
    "?o rdfs:label ?site.\n",
    "?o cis:siteAddress ?address.\n",
    "?address clvapit:hasCity ?urlcity.\n",
    "?urlcity rdfs:label ?city\n",
    "}\n",
    "\"\"\""
   ]
  },
  {
   "cell_type": "code",
   "execution_count": 7,
   "metadata": {},
   "outputs": [],
   "source": [
    "df = sparql_dataframe.get(endpoint, query_site)"
   ]
  },
  {
   "cell_type": "code",
   "execution_count": 11,
   "metadata": {},
   "outputs": [],
   "source": [
    "df.to_csv(\"numbersite.csv\")"
   ]
  },
  {
   "attachments": {},
   "cell_type": "markdown",
   "metadata": {},
   "source": [
    "Then the events per city."
   ]
  },
  {
   "cell_type": "code",
   "execution_count": 10,
   "metadata": {},
   "outputs": [],
   "source": [
    "import sparql_dataframe\n",
    "\n",
    "from SPARQLWrapper import SPARQLWrapper, JSON\n",
    "import ssl\n",
    "\n",
    "ssl._create_default_https_context = ssl._create_unverified_context\n",
    "\n",
    "endpoint = 'https://dati.cultura.gov.it/sparql'\n",
    "\n",
    "query_city = \"\"\"\n",
    "PREFIX cis: <http://dati.beniculturali.it/cis/>\n",
    "PREFIX arco: <https://w3id.org/arco/ontology/arco/>\n",
    "PREFIX clvapit:<https://w3id.org/italia/onto/CLV/>\n",
    "\n",
    "SELECT DISTINCT (count (?s) as ?count) ?city WHERE {\n",
    " ?s a cis:CulturalEvent;\n",
    "rdfs:label ?event.\n",
    "?s cis:isHostedBySite ?o.\n",
    "?o rdfs:label ?site.\n",
    "?o cis:siteAddress ?address.\n",
    "?address clvapit:hasCity ?urlcity.\n",
    "?urlcity rdfs:label ?city\n",
    "}\n",
    "\"\"\""
   ]
  },
  {
   "cell_type": "code",
   "execution_count": 12,
   "metadata": {},
   "outputs": [],
   "source": [
    "df = sparql_dataframe.get(endpoint, query_city)"
   ]
  },
  {
   "cell_type": "code",
   "execution_count": 13,
   "metadata": {},
   "outputs": [],
   "source": [
    "df.to_csv(\"numbercity.csv\")"
   ]
  },
  {
   "cell_type": "code",
   "execution_count": 15,
   "metadata": {},
   "outputs": [],
   "source": [
    "endpoint = 'https://dati.cultura.gov.it/sparql'\n",
    "\n",
    "query = '''\n",
    "SELECT DISTINCT(?urlcity2) ?dbCity WHERE {\n",
    " ?s a cis:CulturalEvent;\n",
    "rdfs:label ?event.\n",
    "?s cis:isHostedBySite ?o.\n",
    "?o rdfs:label ?site.\n",
    "?o cis:siteAddress ?address.\n",
    "?address clvapit:hasCity ?urlcity.\n",
    "?urlcity owl:sameAs ?urlcity2.\n",
    "?urlcity2 owl:sameAs ?dbCity. \n",
    "FILTER(contains (str(?dbCity), \"dbpedia\") )\n",
    "}\n",
    "'''"
   ]
  },
  {
   "cell_type": "code",
   "execution_count": 16,
   "metadata": {},
   "outputs": [],
   "source": [
    "df = sparql_dataframe.get(endpoint, query)"
   ]
  },
  {
   "cell_type": "code",
   "execution_count": 17,
   "metadata": {},
   "outputs": [
    {
     "data": {
      "text/html": [
       "<div>\n",
       "<style scoped>\n",
       "    .dataframe tbody tr th:only-of-type {\n",
       "        vertical-align: middle;\n",
       "    }\n",
       "\n",
       "    .dataframe tbody tr th {\n",
       "        vertical-align: top;\n",
       "    }\n",
       "\n",
       "    .dataframe thead th {\n",
       "        text-align: right;\n",
       "    }\n",
       "</style>\n",
       "<table border=\"1\" class=\"dataframe\">\n",
       "  <thead>\n",
       "    <tr style=\"text-align: right;\">\n",
       "      <th></th>\n",
       "      <th>urlcity2</th>\n",
       "      <th>dbCity</th>\n",
       "    </tr>\n",
       "  </thead>\n",
       "  <tbody>\n",
       "    <tr>\n",
       "      <th>0</th>\n",
       "      <td>http://dati.beniculturali.it/mibact/luoghi/res...</td>\n",
       "      <td>http://dbpedia.org/resource/Besenello</td>\n",
       "    </tr>\n",
       "    <tr>\n",
       "      <th>1</th>\n",
       "      <td>http://dati.beniculturali.it/mibact/luoghi/res...</td>\n",
       "      <td>http://dbpedia.org/resource/Calci</td>\n",
       "    </tr>\n",
       "    <tr>\n",
       "      <th>2</th>\n",
       "      <td>http://dati.beniculturali.it/mibact/luoghi/res...</td>\n",
       "      <td>http://dbpedia.org/resource/Carmignano</td>\n",
       "    </tr>\n",
       "    <tr>\n",
       "      <th>3</th>\n",
       "      <td>http://dati.beniculturali.it/mibact/luoghi/res...</td>\n",
       "      <td>http://dbpedia.org/resource/Cetona</td>\n",
       "    </tr>\n",
       "    <tr>\n",
       "      <th>4</th>\n",
       "      <td>http://dati.beniculturali.it/mibact/luoghi/res...</td>\n",
       "      <td>http://dbpedia.org/resource/Chiusi</td>\n",
       "    </tr>\n",
       "    <tr>\n",
       "      <th>...</th>\n",
       "      <td>...</td>\n",
       "      <td>...</td>\n",
       "    </tr>\n",
       "    <tr>\n",
       "      <th>789</th>\n",
       "      <td>http://dati.beniculturali.it/mibact/luoghi/res...</td>\n",
       "      <td>http://dbpedia.org/resource/Casalciprano</td>\n",
       "    </tr>\n",
       "    <tr>\n",
       "      <th>790</th>\n",
       "      <td>http://dati.beniculturali.it/mibact/luoghi/res...</td>\n",
       "      <td>http://dbpedia.org/resource/Monterosso_Grana</td>\n",
       "    </tr>\n",
       "    <tr>\n",
       "      <th>791</th>\n",
       "      <td>http://dati.beniculturali.it/mibact/luoghi/res...</td>\n",
       "      <td>http://dbpedia.org/resource/Castrocielo</td>\n",
       "    </tr>\n",
       "    <tr>\n",
       "      <th>792</th>\n",
       "      <td>http://dati.beniculturali.it/mibact/luoghi/res...</td>\n",
       "      <td>http://dbpedia.org/resource/Lu_e_Cuccaro_Monfe...</td>\n",
       "    </tr>\n",
       "    <tr>\n",
       "      <th>793</th>\n",
       "      <td>http://dati.beniculturali.it/mibact/luoghi/res...</td>\n",
       "      <td>http://dbpedia.org/resource/Sinnai</td>\n",
       "    </tr>\n",
       "  </tbody>\n",
       "</table>\n",
       "<p>794 rows × 2 columns</p>\n",
       "</div>"
      ],
      "text/plain": [
       "                                              urlcity2  \\\n",
       "0    http://dati.beniculturali.it/mibact/luoghi/res...   \n",
       "1    http://dati.beniculturali.it/mibact/luoghi/res...   \n",
       "2    http://dati.beniculturali.it/mibact/luoghi/res...   \n",
       "3    http://dati.beniculturali.it/mibact/luoghi/res...   \n",
       "4    http://dati.beniculturali.it/mibact/luoghi/res...   \n",
       "..                                                 ...   \n",
       "789  http://dati.beniculturali.it/mibact/luoghi/res...   \n",
       "790  http://dati.beniculturali.it/mibact/luoghi/res...   \n",
       "791  http://dati.beniculturali.it/mibact/luoghi/res...   \n",
       "792  http://dati.beniculturali.it/mibact/luoghi/res...   \n",
       "793  http://dati.beniculturali.it/mibact/luoghi/res...   \n",
       "\n",
       "                                                dbCity  \n",
       "0                http://dbpedia.org/resource/Besenello  \n",
       "1                    http://dbpedia.org/resource/Calci  \n",
       "2               http://dbpedia.org/resource/Carmignano  \n",
       "3                   http://dbpedia.org/resource/Cetona  \n",
       "4                   http://dbpedia.org/resource/Chiusi  \n",
       "..                                                 ...  \n",
       "789           http://dbpedia.org/resource/Casalciprano  \n",
       "790       http://dbpedia.org/resource/Monterosso_Grana  \n",
       "791            http://dbpedia.org/resource/Castrocielo  \n",
       "792  http://dbpedia.org/resource/Lu_e_Cuccaro_Monfe...  \n",
       "793                 http://dbpedia.org/resource/Sinnai  \n",
       "\n",
       "[794 rows x 2 columns]"
      ]
     },
     "execution_count": 17,
     "metadata": {},
     "output_type": "execute_result"
    }
   ],
   "source": [
    "df"
   ]
  },
  {
   "cell_type": "code",
   "execution_count": null,
   "metadata": {},
   "outputs": [],
   "source": [
    "from sparql_dataframe import get\n",
    "endpoint = 'https://dati.cultura.gov.it/sparql'\n",
    "\n",
    "#count of all the cities\n",
    "query = '''\n",
    "SELECT COUNT(DISTINCT(?urlcity) as ?count) WHERE {\n",
    " ?s a cis:CulturalEvent;\n",
    "rdfs:label ?event.\n",
    "?s cis:isHostedBySite ?o.\n",
    "?o rdfs:label ?site.\n",
    "?o cis:siteAddress ?address.\n",
    "?address clvapit:hasCity ?urlcity.\n",
    "}\n",
    "'''\n",
    "CountCity = get(endpoint, query)\n",
    "CountCity"
   ]
  },
  {
   "attachments": {},
   "cell_type": "markdown",
   "metadata": {},
   "source": [
    "After having extracted all the geographical information, we then moved onto working into the temporal one.\n",
    "\n",
    "We did this through the employment of the **Time ontology** (Italian application profile) in the properties tiapit:atTime.\n",
    "\n",
    "This actually gave us a time interval composed by a **start time** and **end time**, which were then explicited through the xsd format with the properties **tiapit:startTime** and **tiapit:endTime**."
   ]
  },
  {
   "cell_type": "code",
   "execution_count": 18,
   "metadata": {},
   "outputs": [],
   "source": [
    "import sparql_dataframe\n",
    "\n",
    "from SPARQLWrapper import SPARQLWrapper, JSON\n",
    "import ssl\n",
    "\n",
    "ssl._create_default_https_context = ssl._create_unverified_context\n",
    "\n",
    "endpoint = 'https://dati.cultura.gov.it/sparql'\n",
    "\n",
    "query_time=\"\"\"SELECT DISTINCT ?s ?time ?starttime ?endtime WHERE {\n",
    " ?s a cis:CulturalEvent;\n",
    "rdfs:label ?event.\n",
    "?s tiapit:atTime ?time.\n",
    "?time tiapit:startTime ?starttime;\n",
    "tiapit:endTime ?endtime.\n",
    "}\"\"\""
   ]
  },
  {
   "cell_type": "code",
   "execution_count": 19,
   "metadata": {},
   "outputs": [],
   "source": [
    "df = sparql_dataframe.get(endpoint, query_time)"
   ]
  },
  {
   "attachments": {},
   "cell_type": "markdown",
   "metadata": {},
   "source": [
    "Everything was saved in a csv file."
   ]
  },
  {
   "cell_type": "code",
   "execution_count": 8,
   "metadata": {},
   "outputs": [],
   "source": [
    "df.to_csv(\"time.csv\")"
   ]
  },
  {
   "attachments": {},
   "cell_type": "markdown",
   "metadata": {},
   "source": [
    "Similarly as we had done with the geographical information we counted how many events per start time (as we took it as standard for the time)."
   ]
  },
  {
   "cell_type": "code",
   "execution_count": 20,
   "metadata": {},
   "outputs": [],
   "source": [
    "query_count_time =\"\"\"SELECT DISTINCT (count (?s) as ?count) ?starttime WHERE {\n",
    " ?s a cis:CulturalEvent;\n",
    "rdfs:label ?event.\n",
    "?s tiapit:atTime ?time.\n",
    "?time tiapit:startTime ?starttime;\n",
    "tiapit:endTime ?endtime.\n",
    "?s cis:isHostedBySite ?o.\n",
    "?o rdfs:label ?site.\n",
    "?o cis:siteAddress ?address.\n",
    "?address clvapit:hasCity ?urlcity.\n",
    "}\"\"\""
   ]
  },
  {
   "cell_type": "code",
   "execution_count": 21,
   "metadata": {},
   "outputs": [],
   "source": [
    "df = sparql_dataframe.get(endpoint, query_count_time)"
   ]
  },
  {
   "attachments": {},
   "cell_type": "markdown",
   "metadata": {},
   "source": [
    "As always it was saved in a csv file."
   ]
  },
  {
   "cell_type": "code",
   "execution_count": 12,
   "metadata": {},
   "outputs": [],
   "source": [
    "df.to_csv(\"time_count.csv\")"
   ]
  }
 ],
 "metadata": {
  "kernelspec": {
   "display_name": "Python 3",
   "language": "python",
   "name": "python3"
  },
  "language_info": {
   "codemirror_mode": {
    "name": "ipython",
    "version": 3
   },
   "file_extension": ".py",
   "mimetype": "text/x-python",
   "name": "python",
   "nbconvert_exporter": "python",
   "pygments_lexer": "ipython3",
   "version": "3.10.0"
  },
  "orig_nbformat": 4,
  "vscode": {
   "interpreter": {
    "hash": "aee8b7b246df8f9039afb4144a1f6fd8d2ca17a180786b69acc140d282b71a49"
   }
  }
 },
 "nbformat": 4,
 "nbformat_minor": 2
}
