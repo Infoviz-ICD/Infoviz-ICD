{
 "cells": [
  {
   "cell_type": "code",
   "execution_count": 10,
   "metadata": {},
   "outputs": [],
   "source": [
    "import sparql_dataframe\n",
    "\n",
    "from SPARQLWrapper import SPARQLWrapper, JSON\n",
    "import ssl\n",
    "\n",
    "ssl._create_default_https_context = ssl._create_unverified_context\n",
    "\n",
    "endpoint = 'https://dati.cultura.gov.it/sparql'\n",
    "\n",
    "query_culture_events = \"\"\"\n",
    "PREFIX cis: <http://dati.beniculturali.it/cis/>\n",
    "PREFIX arco: <https://w3id.org/arco/ontology/arco/>\n",
    "PREFIX clvapit:<https://w3id.org/italia/onto/CLV/>\n",
    "\n",
    "SELECT DISTINCT ?s ?event ?o ?site ?urlcity ?city WHERE {\n",
    " ?s a cis:CulturalEvent;\n",
    "rdfs:label ?event.\n",
    "?s cis:isHostedBySite ?o.\n",
    "?o rdfs:label ?site.\n",
    "?o cis:siteAddress ?address.\n",
    "?address clvapit:hasCity ?urlcity.\n",
    "?urlcity rdfs:label ?city\n",
    "}\n",
    "\"\"\""
   ]
  },
  {
   "cell_type": "code",
   "execution_count": 11,
   "metadata": {},
   "outputs": [],
   "source": [
    "df = sparql_dataframe.get(endpoint, query_culture_events)"
   ]
  },
  {
   "cell_type": "code",
   "execution_count": 12,
   "metadata": {},
   "outputs": [
    {
     "name": "stdout",
     "output_type": "stream",
     "text": [
      "                                                       s  \\\n",
      "0      http://dati.beniculturali.it/mibact/eventi/res...   \n",
      "1      http://dati.beniculturali.it/mibact/eventi/res...   \n",
      "2      http://dati.beniculturali.it/mibact/eventi/res...   \n",
      "3      http://dati.beniculturali.it/mibact/eventi/res...   \n",
      "4      http://dati.beniculturali.it/mibact/eventi/res...   \n",
      "...                                                  ...   \n",
      "21163  http://dati.beniculturali.it/mibact/eventi/res...   \n",
      "21164  http://dati.beniculturali.it/mibact/eventi/res...   \n",
      "21165  http://dati.beniculturali.it/mibact/eventi/res...   \n",
      "21166  http://dati.beniculturali.it/mibact/eventi/res...   \n",
      "21167  http://dati.beniculturali.it/mibact/eventi/res...   \n",
      "\n",
      "                                                   event  \\\n",
      "0      “Un brindisi per l’eternità”, all'Antiquarium ...   \n",
      "1      Giornate Europee del Patrimonio 2022 al Museo ...   \n",
      "2              La storia ragionevole dei Bronzi di Riace   \n",
      "3      Osservando le mura aureliane: una passeggiata ...   \n",
      "4      PATRIMONIO CULTURALE: BENI MATERIALI E BENI IM...   \n",
      "...                                                  ...   \n",
      "21163  Domenica 4 dicembre 2022 la Biblioteca aprirà ...   \n",
      "21164                        Voci diverse, dolci melodie   \n",
      "21165      Fatti di Pier Paolo Pasolini e Roberto Longhi   \n",
      "21166  Fatti di Pier Paolo Pasolini e Roberto Longhi_...   \n",
      "21167                            A lezione in Pinacoteca   \n",
      "\n",
      "                                                       o  \\\n",
      "0      http://dati.beniculturali.it/mibact/eventi/res...   \n",
      "1      http://dati.beniculturali.it/mibact/eventi/res...   \n",
      "2      http://dati.beniculturali.it/mibact/eventi/res...   \n",
      "3      http://dati.beniculturali.it/mibact/eventi/res...   \n",
      "4      http://dati.beniculturali.it/mibact/eventi/res...   \n",
      "...                                                  ...   \n",
      "21163  http://dati.beniculturali.it/mibact/eventi/res...   \n",
      "21164  http://dati.beniculturali.it/mibact/eventi/res...   \n",
      "21165  http://dati.beniculturali.it/mibact/eventi/res...   \n",
      "21166  http://dati.beniculturali.it/mibact/eventi/res...   \n",
      "21167  http://dati.beniculturali.it/mibact/eventi/res...   \n",
      "\n",
      "                                                    site  \\\n",
      "0                  Sede di Antiquarium statale di Numana   \n",
      "1      Sede di Soprintendenza Archeologia, Belle Arti...   \n",
      "2      Sede di Museo archeologico nazionale di Reggio...   \n",
      "3      Sede di Direzione Musei Statali della Città di...   \n",
      "4      Sede di Museo archeologico nazionale di Reggio...   \n",
      "...                                                  ...   \n",
      "21163   Sede di Biblioteca Nazionale Marciana di Venezia   \n",
      "21164  Sede di Museo archeologico nazionale della Val...   \n",
      "21165            Sede di Pinacoteca Nazionale di Bologna   \n",
      "21166            Sede di Pinacoteca Nazionale di Bologna   \n",
      "21167            Sede di Pinacoteca Nazionale di Bologna   \n",
      "\n",
      "                                                 urlcity                city  \n",
      "0      http://dati.beniculturali.it/mibact/eventi/res...              Numana  \n",
      "1      http://dati.beniculturali.it/mibact/eventi/res...               Lecce  \n",
      "2      http://dati.beniculturali.it/mibact/eventi/res...  Reggio di Calabria  \n",
      "3      http://dati.beniculturali.it/mibact/eventi/res...                Roma  \n",
      "4      http://dati.beniculturali.it/mibact/eventi/res...  Reggio di Calabria  \n",
      "...                                                  ...                 ...  \n",
      "21163  http://dati.beniculturali.it/mibact/eventi/res...             Venezia  \n",
      "21164  http://dati.beniculturali.it/mibact/eventi/res...               Sarno  \n",
      "21165  http://dati.beniculturali.it/mibact/eventi/res...             Bologna  \n",
      "21166  http://dati.beniculturali.it/mibact/eventi/res...             Bologna  \n",
      "21167  http://dati.beniculturali.it/mibact/eventi/res...             Bologna  \n",
      "\n",
      "[21168 rows x 6 columns]\n"
     ]
    }
   ],
   "source": [
    "print(df)"
   ]
  },
  {
   "cell_type": "code",
   "execution_count": 23,
   "metadata": {},
   "outputs": [],
   "source": [
    "df=df.drop_duplicates([\"s\", \"o\"])"
   ]
  },
  {
   "cell_type": "code",
   "execution_count": 24,
   "metadata": {},
   "outputs": [],
   "source": [
    "df.to_csv(\"/Users/martinapensalfini/Desktop/infowiz/cleancefile.csv\")"
   ]
  },
  {
   "cell_type": "code",
   "execution_count": 25,
   "metadata": {},
   "outputs": [
    {
     "name": "stdout",
     "output_type": "stream",
     "text": [
      "0                    Numana\n",
      "1                     Lecce\n",
      "2        Reggio di Calabria\n",
      "3                      Roma\n",
      "4        Reggio di Calabria\n",
      "                ...        \n",
      "21163               Venezia\n",
      "21164                 Sarno\n",
      "21165               Bologna\n",
      "21166               Bologna\n",
      "21167               Bologna\n",
      "Name: city, Length: 21101, dtype: object\n"
     ]
    }
   ],
   "source": [
    "df_city=df[\"city\"]\n",
    "print(df_city)"
   ]
  },
  {
   "cell_type": "code",
   "execution_count": 26,
   "metadata": {},
   "outputs": [
    {
     "name": "stdout",
     "output_type": "stream",
     "text": [
      "{'Bologna': 198}\n"
     ]
    }
   ],
   "source": [
    "counts = dict()\n",
    "for i in df[\"city\"]:\n",
    "    if i==\"Bologna\":\n",
    "        counts[i] = counts.get(i, 0) + 1\n",
    "print(counts)\n"
   ]
  },
  {
   "cell_type": "code",
   "execution_count": 27,
   "metadata": {},
   "outputs": [
    {
     "name": "stdout",
     "output_type": "stream",
     "text": [
      "{'Zogno': 2}\n"
     ]
    }
   ],
   "source": [
    "counts = dict()\n",
    "for i in df[\"city\"]:\n",
    "    if i==\"Zogno\":\n",
    "        counts[i] = counts.get(i, 0) + 1\n",
    "print(counts)"
   ]
  },
  {
   "cell_type": "code",
   "execution_count": 28,
   "metadata": {},
   "outputs": [
    {
     "name": "stdout",
     "output_type": "stream",
     "text": [
      "{'Amalfi': 2}\n"
     ]
    }
   ],
   "source": [
    "counts = dict()\n",
    "for i in df[\"city\"]:\n",
    "    if i==\"Amalfi\":\n",
    "        counts[i] = counts.get(i, 0) + 1\n",
    "print(counts)"
   ]
  },
  {
   "cell_type": "code",
   "execution_count": 29,
   "metadata": {},
   "outputs": [
    {
     "name": "stdout",
     "output_type": "stream",
     "text": [
      "{'Buddusò': 1}\n"
     ]
    }
   ],
   "source": [
    "counts = dict()\n",
    "for i in df[\"city\"]:\n",
    "    if i==\"Buddusò\":\n",
    "        counts[i] = counts.get(i, 0) + 1\n",
    "print(counts)"
   ]
  },
  {
   "cell_type": "code",
   "execution_count": null,
   "metadata": {},
   "outputs": [],
   "source": [
    "#to retrieve dbPedia links\n",
    "query = '''\n",
    "SELECT DISTINCT(?urlcity2) ?dbCity WHERE {\n",
    " ?s a cis:CulturalEvent;\n",
    "rdfs:label ?event.\n",
    "?s cis:isHostedBySite ?o.\n",
    "?o rdfs:label ?site.\n",
    "?o cis:siteAddress ?address.\n",
    "?address clvapit:hasCity ?urlcity.\n",
    "?urlcity owl:sameAs ?urlcity2.\n",
    "?urlcity2 owl:sameAs ?dbCity. \n",
    "FILTER(contains (str(?dbCity), \"dbpedia\") )\n",
    "}\n",
    "'''"
   ]
  },
  {
   "cell_type": "code",
   "execution_count": 1,
   "metadata": {},
   "outputs": [
    {
     "data": {
      "text/html": [
       "<div>\n",
       "<style scoped>\n",
       "    .dataframe tbody tr th:only-of-type {\n",
       "        vertical-align: middle;\n",
       "    }\n",
       "\n",
       "    .dataframe tbody tr th {\n",
       "        vertical-align: top;\n",
       "    }\n",
       "\n",
       "    .dataframe thead th {\n",
       "        text-align: right;\n",
       "    }\n",
       "</style>\n",
       "<table border=\"1\" class=\"dataframe\">\n",
       "  <thead>\n",
       "    <tr style=\"text-align: right;\">\n",
       "      <th></th>\n",
       "      <th>callret-0</th>\n",
       "    </tr>\n",
       "  </thead>\n",
       "  <tbody>\n",
       "    <tr>\n",
       "      <th>0</th>\n",
       "      <td>1018</td>\n",
       "    </tr>\n",
       "  </tbody>\n",
       "</table>\n",
       "</div>"
      ],
      "text/plain": [
       "   callret-0\n",
       "0       1018"
      ]
     },
     "execution_count": 1,
     "metadata": {},
     "output_type": "execute_result"
    }
   ],
   "source": [
    "from sparql_dataframe import get\n",
    "endpoint = 'https://dati.cultura.gov.it/sparql'\n",
    "\n",
    "#count of all the cities\n",
    "query = '''\n",
    "SELECT COUNT(DISTINCT(?urlcity) as ?count) WHERE {\n",
    " ?s a cis:CulturalEvent;\n",
    "rdfs:label ?event.\n",
    "?s cis:isHostedBySite ?o.\n",
    "?o rdfs:label ?site.\n",
    "?o cis:siteAddress ?address.\n",
    "?address clvapit:hasCity ?urlcity.\n",
    "}\n",
    "'''\n",
    "CountCity = get(endpoint, query)\n",
    "CountCity"
   ]
  },
  {
   "cell_type": "code",
   "execution_count": 2,
   "metadata": {},
   "outputs": [
    {
     "data": {
      "text/html": [
       "<div>\n",
       "<style scoped>\n",
       "    .dataframe tbody tr th:only-of-type {\n",
       "        vertical-align: middle;\n",
       "    }\n",
       "\n",
       "    .dataframe tbody tr th {\n",
       "        vertical-align: top;\n",
       "    }\n",
       "\n",
       "    .dataframe thead th {\n",
       "        text-align: right;\n",
       "    }\n",
       "</style>\n",
       "<table border=\"1\" class=\"dataframe\">\n",
       "  <thead>\n",
       "    <tr style=\"text-align: right;\">\n",
       "      <th></th>\n",
       "      <th>callret-0</th>\n",
       "    </tr>\n",
       "  </thead>\n",
       "  <tbody>\n",
       "    <tr>\n",
       "      <th>0</th>\n",
       "      <td>797</td>\n",
       "    </tr>\n",
       "  </tbody>\n",
       "</table>\n",
       "</div>"
      ],
      "text/plain": [
       "   callret-0\n",
       "0        797"
      ]
     },
     "execution_count": 2,
     "metadata": {},
     "output_type": "execute_result"
    }
   ],
   "source": [
    "#count of all the cities\n",
    "query = '''\n",
    "SELECT COUNT(DISTINCT(?urlcity2) as ?count) WHERE {\n",
    " ?s a cis:CulturalEvent;\n",
    "rdfs:label ?event.\n",
    "?s cis:isHostedBySite ?o.\n",
    "?o rdfs:label ?site.\n",
    "?o cis:siteAddress ?address.\n",
    "?address clvapit:hasCity ?urlcity.\n",
    "?urlcity owl:sameAs ?urlcity2.\n",
    "}\n",
    "'''\n",
    "SecondUrlCount = get(endpoint, query)\n",
    "SecondUrlCount"
   ]
  },
  {
   "cell_type": "code",
   "execution_count": null,
   "metadata": {},
   "outputs": [],
   "source": [
    "#it works, N.B.: the link of the cities points with owl:sameAs always at another link of mibact of the same city. From this second link it is possible to retrieve the owl:sameAs link to dbpedia.\n",
    "#Some of the cities (few) have two dbpedia links, one to the city and one to the Province, but filtering them [FILTER(!contains(str(?dbpedia), \"Province\"))], they are less than the overall number, which means that probably some of them have only the Province link. \n",
    "#However, since we want to link the coordinates to the cultural event and not to the city we will leave it like this now.\n",
    "query = '''\n",
    "SELECT DISTINCT(?urlcity) ?urlcity2 ?dbpedia WHERE {\n",
    " ?s a cis:CulturalEvent;\n",
    "rdfs:label ?event.\n",
    "?s cis:isHostedBySite ?o.\n",
    "?o rdfs:label ?site.\n",
    "?o cis:siteAddress ?address.\n",
    "?address clvapit:hasCity ?urlcity.\n",
    "?urlcity owl:sameAs ?urlcity2.\n",
    "?urlcity2 owl:sameAs ?dbpedia.\n",
    "FILTER (contains(str(?dbpedia), \"dbpedia\"))\n",
    "}\n",
    "'''"
   ]
  },
  {
   "cell_type": "code",
   "execution_count": 3,
   "metadata": {},
   "outputs": [
    {
     "ename": "HTTPError",
     "evalue": "HTTP Error 409: Invalid path",
     "output_type": "error",
     "traceback": [
      "\u001b[1;31m---------------------------------------------------------------------------\u001b[0m",
      "\u001b[1;31mHTTPError\u001b[0m                                 Traceback (most recent call last)",
      "Cell \u001b[1;32mIn [3], line 23\u001b[0m\n\u001b[0;32m      2\u001b[0m endpoint \u001b[39m=\u001b[39m \u001b[39m'\u001b[39m\u001b[39mhttps://dati.cultura.gov.it/sparql\u001b[39m\u001b[39m'\u001b[39m\n\u001b[0;32m      4\u001b[0m query \u001b[39m=\u001b[39m \u001b[39m'''\u001b[39m\n\u001b[0;32m      5\u001b[0m \u001b[39mSELECT DISTINCT(?urlcity) ?lat ?long WHERE \u001b[39m\u001b[39m{\u001b[39m\n\u001b[0;32m      6\u001b[0m \u001b[39m ?s a cis:CulturalEvent;\u001b[39m\n\u001b[1;32m   (...)\u001b[0m\n\u001b[0;32m     20\u001b[0m \u001b[39m}\u001b[39m\n\u001b[0;32m     21\u001b[0m \u001b[39m'''\u001b[39m\n\u001b[1;32m---> 23\u001b[0m coordinates \u001b[39m=\u001b[39m get(endpoint, query, post\u001b[39m=\u001b[39;49m\u001b[39mTrue\u001b[39;49;00m)\n\u001b[0;32m     24\u001b[0m coordinates\n",
      "File \u001b[1;32mc:\\Users\\bianc\\AppData\\Local\\Programs\\Python\\Python310\\lib\\site-packages\\sparql_dataframe\\sparql_dataframe.py:29\u001b[0m, in \u001b[0;36mget_sparql_dataframe\u001b[1;34m(endpoint, query, post)\u001b[0m\n\u001b[0;32m     26\u001b[0m     sparql\u001b[39m.\u001b[39msetRequestMethod(POSTDIRECTLY)\n\u001b[0;32m     28\u001b[0m sparql\u001b[39m.\u001b[39msetReturnFormat(CSV)\n\u001b[1;32m---> 29\u001b[0m results \u001b[39m=\u001b[39m sparql\u001b[39m.\u001b[39;49mquery()\u001b[39m.\u001b[39mconvert()\n\u001b[0;32m     30\u001b[0m _csv \u001b[39m=\u001b[39m StringIO(results\u001b[39m.\u001b[39mdecode(\u001b[39m'\u001b[39m\u001b[39mutf-8\u001b[39m\u001b[39m'\u001b[39m))\n\u001b[0;32m     31\u001b[0m \u001b[39mreturn\u001b[39;00m pd\u001b[39m.\u001b[39mread_csv(_csv, sep\u001b[39m=\u001b[39m\u001b[39m\"\u001b[39m\u001b[39m,\u001b[39m\u001b[39m\"\u001b[39m)\n",
      "File \u001b[1;32mc:\\Users\\bianc\\AppData\\Local\\Programs\\Python\\Python310\\lib\\site-packages\\SPARQLWrapper\\Wrapper.py:960\u001b[0m, in \u001b[0;36mSPARQLWrapper.query\u001b[1;34m(self)\u001b[0m\n\u001b[0;32m    942\u001b[0m \u001b[39mdef\u001b[39;00m \u001b[39mquery\u001b[39m(\u001b[39mself\u001b[39m) \u001b[39m-\u001b[39m\u001b[39m>\u001b[39m \u001b[39m\"\u001b[39m\u001b[39mQueryResult\u001b[39m\u001b[39m\"\u001b[39m:\n\u001b[0;32m    943\u001b[0m     \u001b[39m\"\"\"\u001b[39;00m\n\u001b[0;32m    944\u001b[0m \u001b[39m    Execute the query.\u001b[39;00m\n\u001b[0;32m    945\u001b[0m \u001b[39m    Exceptions can be raised if either the URI is wrong or the HTTP sends back an error (this is also the\u001b[39;00m\n\u001b[1;32m   (...)\u001b[0m\n\u001b[0;32m    958\u001b[0m \u001b[39m    :rtype: :class:`QueryResult` instance\u001b[39;00m\n\u001b[0;32m    959\u001b[0m \u001b[39m    \"\"\"\u001b[39;00m\n\u001b[1;32m--> 960\u001b[0m     \u001b[39mreturn\u001b[39;00m QueryResult(\u001b[39mself\u001b[39;49m\u001b[39m.\u001b[39;49m_query())\n",
      "File \u001b[1;32mc:\\Users\\bianc\\AppData\\Local\\Programs\\Python\\Python310\\lib\\site-packages\\SPARQLWrapper\\Wrapper.py:940\u001b[0m, in \u001b[0;36mSPARQLWrapper._query\u001b[1;34m(self)\u001b[0m\n\u001b[0;32m    938\u001b[0m     \u001b[39mraise\u001b[39;00m EndPointInternalError(e\u001b[39m.\u001b[39mread())\n\u001b[0;32m    939\u001b[0m \u001b[39melse\u001b[39;00m:\n\u001b[1;32m--> 940\u001b[0m     \u001b[39mraise\u001b[39;00m e\n",
      "File \u001b[1;32mc:\\Users\\bianc\\AppData\\Local\\Programs\\Python\\Python310\\lib\\site-packages\\SPARQLWrapper\\Wrapper.py:926\u001b[0m, in \u001b[0;36mSPARQLWrapper._query\u001b[1;34m(self)\u001b[0m\n\u001b[0;32m    924\u001b[0m         response \u001b[39m=\u001b[39m urlopener(request, timeout\u001b[39m=\u001b[39m\u001b[39mself\u001b[39m\u001b[39m.\u001b[39mtimeout)\n\u001b[0;32m    925\u001b[0m     \u001b[39melse\u001b[39;00m:\n\u001b[1;32m--> 926\u001b[0m         response \u001b[39m=\u001b[39m urlopener(request)\n\u001b[0;32m    927\u001b[0m     \u001b[39mreturn\u001b[39;00m response, \u001b[39mself\u001b[39m\u001b[39m.\u001b[39mreturnFormat\n\u001b[0;32m    928\u001b[0m \u001b[39mexcept\u001b[39;00m urllib\u001b[39m.\u001b[39merror\u001b[39m.\u001b[39mHTTPError \u001b[39mas\u001b[39;00m e:\n",
      "File \u001b[1;32mc:\\Users\\bianc\\AppData\\Local\\Programs\\Python\\Python310\\lib\\urllib\\request.py:216\u001b[0m, in \u001b[0;36murlopen\u001b[1;34m(url, data, timeout, cafile, capath, cadefault, context)\u001b[0m\n\u001b[0;32m    214\u001b[0m \u001b[39melse\u001b[39;00m:\n\u001b[0;32m    215\u001b[0m     opener \u001b[39m=\u001b[39m _opener\n\u001b[1;32m--> 216\u001b[0m \u001b[39mreturn\u001b[39;00m opener\u001b[39m.\u001b[39;49mopen(url, data, timeout)\n",
      "File \u001b[1;32mc:\\Users\\bianc\\AppData\\Local\\Programs\\Python\\Python310\\lib\\urllib\\request.py:525\u001b[0m, in \u001b[0;36mOpenerDirector.open\u001b[1;34m(self, fullurl, data, timeout)\u001b[0m\n\u001b[0;32m    523\u001b[0m \u001b[39mfor\u001b[39;00m processor \u001b[39min\u001b[39;00m \u001b[39mself\u001b[39m\u001b[39m.\u001b[39mprocess_response\u001b[39m.\u001b[39mget(protocol, []):\n\u001b[0;32m    524\u001b[0m     meth \u001b[39m=\u001b[39m \u001b[39mgetattr\u001b[39m(processor, meth_name)\n\u001b[1;32m--> 525\u001b[0m     response \u001b[39m=\u001b[39m meth(req, response)\n\u001b[0;32m    527\u001b[0m \u001b[39mreturn\u001b[39;00m response\n",
      "File \u001b[1;32mc:\\Users\\bianc\\AppData\\Local\\Programs\\Python\\Python310\\lib\\urllib\\request.py:634\u001b[0m, in \u001b[0;36mHTTPErrorProcessor.http_response\u001b[1;34m(self, request, response)\u001b[0m\n\u001b[0;32m    631\u001b[0m \u001b[39m# According to RFC 2616, \"2xx\" code indicates that the client's\u001b[39;00m\n\u001b[0;32m    632\u001b[0m \u001b[39m# request was successfully received, understood, and accepted.\u001b[39;00m\n\u001b[0;32m    633\u001b[0m \u001b[39mif\u001b[39;00m \u001b[39mnot\u001b[39;00m (\u001b[39m200\u001b[39m \u001b[39m<\u001b[39m\u001b[39m=\u001b[39m code \u001b[39m<\u001b[39m \u001b[39m300\u001b[39m):\n\u001b[1;32m--> 634\u001b[0m     response \u001b[39m=\u001b[39m \u001b[39mself\u001b[39;49m\u001b[39m.\u001b[39;49mparent\u001b[39m.\u001b[39;49merror(\n\u001b[0;32m    635\u001b[0m         \u001b[39m'\u001b[39;49m\u001b[39mhttp\u001b[39;49m\u001b[39m'\u001b[39;49m, request, response, code, msg, hdrs)\n\u001b[0;32m    637\u001b[0m \u001b[39mreturn\u001b[39;00m response\n",
      "File \u001b[1;32mc:\\Users\\bianc\\AppData\\Local\\Programs\\Python\\Python310\\lib\\urllib\\request.py:563\u001b[0m, in \u001b[0;36mOpenerDirector.error\u001b[1;34m(self, proto, *args)\u001b[0m\n\u001b[0;32m    561\u001b[0m \u001b[39mif\u001b[39;00m http_err:\n\u001b[0;32m    562\u001b[0m     args \u001b[39m=\u001b[39m (\u001b[39mdict\u001b[39m, \u001b[39m'\u001b[39m\u001b[39mdefault\u001b[39m\u001b[39m'\u001b[39m, \u001b[39m'\u001b[39m\u001b[39mhttp_error_default\u001b[39m\u001b[39m'\u001b[39m) \u001b[39m+\u001b[39m orig_args\n\u001b[1;32m--> 563\u001b[0m     \u001b[39mreturn\u001b[39;00m \u001b[39mself\u001b[39;49m\u001b[39m.\u001b[39;49m_call_chain(\u001b[39m*\u001b[39;49margs)\n",
      "File \u001b[1;32mc:\\Users\\bianc\\AppData\\Local\\Programs\\Python\\Python310\\lib\\urllib\\request.py:496\u001b[0m, in \u001b[0;36mOpenerDirector._call_chain\u001b[1;34m(self, chain, kind, meth_name, *args)\u001b[0m\n\u001b[0;32m    494\u001b[0m \u001b[39mfor\u001b[39;00m handler \u001b[39min\u001b[39;00m handlers:\n\u001b[0;32m    495\u001b[0m     func \u001b[39m=\u001b[39m \u001b[39mgetattr\u001b[39m(handler, meth_name)\n\u001b[1;32m--> 496\u001b[0m     result \u001b[39m=\u001b[39m func(\u001b[39m*\u001b[39;49margs)\n\u001b[0;32m    497\u001b[0m     \u001b[39mif\u001b[39;00m result \u001b[39mis\u001b[39;00m \u001b[39mnot\u001b[39;00m \u001b[39mNone\u001b[39;00m:\n\u001b[0;32m    498\u001b[0m         \u001b[39mreturn\u001b[39;00m result\n",
      "File \u001b[1;32mc:\\Users\\bianc\\AppData\\Local\\Programs\\Python\\Python310\\lib\\urllib\\request.py:643\u001b[0m, in \u001b[0;36mHTTPDefaultErrorHandler.http_error_default\u001b[1;34m(self, req, fp, code, msg, hdrs)\u001b[0m\n\u001b[0;32m    642\u001b[0m \u001b[39mdef\u001b[39;00m \u001b[39mhttp_error_default\u001b[39m(\u001b[39mself\u001b[39m, req, fp, code, msg, hdrs):\n\u001b[1;32m--> 643\u001b[0m     \u001b[39mraise\u001b[39;00m HTTPError(req\u001b[39m.\u001b[39mfull_url, code, msg, hdrs, fp)\n",
      "\u001b[1;31mHTTPError\u001b[0m: HTTP Error 409: Invalid path"
     ]
    }
   ],
   "source": [
    "from sparql_dataframe import get\n",
    "endpoint = 'https://dati.cultura.gov.it/sparql'\n",
    "\n",
    "query = '''\n",
    "SELECT DISTINCT(?urlcity) ?lat ?long WHERE {\n",
    " ?s a cis:CulturalEvent;\n",
    "rdfs:label ?event.\n",
    "?s cis:isHostedBySite ?o.\n",
    "?o rdfs:label ?site.\n",
    "?o cis:siteAddress ?address.\n",
    "?address clvapit:hasCity ?urlcity.\n",
    "?urlcity owl:sameAs ?urlcity2.\n",
    "?urlcity2 owl:sameAs ?dbpedia.\n",
    "FILTER (contains(str(?dbpedia), \"dbpedia\"))\n",
    "\n",
    "  SERVICE <https://dbpedia.org/sparql> {\n",
    "    ?dbpedia geo:lat ?lat;\n",
    "     geo:long ?long .\n",
    "  }\n",
    "}\n",
    "'''\n",
    "\n",
    "coordinates = get(endpoint, query, post=True)\n",
    "coordinates"
   ]
  }
 ],
 "metadata": {
  "kernelspec": {
   "display_name": "Python 3",
   "language": "python",
   "name": "python3"
  },
  "language_info": {
   "codemirror_mode": {
    "name": "ipython",
    "version": 3
   },
   "file_extension": ".py",
   "mimetype": "text/x-python",
   "name": "python",
   "nbconvert_exporter": "python",
   "pygments_lexer": "ipython3",
   "version": "3.10.7"
  },
  "orig_nbformat": 4,
  "vscode": {
   "interpreter": {
    "hash": "909775f4c1c1337c10dd26386ad7fdd8e68c24cfe611dcacc1a198b9e09c3e1f"
   }
  }
 },
 "nbformat": 4,
 "nbformat_minor": 2
}
