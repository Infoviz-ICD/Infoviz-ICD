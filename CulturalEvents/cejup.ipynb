{
 "cells": [
  {
   "cell_type": "code",
   "execution_count": 10,
   "metadata": {},
   "outputs": [],
   "source": [
    "import sparql_dataframe\n",
    "\n",
    "from SPARQLWrapper import SPARQLWrapper, JSON\n",
    "import ssl\n",
    "\n",
    "ssl._create_default_https_context = ssl._create_unverified_context\n",
    "\n",
    "endpoint = 'https://dati.cultura.gov.it/sparql'\n",
    "\n",
    "query_culture_events = \"\"\"\n",
    "PREFIX cis: <http://dati.beniculturali.it/cis/>\n",
    "PREFIX arco: <https://w3id.org/arco/ontology/arco/>\n",
    "PREFIX clvapit:<https://w3id.org/italia/onto/CLV/>\n",
    "\n",
    "SELECT DISTINCT ?s ?event ?o ?site ?urlcity ?city WHERE {\n",
    " ?s a cis:CulturalEvent;\n",
    "rdfs:label ?event.\n",
    "?s cis:isHostedBySite ?o.\n",
    "?o rdfs:label ?site.\n",
    "?o cis:siteAddress ?address.\n",
    "?address clvapit:hasCity ?urlcity.\n",
    "?urlcity rdfs:label ?city\n",
    "}\n",
    "\"\"\""
   ]
  },
  {
   "cell_type": "code",
   "execution_count": 11,
   "metadata": {},
   "outputs": [],
   "source": [
    "df = sparql_dataframe.get(endpoint, query_culture_events)"
   ]
  },
  {
   "cell_type": "code",
   "execution_count": 12,
   "metadata": {},
   "outputs": [
    {
     "name": "stdout",
     "output_type": "stream",
     "text": [
      "                                                       s  \\\n",
      "0      http://dati.beniculturali.it/mibact/eventi/res...   \n",
      "1      http://dati.beniculturali.it/mibact/eventi/res...   \n",
      "2      http://dati.beniculturali.it/mibact/eventi/res...   \n",
      "3      http://dati.beniculturali.it/mibact/eventi/res...   \n",
      "4      http://dati.beniculturali.it/mibact/eventi/res...   \n",
      "...                                                  ...   \n",
      "21163  http://dati.beniculturali.it/mibact/eventi/res...   \n",
      "21164  http://dati.beniculturali.it/mibact/eventi/res...   \n",
      "21165  http://dati.beniculturali.it/mibact/eventi/res...   \n",
      "21166  http://dati.beniculturali.it/mibact/eventi/res...   \n",
      "21167  http://dati.beniculturali.it/mibact/eventi/res...   \n",
      "\n",
      "                                                   event  \\\n",
      "0      “Un brindisi per l’eternità”, all'Antiquarium ...   \n",
      "1      Giornate Europee del Patrimonio 2022 al Museo ...   \n",
      "2              La storia ragionevole dei Bronzi di Riace   \n",
      "3      Osservando le mura aureliane: una passeggiata ...   \n",
      "4      PATRIMONIO CULTURALE: BENI MATERIALI E BENI IM...   \n",
      "...                                                  ...   \n",
      "21163  Domenica 4 dicembre 2022 la Biblioteca aprirà ...   \n",
      "21164                        Voci diverse, dolci melodie   \n",
      "21165      Fatti di Pier Paolo Pasolini e Roberto Longhi   \n",
      "21166  Fatti di Pier Paolo Pasolini e Roberto Longhi_...   \n",
      "21167                            A lezione in Pinacoteca   \n",
      "\n",
      "                                                       o  \\\n",
      "0      http://dati.beniculturali.it/mibact/eventi/res...   \n",
      "1      http://dati.beniculturali.it/mibact/eventi/res...   \n",
      "2      http://dati.beniculturali.it/mibact/eventi/res...   \n",
      "3      http://dati.beniculturali.it/mibact/eventi/res...   \n",
      "4      http://dati.beniculturali.it/mibact/eventi/res...   \n",
      "...                                                  ...   \n",
      "21163  http://dati.beniculturali.it/mibact/eventi/res...   \n",
      "21164  http://dati.beniculturali.it/mibact/eventi/res...   \n",
      "21165  http://dati.beniculturali.it/mibact/eventi/res...   \n",
      "21166  http://dati.beniculturali.it/mibact/eventi/res...   \n",
      "21167  http://dati.beniculturali.it/mibact/eventi/res...   \n",
      "\n",
      "                                                    site  \\\n",
      "0                  Sede di Antiquarium statale di Numana   \n",
      "1      Sede di Soprintendenza Archeologia, Belle Arti...   \n",
      "2      Sede di Museo archeologico nazionale di Reggio...   \n",
      "3      Sede di Direzione Musei Statali della Città di...   \n",
      "4      Sede di Museo archeologico nazionale di Reggio...   \n",
      "...                                                  ...   \n",
      "21163   Sede di Biblioteca Nazionale Marciana di Venezia   \n",
      "21164  Sede di Museo archeologico nazionale della Val...   \n",
      "21165            Sede di Pinacoteca Nazionale di Bologna   \n",
      "21166            Sede di Pinacoteca Nazionale di Bologna   \n",
      "21167            Sede di Pinacoteca Nazionale di Bologna   \n",
      "\n",
      "                                                 urlcity                city  \n",
      "0      http://dati.beniculturali.it/mibact/eventi/res...              Numana  \n",
      "1      http://dati.beniculturali.it/mibact/eventi/res...               Lecce  \n",
      "2      http://dati.beniculturali.it/mibact/eventi/res...  Reggio di Calabria  \n",
      "3      http://dati.beniculturali.it/mibact/eventi/res...                Roma  \n",
      "4      http://dati.beniculturali.it/mibact/eventi/res...  Reggio di Calabria  \n",
      "...                                                  ...                 ...  \n",
      "21163  http://dati.beniculturali.it/mibact/eventi/res...             Venezia  \n",
      "21164  http://dati.beniculturali.it/mibact/eventi/res...               Sarno  \n",
      "21165  http://dati.beniculturali.it/mibact/eventi/res...             Bologna  \n",
      "21166  http://dati.beniculturali.it/mibact/eventi/res...             Bologna  \n",
      "21167  http://dati.beniculturali.it/mibact/eventi/res...             Bologna  \n",
      "\n",
      "[21168 rows x 6 columns]\n"
     ]
    }
   ],
   "source": [
    "print(df)"
   ]
  },
  {
   "cell_type": "code",
   "execution_count": 23,
   "metadata": {},
   "outputs": [],
   "source": [
    "df=df.drop_duplicates([\"s\", \"o\"])"
   ]
  },
  {
   "cell_type": "code",
   "execution_count": 24,
   "metadata": {},
   "outputs": [],
   "source": [
    "df.to_csv(\"/Users/martinapensalfini/Desktop/infowiz/cleancefile.csv\")"
   ]
  },
  {
   "cell_type": "code",
   "execution_count": 25,
   "metadata": {},
   "outputs": [
    {
     "name": "stdout",
     "output_type": "stream",
     "text": [
      "0                    Numana\n",
      "1                     Lecce\n",
      "2        Reggio di Calabria\n",
      "3                      Roma\n",
      "4        Reggio di Calabria\n",
      "                ...        \n",
      "21163               Venezia\n",
      "21164                 Sarno\n",
      "21165               Bologna\n",
      "21166               Bologna\n",
      "21167               Bologna\n",
      "Name: city, Length: 21101, dtype: object\n"
     ]
    }
   ],
   "source": [
    "df_city=df[\"city\"]\n",
    "print(df_city)"
   ]
  },
  {
   "cell_type": "code",
   "execution_count": 26,
   "metadata": {},
   "outputs": [
    {
     "name": "stdout",
     "output_type": "stream",
     "text": [
      "{'Bologna': 198}\n"
     ]
    }
   ],
   "source": [
    "counts = dict()\n",
    "for i in df[\"city\"]:\n",
    "    if i==\"Bologna\":\n",
    "        counts[i] = counts.get(i, 0) + 1\n",
    "print(counts)\n"
   ]
  },
  {
   "cell_type": "code",
   "execution_count": 27,
   "metadata": {},
   "outputs": [
    {
     "name": "stdout",
     "output_type": "stream",
     "text": [
      "{'Zogno': 2}\n"
     ]
    }
   ],
   "source": [
    "counts = dict()\n",
    "for i in df[\"city\"]:\n",
    "    if i==\"Zogno\":\n",
    "        counts[i] = counts.get(i, 0) + 1\n",
    "print(counts)"
   ]
  },
  {
   "cell_type": "code",
   "execution_count": 28,
   "metadata": {},
   "outputs": [
    {
     "name": "stdout",
     "output_type": "stream",
     "text": [
      "{'Amalfi': 2}\n"
     ]
    }
   ],
   "source": [
    "counts = dict()\n",
    "for i in df[\"city\"]:\n",
    "    if i==\"Amalfi\":\n",
    "        counts[i] = counts.get(i, 0) + 1\n",
    "print(counts)"
   ]
  },
  {
   "cell_type": "code",
   "execution_count": 29,
   "metadata": {},
   "outputs": [
    {
     "name": "stdout",
     "output_type": "stream",
     "text": [
      "{'Buddusò': 1}\n"
     ]
    }
   ],
   "source": [
    "counts = dict()\n",
    "for i in df[\"city\"]:\n",
    "    if i==\"Buddusò\":\n",
    "        counts[i] = counts.get(i, 0) + 1\n",
    "print(counts)"
   ]
  },
  {
   "cell_type": "code",
   "execution_count": 6,
   "metadata": {},
   "outputs": [],
   "source": [
    "import sparql_dataframe\n",
    "\n",
    "from SPARQLWrapper import SPARQLWrapper, JSON\n",
    "import ssl\n",
    "\n",
    "ssl._create_default_https_context = ssl._create_unverified_context\n",
    "\n",
    "endpoint = 'https://dati.cultura.gov.it/sparql'\n",
    "\n",
    "query_site = \"\"\"\n",
    "PREFIX cis: <http://dati.beniculturali.it/cis/>\n",
    "PREFIX arco: <https://w3id.org/arco/ontology/arco/>\n",
    "PREFIX clvapit:<https://w3id.org/italia/onto/CLV/>\n",
    "\n",
    "SELECT DISTINCT (count (?o) as ?count) ?site WHERE {\n",
    " ?s a cis:CulturalEvent;\n",
    "rdfs:label ?event.\n",
    "?s cis:isHostedBySite ?o.\n",
    "?o rdfs:label ?site.\n",
    "?o cis:siteAddress ?address.\n",
    "?address clvapit:hasCity ?urlcity.\n",
    "?urlcity rdfs:label ?city\n",
    "}\n",
    "\"\"\""
   ]
  },
  {
   "cell_type": "code",
   "execution_count": 7,
   "metadata": {},
   "outputs": [],
   "source": [
    "df = sparql_dataframe.get(endpoint, query_site)"
   ]
  },
  {
   "cell_type": "code",
   "execution_count": 11,
   "metadata": {},
   "outputs": [],
   "source": [
    "df.to_csv(\"numbersite.csv\")"
   ]
  },
  {
   "cell_type": "code",
   "execution_count": 10,
   "metadata": {},
   "outputs": [],
   "source": [
    "import sparql_dataframe\n",
    "\n",
    "from SPARQLWrapper import SPARQLWrapper, JSON\n",
    "import ssl\n",
    "\n",
    "ssl._create_default_https_context = ssl._create_unverified_context\n",
    "\n",
    "endpoint = 'https://dati.cultura.gov.it/sparql'\n",
    "\n",
    "query_city = \"\"\"\n",
    "PREFIX cis: <http://dati.beniculturali.it/cis/>\n",
    "PREFIX arco: <https://w3id.org/arco/ontology/arco/>\n",
    "PREFIX clvapit:<https://w3id.org/italia/onto/CLV/>\n",
    "\n",
    "SELECT DISTINCT (count (?s) as ?count) ?city WHERE {\n",
    " ?s a cis:CulturalEvent;\n",
    "rdfs:label ?event.\n",
    "?s cis:isHostedBySite ?o.\n",
    "?o rdfs:label ?site.\n",
    "?o cis:siteAddress ?address.\n",
    "?address clvapit:hasCity ?urlcity.\n",
    "?urlcity rdfs:label ?city\n",
    "}\n",
    "\"\"\""
   ]
  },
  {
   "cell_type": "code",
   "execution_count": 12,
   "metadata": {},
   "outputs": [],
   "source": [
    "df = sparql_dataframe.get(endpoint, query_city)"
   ]
  },
  {
   "cell_type": "code",
   "execution_count": 13,
   "metadata": {},
   "outputs": [],
   "source": [
    "df.to_csv(\"numbercity.csv\")"
   ]
  },
  {
   "cell_type": "code",
   "execution_count": 15,
   "metadata": {},
   "outputs": [],
   "source": [
    "endpoint = 'https://dati.cultura.gov.it/sparql'\n",
    "\n",
    "query = '''\n",
    "SELECT DISTINCT(?urlcity2) ?dbCity WHERE {\n",
    " ?s a cis:CulturalEvent;\n",
    "rdfs:label ?event.\n",
    "?s cis:isHostedBySite ?o.\n",
    "?o rdfs:label ?site.\n",
    "?o cis:siteAddress ?address.\n",
    "?address clvapit:hasCity ?urlcity.\n",
    "?urlcity owl:sameAs ?urlcity2.\n",
    "?urlcity2 owl:sameAs ?dbCity. \n",
    "FILTER(contains (str(?dbCity), \"dbpedia\") )\n",
    "}\n",
    "'''"
   ]
  },
  {
   "cell_type": "code",
   "execution_count": 16,
   "metadata": {},
   "outputs": [],
   "source": [
    "df = sparql_dataframe.get(endpoint, query)"
   ]
  },
  {
   "cell_type": "code",
   "execution_count": 17,
   "metadata": {},
   "outputs": [
    {
     "data": {
      "text/html": [
       "<div>\n",
       "<style scoped>\n",
       "    .dataframe tbody tr th:only-of-type {\n",
       "        vertical-align: middle;\n",
       "    }\n",
       "\n",
       "    .dataframe tbody tr th {\n",
       "        vertical-align: top;\n",
       "    }\n",
       "\n",
       "    .dataframe thead th {\n",
       "        text-align: right;\n",
       "    }\n",
       "</style>\n",
       "<table border=\"1\" class=\"dataframe\">\n",
       "  <thead>\n",
       "    <tr style=\"text-align: right;\">\n",
       "      <th></th>\n",
       "      <th>urlcity2</th>\n",
       "      <th>dbCity</th>\n",
       "    </tr>\n",
       "  </thead>\n",
       "  <tbody>\n",
       "    <tr>\n",
       "      <th>0</th>\n",
       "      <td>http://dati.beniculturali.it/mibact/luoghi/res...</td>\n",
       "      <td>http://dbpedia.org/resource/Besenello</td>\n",
       "    </tr>\n",
       "    <tr>\n",
       "      <th>1</th>\n",
       "      <td>http://dati.beniculturali.it/mibact/luoghi/res...</td>\n",
       "      <td>http://dbpedia.org/resource/Calci</td>\n",
       "    </tr>\n",
       "    <tr>\n",
       "      <th>2</th>\n",
       "      <td>http://dati.beniculturali.it/mibact/luoghi/res...</td>\n",
       "      <td>http://dbpedia.org/resource/Carmignano</td>\n",
       "    </tr>\n",
       "    <tr>\n",
       "      <th>3</th>\n",
       "      <td>http://dati.beniculturali.it/mibact/luoghi/res...</td>\n",
       "      <td>http://dbpedia.org/resource/Cetona</td>\n",
       "    </tr>\n",
       "    <tr>\n",
       "      <th>4</th>\n",
       "      <td>http://dati.beniculturali.it/mibact/luoghi/res...</td>\n",
       "      <td>http://dbpedia.org/resource/Chiusi</td>\n",
       "    </tr>\n",
       "    <tr>\n",
       "      <th>...</th>\n",
       "      <td>...</td>\n",
       "      <td>...</td>\n",
       "    </tr>\n",
       "    <tr>\n",
       "      <th>789</th>\n",
       "      <td>http://dati.beniculturali.it/mibact/luoghi/res...</td>\n",
       "      <td>http://dbpedia.org/resource/Casalciprano</td>\n",
       "    </tr>\n",
       "    <tr>\n",
       "      <th>790</th>\n",
       "      <td>http://dati.beniculturali.it/mibact/luoghi/res...</td>\n",
       "      <td>http://dbpedia.org/resource/Monterosso_Grana</td>\n",
       "    </tr>\n",
       "    <tr>\n",
       "      <th>791</th>\n",
       "      <td>http://dati.beniculturali.it/mibact/luoghi/res...</td>\n",
       "      <td>http://dbpedia.org/resource/Castrocielo</td>\n",
       "    </tr>\n",
       "    <tr>\n",
       "      <th>792</th>\n",
       "      <td>http://dati.beniculturali.it/mibact/luoghi/res...</td>\n",
       "      <td>http://dbpedia.org/resource/Lu_e_Cuccaro_Monfe...</td>\n",
       "    </tr>\n",
       "    <tr>\n",
       "      <th>793</th>\n",
       "      <td>http://dati.beniculturali.it/mibact/luoghi/res...</td>\n",
       "      <td>http://dbpedia.org/resource/Sinnai</td>\n",
       "    </tr>\n",
       "  </tbody>\n",
       "</table>\n",
       "<p>794 rows × 2 columns</p>\n",
       "</div>"
      ],
      "text/plain": [
       "                                              urlcity2  \\\n",
       "0    http://dati.beniculturali.it/mibact/luoghi/res...   \n",
       "1    http://dati.beniculturali.it/mibact/luoghi/res...   \n",
       "2    http://dati.beniculturali.it/mibact/luoghi/res...   \n",
       "3    http://dati.beniculturali.it/mibact/luoghi/res...   \n",
       "4    http://dati.beniculturali.it/mibact/luoghi/res...   \n",
       "..                                                 ...   \n",
       "789  http://dati.beniculturali.it/mibact/luoghi/res...   \n",
       "790  http://dati.beniculturali.it/mibact/luoghi/res...   \n",
       "791  http://dati.beniculturali.it/mibact/luoghi/res...   \n",
       "792  http://dati.beniculturali.it/mibact/luoghi/res...   \n",
       "793  http://dati.beniculturali.it/mibact/luoghi/res...   \n",
       "\n",
       "                                                dbCity  \n",
       "0                http://dbpedia.org/resource/Besenello  \n",
       "1                    http://dbpedia.org/resource/Calci  \n",
       "2               http://dbpedia.org/resource/Carmignano  \n",
       "3                   http://dbpedia.org/resource/Cetona  \n",
       "4                   http://dbpedia.org/resource/Chiusi  \n",
       "..                                                 ...  \n",
       "789           http://dbpedia.org/resource/Casalciprano  \n",
       "790       http://dbpedia.org/resource/Monterosso_Grana  \n",
       "791            http://dbpedia.org/resource/Castrocielo  \n",
       "792  http://dbpedia.org/resource/Lu_e_Cuccaro_Monfe...  \n",
       "793                 http://dbpedia.org/resource/Sinnai  \n",
       "\n",
       "[794 rows x 2 columns]"
      ]
     },
     "execution_count": 17,
     "metadata": {},
     "output_type": "execute_result"
    }
   ],
   "source": [
    "df"
   ]
  }
 ],
 "metadata": {
  "kernelspec": {
   "display_name": "Python 3",
   "language": "python",
   "name": "python3"
  },
  "language_info": {
   "codemirror_mode": {
    "name": "ipython",
    "version": 3
   },
   "file_extension": ".py",
   "mimetype": "text/x-python",
   "name": "python",
   "nbconvert_exporter": "python",
   "pygments_lexer": "ipython3",
   "version": "3.10.0"
  },
  "orig_nbformat": 4,
  "vscode": {
   "interpreter": {
    "hash": "aee8b7b246df8f9039afb4144a1f6fd8d2ca17a180786b69acc140d282b71a49"
   }
  }
 },
 "nbformat": 4,
 "nbformat_minor": 2
}
