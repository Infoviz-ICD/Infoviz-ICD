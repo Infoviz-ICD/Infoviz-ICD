{
 "cells": [
  {
   "attachments": {},
   "cell_type": "markdown",
   "metadata": {},
   "source": [
    "## Dataset Exploration\n",
    "First of all we try to get information about the structure of the dataset, by exploring the T-Box (Terminological Box). "
   ]
  },
  {
   "cell_type": "code",
   "execution_count": null,
   "metadata": {},
   "outputs": [],
   "source": [
    "#count of all the triples in the dataset\n",
    "import sparql_dataframe\n",
    "endpoint = 'https://dati.cultura.gov.it/sparql'\n",
    "\n",
    "query_triple_count = '''\n",
    "    SELECT (COUNT (*) AS ?tripleCount) \n",
    "    WHERE {\n",
    "        ?s ?p ?o .\n",
    "    }\n",
    "'''\n",
    "\n",
    "df = sparql_dataframe.get(endpoint, query_triple_count)\n",
    "print(f'The total number of triples is:\\n {df}')"
   ]
  },
  {
   "attachments": {},
   "cell_type": "markdown",
   "metadata": {},
   "source": [
    "### Predicates\n",
    "Then we procede by obtaining the predicates and the number of their occurrences."
   ]
  },
  {
   "cell_type": "code",
   "execution_count": null,
   "metadata": {},
   "outputs": [],
   "source": [
    "#the number of predicates\n",
    "query_predicate_repetition = '''\n",
    "    SELECT ?p (COUNT(?p) AS ?predicate)\n",
    "    WHERE { \n",
    "    ?s ?p ?o .\n",
    "    }\n",
    "    GROUP BY ?p\n",
    "    ORDER BY DESC(?predicate)\n",
    "'''\n",
    "\n",
    "df = sparql_dataframe.get(endpoint, query_predicate_repetition)\n",
    "df.to_csv(\"numberOfPredicates.csv\")"
   ]
  },
  {
   "attachments": {},
   "cell_type": "markdown",
   "metadata": {},
   "source": [
    "### Classes\n",
    "Furthermore we retrieve all the classes, defined both with the type rdfs:Class and owl:Class. Since the dataset is composed by sub-dataset we expect classes defined with both the types."
   ]
  },
  {
   "cell_type": "code",
   "execution_count": null,
   "metadata": {},
   "outputs": [],
   "source": [
    "#all the classes expressed with the type rdfs:Class.\n",
    "query_classes = '''\n",
    "    PREFIX rdfs: <http://www.w3.org/2000/01/rdf-schema#>\n",
    "    SELECT DISTINCT ?c\n",
    "    WHERE {\n",
    "        ?c a rdfs:Class .\n",
    "    }\n",
    "    ORDER BY ?c\n",
    "'''\n",
    "df = sparql_dataframe.get(endpoint, query_classes)\n",
    "df.to_csv(\"Classes(rdfs).csv\")"
   ]
  },
  {
   "cell_type": "code",
   "execution_count": null,
   "metadata": {},
   "outputs": [],
   "source": [
    "#all the classes expressed with the type owl:Class.\n",
    "query_classes = '''\n",
    "    PREFIX owl: <http://www.w3.org/2002/07/owl#>\n",
    "    SELECT DISTINCT ?c\n",
    "    WHERE {\n",
    "        ?c a owl:Class .\n",
    "    }\n",
    "    ORDER BY ?c\n",
    "'''\n",
    "df = sparql_dataframe.get(endpoint, query_classes)\n",
    "df.to_csv(\"Classes(owl).csv\")"
   ]
  },
  {
   "attachments": {},
   "cell_type": "markdown",
   "metadata": {},
   "source": [
    "### Concepts\n",
    "Since this dataset could have incorporated other dataset which have their own definition of classes, we have tried also to make a list of the concepts, by extracting every concept that describes a subject, through the property rdfs:type (or a)."
   ]
  },
  {
   "cell_type": "code",
   "execution_count": null,
   "metadata": {},
   "outputs": [],
   "source": [
    "query_concept = '''\n",
    "    SELECT DISTINCT ?concept \n",
    "    WHERE {\n",
    "    ?s a ?concept .\n",
    "    }\n",
    "'''\n",
    "df = sparql_dataframe.get(endpoint, query_concept)\n",
    "df.to_csv(\"Concepts.csv\")"
   ]
  }
 ],
 "metadata": {
  "kernelspec": {
   "display_name": "Python 3",
   "language": "python",
   "name": "python3"
  },
  "language_info": {
   "name": "python",
   "version": "3.10.7 (tags/v3.10.7:6cc6b13, Sep  5 2022, 14:08:36) [MSC v.1933 64 bit (AMD64)]"
  },
  "orig_nbformat": 4,
  "vscode": {
   "interpreter": {
    "hash": "909775f4c1c1337c10dd26386ad7fdd8e68c24cfe611dcacc1a198b9e09c3e1f"
   }
  }
 },
 "nbformat": 4,
 "nbformat_minor": 2
}
