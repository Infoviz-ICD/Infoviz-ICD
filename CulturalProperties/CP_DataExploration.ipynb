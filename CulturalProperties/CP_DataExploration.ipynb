{
 "cells": [
  {
   "attachments": {},
   "cell_type": "markdown",
   "metadata": {},
   "source": [
    "## Cultural Properties\n",
    "Arco ontology tries to give the widest representation of italian cultural heritage, inglobing all the main classifications provided by international organizations. However, since our analysis aims at the exploration of all the italian cultural sites, not all the cultural heritage will be included in the data we will extract. We have identified two main predicates that will be able to filter cultural heritage, e.g. natural heritage, that does not give information about cultural sites, and these are: \n",
    "- a-loc:hasCulturalInstituteOrSite: it links a cultural property to the cultural institute or site that is its juridical collocation.\n",
    "- a-cd:isLocationOf: it links one cultural property to another one that is its collocation."
   ]
  },
  {
   "cell_type": "code",
   "execution_count": 2,
   "metadata": {},
   "outputs": [],
   "source": [
    "from sparql_dataframe import get\n",
    "endpoint = 'https://dati.cultura.gov.it/sparql'"
   ]
  },
  {
   "cell_type": "code",
   "execution_count": 1,
   "metadata": {},
   "outputs": [
    {
     "data": {
      "text/html": [
       "<div>\n",
       "<style scoped>\n",
       "    .dataframe tbody tr th:only-of-type {\n",
       "        vertical-align: middle;\n",
       "    }\n",
       "\n",
       "    .dataframe tbody tr th {\n",
       "        vertical-align: top;\n",
       "    }\n",
       "\n",
       "    .dataframe thead th {\n",
       "        text-align: right;\n",
       "    }\n",
       "</style>\n",
       "<table border=\"1\" class=\"dataframe\">\n",
       "  <thead>\n",
       "    <tr style=\"text-align: right;\">\n",
       "      <th></th>\n",
       "      <th>s</th>\n",
       "    </tr>\n",
       "  </thead>\n",
       "  <tbody>\n",
       "    <tr>\n",
       "      <th>0</th>\n",
       "      <td>https://w3id.org/arco/resource/HistoricOrArtis...</td>\n",
       "    </tr>\n",
       "    <tr>\n",
       "      <th>1</th>\n",
       "      <td>https://w3id.org/arco/resource/HistoricOrArtis...</td>\n",
       "    </tr>\n",
       "    <tr>\n",
       "      <th>2</th>\n",
       "      <td>https://w3id.org/arco/resource/HistoricOrArtis...</td>\n",
       "    </tr>\n",
       "    <tr>\n",
       "      <th>3</th>\n",
       "      <td>https://w3id.org/arco/resource/HistoricOrArtis...</td>\n",
       "    </tr>\n",
       "    <tr>\n",
       "      <th>4</th>\n",
       "      <td>https://w3id.org/arco/resource/HistoricOrArtis...</td>\n",
       "    </tr>\n",
       "    <tr>\n",
       "      <th>...</th>\n",
       "      <td>...</td>\n",
       "    </tr>\n",
       "    <tr>\n",
       "      <th>29995</th>\n",
       "      <td>https://w3id.org/arco/resource/NumismaticPrope...</td>\n",
       "    </tr>\n",
       "    <tr>\n",
       "      <th>29996</th>\n",
       "      <td>https://w3id.org/arco/resource/NumismaticPrope...</td>\n",
       "    </tr>\n",
       "    <tr>\n",
       "      <th>29997</th>\n",
       "      <td>https://w3id.org/arco/resource/NumismaticPrope...</td>\n",
       "    </tr>\n",
       "    <tr>\n",
       "      <th>29998</th>\n",
       "      <td>https://w3id.org/arco/resource/NumismaticPrope...</td>\n",
       "    </tr>\n",
       "    <tr>\n",
       "      <th>29999</th>\n",
       "      <td>https://w3id.org/arco/resource/NumismaticPrope...</td>\n",
       "    </tr>\n",
       "  </tbody>\n",
       "</table>\n",
       "<p>30000 rows × 1 columns</p>\n",
       "</div>"
      ],
      "text/plain": [
       "                                                       s\n",
       "0      https://w3id.org/arco/resource/HistoricOrArtis...\n",
       "1      https://w3id.org/arco/resource/HistoricOrArtis...\n",
       "2      https://w3id.org/arco/resource/HistoricOrArtis...\n",
       "3      https://w3id.org/arco/resource/HistoricOrArtis...\n",
       "4      https://w3id.org/arco/resource/HistoricOrArtis...\n",
       "...                                                  ...\n",
       "29995  https://w3id.org/arco/resource/NumismaticPrope...\n",
       "29996  https://w3id.org/arco/resource/NumismaticPrope...\n",
       "29997  https://w3id.org/arco/resource/NumismaticPrope...\n",
       "29998  https://w3id.org/arco/resource/NumismaticPrope...\n",
       "29999  https://w3id.org/arco/resource/NumismaticPrope...\n",
       "\n",
       "[30000 rows x 1 columns]"
      ]
     },
     "execution_count": 1,
     "metadata": {},
     "output_type": "execute_result"
    }
   ],
   "source": [
    "query = '''\n",
    "SELECT DISTINCT ?s WHERE {\n",
    "?s ?p ?o.\n",
    "FILTER(?p =  a-loc:hasCulturalInstituteOrSite || ?p = a-cd:isLocatedIn)\n",
    "}\n",
    "'''\n",
    "\n",
    "CulturalProperties = get(endpoint, query)\n",
    "CulturalProperties"
   ]
  },
  {
   "attachments": {},
   "cell_type": "markdown",
   "metadata": {},
   "source": [
    "## a-loc:hasCulturalInstituteOrSite"
   ]
  },
  {
   "attachments": {},
   "cell_type": "markdown",
   "metadata": {},
   "source": [
    "We procede getting the cultural institute's names, and their relative sites, since the same site can host more than one cultural institute. We keep as information the number of cultural properties per institute.<br>\n",
    "Since we need to parse a large number of data we will retrieve them in two separates tables. We also want to keep the IRI in order to have a unique identifier both for institutes and sites that will help us to merge our tables."
   ]
  },
  {
   "cell_type": "code",
   "execution_count": 4,
   "metadata": {},
   "outputs": [],
   "source": [
    "#table with institution - count of CP - name of the insitution\n",
    "query = '''\n",
    "SELECT DISTINCT(?institute) COUNT(DISTINCT(?s) as ?count) ?instituteLabel  WHERE {\n",
    "?s ?p ?o.\n",
    "FILTER(?p =  a-loc:hasCulturalInstituteOrSite || ?p = a-cd:isLocatedIn)\n",
    "?s a-loc:hasCulturalInstituteOrSite ?institute.\n",
    "?institute rdfs:label ?instituteLabel.\n",
    "}\n",
    "'''\n",
    "\n",
    "\n",
    "CulturalInstitutes = get(endpoint, query)\n",
    "CulturalInstitutes.to_csv(\"cultural_institutes.csv\")\n",
    "\n",
    "query = '''SELECT DISTINCT(?institute) ?site ?siteLabel WHERE {\n",
    "?s ?p ?o.\n",
    "FILTER(?p =  a-loc:hasCulturalInstituteOrSite || ?p = a-cd:isLocatedIn)\n",
    "?s a-loc:hasCulturalInstituteOrSite ?institute.\n",
    "?institute cis:hasSite ?site.\n",
    "?site rdfs:label ?siteLabel\n",
    "}\n",
    "'''\n",
    "CulturalSites = get(endpoint, query)\n",
    "CulturalSites.to_csv(\"cultural_sites.csv\")\n",
    "\n"
   ]
  },
  {
   "attachments": {},
   "cell_type": "markdown",
   "metadata": {},
   "source": [
    "While the predicate a-loc:hasCulturalInstituteOrSite links an object to a cultural institute or site (museums, libraries, archives, archaeological sites, monumental building), the predicate cis:hasSite is in the range of the class cis:Site which defines a georeferences physical space. An institute can have more sites associated to it. Since our analysis is spatial, the sites will be more relevant. As for the cultural properties, we can build another table with the number of institutes per site."
   ]
  },
  {
   "cell_type": "code",
   "execution_count": null,
   "metadata": {},
   "outputs": [],
   "source": [
    "query = '''\n",
    "SELECT COUNT(DISTINCT(?institute) as ?count) ?site ?siteLabel WHERE {\n",
    "?s ?p ?o.\n",
    "FILTER(?p =  a-loc:hasCulturalInstituteOrSite || ?p = a-cd:isLocatedIn)\n",
    "?s a-loc:hasCulturalInstituteOrSite ?institute.\n",
    "?institute cis:hasSite ?site.\n",
    "?site rdfs:label ?siteLabel\n",
    "}\n",
    "'''\n",
    "\n",
    "InstituteCount = get(endpoint, query)\n",
    "InstituteCount.to_csv(\"institute_count.csv\")"
   ]
  },
  {
   "attachments": {},
   "cell_type": "markdown",
   "metadata": {},
   "source": [
    "## a-cd:isLocatedIn"
   ]
  }
 ],
 "metadata": {
  "kernelspec": {
   "display_name": "Python 3",
   "language": "python",
   "name": "python3"
  },
  "language_info": {
   "codemirror_mode": {
    "name": "ipython",
    "version": 3
   },
   "file_extension": ".py",
   "mimetype": "text/x-python",
   "name": "python",
   "nbconvert_exporter": "python",
   "pygments_lexer": "ipython3",
   "version": "3.10.7"
  },
  "orig_nbformat": 4,
  "vscode": {
   "interpreter": {
    "hash": "909775f4c1c1337c10dd26386ad7fdd8e68c24cfe611dcacc1a198b9e09c3e1f"
   }
  }
 },
 "nbformat": 4,
 "nbformat_minor": 2
}
