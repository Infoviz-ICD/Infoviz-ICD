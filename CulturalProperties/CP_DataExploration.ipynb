{
 "cells": [
  {
   "attachments": {},
   "cell_type": "markdown",
   "metadata": {},
   "source": [
    "## Cultural Properties\n",
    "Arco ontology tries to give the widest representation of italian cultural heritage, inglobing all the main classifications provided by international organizations. However, since our analysis aims at the exploration of all the italian cultural sites, not all the cultural heritage will be included in the data we will extract. We have identified two main predicates that will be able to filter cultural heritage, e.g. natural heritage, that does not give information about cultural sites, and these are: \n",
    "- a-loc:hasCulturalInstituteOrSite: it links a cultural property to the cultural institute or site that is its juridical collocation.\n",
    "- a-cd:isLocationOf: it links one cultural property to another one that is its collocation."
   ]
  },
  {
   "cell_type": "code",
   "execution_count": 1,
   "metadata": {},
   "outputs": [],
   "source": [
    "from sparql_dataframe import get\n",
    "endpoint = 'https://dati.cultura.gov.it/sparql'\n",
    "\n",
    "query = '''\n",
    "SELECT DISTINCT ?s WHERE {\n",
    "?s ?p ?o.\n",
    "FILTER(?p =  a-loc:hasCulturalInstituteOrSite || ?p = a-cd:isLocatedIn)\n",
    "}\n",
    "'''\n",
    "\n",
    "CulturalProperties = get(endpoint, query)\n",
    "CulturalProperties"
   ]
  },
  {
   "attachments": {},
   "cell_type": "markdown",
   "metadata": {},
   "source": [
    "We procede getting the cultural institute's names, and their relative sites, since the same site can host more than one cultural institute. We keep as information the number of cultural properties per institute.<br>\n",
    "Since we need to parse a large number of data we will retrieve them in two separates tables. We also want to keep the IRI in order to have a unique identifier both for institutes and sites that will help us to merge our tables."
   ]
  },
  {
   "cell_type": "code",
   "execution_count": 1,
   "metadata": {},
   "outputs": [
    {
     "ename": "NameError",
     "evalue": "name 'get' is not defined",
     "output_type": "error",
     "traceback": [
      "\u001b[1;31m---------------------------------------------------------------------------\u001b[0m",
      "\u001b[1;31mNameError\u001b[0m                                 Traceback (most recent call last)",
      "Cell \u001b[1;32mIn [1], line 11\u001b[0m\n\u001b[0;32m      1\u001b[0m \u001b[39m#table with institution - count of CP - name of the insitution\u001b[39;00m\n\u001b[0;32m      2\u001b[0m query \u001b[39m=\u001b[39m \u001b[39m'''\u001b[39m\n\u001b[0;32m      3\u001b[0m \u001b[39mSELECT DISTINCT(?institute) COUNT(DISTINCT(?s) as ?count) ?instituteLabel  WHERE \u001b[39m\u001b[39m{\u001b[39m\n\u001b[0;32m      4\u001b[0m \u001b[39m?s ?p ?o.\u001b[39m\n\u001b[1;32m   (...)\u001b[0m\n\u001b[0;32m      7\u001b[0m \u001b[39m?institute rdfs:label ?instituteLabel.\u001b[39m\n\u001b[0;32m      8\u001b[0m \u001b[39m'''\u001b[39m\n\u001b[1;32m---> 11\u001b[0m CulturalInstitutes \u001b[39m=\u001b[39m get(endpoint, query)\n\u001b[0;32m     12\u001b[0m CulturalInstitutes\u001b[39m.\u001b[39mto_csv(\u001b[39m\"\u001b[39m\u001b[39mcultural_institutes\u001b[39m\u001b[39m\"\u001b[39m)\n\u001b[0;32m     14\u001b[0m query \u001b[39m=\u001b[39m \u001b[39m'''\u001b[39m\u001b[39mSELECT DISTINCT(?institute) ?site ?siteLabel WHERE \u001b[39m\u001b[39m{\u001b[39m\n\u001b[0;32m     15\u001b[0m \u001b[39m?s ?p ?o.\u001b[39m\n\u001b[0;32m     16\u001b[0m \u001b[39mFILTER(?p =  a-loc:hasCulturalInstituteOrSite || ?p = a-cd:isLocatedIn)\u001b[39m\n\u001b[1;32m   (...)\u001b[0m\n\u001b[0;32m     20\u001b[0m \u001b[39m}\u001b[39m\n\u001b[0;32m     21\u001b[0m \u001b[39m'''\u001b[39m\n",
      "\u001b[1;31mNameError\u001b[0m: name 'get' is not defined"
     ]
    }
   ],
   "source": [
    "#table with institution - count of CP - name of the insitution\n",
    "query = '''\n",
    "SELECT DISTINCT(?institute) COUNT(DISTINCT(?s) as ?count) ?instituteLabel  WHERE {\n",
    "?s ?p ?o.\n",
    "FILTER(?p =  a-loc:hasCulturalInstituteOrSite || ?p = a-cd:isLocatedIn)\n",
    "?s a-loc:hasCulturalInstituteOrSite ?institute.\n",
    "?institute rdfs:label ?instituteLabel.\n",
    "'''\n",
    "\n",
    "\n",
    "CulturalInstitutes = get(endpoint, query)\n",
    "CulturalInstitutes.to_csv(\"cultural_institutes\")\n",
    "\n",
    "query = '''SELECT DISTINCT(?institute) ?site ?siteLabel WHERE {\n",
    "?s ?p ?o.\n",
    "FILTER(?p =  a-loc:hasCulturalInstituteOrSite || ?p = a-cd:isLocatedIn)\n",
    "?s a-loc:hasCulturalInstituteOrSite ?institute.\n",
    "?institute cis:hasSite ?site.\n",
    "?site rdfs:label ?siteLabel\n",
    "}\n",
    "'''\n",
    "CulturalSites = get(endpoint, query)\n",
    "CulturalSites.to_csv(\"cultural_sites.csv\")\n",
    "\n"
   ]
  }
 ],
 "metadata": {
  "kernelspec": {
   "display_name": "Python 3",
   "language": "python",
   "name": "python3"
  },
  "language_info": {
   "codemirror_mode": {
    "name": "ipython",
    "version": 3
   },
   "file_extension": ".py",
   "mimetype": "text/x-python",
   "name": "python",
   "nbconvert_exporter": "python",
   "pygments_lexer": "ipython3",
   "version": "3.10.7"
  },
  "orig_nbformat": 4,
  "vscode": {
   "interpreter": {
    "hash": "909775f4c1c1337c10dd26386ad7fdd8e68c24cfe611dcacc1a198b9e09c3e1f"
   }
  }
 },
 "nbformat": 4,
 "nbformat_minor": 2
}
