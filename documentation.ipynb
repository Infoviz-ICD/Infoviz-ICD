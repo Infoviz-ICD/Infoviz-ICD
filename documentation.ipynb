{
 "cells": [
  {
   "attachments": {},
   "cell_type": "markdown",
   "metadata": {},
   "source": [
    "<h1 style=\"text-align:center\">Cultural Sites in Italy</h1>\n",
    "Welcome in the documentation of the information visualization's project Cultural Sites in Italy. The project aims at exploring the data collected in data.beniculturali.it, related to cultural properties, collected by Arco, and cultural events, collected by the MIBACT (today MIC).<br>\n",
    "The notebook will be devided in two sections: \n",
    "<ul>\n",
    "<li>Data exploration</li>\n",
    "<li>Data management</li>\n",
    "</ul>\n",
    "\n",
    "Each section will be divided according to the two datasets: the first part will be dedicated to events, while the second to properties."
   ]
  },
  {
   "attachments": {},
   "cell_type": "markdown",
   "metadata": {},
   "source": [
    "Table of contents: \n",
    "* [1. Data Exploration](#dataExpl):\n",
    "    * [1.1 Cultural Events](#DECE)\n",
    "    * [1.2 Cultural Properties](#DECP)\n",
    "* [2. Data Management](#datamngmt):\n",
    "    * [2.1 Geospatial information](#geoinf)\n",
    "        * [2.1.1 Cultural Events' map](#GICE)\n",
    "        * [2.1.2 Cultural Properties' map](#GICP)\n",
    "    * [2.2 Additional information](addinf)\n",
    "        * [2.2.1 Cultural Events' sites per region](#AICE)\n",
    "        * [2.2.2 Cultural Propreties' institutes per region](#AICP)"
   ]
  },
  {
   "attachments": {},
   "cell_type": "markdown",
   "metadata": {},
   "source": [
    "Before starting, let's import all the libraries necessary and assign the endpoint variables that we will use later:"
   ]
  },
  {
   "cell_type": "code",
   "execution_count": 1,
   "metadata": {},
   "outputs": [
    {
     "name": "stderr",
     "output_type": "stream",
     "text": [
      "BokehDeprecationWarning: tile_providers module was deprecated in Bokeh 3.0.0 and will be removed, use add_tile directly instead.\n"
     ]
    }
   ],
   "source": [
    "from pandas import *\n",
    "\n",
    "from bokeh.plotting import figure\n",
    "from bokeh.tile_providers import get_provider, CARTODBPOSITRON\n",
    "from bokeh.io import output_notebook, show, export_png\n",
    "from bokeh.models import LogColorMapper, ColumnDataSource\n",
    "from bokeh.palettes import Oranges256 as oranges\n",
    "\n",
    "from pyproj import Proj, transform\n",
    "\n",
    "import rdflib\n",
    "\n",
    "from sparql_dataframe import get\n",
    "endpoint = 'https://dati.cultura.gov.it/sparql'\n",
    "\n",
    "endpointDB = 'https://dbpedia.org/sparql'"
   ]
  },
  {
   "attachments": {},
   "cell_type": "markdown",
   "metadata": {},
   "source": [
    "<h2 style=\"text-align:center\" id=\"dataExpl\">1. Data Exploration</h2>"
   ]
  },
  {
   "attachments": {},
   "cell_type": "markdown",
   "metadata": {},
   "source": [
    "<h3 style=\"text-align:center\" id=\"DECE\">1.1 Cultural Events</h3>\n",
    "The <b>CIS <a href=\"http://dati.beniculturali.it/lode/extract?lang=it&url=https://raw.githubusercontent.com/italia/daf-ontologie-vocabolari-controllati/master/Ontologie/Cultural-ON/v3.2/Cultural-ON-AP_IT.rdf\">(Cultural Institute/Site and Cultural Event)</a> ontology</b> aims at modelling the data on cultural institutes or sites such as data regarding the agents that play a specific role on cultural institutes or sites, the sites themselves, the contact points, all multimedia files which describe the cultural institute or site and any other information useful to the public in order to access the institute or site.\n",
    "\n",
    "We specificially employed it to extract all the cultural events present in the dataset through the property **cis:CulturalEvent**.\n",
    "\n",
    "We get also the cultural events' names, through using the property, **rdfs:label**. We kept the IRI in order to have a unique identifier both for institutes and sites that will help us to merge our tables.\n",
    "\n",
    "Since we promptly employed the CIS ontology for the event parts of our research, we only employed the part of the dataset which used this ontology to actually be more coherent with what we worked with, which entailed that we used only the data employed by the MiBACT; to do so, a filter was employed to obtain such a thing."
   ]
  },
  {
   "cell_type": "code",
   "execution_count": null,
   "metadata": {},
   "outputs": [],
   "source": [
    "query_events = \"\"\"\n",
    "SELECT DISTINCT ?s ?event WHERE {\n",
    " ?s a cis:CulturalEvent;\n",
    "rdfs:label ?event.\n",
    "FILTER (contains(str(?s), \"mibact\"))\n",
    "\n",
    "\n",
    "}\n",
    "\"\"\"\n",
    "df = sparql_dataframe.get(endpoint, query_events)"
   ]
  },
  {
   "attachments": {},
   "cell_type": "markdown",
   "metadata": {},
   "source": [
    "We then employed the property **cis:isHostedBySite** to extract all the sites in which the events were held as this specific property links the **Event** to the **Site** of the Cultural Institute or Site. \n",
    "\n",
    "Also in this case we actually extracted both the IRIs and the label through the same property as the one mentioned above.\n",
    "\n",
    "In many cases the same site had different URLs, and a similar situation happened with the same event having different URLs; in both cases it was due to the fact that different URLs did refer to sites or events with the same name but with different informations, hence we counted them separately."
   ]
  },
  {
   "cell_type": "code",
   "execution_count": null,
   "metadata": {},
   "outputs": [],
   "source": [
    "query_site = \"\"\"\n",
    "SELECT DISTINCT ?s ?event ?o ?site  WHERE {\n",
    " ?s a cis:CulturalEvent;\n",
    "rdfs:label ?event.\n",
    "?s cis:isHostedBySite ?o.\n",
    "?o rdfs:label ?site.\n",
    "}\n",
    "\"\"\"\n",
    "df = sparql_dataframe.get(endpoint, query_site)"
   ]
  },
  {
   "attachments": {},
   "cell_type": "markdown",
   "metadata": {},
   "source": [
    "Then we examined various ways to retrieve the city of each event, examing the various predicates associated to them.\n",
    "\n",
    "The most appropriate and helpful way for us was to first extract the address through **cis:siteAddress** and then from here to get the city through the employment of another ontology <a href=\"https://ontopia-lode.agid.gov.it/lode/extract?url=https://w3id.org/italia/onto/CLV\">(Address (Location) Ontology)</a> and its property **clavpit:hasCity**."
   ]
  },
  {
   "cell_type": "code",
   "execution_count": null,
   "metadata": {},
   "outputs": [],
   "source": [
    "query_culture_events = \"\"\"\n",
    "SELECT DISTINCT ?s ?event ?o ?site ?urlcity ?city WHERE {\n",
    " ?s a cis:CulturalEvent;\n",
    "rdfs:label ?event.\n",
    "?s cis:isHostedBySite ?o.\n",
    "?o rdfs:label ?site.\n",
    "?o cis:siteAddress ?address.\n",
    "?address clvapit:hasCity ?urlcity.\n",
    "?urlcity rdfs:label ?city\n",
    "}\n",
    "\"\"\"\n",
    "df = sparql_dataframe.get(endpoint, query_culture_events)"
   ]
  },
  {
   "attachments": {},
   "cell_type": "markdown",
   "metadata": {},
   "source": [
    "To further clear up this file from any duplicates that might appear we used the pandas method **drop_duplicates** in order to obtain a clearer table of all the data that we obtained together."
   ]
  },
  {
   "cell_type": "code",
   "execution_count": null,
   "metadata": {},
   "outputs": [],
   "source": [
    "df=df.drop_duplicates([\"s\", \"o\"])"
   ]
  },
  {
   "attachments": {},
   "cell_type": "markdown",
   "metadata": {},
   "source": [
    "Then we worked onto counting first the **events per sites**"
   ]
  },
  {
   "cell_type": "code",
   "execution_count": null,
   "metadata": {},
   "outputs": [],
   "source": [
    "query_site = \"\"\"\n",
    "SELECT DISTINCT (count (?s) as ?count) ?site WHERE {\n",
    " ?s a cis:CulturalEvent;\n",
    "rdfs:label ?event.\n",
    "?s cis:isHostedBySite ?o.\n",
    "?o rdfs:label ?site.\n",
    "?o cis:siteAddress ?address.\n",
    "?address clvapit:hasCity ?urlcity.\n",
    "?urlcity rdfs:label ?city\n",
    "}\n",
    "\"\"\"\n",
    "df_count_sites = sparql_dataframe.get(endpoint, query_site)"
   ]
  },
  {
   "attachments": {},
   "cell_type": "markdown",
   "metadata": {},
   "source": [
    "Then the **events per city**"
   ]
  },
  {
   "cell_type": "code",
   "execution_count": null,
   "metadata": {},
   "outputs": [],
   "source": [
    "query_city = \"\"\"\n",
    "SELECT DISTINCT (count (?s) as ?count) ?urlcity ?city WHERE {\n",
    " ?s a cis:CulturalEvent;\n",
    "rdfs:label ?event.\n",
    "?s cis:isHostedBySite ?o.\n",
    "?o rdfs:label ?site.\n",
    "?o cis:siteAddress ?address.\n",
    "?address clvapit:hasCity ?urlcity.\n",
    "?urlcity rdfs:label ?city\n",
    "}\n",
    "\"\"\"\n",
    "\n",
    "df_city = sparql_dataframe.get(endpoint, query_city)"
   ]
  },
  {
   "attachments": {},
   "cell_type": "markdown",
   "metadata": {},
   "source": [
    "After having extracted all the geographical information, we then moved onto working into the temporal one.\n",
    "\n",
    "We did this through the employment of the **Time ontology** <a href=\"https://ontopia-lode.agid.gov.it/lode/extract?url=https://w3id.org/italia/onto/TI\">(Italian application profile)</a> in the properties **tiapit:atTime**.\n",
    "\n",
    "This actually gave us a time interval composed by a **start time** and **end time**, which were then explicited through the xsd format with the properties **tiapit:startTime** and **tiapit:endTime**."
   ]
  },
  {
   "cell_type": "code",
   "execution_count": null,
   "metadata": {},
   "outputs": [],
   "source": [
    "query_time=\"\"\"\n",
    "SELECT DISTINCT ?s ?time ?starttime ?endtime WHERE {\n",
    " ?s a cis:CulturalEvent;\n",
    "rdfs:label ?event.\n",
    "?s tiapit:atTime ?time.\n",
    "?time tiapit:startTime ?startTime;\n",
    "tiapit:endTime ?endtime.\n",
    "}\"\"\"\n",
    "df_time = sparql_dataframe.get(endpoint, query_time)"
   ]
  },
  {
   "attachments": {},
   "cell_type": "markdown",
   "metadata": {},
   "source": [
    "Similarly as we had done with the geographical information we counted how many events through the years."
   ]
  },
  {
   "cell_type": "code",
   "execution_count": null,
   "metadata": {},
   "outputs": [],
   "source": [
    "query_count_time =\"\"\"\n",
    "SELECT DISTINCT (count (?s) as ?count)  (year(xsd:dateTime(?starttime)) as ?StartYear) (year(xsd:dateTime(?endtime)) as ?EndYear) WHERE {\n",
    " ?s a cis:CulturalEvent;\n",
    "rdfs:label ?event.\n",
    "?s tiapit:atTime ?time.\n",
    "?time tiapit:startTime ?starttime;\n",
    "tiapit:endTime ?entime.\n",
    "?s cis:isHostedBySite ?o.\n",
    "?o rdfs:label ?site.\n",
    "?o cis:siteAddress ?address.\n",
    "?address clvapit:hasCity ?urlcity.\n",
    "}\"\"\"\n",
    "\n",
    "df_time_count = sparql_dataframe.get(endpoint, query_count_time)"
   ]
  },
  {
   "attachments": {},
   "cell_type": "markdown",
   "metadata": {},
   "source": [
    "<h3 style=\"text-align:center\" id=\"DECP\">1.2 Cultural Properties</h3>\n",
    "Arco ontology tries to give the widest representation of italian cultural heritage, inglobing all the main classifications provided by international organizations. The class <b>arco:CulturalProperty</b> is the higher class, however it is not always assigned to all the cultural properties in the dataset. Furthermore each cultural property can belong to different classes. For this reason, in order to retrieve all the cultural properties, we applyed a filter which lists all the possible classes and subclasses that have as type on of the cultural properties'classes."
   ]
  },
  {
   "cell_type": "code",
   "execution_count": null,
   "metadata": {},
   "outputs": [],
   "source": [
    "query = '''\n",
    "SELECT COUNT(DISTINCT(?CP) as ?count) ?o WHERE {\n",
    "?CP a ?o.\n",
    "FILTER (?o = arco:CulturalProperty || ?o = arco:IntangibleCulturalProperty || ?o = arco:TangibleCulturalProperty || ?o = arco:ArchaeologicalProperty || ?o = arco:ImmovableCulturalProperty || ?o = arco:ArchitecturalOrLandscapeHeritage || ?o = arco:HistoricOrArtisticProperty || ?o = arco:MusicHeritage || ?o = arco:NaturalHeritage || ?o = arco:BotanicalHeritage || ?o = arco:MineralHeritage || ?o = arco:PalaeontologicalHeritage || ?o = arco:PertologicHeritage || ?o = arco:PlanetaryScienceHeritage || ?o = arco:ZoologicalHeritage || ?o = arco:NumismaticProperty || ?o = arco:PhotographicHeritage || ?o = arco:ScientificOrTechnologicalHeritage)\n",
    "}\n",
    "'''\n",
    "\n",
    "CulturalProperties = get(endpoint, query)\n",
    "CulturalProperties"
   ]
  },
  {
   "attachments": {},
   "cell_type": "markdown",
   "metadata": {},
   "source": [
    "We procede getting the cultural institute's names. the predicate a-loc:hasCulturalInstituteOrSite links an object to a cultural institute or site (museums, libraries, archives, archaeological sites, monumental building). We keep as information the number of cultural properties per institute.</br>\n",
    "From now on the subclasses which don't have instances will be removed from the filter. "
   ]
  },
  {
   "cell_type": "code",
   "execution_count": null,
   "metadata": {},
   "outputs": [],
   "source": [
    "query = '''\n",
    "SELECT DISTINCT(?institute) COUNT(DISTINCT(?s) as ?CP_count) ?instituteLabel WHERE {\n",
    "?s a ?o.\n",
    "FILTER (?o = arco:CulturalProperty || ?o = arco:IntangibleCulturalProperty || ?o = arco:ArchaeologicalProperty || ?o = arco:ImmovableCulturalProperty || ?o = arco:ArchitecturalOrLandscapeHeritage || ?o = arco:HistoricOrArtisticProperty || ?o = arco:MusicHeritage || ?o = arco:NaturalHeritage || ?o = arco:BotanicalHeritage || ?o = arco:MineralHeritage || ?o = arco:PlanetaryScienceHeritage || ?o = arco:ZoologicalHeritage || ?o = arco:NumismaticProperty || ?o = arco:PhotographicHeritage || ?o = arco:ScientificOrTechnologicalHeritage)\n",
    "?s a-loc:hasCulturalInstituteOrSite ?institute.\n",
    "?institute rdfs:label ?instituteLabel.\n",
    "}\n",
    "'''\n",
    "\n",
    "CulturalInstitutes = get(endpoint, query)\n",
    "CulturalInstitutes"
   ]
  },
  {
   "attachments": {},
   "cell_type": "markdown",
   "metadata": {},
   "source": [
    "In order to retreive the coordinates of our cultural properties we use the predicate clvapit:hasGeometry. Also, since there are a lot of cultural properties which belongs to the same institute, i.e. they have the same coordinates, we filter per institute. The institute is the juridical. The predicate a-loc:hasCulturalInstituteOrSite links an object to a cultural institute or site (museums, libraries, archives, archaeological sites, monumental building). An institute can have more sites, i.e. georeferences physical space, associated to it."
   ]
  },
  {
   "cell_type": "code",
   "execution_count": null,
   "metadata": {},
   "outputs": [],
   "source": [
    "query = '''\n",
    "SELECT DISTINCT(?institute) COUNT(DISTINCT(?s) as ?CP_count)  ?lat ?long WHERE {\n",
    "?s a ?o.\n",
    "FILTER (?o = arco:CulturalProperty || ?o = arco:IntangibleCulturalProperty || ?o = arco:TangibleCulturalProperty || ?o = arco:ArchaeologicalProperty || ?o = arco:ImmovableCulturalProperty || ?o = arco:ArchitecturalOrLandscapeHeritage || ?o = arco:HistoricOrArtisticProperty || ?o = arco:MusicHeritage || ?o = arco:NaturalHeritage || ?o = arco:BotanicalHeritage || ?o = arco:MineralHeritage || ?o = arco:PalaeontologicalHeritage || ?o = arco:PertologicHeritage || ?o = arco:PlanetaryScienceHeritage || ?o = arco:ZoologicalHeritage || ?o = arco:NumismaticProperty || ?o = arco:PhotographicHeritage || ?o = arco:ScientificOrTechnologicalHeritage)\n",
    "?s a-loc:hasCulturalInstituteOrSite ?institute.\n",
    "  ?s clvapit:hasGeometry ?geometry .\n",
    "  ?geometry a-loc:hasCoordinates ?coordinates .\n",
    "?coordinates a-loc:lat ?lat.\n",
    "?coordinates a-loc:long ?long.\n",
    "}\n",
    "'''\n",
    "Coordinates = get(endpoint, query)"
   ]
  },
  {
   "attachments": {},
   "cell_type": "markdown",
   "metadata": {},
   "source": [
    "In order to retrieve the cities we need to use two other properties: \n",
    "- cis:hasSite: it is in the range of the class cis:Site which defines a georeferences physical space. An institute can have more sites associated to it.\n",
    "- cis:siteAddress: it is a subclass of clvapit:hasAddress. \n",
    "We want to know the city for each institute."
   ]
  },
  {
   "cell_type": "code",
   "execution_count": null,
   "metadata": {},
   "outputs": [],
   "source": [
    "query = '''\n",
    "SELECT DISTINCT(?institute) ?city ?cityLabel WHERE {\n",
    "?CP a ?o.\n",
    "FILTER (?o = arco:CulturalProperty || ?o = arco:IntangibleCulturalProperty || ?o = arco:TangibleCulturalProperty || ?o = arco:ArchaeologicalProperty || ?o = arco:ImmovableCulturalProperty || ?o = arco:ArchitecturalOrLandscapeHeritage || ?o = arco:HistoricOrArtisticProperty || ?o = arco:MusicHeritage || ?o = arco:NaturalHeritage || ?o = arco:BotanicalHeritage || ?o = arco:MineralHeritage || ?o = arco:PalaeontologicalHeritage || ?o = arco:PertologicHeritage || ?o = arco:PlanetaryScienceHeritage || ?o = arco:ZoologicalHeritage || ?o = arco:NumismaticProperty || ?o = arco:PhotographicHeritage || ?o = arco:ScientificOrTechnologicalHeritage)\n",
    "?CP a-loc:hasCulturalInstituteOrSite ?institute.\n",
    "?institute cis:hasSite ?site.\n",
    "?site cis:siteAddress ?address.\n",
    "?address clvapit:hasCity ?city.\n",
    "?city rdfs:label ?cityLabel\n",
    "}\n",
    "'''\n",
    "\n",
    "cities = get(endpoint, query)\n",
    "cities"
   ]
  },
  {
   "attachments": {},
   "cell_type": "markdown",
   "metadata": {},
   "source": [
    "<h2 style=\"text-align:center\" id=\"datamngmt\">2. Data Management</h2>\n",
    "In this section we will: \n",
    "<ul>\n",
    "    <li>retrieve geospatial information in order to plot them in an actual map;</li>\n",
    "    <li>visualize some of the emerging pattern;</li>\n",
    "    <li>address more specific research queries;</li>\n",
    "</ul>"
   ]
  },
  {
   "attachments": {},
   "cell_type": "markdown",
   "metadata": {},
   "source": [
    "<h3 style=\"text-align:center\" id=\"geoinf\">2.1 Geospatial information</h3>"
   ]
  },
  {
   "attachments": {},
   "cell_type": "markdown",
   "metadata": {},
   "source": [
    "<h3 style=\"text-align:center\" id=\"GICE\">2.1.1 Cultural Events' map</h3>\n",
    "In order to retreive information about longitude and latitude of the city which have hosted cultural events, we need to recur to the dbpedia database. For this reason, first we will collect the dbpedia link for each city and then we will query the dbpedia sparql endpoint to retrieve geospatial information."
   ]
  },
  {
   "cell_type": "code",
   "execution_count": null,
   "metadata": {},
   "outputs": [],
   "source": [
    "query = '''\n",
    "SELECT DISTINCT(?s) ?event ?dbpedia ?urlcity ?label WHERE {\n",
    " ?s a cis:CulturalEvent;\n",
    "rdfs:label ?event.\n",
    "?s cis:isHostedBySite ?o.\n",
    "?o rdfs:label ?site.\n",
    "?o cis:siteAddress ?address.\n",
    "?address clvapit:hasCity ?urlcity.\n",
    "?urlcity owl:sameAs ?urlcity2.\n",
    "?urlcity2 rdfs:label ?label.\n",
    "?urlcity2 owl:sameAs ?dbpedia.\n",
    "FILTER (contains(str(?dbpedia), \"dbpedia\"))\n",
    "}\n",
    "'''\n",
    "\n",
    "dbPediaLinks = get(endpoint, query)\n",
    "dbPediaLinks"
   ]
  },
  {
   "cell_type": "code",
   "execution_count": 2,
   "metadata": {},
   "outputs": [],
   "source": [
    "dbpedia = dbPediaLinks[\"dbpedia\"].drop_duplicates()\n",
    "link = []\n",
    "\n",
    "\n",
    "CE_coordinates = DataFrame({\"latitude\":[], \"longitude\":[]})\n",
    "\n",
    "for idx, item in dbpedia.items():\n",
    "    query = '''\n",
    "    SELECT ?latitude ?longitude WHERE {\n",
    "       '''f'<{item}>''''  geo:lat ?latitude;\n",
    "        geo:long ?longitude.\n",
    "    } '''\n",
    "    coordinates = get(endpointDB, query)\n",
    "    link.append(item)\n",
    "    CE_coordinates = concat([CE_coordinates, coordinates])\n",
    "\n",
    "CE_coordinates.insert(0, \"dbPedia\", link)\n",
    "CE_coordinates"
   ]
  },
  {
   "attachments": {},
   "cell_type": "markdown",
   "metadata": {},
   "source": [
    "Now we plot the cities in a map, using the python library bokeh."
   ]
  },
  {
   "cell_type": "code",
   "execution_count": null,
   "metadata": {},
   "outputs": [],
   "source": [
    "CE_coordinates_cleaned = CE_coordinates.merge(dbPediaLinks, left_on=\"dbPedia\", right_on=\"dbpedia\")\n",
    "CE_coordinates_cleaned = CE_coordinates_cleaned[[\"event\", \"label\", \"latitude\", \"longitude\"]].drop_duplicates(subset= [\"event\"])\n",
    "CE_coordinates_cleaned.reset_index()\n",
    "\n",
    "# projection WGS 84 - used by GPS\n",
    "inProj = Proj(init='epsg:4326')\n",
    "\n",
    "# WGS84 Pseudo Web Mercator - projection used by most web services, e.g. Google Maps, OpenStreet Maps\n",
    "outProj = Proj(init='epsg:3857')\n",
    "\n",
    "CE_coordinates_cleaned['longitude'],CE_coordinates_cleaned['latitude'] = transform(inProj,outProj,CE_coordinates_cleaned['longitude'].values,CE_coordinates_cleaned['latitude'].values)\n",
    "CE_coordinates_cleaned.head()"
   ]
  },
  {
   "cell_type": "code",
   "execution_count": null,
   "metadata": {},
   "outputs": [],
   "source": [
    "# create a dictionary with lists\n",
    "source = ColumnDataSource(data=dict(\n",
    "    lat=CE_coordinates_cleaned.latitude.values.tolist(),\n",
    "    lon=CE_coordinates_cleaned.longitude.values.tolist(),\n",
    "    name=CE_coordinates_cleaned.event.values.tolist(),\n",
    "    keeper=CE_coordinates_cleaned.label.values.tolist()\n",
    "))"
   ]
  },
  {
   "cell_type": "code",
   "execution_count": null,
   "metadata": {},
   "outputs": [],
   "source": [
    "# import tile\n",
    "cartodb = get_provider('CARTODBPOSITRON')\n",
    "\n",
    "# draw the frame\n",
    "p = figure(outer_width=900, outer_height=700, # range EU/Africa\n",
    "           x_axis_type=\"mercator\", y_axis_type=\"mercator\", # labels on axes\n",
    "           tooltips=[ (\"Name\", \"@name, @keeper\")],\n",
    "           title=\"Cultural Events sites\")\n",
    "\n",
    "# add tile\n",
    "p.add_tile(cartodb)\n",
    "\n",
    "# draw points\n",
    "p.circle(x='lon', y='lat',\n",
    "         size=5,\n",
    "         fill_color=\"gold\", line_color=\"gold\",\n",
    "         fill_alpha=0.3,\n",
    "         source=source)\n",
    "\n",
    "# add for colab output\n",
    "output_notebook()\n",
    "\n",
    "show(p)\n",
    "export_png(p, filename=\"CitiesCE.png\")"
   ]
  },
  {
   "attachments": {},
   "cell_type": "markdown",
   "metadata": {},
   "source": [
    "<h3 style=\"text-align:center\" id=\"GICP\">2.1.2 Cultural Properties' map</h3>\n",
    "The same process will be followed for the cultural properties. Since the data have the property clvapit:hasGeometry, which through the predicate a-loc:hasCoordinates from Arco locations and geometry provide directly the latitude and longitude of the institutes, we will plot one map to explore those locations. \n",
    "\n",
    "Furthermore a second map will be produced through the latitude and longitude of the cities, retrieved from dbpedia, with the same procedure as for cultural events, in order to compare those two maps. "
   ]
  },
  {
   "attachments": {},
   "cell_type": "markdown",
   "metadata": {},
   "source": [
    "**Cultural Properties' Institutes Map**"
   ]
  },
  {
   "cell_type": "code",
   "execution_count": null,
   "metadata": {},
   "outputs": [],
   "source": [
    "query = '''\n",
    "SELECT DISTINCT(?CP) ?stripped_CPLabel ?institute ?instituteLabel ?lat ?long WHERE {\n",
    "?CP a ?o.\n",
    "FILTER (?o = arco:CulturalProperty || ?o = arco:IntangibleCulturalProperty || ?o = arco:TangibleCulturalProperty || ?o = arco:ArchaeologicalProperty || ?o = arco:ImmovableCulturalProperty || ?o = arco:ArchitecturalOrLandscapeHeritage || ?o = arco:HistoricOrArtisticProperty || ?o = arco:MusicHeritage || ?o = arco:NaturalHeritage || ?o = arco:BotanicalHeritage || ?o = arco:MineralHeritage || ?o = arco:PalaeontologicalHeritage || ?o = arco:PertologicHeritage || ?o = arco:PlanetaryScienceHeritage || ?o = arco:ZoologicalHeritage || ?o = arco:NumismaticProperty || ?o = arco:PhotographicHeritage || ?o = arco:ScientificOrTechnologicalHeritage)\n",
    "?CP rdfs:label ?CPLabel;\n",
    "a-loc:hasCulturalInstituteOrSite ?institute.\n",
    "BIND (STR(?CPLabel)  AS ?stripped_CPLabel)\n",
    "?institute rdfs:label ?instituteLabel.\n",
    "  ?CP clvapit:hasGeometry ?geometry .\n",
    "  ?geometry a-loc:hasCoordinates ?coordinates .\n",
    "?coordinates a-loc:lat ?lat.\n",
    "?coordinates a-loc:long ?long.\n",
    "}\n",
    "'''\n",
    "CP_coordinates = get(endpoint, query)"
   ]
  },
  {
   "cell_type": "code",
   "execution_count": null,
   "metadata": {},
   "outputs": [],
   "source": [
    "# projection WGS 84 - used by GPS\n",
    "inProj = Proj(init='epsg:4326')\n",
    "\n",
    "# WGS84 Pseudo Web Mercator - projection used by most web services, e.g. Google Maps, OpenStreet Maps\n",
    "outProj = Proj(init='epsg:3857')\n",
    "\n",
    "CP_coordinates['long'],CP_coordinates['lat'] = transform(inProj,outProj,CP_coordinates['long'].values,CP_coordinates['lat'].values)\n",
    "CP_coordinates.head()"
   ]
  },
  {
   "cell_type": "code",
   "execution_count": null,
   "metadata": {},
   "outputs": [],
   "source": [
    "# create a dictionary with lists\n",
    "source = ColumnDataSource(data=dict(\n",
    "    lat=CP_coordinates.lat.values.tolist(),\n",
    "    lon=CP_coordinates.long.values.tolist(),\n",
    "    name=CP_coordinates.stripped_CPLabel.values.tolist(),\n",
    "    keeper=CP_coordinates.instituteLabel.values.tolist()\n",
    "))"
   ]
  },
  {
   "cell_type": "code",
   "execution_count": null,
   "metadata": {},
   "outputs": [],
   "source": [
    "# import tile\n",
    "cartodb = get_provider('CARTODBPOSITRON')\n",
    "\n",
    "# draw the frame\n",
    "p = figure(outer_width=900, outer_height=700,\n",
    "            x_range=(2000000, 800000), y_range=(4300000, 6000000),\n",
    "           x_axis_type=\"mercator\", y_axis_type=\"mercator\", # labels on axes\n",
    "           tooltips=[ (\"Name\", \"@name, @keeper\")],\n",
    "           title=\"Cultural Properties sites\")\n",
    "\n",
    "# add tile\n",
    "p.add_tile(cartodb)\n",
    "\n",
    "# draw points\n",
    "p.circle(x='lon', y='lat',\n",
    "         size=5,\n",
    "         fill_color=\"mediumpurple\", line_color=\"mediumpurple\",\n",
    "         fill_alpha=0.3,\n",
    "         source=source)\n",
    "\n",
    "# add for colab output\n",
    "output_notebook()\n",
    "\n",
    "show(p)\n",
    "export_png(p, filename=\"InstitutesCP.png\")"
   ]
  },
  {
   "attachments": {},
   "cell_type": "markdown",
   "metadata": {},
   "source": [
    "**Cultural Properties' cities map**\n",
    "We already have extracted the cities from the dataset, but now we retrieve for each city also the dbpedia link. After this passage we can query the dbpedia endpoint in order to retrieve the coordinates."
   ]
  },
  {
   "cell_type": "code",
   "execution_count": null,
   "metadata": {},
   "outputs": [],
   "source": [
    "cityLinksToSearch = cities[\"city\"].drop_duplicates()\n",
    "citiesLinks = DataFrame({})\n",
    "\n",
    "for idx, city in cityLinksToSearch.items(): \n",
    "    query1 = '''\n",
    "    SELECT ('''f'<{city}>'''') as ?city ?dbpedia WHERE {\n",
    "        '''f'<{city}>'''' owl:sameAs ?dbpedia \n",
    "        FILTER (contains(str(?dbpedia), \"dbpedia\"))}'''\n",
    "    CP_dbPediaLink = get(endpoint, query1)\n",
    "    citiesLinks = concat([citiesLinks, CP_dbPediaLink])\n",
    "\n",
    "citiesLinks"
   ]
  },
  {
   "cell_type": "code",
   "execution_count": null,
   "metadata": {},
   "outputs": [],
   "source": [
    "CPCityCoordinates = DataFrame({})\n",
    "for idx, item in citiesLinks[\"dbpedia\"].drop_duplicates().items() :\n",
    "    query2 = '''\n",
    "        SELECT ('''f'<{item}>'''') as ?dbpedia ?latitude ?longitude WHERE{\n",
    "           '''f'<{item}>'''' geo:lat ?latitude;\n",
    "        geo:long ?longitude.\n",
    "    }'''\n",
    "    coordinates = get(endpointDB, query2)\n",
    "    CPCityCoordinates = concat([CPCityCoordinates, coordinates])\n",
    "CPCityCoordinates"
   ]
  },
  {
   "cell_type": "code",
   "execution_count": null,
   "metadata": {},
   "outputs": [],
   "source": [
    "CPCityCoordinatesMerged = CPCityCoordinates.merge(citiesLinks, left_on=\"dbpedia\", right_on=\"dbpedia\")[[\"city\", \"latitude\", \"longitude\"]].drop_duplicates()\n",
    "CPCityCoordinatesMerged = CPCityCoordinatesMerged.merge(cities, left_on=\"city\", right_on=\"city\")[[\"stripped_CPLabel\", \"cityLabel\", \"latitude\", \"longitude\"]].drop_duplicates()\n",
    "CPCityCoordinatesMerged"
   ]
  },
  {
   "cell_type": "code",
   "execution_count": null,
   "metadata": {},
   "outputs": [],
   "source": [
    "# projection WGS 84 - used by GPS\n",
    "inProj = Proj(init='epsg:4326')\n",
    "\n",
    "# WGS84 Pseudo Web Mercator - projection used by most web services, e.g. Google Maps, OpenStreet Maps\n",
    "outProj = Proj(init='epsg:3857')\n",
    "\n",
    "CPCityCoordinatesMerged['longitude'],CPCityCoordinatesMerged['latitude'] = transform(inProj,outProj,CPCityCoordinatesMerged['longitude'].values,CPCityCoordinatesMerged['latitude'].values)\n",
    "CPCityCoordinatesMerged.head()"
   ]
  },
  {
   "cell_type": "code",
   "execution_count": null,
   "metadata": {},
   "outputs": [],
   "source": [
    "# create a dictionary with lists\n",
    "source = ColumnDataSource(data=dict(\n",
    "    lat=CPCityCoordinatesMerged.latitude.values.tolist(),\n",
    "    lon=CPCityCoordinatesMerged.longitude.values.tolist(),\n",
    "    name=CPCityCoordinatesMerged.stripped_CPLabel.values.tolist(),\n",
    "    keeper=CPCityCoordinatesMerged.cityLabel.values.tolist()\n",
    "))"
   ]
  },
  {
   "cell_type": "code",
   "execution_count": null,
   "metadata": {},
   "outputs": [],
   "source": [
    "# import tile\n",
    "cartodb = get_provider('CARTODBPOSITRON')\n",
    "\n",
    "# draw the frame\n",
    "p = figure(outer_width=900, outer_height=700,\n",
    "           x_range=(2000000, 800000), y_range=(4300000, 6000000),\n",
    "           x_axis_type=\"mercator\", y_axis_type=\"mercator\", # labels on axes\n",
    "           tooltips=[ (\"Name\", \"@name, @keeper\")],\n",
    "           title=\"Cultural Properties sites\")\n",
    "\n",
    "# add tile\n",
    "p.add_tile(cartodb)\n",
    "\n",
    "# draw points\n",
    "p.circle(x='lon', y='lat',\n",
    "         size=5,\n",
    "         fill_color=\"mediumpurple\", line_color=\"mediumpurple\",\n",
    "         fill_alpha=0.3,\n",
    "         source=source)\n",
    "\n",
    "# add for colab output\n",
    "output_notebook()\n",
    "\n",
    "show(p)\n",
    "export_png(p, filename=\"CitiesCP.png\")"
   ]
  },
  {
   "attachments": {},
   "cell_type": "markdown",
   "metadata": {},
   "source": [
    "<h3 style=\"text-align:center\" id=\"addinf\">2.2 Additional information: Regions</div>"
   ]
  },
  {
   "attachments": {},
   "cell_type": "markdown",
   "metadata": {},
   "source": [
    "<h3 style=\"text-align:center\" id=\"AICE\">2.2.1 Cultural Events' sites per region</h3>\n",
    "We retrieve the information about the regions from dbpedia and, after cleaning the label, we count how many cultural sites of cultural events each region host."
   ]
  },
  {
   "cell_type": "code",
   "execution_count": null,
   "metadata": {},
   "outputs": [],
   "source": [
    "dbpedia = dbPediaLinks[\"dbpedia\"].drop_duplicates()\n",
    "link = []\n",
    "\n",
    "\n",
    "Regions = DataFrame({})\n",
    "\n",
    "for idx, item in dbpedia.items():\n",
    "    query = '''\n",
    "        SELECT ('''f'<{item}>'''') as ?dbpedia ?region ?regionLabel WHERE{\n",
    "        '''f'<{item}>'''' dbo:region ?region.\n",
    "        ?region rdfs:label ?regionLabel.\n",
    "        FILTER (langMatches(lang(?regionLabel), \"it\"))\n",
    "    }'''\n",
    "    coordinates = get(endpointDB, query)\n",
    "    link.append(item)\n",
    "    Regions = concat([Regions, coordinates])\n",
    "    \n",
    "Regions"
   ]
  },
  {
   "cell_type": "code",
   "execution_count": null,
   "metadata": {},
   "outputs": [],
   "source": [
    "Regions[\"regionLabel\"] = Regions[\"regionLabel\"].replace(to_replace=\"Marken\", value='Marche')\n",
    "Regions[\"regionLabel\"] = Regions[\"regionLabel\"].replace(to_replace=\"Consiglio regionale della Lombardia\", value='Lombardia')\n",
    "Regions[\"regionLabel\"] = Regions[\"regionLabel\"].replace(to_replace=\"Consiglio regionale del Friuli-Venezia Giulia\", value='Friuli-Venezia Giulia')\n",
    "Regions[\"regionLabel\"] = Regions[\"regionLabel\"].replace(to_replace=\"Friuli\", value='Friuli-Venezia Giulia')\n",
    "Regions[\"regionLabel\"] = Regions[\"regionLabel\"].replace(to_replace=\"Emilia\", value='Emilia-Romagna')\n",
    "Regions[\"regionLabel\"] = Regions[\"regionLabel\"].replace(to_replace=\"Emilia Romagna\", value='Emilia-Romagna')\n",
    "Regions[\"regionLabel\"] = Regions[\"regionLabel\"].replace(to_replace=\"Sardegna (isola)\", value='Sardegna')\n",
    "Regions[\"regionLabel\"] = Regions[\"regionLabel\"].replace(to_replace=\"Regno di Sardegna\", value='Sardegna')\n",
    "Regions[\"regionLabel\"] = Regions[\"regionLabel\"].replace(to_replace=\"Isola di Sicilia\", value='Sicilia')\n",
    "Regions[\"regionLabel\"] = Regions[\"regionLabel\"].replace(to_replace=\"Sicilia (provincia romana)\", value='Sicilia')\n",
    "Regions[\"regionLabel\"] = Regions[\"regionLabel\"].replace(to_replace=\"Consiglio regionale della Calabria\", value='Calabria')\n",
    "Regions[\"regionLabel\"] = Regions[\"regionLabel\"].replace(to_replace=\"Aosta\", value=\"Valle d'Aosta\")\n",
    "Regions[\"regionLabel\"] = Regions[\"regionLabel\"].replace(to_replace=\"Provincia di Udine\", value='Friuli-Venezia Giulia')\n",
    "Regions[\"regionLabel\"] = Regions[\"regionLabel\"].replace(to_replace=\"Latium\", value='Lazio')\n",
    "Regions[\"regionLabel\"].drop_duplicates()\n",
    "Regions"
   ]
  },
  {
   "cell_type": "code",
   "execution_count": null,
   "metadata": {},
   "outputs": [],
   "source": [
    "AllData = dbPediaLinks.merge(Regions, left_on=\"dbpedia\", right_on=\"dbpedia\")[[\"urlcity\", \"regionLabel\"]]\n",
    "AllData = AllData.merge(df_city, left_on=\"urlcity\", right_on=\"urlcity\")[[\"callret-1\", \"city\", \"regionLabel\"]]"
   ]
  },
  {
   "cell_type": "code",
   "execution_count": null,
   "metadata": {},
   "outputs": [],
   "source": [
    "import json\n",
    "EventCount = {}\n",
    "for idx, row in AllData.iterrows():\n",
    "    if row[\"regionLabel\"] not in EventCount:\n",
    "        EventCount[row[\"regionLabel\"]] = {}\n",
    "        EventCount[row[\"regionLabel\"]][row[\"city\"]] = row[\"callret-1\"]\n",
    "    else: \n",
    "        if row[\"urlcitylabel\"] not in EventCount:\n",
    "            EventCount[row[\"regionLabel\"]][row[\"city\"]] = row[\"callret-1\"]\n",
    "        else: \n",
    "            EventCount[row[\"regionLabel\"]][row[\"city\"]] += row[\"callret-1\"]\n",
    "\n",
    "with open(\"RegionCityEventCount.json\", \"w\", encoding=\"utf-8\") as f:\n",
    "    json.dump(EventCount, f, indent=4, ensure_ascii=False)"
   ]
  },
  {
   "attachments": {},
   "cell_type": "markdown",
   "metadata": {},
   "source": [
    "<h3 style=\"text-align:center\" id=\"AICP\">2.2.2 Cultural Properties' institutes per region</h3>\n",
    "The same procedure we will follow for the cultural properties' institutes."
   ]
  },
  {
   "cell_type": "code",
   "execution_count": null,
   "metadata": {},
   "outputs": [],
   "source": [
    "Regions = DataFrame({})\n",
    "for idx, item in citiesLinks[\"dbpedia\"].drop_duplicates().items() :\n",
    "    query2 = '''\n",
    "        SELECT ('''f'<{item}>'''') as ?dbpedia ?region ?regionLabel WHERE{\n",
    "        '''f'<{item}>'''' dbo:region ?region.\n",
    "        ?region rdfs:label ?regionLabel.\n",
    "        FILTER (langMatches(lang(?regionLabel), \"it\"))\n",
    "    }'''\n",
    "    coordinates = get(endpointDB, query2)\n",
    "    Regions = concat([Regions, coordinates])\n",
    "Regions"
   ]
  },
  {
   "cell_type": "code",
   "execution_count": null,
   "metadata": {},
   "outputs": [],
   "source": [
    "query = '''\n",
    "SELECT DISTINCT(?city) COUNT(DISTINCT(?institute) as ?count) WHERE {\n",
    "?CP a ?o.\n",
    "FILTER (?o = arco:CulturalProperty || ?o = arco:IntangibleCulturalProperty || ?o = arco:TangibleCulturalProperty || ?o = arco:ArchaeologicalProperty || ?o = arco:ImmovableCulturalProperty || ?o = arco:ArchitecturalOrLandscapeHeritage || ?o = arco:HistoricOrArtisticProperty || ?o = arco:MusicHeritage || ?o = arco:NaturalHeritage || ?o = arco:BotanicalHeritage || ?o = arco:MineralHeritage || ?o = arco:PalaeontologicalHeritage || ?o = arco:PertologicHeritage || ?o = arco:PlanetaryScienceHeritage || ?o = arco:ZoologicalHeritage || ?o = arco:NumismaticProperty || ?o = arco:PhotographicHeritage || ?o = arco:ScientificOrTechnologicalHeritage)\n",
    " ?CP a-loc:hasCulturalInstituteOrSite ?institute.\n",
    "?institute cis:hasSite ?site.\n",
    "?site cis:siteAddress ?address.\n",
    "?address clvapit:hasCity ?city.\n",
    "}\n",
    "'''\n",
    "\n",
    "InstituteCount = get(endpoint, query)\n",
    "InstituteCount"
   ]
  },
  {
   "cell_type": "code",
   "execution_count": null,
   "metadata": {},
   "outputs": [],
   "source": [
    "Regions[\"regionLabel\"] = Regions[\"regionLabel\"].replace(to_replace=\"Marken\", value='Marche')\n",
    "Regions[\"regionLabel\"] = Regions[\"regionLabel\"].replace(to_replace=\"Consiglio regionale della Lombardia\", value='Lombardia')\n",
    "Regions[\"regionLabel\"] = Regions[\"regionLabel\"].replace(to_replace=\"Consiglio regionale del Friuli-Venezia Giulia\", value='Friuli-Venezia Giulia')\n",
    "Regions[\"regionLabel\"] = Regions[\"regionLabel\"].replace(to_replace=\"Friuli\", value='Friuli-Venezia Giulia')\n",
    "Regions[\"regionLabel\"] = Regions[\"regionLabel\"].replace(to_replace=\"Emilia\", value='Emilia-Romagna')\n",
    "Regions[\"regionLabel\"] = Regions[\"regionLabel\"].replace(to_replace=\"Emilia Romagna\", value='Emilia-Romagna')\n",
    "Regions[\"regionLabel\"].drop_duplicates()\n",
    "Regions"
   ]
  },
  {
   "cell_type": "code",
   "execution_count": null,
   "metadata": {},
   "outputs": [],
   "source": [
    "citiesLinks = citiesLinks.drop_duplicates()\n",
    "AllData = InstituteCount.merge(citiesLinks, left_on=\"city\", right_on=\"city\")[[\"dbpedia\", \"callret-1\"]]\n",
    "Regions = Regions.drop_duplicates()\n",
    "InstituteRegion = AllData.merge(Regions, left_on=\"dbpedia\", right_on=\"dbpedia\")[[\"callret-1\", \"regionLabel\"]]\n",
    "\n",
    "RegionNumber = {}\n",
    "for idx, row in InstituteRegion.iterrows():\n",
    "    if row[\"regionLabel\"] not in RegionNumber:\n",
    "        RegionNumber[row[\"regionLabel\"]] = row[\"callret-1\"]\n",
    "    else: \n",
    "        RegionNumber[row[\"regionLabel\"]] += row[\"callret-1\"]\n",
    "\n",
    "with open(\"RegionCityPropertyCount.json\", \"w\", encoding=\"utf-8\") as f:\n",
    "    json.dump(RegionNumber, f, indent=4, ensure_ascii=False)"
   ]
  }
 ],
 "metadata": {
  "kernelspec": {
   "display_name": "Python 3",
   "language": "python",
   "name": "python3"
  },
  "language_info": {
   "codemirror_mode": {
    "name": "ipython",
    "version": 3
   },
   "file_extension": ".py",
   "mimetype": "text/x-python",
   "name": "python",
   "nbconvert_exporter": "python",
   "pygments_lexer": "ipython3",
   "version": "3.10.7"
  },
  "orig_nbformat": 4,
  "vscode": {
   "interpreter": {
    "hash": "909775f4c1c1337c10dd26386ad7fdd8e68c24cfe611dcacc1a198b9e09c3e1f"
   }
  }
 },
 "nbformat": 4,
 "nbformat_minor": 2
}
