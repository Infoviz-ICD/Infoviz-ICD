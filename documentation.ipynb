{
 "cells": [
  {
   "attachments": {},
   "cell_type": "markdown",
   "metadata": {},
   "source": [
    "<h1 style=\"text-align:center\">Cultural Sites in Italy</h1>\n",
    "Welcome in the documentation of the information visualization's project Cultural Sites in Italy. The project aims at exploring the data collected in data.beniculturali.it, related to cultural properties, collected by Arco, and cultural events, collected by the MIBACT (today MIC).<br>\n",
    "The notebook will be devided in two sections: \n",
    "<ul>\n",
    "<li>Data exploration</li>\n",
    "<li>Data management</li>\n",
    "</ul>\n",
    "\n",
    "Each section will be divided according to the two datasets: the first part will be dedicated to events, while the second to properties."
   ]
  },
  {
   "attachments": {},
   "cell_type": "markdown",
   "metadata": {},
   "source": [
    "Table of contents: \n",
    "* [1. Data Exploration](#dataExpl):\n",
    "    * [1.1 Cultural Events](#DECE)\n",
    "    * [1.2 Cultural Properties](#DECP)\n",
    "* [2. Data Management](#datamngmt):\n",
    "    * [2.1 Geospatial information](#geoinf)\n",
    "        * [2.1.1 Cultural Events' map](#GICE)\n",
    "        * [2.1.2 Cultural Properties' map](#GICP)\n",
    "    * [2.2 Additional information](addinf)\n",
    "        * [2.2.1 Cultural Events' sites per region](#AICE)\n",
    "        * [2.2.2 Cultural Propreties' institutes per region](#AICP)\n",
    "        * [2.2.3 A representative case: Florence](#AIF)"
   ]
  },
  {
   "attachments": {},
   "cell_type": "markdown",
   "metadata": {},
   "source": [
    "Before starting, let's import all the libraries necessary and assign the endpoint variables that we will use later:"
   ]
  },
  {
   "cell_type": "code",
   "execution_count": 9,
   "metadata": {},
   "outputs": [],
   "source": [
    "from geopandas import *\n",
    "from geopy.geocoders import Nominatim\n",
    "import rdflib\n",
    "from rdflib import Namespace\n",
    "from pandas import *\n",
    "\n",
    "from bokeh.plotting import figure\n",
    "from bokeh.tile_providers import get_provider, CARTODBPOSITRON\n",
    "from bokeh.io import output_notebook, show, export_png\n",
    "from bokeh.models import LogColorMapper, ColumnDataSource\n",
    "from bokeh.palettes import Oranges256 as oranges\n",
    "\n",
    "from pyproj import Proj, transform\n",
    "\n",
    "from sparql_dataframe import get\n",
    "import sparql_dataframe\n",
    "\n",
    "from SPARQLWrapper import SPARQLWrapper, JSON\n",
    "import ssl\n",
    "\n",
    "ssl._create_default_https_context = ssl._create_unverified_context\n",
    "\n",
    "\n",
    "endpoint = 'https://dati.cultura.gov.it/sparql'\n",
    "\n",
    "endpointDB = 'https://dbpedia.org/sparql'"
   ]
  },
  {
   "attachments": {},
   "cell_type": "markdown",
   "metadata": {},
   "source": [
    "<h2 style=\"text-align:center\" id=\"dataExpl\">1. Data Exploration</h2>"
   ]
  },
  {
   "attachments": {},
   "cell_type": "markdown",
   "metadata": {},
   "source": [
<<<<<<< HEAD
    "First of all we try to get information about the structure of the dataset, by exploring the **T-Box** (Terminological Box). "
   ]
  },
  {
   "cell_type": "code",
   "execution_count": null,
   "metadata": {},
   "outputs": [],
   "source": [
    "#count of all the triples in the dataset\n",
    "import sparql_dataframe\n",
    "endpoint = 'https://dati.cultura.gov.it/sparql'\n",
    "\n",
    "query_triple_count = '''\n",
    "    SELECT (COUNT (*) AS ?tripleCount) \n",
    "    WHERE {\n",
    "        ?s ?p ?o .\n",
    "    }\n",
    "'''\n",
    "\n",
    "df = sparql_dataframe.get(endpoint, query_triple_count)\n",
    "print(f'The total number of triples is:\\n {df}')"
   ]
  },
  {
   "attachments": {},
   "cell_type": "markdown",
   "metadata": {},
   "source": [
    "### Predicates\n",
    "Then we procede by obtaining the **predicates** and the **number** of their occurrences."
   ]
  },
  {
   "cell_type": "code",
   "execution_count": null,
   "metadata": {},
   "outputs": [],
   "source": [
    "#the number of predicates\n",
    "query_predicate_repetition = '''\n",
    "    SELECT ?p (COUNT(?p) AS ?predicate)\n",
    "    WHERE { \n",
    "    ?s ?p ?o .\n",
    "    }\n",
    "    GROUP BY ?p\n",
    "    ORDER BY DESC(?predicate)\n",
    "'''\n",
    "\n",
    "df = sparql_dataframe.get(endpoint, query_predicate_repetition)\n",
    "df.to_csv(\"numberOfPredicates.csv\")"
   ]
  },
  {
   "attachments": {},
   "cell_type": "markdown",
   "metadata": {},
   "source": [
    "### Classes\n",
    "Furthermore we retrieve all the classes, defined both with the type **rdfs:Class** and **owl:Class**. Since the dataset is composed by sub-dataset we expect classes defined with both the types."
   ]
  },
  {
   "cell_type": "code",
   "execution_count": null,
   "metadata": {},
   "outputs": [],
   "source": [
    "#all the classes expressed with the type rdfs:Class.\n",
    "query_classes = '''\n",
    "    PREFIX rdfs: <http://www.w3.org/2000/01/rdf-schema#>\n",
    "    SELECT DISTINCT ?c\n",
    "    WHERE {\n",
    "        ?c a rdfs:Class .\n",
    "    }\n",
    "    ORDER BY ?c\n",
    "'''\n",
    "df = sparql_dataframe.get(endpoint, query_classes)\n",
    "df.to_csv(\"Classes(rdfs).csv\")"
   ]
  },
  {
   "cell_type": "code",
   "execution_count": null,
   "metadata": {},
   "outputs": [],
   "source": [
    "#all the classes expressed with the type owl:Class.\n",
    "query_classes = '''\n",
    "    PREFIX owl: <http://www.w3.org/2002/07/owl#>\n",
    "    SELECT DISTINCT ?c\n",
    "    WHERE {\n",
    "        ?c a owl:Class .\n",
    "    }\n",
    "    ORDER BY ?c\n",
    "'''\n",
    "df = sparql_dataframe.get(endpoint, query_classes)\n",
    "df.to_csv(\"Classes(owl).csv\")"
   ]
  },
  {
   "attachments": {},
   "cell_type": "markdown",
   "metadata": {},
   "source": [
    "### Concepts\n",
    "Since this dataset could have incorporated other dataset which have their own definition of classes, we have tried also to make a list of the concepts, by extracting every concept that describes a subject, through the property **rdfs:type** (or a)."
   ]
  },
  {
   "cell_type": "code",
   "execution_count": null,
   "metadata": {},
   "outputs": [],
   "source": [
    "query_concept = '''\n",
    "    SELECT DISTINCT ?concept \n",
    "    WHERE {\n",
    "    ?s a ?concept .\n",
    "    }\n",
    "'''\n",
    "df = sparql_dataframe.get(endpoint, query_concept)\n",
    "df.to_csv(\"Concepts.csv\")"
   ]
  },
  {
   "cell_type": "code",
   "execution_count": null,
   "metadata": {},
   "outputs": [],
   "source": [
    "import sparql_dataframe\n",
    "\n",
    "endpoint = 'https://dati.cultura.gov.it/sparql'\n",
    "query_concept = '''\n",
    "\n",
    "    SELECT DISTINCT ?s\n",
    "    WHERE {\n",
    "    ?s ?p \"http://dati.beniculturali.it/cis/ArchaeologicalArea\".\n",
    "    }\n",
    "'''\n",
    "df = sparql_dataframe.get(endpoint, query_concept)\n",
    "df.to_csv(\"ArcheologicalArea.csv\")"
   ]
  },
  {
   "attachments": {},
   "cell_type": "markdown",
   "metadata": {},
   "source": [
    "<h3 style=\"text-align:center\">Cultural Events</h3>\n",
=======
    "<h3 style=\"text-align:center\" id=\"DECE\">1.1 Cultural Events</h3>\n",
>>>>>>> 9fb7496c460357f2af693790ce106cde2cc223a0
    "The <b>CIS <a href=\"http://dati.beniculturali.it/lode/extract?lang=it&url=https://raw.githubusercontent.com/italia/daf-ontologie-vocabolari-controllati/master/Ontologie/Cultural-ON/v3.2/Cultural-ON-AP_IT.rdf\">(Cultural Institute/Site and Cultural Event)</a> ontology</b> aims at modelling the data on cultural institutes or sites such as data regarding the agents that play a specific role on cultural institutes or sites, the sites themselves, the contact points, all multimedia files which describe the cultural institute or site and any other information useful to the public in order to access the institute or site.\n",
    "\n",
    "We specificially employed it to extract all the cultural events present in the dataset through the property **cis:CulturalEvent**.\n",
    "\n",
    "We get also the cultural events' names, through using the property, **rdfs:label**. We kept the IRI in order to have a unique identifier both for institutes and sites that will help us to merge our tables.\n",
    "\n",
    "Since we promptly employed the CIS ontology for the event parts of our research, we only employed the part of the dataset which used this ontology to actually be more coherent with what we worked with, which entailed that we used only the data employed by the MiBACT; to do so, a filter was employed to obtain such a thing."
   ]
  },
  {
   "cell_type": "code",
   "execution_count": 10,
   "metadata": {},
   "outputs": [],
   "source": [
    "query_events = \"\"\"\n",
    "SELECT DISTINCT ?s ?event WHERE {\n",
    " ?s a cis:CulturalEvent;\n",
    "rdfs:label ?event.\n",
    "FILTER (contains(str(?s), \"mibact\"))\n",
    "\n",
    "\n",
    "}\n",
    "\"\"\"\n",
    "df = sparql_dataframe.get(endpoint, query_events)"
   ]
  },
  {
   "attachments": {},
   "cell_type": "markdown",
   "metadata": {},
   "source": [
    "We then employed the property **cis:isHostedBySite** to extract all the sites in which the events were held as this specific property links the **Event** to the **Site** of the Cultural Institute or Site. \n",
    "\n",
    "Also in this case we actually extracted both the IRIs and the label through the same property as the one mentioned above.\n",
    "\n",
    "In many cases the same site had different URLs, and a similar situation happened with the same event having different URLs; in both cases it was due to the fact that different URLs did refer to sites or events with the same name but with different informations, hence we counted them separately."
   ]
  },
  {
   "cell_type": "code",
   "execution_count": 11,
   "metadata": {},
   "outputs": [],
   "source": [
    "query_site = \"\"\"\n",
    "SELECT DISTINCT ?s ?event ?o ?site  WHERE {\n",
    " ?s a cis:CulturalEvent;\n",
    "rdfs:label ?event.\n",
    "?s cis:isHostedBySite ?o.\n",
    "?o rdfs:label ?site.\n",
    "}\n",
    "\"\"\"\n",
    "df = sparql_dataframe.get(endpoint, query_site)"
   ]
  },
  {
   "attachments": {},
   "cell_type": "markdown",
   "metadata": {},
   "source": [
    "Then we examined various ways to retrieve the city of each event, examing the various predicates associated to them.\n",
    "\n",
    "The most appropriate and helpful way for us was to first extract the address through **cis:siteAddress** and then from here to get the city through the employment of another ontology <a href=\"https://ontopia-lode.agid.gov.it/lode/extract?url=https://w3id.org/italia/onto/CLV\">(Address (Location) Ontology)</a> and its property **clavpit:hasCity**."
   ]
  },
  {
   "cell_type": "code",
   "execution_count": 12,
   "metadata": {},
   "outputs": [],
   "source": [
    "query_culture_events = \"\"\"\n",
    "SELECT DISTINCT ?s ?event ?o ?site ?urlcity ?city WHERE {\n",
    " ?s a cis:CulturalEvent;\n",
    "rdfs:label ?event.\n",
    "?s cis:isHostedBySite ?o.\n",
    "?o rdfs:label ?site.\n",
    "?o cis:siteAddress ?address.\n",
    "?address clvapit:hasCity ?urlcity.\n",
    "?urlcity rdfs:label ?city\n",
    "}\n",
    "\"\"\"\n",
    "df = sparql_dataframe.get(endpoint, query_culture_events)"
   ]
  },
  {
   "attachments": {},
   "cell_type": "markdown",
   "metadata": {},
   "source": [
    "To further clear up this file from any duplicates that might appear we used the pandas method **drop_duplicates** in order to obtain a clearer table of all the data that we obtained together."
   ]
  },
  {
   "cell_type": "code",
   "execution_count": 13,
   "metadata": {},
   "outputs": [],
   "source": [
    "df=df.drop_duplicates([\"s\", \"o\"])"
   ]
  },
  {
   "attachments": {},
   "cell_type": "markdown",
   "metadata": {},
   "source": [
    "We saved through the method <b>to_csv</b> the dataframe obtained in the CSV format."
   ]
  },
  {
   "cell_type": "code",
   "execution_count": null,
   "metadata": {},
   "outputs": [],
   "source": [
    "df.to_csv(\"df_events\")"
   ]
  },
  {
   "attachments": {},
   "cell_type": "markdown",
   "metadata": {},
   "source": [
    "Then we worked onto counting first the **events per sites**"
   ]
  },
  {
   "cell_type": "code",
   "execution_count": null,
   "metadata": {},
   "outputs": [],
   "source": [
    "query_site = \"\"\"\n",
    "SELECT DISTINCT (count (?s) as ?count) ?site WHERE {\n",
    " ?s a cis:CulturalEvent;\n",
    "rdfs:label ?event.\n",
    "?s cis:isHostedBySite ?o.\n",
    "?o rdfs:label ?site.\n",
    "?o cis:siteAddress ?address.\n",
    "?address clvapit:hasCity ?urlcity.\n",
    "?urlcity rdfs:label ?city\n",
    "}\n",
    "\"\"\"\n",
    "df_count_sites = sparql_dataframe.get(endpoint, query_site)"
   ]
  },
  {
   "attachments": {},
   "cell_type": "markdown",
   "metadata": {},
   "source": [
    "Then the **events per city**"
   ]
  },
  {
   "cell_type": "code",
   "execution_count": null,
   "metadata": {},
   "outputs": [],
   "source": [
    "query_city = \"\"\"\n",
    "SELECT DISTINCT (count (?s) as ?count) ?urlcity ?city WHERE {\n",
    " ?s a cis:CulturalEvent;\n",
    "rdfs:label ?event.\n",
    "?s cis:isHostedBySite ?o.\n",
    "?o rdfs:label ?site.\n",
    "?o cis:siteAddress ?address.\n",
    "?address clvapit:hasCity ?urlcity.\n",
    "?urlcity rdfs:label ?city\n",
    "}\n",
    "\"\"\"\n",
    "\n",
    "df_city = sparql_dataframe.get(endpoint, query_city)"
   ]
  },
  {
   "attachments": {},
   "cell_type": "markdown",
   "metadata": {},
   "source": [
    "Then the **sites per city**."
   ]
  },
  {
   "cell_type": "code",
   "execution_count": 24,
   "metadata": {},
   "outputs": [],
   "source": [
    "query_sites_city = \"\"\"\n",
    "SELECT DISTINCT (count (?o) as ?count) ?city WHERE {\n",
    " ?s a cis:CulturalEvent;\n",
    "rdfs:label ?event.\n",
    "?s cis:isHostedBySite ?o.\n",
    "?o rdfs:label ?site.\n",
    "?o cis:siteAddress ?address.\n",
    "?address clvapit:hasCity ?urlcity.\n",
    "?urlcity rdfs:label ?city\n",
    "}\n",
    "\"\"\"\n",
    "\n",
    "df_city = sparql_dataframe.get(endpoint, query_sites_city)"
   ]
  },
  {
   "attachments": {},
   "cell_type": "markdown",
   "metadata": {},
   "source": [
    "Then **sites per region**"
   ]
  },
  {
   "cell_type": "code",
   "execution_count": 25,
   "metadata": {},
   "outputs": [],
   "source": [
    "endpoint = 'https://dati.cultura.gov.it/sparql'\n",
    "\n",
    "query_regions=\"\"\"SELECT DISTINCT (count (?o) as ?count) ?region WHERE {\n",
    " ?s a cis:CulturalEvent;\n",
    "rdfs:label ?event.\n",
    "?s cis:isHostedBySite ?o.\n",
    "?o rdfs:label ?site.\n",
    "?o cis:siteAddress ?address.\n",
    "?address clvapit:hasRegion ?regionurl.\n",
    "?regionurl rdfs:label ?region\n",
    "\n",
    "\n",
    "}\"\"\""
   ]
  },
  {
   "attachments": {},
   "cell_type": "markdown",
   "metadata": {},
   "source": [
    "After having extracted all the geographical information, we then moved onto working into the temporal one.\n",
    "\n",
    "We did this through the employment of the **Time ontology** <a href=\"https://ontopia-lode.agid.gov.it/lode/extract?url=https://w3id.org/italia/onto/TI\">(Italian application profile)</a> in the properties **tiapit:atTime**.\n",
    "\n",
    "This actually gave us a time interval composed by a **start time** and **end time**, which were then explicited through the xsd format with the properties **tiapit:startTime** and **tiapit:endTime**."
   ]
  },
  {
   "cell_type": "code",
   "execution_count": 19,
   "metadata": {},
   "outputs": [],
   "source": [
    "query_time=\"\"\"\n",
    "SELECT DISTINCT ?s ?time ?starttime ?endtime WHERE {\n",
    " ?s a cis:CulturalEvent;\n",
    "rdfs:label ?event.\n",
    "?s tiapit:atTime ?time.\n",
    "?time tiapit:startTime ?startTime;\n",
    "tiapit:endTime ?endtime.\n",
    "}\"\"\"\n",
    "EventsYears = sparql_dataframe.get(endpoint, query_time)"
   ]
  },
  {
   "attachments": {},
   "cell_type": "markdown",
   "metadata": {},
   "source": [
    "Similarly as we had done with the geographical information we counted how many events through the years."
   ]
  },
  {
   "cell_type": "code",
   "execution_count": null,
   "metadata": {},
   "outputs": [],
   "source": [
    "query_count_time =\"\"\"\n",
    "SELECT DISTINCT (count (?s) as ?count)  (year(xsd:dateTime(?starttime)) as ?StartYear) (year(xsd:dateTime(?endtime)) as ?EndYear) WHERE {\n",
    " ?s a cis:CulturalEvent;\n",
    "rdfs:label ?event.\n",
    "?s tiapit:atTime ?time.\n",
    "?time tiapit:startTime ?starttime;\n",
    "tiapit:endTime ?entime.\n",
    "?s cis:isHostedBySite ?o.\n",
    "?o rdfs:label ?site.\n",
    "?o cis:siteAddress ?address.\n",
    "?address clvapit:hasCity ?urlcity.\n",
    "}\"\"\"\n",
    "\n",
    "df_time_count = sparql_dataframe.get(endpoint, query_count_time)"
   ]
  },
  {
   "attachments": {},
   "cell_type": "markdown",
   "metadata": {},
   "source": [
    "<h3 style=\"text-align:center\" id=\"DECP\">1.2 Cultural Properties</h3>\n",
    "Arco ontology tries to give the widest representation of italian cultural heritage, inglobing all the main classifications provided by international organizations. The class <b>arco:CulturalProperty</b> is the higher class, however it is not always assigned to all the cultural properties in the dataset. Furthermore each cultural property can belong to different classes. For this reason, in order to retrieve all the cultural properties, we applyed a filter which lists all the possible classes and subclasses that have as type on of the cultural properties'classes."
   ]
  },
  {
   "cell_type": "code",
   "execution_count": 14,
   "metadata": {},
   "outputs": [
    {
     "data": {
      "text/html": [
       "<div>\n",
       "<style scoped>\n",
       "    .dataframe tbody tr th:only-of-type {\n",
       "        vertical-align: middle;\n",
       "    }\n",
       "\n",
       "    .dataframe tbody tr th {\n",
       "        vertical-align: top;\n",
       "    }\n",
       "\n",
       "    .dataframe thead th {\n",
       "        text-align: right;\n",
       "    }\n",
       "</style>\n",
       "<table border=\"1\" class=\"dataframe\">\n",
       "  <thead>\n",
       "    <tr style=\"text-align: right;\">\n",
       "      <th></th>\n",
       "      <th>o</th>\n",
       "    </tr>\n",
       "  </thead>\n",
       "  <tbody>\n",
       "    <tr>\n",
       "      <th>0</th>\n",
       "      <td>https://w3id.org/arco/ontology/arco/Archaeolog...</td>\n",
       "    </tr>\n",
       "    <tr>\n",
       "      <th>1</th>\n",
       "      <td>https://w3id.org/arco/ontology/arco/Architectu...</td>\n",
       "    </tr>\n",
       "    <tr>\n",
       "      <th>2</th>\n",
       "      <td>https://w3id.org/arco/ontology/arco/CulturalPr...</td>\n",
       "    </tr>\n",
       "    <tr>\n",
       "      <th>3</th>\n",
       "      <td>https://w3id.org/arco/ontology/arco/HistoricOr...</td>\n",
       "    </tr>\n",
       "    <tr>\n",
       "      <th>4</th>\n",
       "      <td>https://w3id.org/arco/ontology/arco/ImmovableC...</td>\n",
       "    </tr>\n",
       "    <tr>\n",
       "      <th>5</th>\n",
       "      <td>https://w3id.org/arco/ontology/arco/Intangible...</td>\n",
       "    </tr>\n",
       "    <tr>\n",
       "      <th>6</th>\n",
       "      <td>https://w3id.org/arco/ontology/arco/MusicHeritage</td>\n",
       "    </tr>\n",
       "    <tr>\n",
       "      <th>7</th>\n",
       "      <td>https://w3id.org/arco/ontology/arco/NaturalHer...</td>\n",
       "    </tr>\n",
       "    <tr>\n",
       "      <th>8</th>\n",
       "      <td>https://w3id.org/arco/ontology/arco/Numismatic...</td>\n",
       "    </tr>\n",
       "    <tr>\n",
       "      <th>9</th>\n",
       "      <td>https://w3id.org/arco/ontology/arco/Photograph...</td>\n",
       "    </tr>\n",
       "    <tr>\n",
       "      <th>10</th>\n",
       "      <td>https://w3id.org/arco/ontology/arco/Scientific...</td>\n",
       "    </tr>\n",
       "    <tr>\n",
       "      <th>11</th>\n",
       "      <td>https://w3id.org/arco/ontology/arco/BotanicalH...</td>\n",
       "    </tr>\n",
       "    <tr>\n",
       "      <th>12</th>\n",
       "      <td>https://w3id.org/arco/ontology/arco/PlanetaryS...</td>\n",
       "    </tr>\n",
       "    <tr>\n",
       "      <th>13</th>\n",
       "      <td>https://w3id.org/arco/ontology/arco/MineralHer...</td>\n",
       "    </tr>\n",
       "    <tr>\n",
       "      <th>14</th>\n",
       "      <td>https://w3id.org/arco/ontology/arco/Zoological...</td>\n",
       "    </tr>\n",
       "  </tbody>\n",
       "</table>\n",
       "</div>"
      ],
      "text/plain": [
       "                                                    o\n",
       "0   https://w3id.org/arco/ontology/arco/Archaeolog...\n",
       "1   https://w3id.org/arco/ontology/arco/Architectu...\n",
       "2   https://w3id.org/arco/ontology/arco/CulturalPr...\n",
       "3   https://w3id.org/arco/ontology/arco/HistoricOr...\n",
       "4   https://w3id.org/arco/ontology/arco/ImmovableC...\n",
       "5   https://w3id.org/arco/ontology/arco/Intangible...\n",
       "6   https://w3id.org/arco/ontology/arco/MusicHeritage\n",
       "7   https://w3id.org/arco/ontology/arco/NaturalHer...\n",
       "8   https://w3id.org/arco/ontology/arco/Numismatic...\n",
       "9   https://w3id.org/arco/ontology/arco/Photograph...\n",
       "10  https://w3id.org/arco/ontology/arco/Scientific...\n",
       "11  https://w3id.org/arco/ontology/arco/BotanicalH...\n",
       "12  https://w3id.org/arco/ontology/arco/PlanetaryS...\n",
       "13  https://w3id.org/arco/ontology/arco/MineralHer...\n",
       "14  https://w3id.org/arco/ontology/arco/Zoological..."
      ]
     },
     "execution_count": 14,
     "metadata": {},
     "output_type": "execute_result"
    }
   ],
   "source": [
    "query = '''\n",
    "SELECT COUNT(DISTINCT(?CP) as ?count) ?o WHERE {\n",
    "?CP a ?o.\n",
    "FILTER (?o = arco:CulturalProperty || ?o = arco:IntangibleCulturalProperty || ?o = arco:TangibleCulturalProperty || ?o = arco:ArchaeologicalProperty || ?o = arco:ImmovableCulturalProperty || ?o = arco:ArchitecturalOrLandscapeHeritage || ?o = arco:HistoricOrArtisticProperty || ?o = arco:MusicHeritage || ?o = arco:NaturalHeritage || ?o = arco:BotanicalHeritage || ?o = arco:MineralHeritage || ?o = arco:PalaeontologicalHeritage || ?o = arco:PertologicHeritage || ?o = arco:PlanetaryScienceHeritage || ?o = arco:ZoologicalHeritage || ?o = arco:NumismaticProperty || ?o = arco:PhotographicHeritage || ?o = arco:ScientificOrTechnologicalHeritage)\n",
    "}\n",
    "'''\n",
    "\n",
    "CulturalProperties = get(endpoint, query)\n",
    "CulturalProperties"
   ]
  },
  {
   "cell_type": "code",
   "execution_count": null,
   "metadata": {},
   "outputs": [],
   "source": [
    "df.to_csv(\"df_properties\")"
   ]
  },
  {
   "attachments": {},
   "cell_type": "markdown",
   "metadata": {},
   "source": [
    "We procede getting the cultural institute's names. the predicate a-loc:hasCulturalInstituteOrSite links an object to a cultural institute or site (museums, libraries, archives, archaeological sites, monumental building). We keep as information the number of cultural properties per institute.</br>\n",
    "From now on the subclasses which don't have instances will be removed from the filter. "
   ]
  },
  {
   "cell_type": "code",
   "execution_count": 15,
   "metadata": {},
   "outputs": [
    {
     "data": {
      "text/html": [
       "<div>\n",
       "<style scoped>\n",
       "    .dataframe tbody tr th:only-of-type {\n",
       "        vertical-align: middle;\n",
       "    }\n",
       "\n",
       "    .dataframe tbody tr th {\n",
       "        vertical-align: top;\n",
       "    }\n",
       "\n",
       "    .dataframe thead th {\n",
       "        text-align: right;\n",
       "    }\n",
       "</style>\n",
       "<table border=\"1\" class=\"dataframe\">\n",
       "  <thead>\n",
       "    <tr style=\"text-align: right;\">\n",
       "      <th></th>\n",
       "      <th>institute</th>\n",
       "      <th>callret-1</th>\n",
       "      <th>instituteLabel</th>\n",
       "    </tr>\n",
       "  </thead>\n",
       "  <tbody>\n",
       "    <tr>\n",
       "      <th>0</th>\n",
       "      <td>https://w3id.org/arco/resource/CulturalInstitu...</td>\n",
       "      <td>484</td>\n",
       "      <td>Collezione Archeoclub</td>\n",
       "    </tr>\n",
       "    <tr>\n",
       "      <th>1</th>\n",
       "      <td>https://w3id.org/arco/resource/CulturalInstitu...</td>\n",
       "      <td>2</td>\n",
       "      <td>Collezione Opere Grafiche U. Boccioni</td>\n",
       "    </tr>\n",
       "    <tr>\n",
       "      <th>2</th>\n",
       "      <td>https://w3id.org/arco/resource/CulturalInstitu...</td>\n",
       "      <td>4175</td>\n",
       "      <td>Museo Nazionale Archeologico Prenestino</td>\n",
       "    </tr>\n",
       "    <tr>\n",
       "      <th>3</th>\n",
       "      <td>https://w3id.org/arco/resource/CulturalInstitu...</td>\n",
       "      <td>1</td>\n",
       "      <td>Raccolte Artistiche del Castello Sforzesco</td>\n",
       "    </tr>\n",
       "    <tr>\n",
       "      <th>4</th>\n",
       "      <td>https://w3id.org/arco/resource/CulturalInstitu...</td>\n",
       "      <td>2</td>\n",
       "      <td>Raccolte Artistiche del Castello Sforzesco</td>\n",
       "    </tr>\n",
       "    <tr>\n",
       "      <th>...</th>\n",
       "      <td>...</td>\n",
       "      <td>...</td>\n",
       "      <td>...</td>\n",
       "    </tr>\n",
       "    <tr>\n",
       "      <th>3169</th>\n",
       "      <td>https://w3id.org/arco/resource/CulturalInstitu...</td>\n",
       "      <td>194</td>\n",
       "      <td>Soprintendenza archeologica della Puglia</td>\n",
       "    </tr>\n",
       "    <tr>\n",
       "      <th>3170</th>\n",
       "      <td>https://w3id.org/arco/resource/CulturalInstitu...</td>\n",
       "      <td>5</td>\n",
       "      <td>Complesso Museale di Palazzo Ducale</td>\n",
       "    </tr>\n",
       "    <tr>\n",
       "      <th>3171</th>\n",
       "      <td>https://w3id.org/arco/resource/CulturalInstitu...</td>\n",
       "      <td>18</td>\n",
       "      <td>Museo della Reggia di Caserta</td>\n",
       "    </tr>\n",
       "    <tr>\n",
       "      <th>3172</th>\n",
       "      <td>https://w3id.org/arco/resource/Lombardia/Cultu...</td>\n",
       "      <td>1</td>\n",
       "      <td>Raccolte Artistiche del Castello Sforzesco. Co...</td>\n",
       "    </tr>\n",
       "    <tr>\n",
       "      <th>3173</th>\n",
       "      <td>https://w3id.org/arco/resource/CulturalInstitu...</td>\n",
       "      <td>1</td>\n",
       "      <td>Sezione Romana, Necropoli, vetrina 2</td>\n",
       "    </tr>\n",
       "  </tbody>\n",
       "</table>\n",
       "<p>3174 rows × 3 columns</p>\n",
       "</div>"
      ],
      "text/plain": [
       "                                              institute  callret-1  \\\n",
       "0     https://w3id.org/arco/resource/CulturalInstitu...        484   \n",
       "1     https://w3id.org/arco/resource/CulturalInstitu...          2   \n",
       "2     https://w3id.org/arco/resource/CulturalInstitu...       4175   \n",
       "3     https://w3id.org/arco/resource/CulturalInstitu...          1   \n",
       "4     https://w3id.org/arco/resource/CulturalInstitu...          2   \n",
       "...                                                 ...        ...   \n",
       "3169  https://w3id.org/arco/resource/CulturalInstitu...        194   \n",
       "3170  https://w3id.org/arco/resource/CulturalInstitu...          5   \n",
       "3171  https://w3id.org/arco/resource/CulturalInstitu...         18   \n",
       "3172  https://w3id.org/arco/resource/Lombardia/Cultu...          1   \n",
       "3173  https://w3id.org/arco/resource/CulturalInstitu...          1   \n",
       "\n",
       "                                         instituteLabel  \n",
       "0                                 Collezione Archeoclub  \n",
       "1                 Collezione Opere Grafiche U. Boccioni  \n",
       "2               Museo Nazionale Archeologico Prenestino  \n",
       "3            Raccolte Artistiche del Castello Sforzesco  \n",
       "4            Raccolte Artistiche del Castello Sforzesco  \n",
       "...                                                 ...  \n",
       "3169           Soprintendenza archeologica della Puglia  \n",
       "3170                Complesso Museale di Palazzo Ducale  \n",
       "3171                      Museo della Reggia di Caserta  \n",
       "3172  Raccolte Artistiche del Castello Sforzesco. Co...  \n",
       "3173               Sezione Romana, Necropoli, vetrina 2  \n",
       "\n",
       "[3174 rows x 3 columns]"
      ]
     },
     "execution_count": 15,
     "metadata": {},
     "output_type": "execute_result"
    }
   ],
   "source": [
    "query = '''\n",
    "SELECT DISTINCT(?institute) COUNT(DISTINCT(?s) as ?CP_count) ?instituteLabel WHERE {\n",
    "?s a ?o.\n",
    "FILTER (?o = arco:CulturalProperty || ?o = arco:IntangibleCulturalProperty || ?o = arco:ArchaeologicalProperty || ?o = arco:ImmovableCulturalProperty || ?o = arco:ArchitecturalOrLandscapeHeritage || ?o = arco:HistoricOrArtisticProperty || ?o = arco:MusicHeritage || ?o = arco:NaturalHeritage || ?o = arco:BotanicalHeritage || ?o = arco:MineralHeritage || ?o = arco:PlanetaryScienceHeritage || ?o = arco:ZoologicalHeritage || ?o = arco:NumismaticProperty || ?o = arco:PhotographicHeritage || ?o = arco:ScientificOrTechnologicalHeritage)\n",
    "?s a-loc:hasCulturalInstituteOrSite ?institute.\n",
    "?institute rdfs:label ?instituteLabel.\n",
    "}\n",
    "'''\n",
    "\n",
    "CulturalInstitutes = get(endpoint, query)\n",
    "CulturalInstitutes"
   ]
  },
  {
   "attachments": {},
   "cell_type": "markdown",
   "metadata": {},
   "source": [
    "In order to retreive the coordinates of our cultural properties we use the predicate clvapit:hasGeometry. Also, since there are a lot of cultural properties which belongs to the same institute, i.e. they have the same coordinates, we filter per institute. The institute is the juridical. The predicate a-loc:hasCulturalInstituteOrSite links an object to a cultural institute or site (museums, libraries, archives, archaeological sites, monumental building). An institute can have more sites, i.e. georeferences physical space, associated to it."
   ]
  },
  {
   "cell_type": "code",
   "execution_count": null,
   "metadata": {},
   "outputs": [],
   "source": [
    "query = '''\n",
    "SELECT DISTINCT(?institute) COUNT(DISTINCT(?s) as ?CP_count)  ?lat ?long WHERE {\n",
    "?s a ?o.\n",
    "FILTER (?o = arco:CulturalProperty || ?o = arco:IntangibleCulturalProperty || ?o = arco:TangibleCulturalProperty || ?o = arco:ArchaeologicalProperty || ?o = arco:ImmovableCulturalProperty || ?o = arco:ArchitecturalOrLandscapeHeritage || ?o = arco:HistoricOrArtisticProperty || ?o = arco:MusicHeritage || ?o = arco:NaturalHeritage || ?o = arco:BotanicalHeritage || ?o = arco:MineralHeritage || ?o = arco:PalaeontologicalHeritage || ?o = arco:PertologicHeritage || ?o = arco:PlanetaryScienceHeritage || ?o = arco:ZoologicalHeritage || ?o = arco:NumismaticProperty || ?o = arco:PhotographicHeritage || ?o = arco:ScientificOrTechnologicalHeritage)\n",
    "?s a-loc:hasCulturalInstituteOrSite ?institute.\n",
    "  ?s clvapit:hasGeometry ?geometry .\n",
    "  ?geometry a-loc:hasCoordinates ?coordinates .\n",
    "?coordinates a-loc:lat ?lat.\n",
    "?coordinates a-loc:long ?long.\n",
    "}\n",
    "'''\n",
    "Coordinates = get(endpoint, query)"
   ]
  },
  {
   "attachments": {},
   "cell_type": "markdown",
   "metadata": {},
   "source": [
    "In order to retrieve the cities we need to use two other properties: \n",
    "- cis:hasSite: it is in the range of the class cis:Site which defines a georeferences physical space. An institute can have more sites associated to it.\n",
    "- cis:siteAddress: it is a subclass of clvapit:hasAddress. \n",
    "We want to know the city for each institute."
   ]
  },
  {
   "cell_type": "code",
   "execution_count": null,
   "metadata": {},
   "outputs": [],
   "source": [
    "query = '''\n",
    "SELECT DISTINCT(?institute) ?city ?cityLabel WHERE {\n",
    "?CP a ?o.\n",
    "FILTER (?o = arco:CulturalProperty || ?o = arco:IntangibleCulturalProperty || ?o = arco:TangibleCulturalProperty || ?o = arco:ArchaeologicalProperty || ?o = arco:ImmovableCulturalProperty || ?o = arco:ArchitecturalOrLandscapeHeritage || ?o = arco:HistoricOrArtisticProperty || ?o = arco:MusicHeritage || ?o = arco:NaturalHeritage || ?o = arco:BotanicalHeritage || ?o = arco:MineralHeritage || ?o = arco:PalaeontologicalHeritage || ?o = arco:PertologicHeritage || ?o = arco:PlanetaryScienceHeritage || ?o = arco:ZoologicalHeritage || ?o = arco:NumismaticProperty || ?o = arco:PhotographicHeritage || ?o = arco:ScientificOrTechnologicalHeritage)\n",
    "?CP a-loc:hasCulturalInstituteOrSite ?institute.\n",
    "?institute cis:hasSite ?site.\n",
    "?site cis:siteAddress ?address.\n",
    "?address clvapit:hasCity ?city.\n",
    "?city rdfs:label ?cityLabel\n",
    "}\n",
    "'''\n",
    "\n",
    "cities = get(endpoint, query)\n",
    "cities"
   ]
  },
  {
   "attachments": {},
   "cell_type": "markdown",
   "metadata": {},
   "source": [
<<<<<<< HEAD
    "Then we saved it."
   ]
  },
  {
   "cell_type": "code",
   "execution_count": null,
   "metadata": {},
   "outputs": [],
   "source": [
    "cities.to_csv(\"cites.csv\")"
   ]
  },
  {
   "attachments": {},
   "cell_type": "markdown",
   "metadata": {},
   "source": [
    "<h2 style=\"text-align:center\">Data Management</h2>\n",
=======
    "<h2 style=\"text-align:center\" id=\"datamngmt\">2. Data Management</h2>\n",
>>>>>>> 9fb7496c460357f2af693790ce106cde2cc223a0
    "In this section we will: \n",
    "<ul>\n",
    "    <li>retrieve geospatial information in order to plot them in an actual map;</li>\n",
    "    <li>visualize some of the emerging pattern;</li>\n",
    "    <li>address more specific research queries;</li>\n",
    "</ul>"
   ]
  },
  {
   "attachments": {},
   "cell_type": "markdown",
   "metadata": {},
   "source": [
    "<h3 style=\"text-align:center\" id=\"geoinf\">2.1 Geospatial information</h3>"
   ]
  },
  {
   "attachments": {},
   "cell_type": "markdown",
   "metadata": {},
   "source": [
    "<h3 style=\"text-align:center\" id=\"GICE\">2.1.1 Cultural Events' map</h3>\n",
    "In order to retreive information about longitude and latitude of the city which have hosted cultural events, we need to recur to the dbpedia database. For this reason, first we will collect the dbpedia link for each city and then we will query the dbpedia sparql endpoint to retrieve geospatial information."
   ]
  },
  {
   "cell_type": "code",
   "execution_count": null,
   "metadata": {},
   "outputs": [],
   "source": [
    "query = '''\n",
    "SELECT DISTINCT(?s) ?event ?dbpedia ?urlcity ?label WHERE {\n",
    " ?s a cis:CulturalEvent;\n",
    "rdfs:label ?event.\n",
    "?s cis:isHostedBySite ?o.\n",
    "?o rdfs:label ?site.\n",
    "?o cis:siteAddress ?address.\n",
    "?address clvapit:hasCity ?urlcity.\n",
    "?urlcity owl:sameAs ?urlcity2.\n",
    "?urlcity2 rdfs:label ?label.\n",
    "?urlcity2 owl:sameAs ?dbpedia.\n",
    "FILTER (contains(str(?dbpedia), \"dbpedia\"))\n",
    "}\n",
    "'''\n",
    "\n",
    "dbPediaLinks = get(endpoint, query)\n",
    "dbPediaLinks"
   ]
  },
  {
   "cell_type": "code",
   "execution_count": 2,
   "metadata": {},
   "outputs": [],
   "source": [
    "dbpedia = dbPediaLinks[\"dbpedia\"].drop_duplicates()\n",
    "link = []\n",
    "\n",
    "\n",
    "CE_coordinates = DataFrame({\"latitude\":[], \"longitude\":[]})\n",
    "\n",
    "for idx, item in dbpedia.items():\n",
    "    query = '''\n",
    "    SELECT ?latitude ?longitude WHERE {\n",
    "       '''f'<{item}>''''  geo:lat ?latitude;\n",
    "        geo:long ?longitude.\n",
    "    } '''\n",
    "    coordinates = get(endpointDB, query)\n",
    "    link.append(item)\n",
    "    CE_coordinates = concat([CE_coordinates, coordinates])\n",
    "\n",
    "CE_coordinates.insert(0, \"dbPedia\", link)\n",
    "CE_coordinates"
   ]
  },
  {
   "attachments": {},
   "cell_type": "markdown",
   "metadata": {},
   "source": [
    "Now we plot the cities in a map, using the python library bokeh."
   ]
  },
  {
   "cell_type": "code",
   "execution_count": null,
   "metadata": {},
   "outputs": [],
   "source": [
    "CE_coordinates_cleaned = CE_coordinates.merge(dbPediaLinks, left_on=\"dbPedia\", right_on=\"dbpedia\")\n",
    "CE_coordinates_cleaned = CE_coordinates_cleaned[[\"event\", \"label\", \"latitude\", \"longitude\"]].drop_duplicates(subset= [\"event\"])\n",
    "CE_coordinates_cleaned.reset_index()\n",
    "\n",
    "# projection WGS 84 - used by GPS\n",
    "inProj = Proj(init='epsg:4326')\n",
    "\n",
    "# WGS84 Pseudo Web Mercator - projection used by most web services, e.g. Google Maps, OpenStreet Maps\n",
    "outProj = Proj(init='epsg:3857')\n",
    "\n",
    "CE_coordinates_cleaned['longitude'],CE_coordinates_cleaned['latitude'] = transform(inProj,outProj,CE_coordinates_cleaned['longitude'].values,CE_coordinates_cleaned['latitude'].values)\n",
    "CE_coordinates_cleaned.head()"
   ]
  },
  {
   "cell_type": "code",
   "execution_count": null,
   "metadata": {},
   "outputs": [],
   "source": [
    "# create a dictionary with lists\n",
    "source = ColumnDataSource(data=dict(\n",
    "    lat=CE_coordinates_cleaned.latitude.values.tolist(),\n",
    "    lon=CE_coordinates_cleaned.longitude.values.tolist(),\n",
    "    name=CE_coordinates_cleaned.event.values.tolist(),\n",
    "    keeper=CE_coordinates_cleaned.label.values.tolist()\n",
    "))"
   ]
  },
  {
   "cell_type": "code",
   "execution_count": null,
   "metadata": {},
   "outputs": [],
   "source": [
    "# import tile\n",
    "cartodb = get_provider('CARTODBPOSITRON')\n",
    "\n",
    "# draw the frame\n",
    "p = figure(outer_width=900, outer_height=700, # range EU/Africa\n",
    "           x_axis_type=\"mercator\", y_axis_type=\"mercator\", # labels on axes\n",
    "           tooltips=[ (\"Name\", \"@name, @keeper\")],\n",
    "           title=\"Cultural Events sites\")\n",
    "\n",
    "# add tile\n",
    "p.add_tile(cartodb)\n",
    "\n",
    "# draw points\n",
    "p.circle(x='lon', y='lat',\n",
    "         size=5,\n",
    "         fill_color=\"gold\", line_color=\"gold\",\n",
    "         fill_alpha=0.3,\n",
    "         source=source)\n",
    "\n",
    "# add for colab output\n",
    "output_notebook()\n",
    "\n",
    "show(p)\n",
    "export_png(p, filename=\"CitiesCE.png\")"
   ]
  },
  {
   "attachments": {},
   "cell_type": "markdown",
   "metadata": {},
   "source": [
    "<h3 style=\"text-align:center\" id=\"GICP\">2.1.2 Cultural Properties' map</h3>\n",
    "The same process will be followed for the cultural properties. Since the data have the property clvapit:hasGeometry, which through the predicate a-loc:hasCoordinates from Arco locations and geometry provide directly the latitude and longitude of the institutes, we will plot one map to explore those locations. \n",
    "\n",
    "Furthermore a second map will be produced through the latitude and longitude of the cities, retrieved from dbpedia, with the same procedure as for cultural events, in order to compare those two maps. "
   ]
  },
  {
   "attachments": {},
   "cell_type": "markdown",
   "metadata": {},
   "source": [
    "**Cultural Properties' Institutes Map**"
   ]
  },
  {
   "cell_type": "code",
   "execution_count": null,
   "metadata": {},
   "outputs": [],
   "source": [
    "query = '''\n",
    "SELECT DISTINCT(?CP) ?stripped_CPLabel ?institute ?instituteLabel ?lat ?long WHERE {\n",
    "?CP a ?o.\n",
    "FILTER (?o = arco:CulturalProperty || ?o = arco:IntangibleCulturalProperty || ?o = arco:TangibleCulturalProperty || ?o = arco:ArchaeologicalProperty || ?o = arco:ImmovableCulturalProperty || ?o = arco:ArchitecturalOrLandscapeHeritage || ?o = arco:HistoricOrArtisticProperty || ?o = arco:MusicHeritage || ?o = arco:NaturalHeritage || ?o = arco:BotanicalHeritage || ?o = arco:MineralHeritage || ?o = arco:PalaeontologicalHeritage || ?o = arco:PertologicHeritage || ?o = arco:PlanetaryScienceHeritage || ?o = arco:ZoologicalHeritage || ?o = arco:NumismaticProperty || ?o = arco:PhotographicHeritage || ?o = arco:ScientificOrTechnologicalHeritage)\n",
    "?CP rdfs:label ?CPLabel;\n",
    "a-loc:hasCulturalInstituteOrSite ?institute.\n",
    "BIND (STR(?CPLabel)  AS ?stripped_CPLabel)\n",
    "?institute rdfs:label ?instituteLabel.\n",
    "  ?CP clvapit:hasGeometry ?geometry .\n",
    "  ?geometry a-loc:hasCoordinates ?coordinates .\n",
    "?coordinates a-loc:lat ?lat.\n",
    "?coordinates a-loc:long ?long.\n",
    "}\n",
    "'''\n",
    "CP_coordinates = get(endpoint, query)"
   ]
  },
  {
   "cell_type": "code",
   "execution_count": null,
   "metadata": {},
   "outputs": [],
   "source": [
    "CP_coordinates['long'],CP_coordinates['lat'] = transform(inProj,outProj,CP_coordinates['long'].values,CP_coordinates['lat'].values)\n",
    "CP_coordinates.head()"
   ]
  },
  {
   "cell_type": "code",
   "execution_count": null,
   "metadata": {},
   "outputs": [],
   "source": [
    "# create a dictionary with lists\n",
    "source = ColumnDataSource(data=dict(\n",
    "    lat=CP_coordinates.lat.values.tolist(),\n",
    "    lon=CP_coordinates.long.values.tolist(),\n",
    "    name=CP_coordinates.stripped_CPLabel.values.tolist(),\n",
    "    keeper=CP_coordinates.instituteLabel.values.tolist()\n",
    "))"
   ]
  },
  {
   "cell_type": "code",
   "execution_count": null,
   "metadata": {},
   "outputs": [],
   "source": [
    "# draw the frame\n",
    "p = figure(outer_width=900, outer_height=700,\n",
    "            x_range=(2000000, 800000), y_range=(4300000, 6000000),\n",
    "           x_axis_type=\"mercator\", y_axis_type=\"mercator\", # labels on axes\n",
    "           tooltips=[ (\"Name\", \"@name, @keeper\")],\n",
    "           title=\"Cultural Properties sites\")\n",
    "\n",
    "# add tile\n",
    "p.add_tile(cartodb)\n",
    "\n",
    "# draw points\n",
    "p.circle(x='lon', y='lat',\n",
    "         size=5,\n",
    "         fill_color=\"mediumpurple\", line_color=\"mediumpurple\",\n",
    "         fill_alpha=0.3,\n",
    "         source=source)\n",
    "\n",
    "# add for colab output\n",
    "output_notebook()\n",
    "\n",
    "show(p)\n",
    "export_png(p, filename=\"InstitutesCP.png\")"
   ]
  },
  {
   "attachments": {},
   "cell_type": "markdown",
   "metadata": {},
   "source": [
    "**Cultural Properties' cities map**\n",
    "We already have extracted the cities from the dataset, but now we retrieve for each city also the dbpedia link. After this passage we can query the dbpedia endpoint in order to retrieve the coordinates."
   ]
  },
  {
   "cell_type": "code",
   "execution_count": null,
   "metadata": {},
   "outputs": [],
   "source": [
    "cityLinksToSearch = cities[\"city\"].drop_duplicates()\n",
    "citiesLinks = DataFrame({})\n",
    "\n",
    "for idx, city in cityLinksToSearch.items(): \n",
    "    query1 = '''\n",
    "    SELECT ('''f'<{city}>'''') as ?city ?dbpedia WHERE {\n",
    "        '''f'<{city}>'''' owl:sameAs ?dbpedia \n",
    "        FILTER (contains(str(?dbpedia), \"dbpedia\"))}'''\n",
    "    CP_dbPediaLink = get(endpoint, query1)\n",
    "    citiesLinks = concat([citiesLinks, CP_dbPediaLink])\n",
    "\n",
    "citiesLinks"
   ]
  },
  {
   "cell_type": "code",
   "execution_count": null,
   "metadata": {},
   "outputs": [],
   "source": [
    "CPCityCoordinates = DataFrame({})\n",
    "for idx, item in citiesLinks[\"dbpedia\"].drop_duplicates().items() :\n",
    "    query2 = '''\n",
    "        SELECT ('''f'<{item}>'''') as ?dbpedia ?latitude ?longitude WHERE{\n",
    "           '''f'<{item}>'''' geo:lat ?latitude;\n",
    "        geo:long ?longitude.\n",
    "    }'''\n",
    "    coordinates = get(endpointDB, query2)\n",
    "    CPCityCoordinates = concat([CPCityCoordinates, coordinates])\n",
    "CPCityCoordinates"
   ]
  },
  {
   "cell_type": "code",
   "execution_count": null,
   "metadata": {},
   "outputs": [],
   "source": [
    "CPCityCoordinatesMerged = CPCityCoordinates.merge(citiesLinks, left_on=\"dbpedia\", right_on=\"dbpedia\")[[\"city\", \"latitude\", \"longitude\"]].drop_duplicates()\n",
    "CPCityCoordinatesMerged = CPCityCoordinatesMerged.merge(cities, left_on=\"city\", right_on=\"city\")[[\"stripped_CPLabel\", \"cityLabel\", \"latitude\", \"longitude\"]].drop_duplicates()\n",
    "CPCityCoordinatesMerged"
   ]
  },
  {
   "cell_type": "code",
   "execution_count": null,
   "metadata": {},
   "outputs": [],
   "source": [
    "CPCityCoordinatesMerged['longitude'],CPCityCoordinatesMerged['latitude'] = transform(inProj,outProj,CPCityCoordinatesMerged['longitude'].values,CPCityCoordinatesMerged['latitude'].values)\n",
    "CPCityCoordinatesMerged.head()"
   ]
  },
  {
   "cell_type": "code",
   "execution_count": null,
   "metadata": {},
   "outputs": [],
   "source": [
    "# create a dictionary with lists\n",
    "source = ColumnDataSource(data=dict(\n",
    "    lat=CPCityCoordinatesMerged.latitude.values.tolist(),\n",
    "    lon=CPCityCoordinatesMerged.longitude.values.tolist(),\n",
    "    name=CPCityCoordinatesMerged.stripped_CPLabel.values.tolist(),\n",
    "    keeper=CPCityCoordinatesMerged.cityLabel.values.tolist()\n",
    "))"
   ]
  },
  {
   "cell_type": "code",
   "execution_count": null,
   "metadata": {},
   "outputs": [],
   "source": [
    "# draw the frame\n",
    "p = figure(outer_width=900, outer_height=700,\n",
    "           x_range=(2000000, 800000), y_range=(4300000, 6000000),\n",
    "           x_axis_type=\"mercator\", y_axis_type=\"mercator\", # labels on axes\n",
    "           tooltips=[ (\"Name\", \"@name, @keeper\")],\n",
    "           title=\"Cultural Properties sites\")\n",
    "\n",
    "# add tile\n",
    "p.add_tile(cartodb)\n",
    "\n",
    "# draw points\n",
    "p.circle(x='lon', y='lat',\n",
    "         size=5,\n",
    "         fill_color=\"mediumpurple\", line_color=\"mediumpurple\",\n",
    "         fill_alpha=0.3,\n",
    "         source=source)\n",
    "\n",
    "# add for colab output\n",
    "output_notebook()\n",
    "\n",
    "show(p)\n",
    "export_png(p, filename=\"CitiesCP.png\")"
   ]
  },
  {
   "attachments": {},
   "cell_type": "markdown",
   "metadata": {},
   "source": [
<<<<<<< HEAD
    "<h3>Time</h3>\n",
    "\n",
    "We didn't only work with spatial data but we also manipulated also the information regarding time when it came to events (as cultural properties' time information regarded only the time in which they were created).\n",
    "\n",
    "To do so we employed the use of dictionaries, after having queried the dataset to gain the events and their start and end time (considering just the year)."
=======
    "<h3 style=\"text-align:center\" id=\"addinf\">2.2 Additional information: Regions</div>"
   ]
  },
  {
   "attachments": {},
   "cell_type": "markdown",
   "metadata": {},
   "source": [
    "<h3 style=\"text-align:center\" id=\"AICE\">2.2.1 Cultural Events' sites per region</h3>\n",
    "We retrieve the information about the regions from dbpedia and, after cleaning the label, we count how many cultural sites of cultural events each region host."
>>>>>>> 9fb7496c460357f2af693790ce106cde2cc223a0
   ]
  },
  {
   "cell_type": "code",
<<<<<<< HEAD
   "execution_count": 20,
   "metadata": {},
   "outputs": [
    {
     "data": {
      "text/html": [
       "<div>\n",
       "<style scoped>\n",
       "    .dataframe tbody tr th:only-of-type {\n",
       "        vertical-align: middle;\n",
       "    }\n",
       "\n",
       "    .dataframe tbody tr th {\n",
       "        vertical-align: top;\n",
       "    }\n",
       "\n",
       "    .dataframe thead th {\n",
       "        text-align: right;\n",
       "    }\n",
       "</style>\n",
       "<table border=\"1\" class=\"dataframe\">\n",
       "  <thead>\n",
       "    <tr style=\"text-align: right;\">\n",
       "      <th></th>\n",
       "      <th>s</th>\n",
       "      <th>startTime</th>\n",
       "      <th>endTime</th>\n",
       "    </tr>\n",
       "  </thead>\n",
       "  <tbody>\n",
       "    <tr>\n",
       "      <th>0</th>\n",
       "      <td>http://dati.beniculturali.it/mibact/eventi/res...</td>\n",
       "      <td>2022</td>\n",
       "      <td>2022</td>\n",
       "    </tr>\n",
       "    <tr>\n",
       "      <th>1</th>\n",
       "      <td>http://dati.beniculturali.it/mibact/eventi/res...</td>\n",
       "      <td>2022</td>\n",
       "      <td>2022</td>\n",
       "    </tr>\n",
       "    <tr>\n",
       "      <th>2</th>\n",
       "      <td>http://dati.beniculturali.it/mibact/eventi/res...</td>\n",
       "      <td>2022</td>\n",
       "      <td>2022</td>\n",
       "    </tr>\n",
       "    <tr>\n",
       "      <th>3</th>\n",
       "      <td>http://dati.beniculturali.it/mibact/eventi/res...</td>\n",
       "      <td>2022</td>\n",
       "      <td>2022</td>\n",
       "    </tr>\n",
       "    <tr>\n",
       "      <th>4</th>\n",
       "      <td>http://dati.beniculturali.it/mibact/eventi/res...</td>\n",
       "      <td>2022</td>\n",
       "      <td>2022</td>\n",
       "    </tr>\n",
       "    <tr>\n",
       "      <th>...</th>\n",
       "      <td>...</td>\n",
       "      <td>...</td>\n",
       "      <td>...</td>\n",
       "    </tr>\n",
       "    <tr>\n",
       "      <th>21223</th>\n",
       "      <td>http://dati.beniculturali.it/mibact/eventi/res...</td>\n",
       "      <td>2023</td>\n",
       "      <td>2023</td>\n",
       "    </tr>\n",
       "    <tr>\n",
       "      <th>21224</th>\n",
       "      <td>http://dati.beniculturali.it/mibact/eventi/res...</td>\n",
       "      <td>2023</td>\n",
       "      <td>2023</td>\n",
       "    </tr>\n",
       "    <tr>\n",
       "      <th>21225</th>\n",
       "      <td>http://dati.beniculturali.it/mibact/eventi/res...</td>\n",
       "      <td>2023</td>\n",
       "      <td>2023</td>\n",
       "    </tr>\n",
       "    <tr>\n",
       "      <th>21226</th>\n",
       "      <td>http://dati.beniculturali.it/mibact/eventi/res...</td>\n",
       "      <td>2023</td>\n",
       "      <td>2023</td>\n",
       "    </tr>\n",
       "    <tr>\n",
       "      <th>21227</th>\n",
       "      <td>http://dati.beniculturali.it/mibact/eventi/res...</td>\n",
       "      <td>2023</td>\n",
       "      <td>2023</td>\n",
       "    </tr>\n",
       "  </tbody>\n",
       "</table>\n",
       "<p>21228 rows × 3 columns</p>\n",
       "</div>"
      ],
      "text/plain": [
       "                                                       s  startTime  endTime\n",
       "0      http://dati.beniculturali.it/mibact/eventi/res...       2022     2022\n",
       "1      http://dati.beniculturali.it/mibact/eventi/res...       2022     2022\n",
       "2      http://dati.beniculturali.it/mibact/eventi/res...       2022     2022\n",
       "3      http://dati.beniculturali.it/mibact/eventi/res...       2022     2022\n",
       "4      http://dati.beniculturali.it/mibact/eventi/res...       2022     2022\n",
       "...                                                  ...        ...      ...\n",
       "21223  http://dati.beniculturali.it/mibact/eventi/res...       2023     2023\n",
       "21224  http://dati.beniculturali.it/mibact/eventi/res...       2023     2023\n",
       "21225  http://dati.beniculturali.it/mibact/eventi/res...       2023     2023\n",
       "21226  http://dati.beniculturali.it/mibact/eventi/res...       2023     2023\n",
       "21227  http://dati.beniculturali.it/mibact/eventi/res...       2023     2023\n",
       "\n",
       "[21228 rows x 3 columns]"
      ]
     },
     "execution_count": 20,
     "metadata": {},
     "output_type": "execute_result"
    }
   ],
   "source": [
    "query = '''\n",
    "SELECT DISTINCT(?s) (year(xsd:dateTime(?starttime)) as ?startTime) (year(xsd:dateTime(?endtime)) as ?endTime) WHERE {\n",
    " ?s a cis:CulturalEvent;\n",
    "rdfs:label ?event.\n",
    "?s tiapit:atTime ?time.\n",
    "?time tiapit:startTime ?starttime; \n",
    "tiapit:endTime ?endtime.\n",
    "}\n",
    "'''\n",
    "\n",
    "EventsYears = get(endpoint, query)\n",
    "EventsYears "
=======
   "execution_count": null,
   "metadata": {},
   "outputs": [],
   "source": [
    "dbpedia = dbPediaLinks[\"dbpedia\"].drop_duplicates()\n",
    "link = []\n",
    "\n",
    "\n",
    "Regions = DataFrame({})\n",
    "\n",
    "for idx, item in dbpedia.items():\n",
    "    query = '''\n",
    "        SELECT ('''f'<{item}>'''') as ?dbpedia ?region ?regionLabel WHERE{\n",
    "        '''f'<{item}>'''' dbo:region ?region.\n",
    "        ?region rdfs:label ?regionLabel.\n",
    "        FILTER (langMatches(lang(?regionLabel), \"it\"))\n",
    "    }'''\n",
    "    coordinates = get(endpointDB, query)\n",
    "    link.append(item)\n",
    "    Regions = concat([Regions, coordinates])\n",
    "    \n",
    "Regions"
   ]
  },
  {
   "cell_type": "code",
   "execution_count": null,
   "metadata": {},
   "outputs": [],
   "source": [
    "Regions[\"regionLabel\"] = Regions[\"regionLabel\"].replace(to_replace=\"Marken\", value='Marche')\n",
    "Regions[\"regionLabel\"] = Regions[\"regionLabel\"].replace(to_replace=\"Consiglio regionale della Lombardia\", value='Lombardia')\n",
    "Regions[\"regionLabel\"] = Regions[\"regionLabel\"].replace(to_replace=\"Consiglio regionale del Friuli-Venezia Giulia\", value='Friuli-Venezia Giulia')\n",
    "Regions[\"regionLabel\"] = Regions[\"regionLabel\"].replace(to_replace=\"Friuli\", value='Friuli-Venezia Giulia')\n",
    "Regions[\"regionLabel\"] = Regions[\"regionLabel\"].replace(to_replace=\"Emilia\", value='Emilia-Romagna')\n",
    "Regions[\"regionLabel\"] = Regions[\"regionLabel\"].replace(to_replace=\"Emilia Romagna\", value='Emilia-Romagna')\n",
    "Regions[\"regionLabel\"] = Regions[\"regionLabel\"].replace(to_replace=\"Sardegna (isola)\", value='Sardegna')\n",
    "Regions[\"regionLabel\"] = Regions[\"regionLabel\"].replace(to_replace=\"Regno di Sardegna\", value='Sardegna')\n",
    "Regions[\"regionLabel\"] = Regions[\"regionLabel\"].replace(to_replace=\"Isola di Sicilia\", value='Sicilia')\n",
    "Regions[\"regionLabel\"] = Regions[\"regionLabel\"].replace(to_replace=\"Sicilia (provincia romana)\", value='Sicilia')\n",
    "Regions[\"regionLabel\"] = Regions[\"regionLabel\"].replace(to_replace=\"Consiglio regionale della Calabria\", value='Calabria')\n",
    "Regions[\"regionLabel\"] = Regions[\"regionLabel\"].replace(to_replace=\"Aosta\", value=\"Valle d'Aosta\")\n",
    "Regions[\"regionLabel\"] = Regions[\"regionLabel\"].replace(to_replace=\"Provincia di Udine\", value='Friuli-Venezia Giulia')\n",
    "Regions[\"regionLabel\"] = Regions[\"regionLabel\"].replace(to_replace=\"Latium\", value='Lazio')\n",
    "Regions[\"regionLabel\"].drop_duplicates()\n",
    "Regions"
   ]
  },
  {
   "cell_type": "code",
   "execution_count": null,
   "metadata": {},
   "outputs": [],
   "source": [
    "AllData = dbPediaLinks.merge(Regions, left_on=\"dbpedia\", right_on=\"dbpedia\")[[\"urlcity\", \"regionLabel\"]]\n",
    "AllData = AllData.merge(df_city, left_on=\"urlcity\", right_on=\"urlcity\")[[\"callret-1\", \"city\", \"regionLabel\"]]"
   ]
  },
  {
   "cell_type": "code",
   "execution_count": null,
   "metadata": {},
   "outputs": [],
   "source": [
    "import json\n",
    "EventCount = {}\n",
    "for idx, row in AllData.iterrows():\n",
    "    if row[\"regionLabel\"] not in EventCount:\n",
    "        EventCount[row[\"regionLabel\"]] = {}\n",
    "        EventCount[row[\"regionLabel\"]][row[\"city\"]] = row[\"callret-1\"]\n",
    "    else: \n",
    "        if row[\"urlcitylabel\"] not in EventCount:\n",
    "            EventCount[row[\"regionLabel\"]][row[\"city\"]] = row[\"callret-1\"]\n",
    "        else: \n",
    "            EventCount[row[\"regionLabel\"]][row[\"city\"]] += row[\"callret-1\"]\n",
    "\n",
    "with open(\"RegionCityEventCount.json\", \"w\", encoding=\"utf-8\") as f:\n",
    "    json.dump(EventCount, f, indent=4, ensure_ascii=False)"
   ]
  },
  {
   "attachments": {},
   "cell_type": "markdown",
   "metadata": {},
   "source": [
    "<h3 style=\"text-align:center\" id=\"AICP\">2.2.2 Cultural Properties' institutes per region</h3>\n",
    "The same procedure we will follow for the cultural properties' institutes."
   ]
  },
  {
   "cell_type": "code",
   "execution_count": null,
   "metadata": {},
   "outputs": [],
   "source": [
    "Regions = DataFrame({})\n",
    "for idx, item in citiesLinks[\"dbpedia\"].drop_duplicates().items() :\n",
    "    query2 = '''\n",
    "        SELECT ('''f'<{item}>'''') as ?dbpedia ?region ?regionLabel WHERE{\n",
    "        '''f'<{item}>'''' dbo:region ?region.\n",
    "        ?region rdfs:label ?regionLabel.\n",
    "        FILTER (langMatches(lang(?regionLabel), \"it\"))\n",
    "    }'''\n",
    "    coordinates = get(endpointDB, query2)\n",
    "    Regions = concat([Regions, coordinates])\n",
    "Regions"
   ]
  },
  {
   "cell_type": "code",
   "execution_count": null,
   "metadata": {},
   "outputs": [],
   "source": [
    "query = '''\n",
    "SELECT DISTINCT(?city) COUNT(DISTINCT(?institute) as ?count) WHERE {\n",
    "?CP a ?o.\n",
    "FILTER (?o = arco:CulturalProperty || ?o = arco:IntangibleCulturalProperty || ?o = arco:TangibleCulturalProperty || ?o = arco:ArchaeologicalProperty || ?o = arco:ImmovableCulturalProperty || ?o = arco:ArchitecturalOrLandscapeHeritage || ?o = arco:HistoricOrArtisticProperty || ?o = arco:MusicHeritage || ?o = arco:NaturalHeritage || ?o = arco:BotanicalHeritage || ?o = arco:MineralHeritage || ?o = arco:PalaeontologicalHeritage || ?o = arco:PertologicHeritage || ?o = arco:PlanetaryScienceHeritage || ?o = arco:ZoologicalHeritage || ?o = arco:NumismaticProperty || ?o = arco:PhotographicHeritage || ?o = arco:ScientificOrTechnologicalHeritage)\n",
    " ?CP a-loc:hasCulturalInstituteOrSite ?institute.\n",
    "?institute cis:hasSite ?site.\n",
    "?site cis:siteAddress ?address.\n",
    "?address clvapit:hasCity ?city.\n",
    "}\n",
    "'''\n",
    "\n",
    "InstituteCount = get(endpoint, query)\n",
    "InstituteCount"
>>>>>>> 9fb7496c460357f2af693790ce106cde2cc223a0
   ]
  },
  {
   "cell_type": "code",
<<<<<<< HEAD
   "execution_count": 21,
   "metadata": {},
   "outputs": [
    {
     "data": {
      "text/plain": [
       "{2022: 6449,\n",
       " 2021: 5355,\n",
       " 2023: 799,\n",
       " 2020: 7283,\n",
       " 2018: 15,\n",
       " 2013: 1,\n",
       " 2014: 11,\n",
       " 2019: 2824,\n",
       " 2015: 5,\n",
       " 2016: 2,\n",
       " 2017: 3,\n",
       " 2010: 1}"
      ]
     },
     "execution_count": 21,
     "metadata": {},
     "output_type": "execute_result"
    }
   ],
   "source": [
    "EventCountPerYear = {}\n",
    "\n",
    "for idx, row in EventsYears.iterrows():\n",
    "    if row[\"startTime\"] == row[\"endTime\"]:\n",
    "        if row[\"startTime\"] not in EventCountPerYear:\n",
    "            EventCountPerYear[row[\"startTime\"]] = 1\n",
    "        else:\n",
    "            EventCountPerYear[row[\"startTime\"]] += 1\n",
    "    elif row[\"startTime\"] < row[\"endTime\"]:\n",
    "        if row[\"startTime\"] not in EventCountPerYear:\n",
    "            EventCountPerYear[row[\"startTime\"]] = 1\n",
    "        else:\n",
    "            EventCountPerYear[row[\"startTime\"]] += 1\n",
    "        if row[\"endTime\"] not in EventCountPerYear:\n",
    "            EventCountPerYear[row[\"endTime\"]] = 1\n",
    "        else:\n",
    "            EventCountPerYear[row[\"endTime\"]] += 1\n",
    "        OtherYears = int(row[\"endTime\"]) - int(row[\"startTime\"])\n",
    "        for i in range(OtherYears):\n",
    "            year = int(row[\"startTime\"]) + 1\n",
    "            if year not in EventCountPerYear:\n",
    "                EventCountPerYear[year] = 1\n",
    "            else:\n",
    "                EventCountPerYear[year] += 1\n",
    "    else:         \n",
    "        if row[\"startTime\"] not in EventCountPerYear:\n",
    "            EventCountPerYear[row[\"startTime\"]] = 1\n",
    "        else:\n",
    "            EventCountPerYear[row[\"startTime\"]] += 1\n",
    "        if row[\"endTime\"] not in EventCountPerYear:\n",
    "            EventCountPerYear[row[\"endTime\"]] = 1\n",
    "        else:\n",
    "            EventCountPerYear[row[\"endTime\"]] += 1\n",
    "EventCountPerYear\n",
    "    \n"
=======
   "execution_count": null,
   "metadata": {},
   "outputs": [],
   "source": [
    "Regions[\"regionLabel\"] = Regions[\"regionLabel\"].replace(to_replace=\"Marken\", value='Marche')\n",
    "Regions[\"regionLabel\"] = Regions[\"regionLabel\"].replace(to_replace=\"Consiglio regionale della Lombardia\", value='Lombardia')\n",
    "Regions[\"regionLabel\"] = Regions[\"regionLabel\"].replace(to_replace=\"Consiglio regionale del Friuli-Venezia Giulia\", value='Friuli-Venezia Giulia')\n",
    "Regions[\"regionLabel\"] = Regions[\"regionLabel\"].replace(to_replace=\"Friuli\", value='Friuli-Venezia Giulia')\n",
    "Regions[\"regionLabel\"] = Regions[\"regionLabel\"].replace(to_replace=\"Emilia\", value='Emilia-Romagna')\n",
    "Regions[\"regionLabel\"] = Regions[\"regionLabel\"].replace(to_replace=\"Emilia Romagna\", value='Emilia-Romagna')\n",
    "Regions[\"regionLabel\"].drop_duplicates()\n",
    "Regions"
   ]
  },
  {
   "cell_type": "code",
   "execution_count": null,
   "metadata": {},
   "outputs": [],
   "source": [
    "citiesLinks = citiesLinks.drop_duplicates()\n",
    "AllData = InstituteCount.merge(citiesLinks, left_on=\"city\", right_on=\"city\")[[\"dbpedia\", \"callret-1\"]]\n",
    "Regions = Regions.drop_duplicates()\n",
    "InstituteRegion = AllData.merge(Regions, left_on=\"dbpedia\", right_on=\"dbpedia\")[[\"callret-1\", \"regionLabel\"]]\n",
    "\n",
    "RegionNumber = {}\n",
    "for idx, row in InstituteRegion.iterrows():\n",
    "    if row[\"regionLabel\"] not in RegionNumber:\n",
    "        RegionNumber[row[\"regionLabel\"]] = row[\"callret-1\"]\n",
    "    else: \n",
    "        RegionNumber[row[\"regionLabel\"]] += row[\"callret-1\"]\n",
    "\n",
    "with open(\"RegionCityPropertyCount.json\", \"w\", encoding=\"utf-8\") as f:\n",
    "    json.dump(RegionNumber, f, indent=4, ensure_ascii=False)"
>>>>>>> 9fb7496c460357f2af693790ce106cde2cc223a0
   ]
  },
  {
   "attachments": {},
   "cell_type": "markdown",
   "metadata": {},
   "source": [
<<<<<<< HEAD
    "Then we dived deeper into a specific year **(2020)** as it seemed the more interesting and useful for our study"
=======
    "<h3 style=\"text-align:center\" id=\"AIF\">A representative case: Florence</h3>\n",
    "Since Tuscany is the region with the higher number of cultural properties' instutes present in the dataset and one of the region with the higher number of cultural events, we continued our analysis by inspecting the data of the cities in Tuscany.</br>\n",
    "What emerged was that Florence was the city with the higher number of both cultural events and cultural properties. By plotting those information into a map we will be able to inspect if additional pattern emerges."
   ]
  },
  {
   "attachments": {},
   "cell_type": "markdown",
   "metadata": {},
   "source": [
    "We performed our query on the endpoint, asking both for the property clvapit:Address and clvapit:fullAddress. The first will return the IRI, while the second the Literal with the full address of the relative site. \n",
    "We saved our results in Turtle and we will reimport them through the python library rdflib with a graph data structure."
   ]
  },
  {
   "attachments": {},
   "cell_type": "markdown",
   "metadata": {},
   "source": [
    "From the graph we extract all the literals and through the librarie geopandas and geopy we will retrieve the coordinates from the addresses. After this we will plot the institutes in a map, as we have done for the cities."
   ]
  },
  {
   "attachments": {},
   "cell_type": "markdown",
   "metadata": {},
   "source": [
    "<h4 style=\"text-align:center\">Cultural Events' sites in Florence</h4>"
>>>>>>> 9fb7496c460357f2af693790ce106cde2cc223a0
   ]
  },
  {
   "cell_type": "code",
<<<<<<< HEAD
   "execution_count": 22,
   "metadata": {},
   "outputs": [
    {
     "data": {
      "text/plain": [
       "{11: 234,\n",
       " 10: 612,\n",
       " 12: 284,\n",
       " 9: 1530,\n",
       " 1: 264,\n",
       " 2: 339,\n",
       " 3: 1802,\n",
       " 4: 2398,\n",
       " 5: 1841,\n",
       " 6: 837,\n",
       " 7: 212,\n",
       " 8: 236}"
      ]
     },
     "execution_count": 22,
     "metadata": {},
     "output_type": "execute_result"
    }
   ],
   "source": [
    "query_2020=\"\"\"SELECT DISTINCT (?s) (month(xsd:dateTime(?starttime)) as ?StartMonth) (month(xsd:dateTime(?endtime)) as ?EndMonth)WHERE {\n",
    " ?s a cis:CulturalEvent;\n",
    "rdfs:label ?event.\n",
    "?s tiapit:atTime ?time.\n",
    "?time tiapit:startTime ?starttime;\n",
    "tiapit:endTime ?endtime.\n",
    "FILTER (year(xsd:dateTime(?starttime))=2020)\n",
    "FILTER (year(xsd:dateTime(?endtime))=2020)\n",
    "}\"\"\"\n",
    "\n",
    "df_2020 =  sparql_dataframe.get(endpoint, query_2020)\n",
    "\n",
    "\n",
    "EventCountPerMonth = {}\n",
    "\n",
    "for idx, row in df_2020.iterrows():\n",
    "    if row[\"StartMonth\"] == row[\"EndMonth\"]:\n",
    "        if row[\"StartMonth\"] not in EventCountPerMonth:\n",
    "            EventCountPerMonth[row[\"StartMonth\"]] = 1\n",
    "        else:\n",
    "            EventCountPerMonth[row[\"StartMonth\"]] += 1\n",
    "    elif row[\"StartMonth\"] < row[\"EndMonth\"]:\n",
    "        if row[\"StartMonth\"] not in EventCountPerMonth:\n",
    "            EventCountPerMonth[row[\"StartMonth\"]] = 1\n",
    "        else:\n",
    "            EventCountPerMonth[row[\"StartMonth\"]] += 1\n",
    "        OtherYears = int(row[\"EndMonth\"]) - int(row[\"StartMonth\"])\n",
    "        year = int(row[\"StartMonth\"]) + 1\n",
    "        for i in range(OtherYears):\n",
    "            if year not in EventCountPerMonth:\n",
    "                EventCountPerMonth[year] = 1\n",
    "            else:\n",
    "                EventCountPerMonth[year] += 1\n",
    "            year += 1\n",
    "    else:         \n",
    "        if row[\"StartMonth\"] not in EventCountPerMonth:\n",
    "            EventCountPerMonth[row[\"StartMonth\"]] = 1\n",
    "        else:\n",
    "            EventCountPerMonth[row[\"StartMonth\"]] += 1\n",
    "        if row[\"EndMonth\"] not in EventCountPerMonth:\n",
    "            EventCountPerMonth[row[\"EndMonth\"]] = 1\n",
    "        else:\n",
    "            EventCountPerMonth[row[\"EndMonth\"]] += 1\n",
    "EventCountPerMonth"
=======
   "execution_count": null,
   "metadata": {},
   "outputs": [],
   "source": [
    "graph = rdflib.Graph()\n",
    "FlorenceCEData = graph.parse(\"data/FirenzeCE.ttl\", format=\"ttl\")\n",
    "\n",
    "address= []\n",
    "lat = []\n",
    "long = []\n",
    "\n",
    "res = Namespace('http://www.w3.org/2005/sparql-results#')\n",
    "for obj in FlorenceCEData.objects(predicate=res.value, unique=True):\n",
    "    if \"http\" not in obj:\n",
    "        if \"S.S.\" in obj:\n",
    "            obj = obj.replace(\"S.S.\", \"della Santissima\")\n",
    "        if \"de’\" in obj or \"de'\" in obj: \n",
    "            obj = obj.replace(\"de’\", \"dei\")\n",
    "            obj = obj.replace(\"de'\", \"dei\")\n",
    "            obj = obj.replace(\"2\", \"\")\n",
    "        if \"piazza di Madonna\" in obj: \n",
    "            obj = obj.replace(\"piazza di Madonna\", \"Piazza Madonna\")\n",
    "        if \"2 sedi\" in obj: \n",
    "            obj = obj.replace(\"2 sedi\", \"Via del Proconsolo, 4\")\n",
    "        if \"Massaccio\" in obj: \n",
    "            obj = obj.replace(\"Massaccio\", \"Masaccio\")\n",
    "        if \"via Borgo\" in obj: \n",
    "            obj = obj.replace(\"via Borgo\", \"Cenacolo\")\n",
    "        if \"Cavour\" in obj: \n",
    "            obj = obj.replace(\"Cavour\", \"Camillo Cavour\")\n",
    "        if \"Guardiavia\" in obj: \n",
    "            obj = obj.replace(\"Guardiavia\", \"Guardavia\")\n",
    "        if \"piazzale delle Murate\" in obj: \n",
    "            obj = obj.replace(\"piazzale\", \"Piazza\")\n",
    "        if \"piazza Santo Stefano al Ponte\"in obj: \n",
    "            obj = obj.replace(\"piazza Santo Stefano al Ponte\", \"piazza San Stefano\")\n",
    "        if \"Pitti\" in obj: \n",
    "            obj = obj.replace(\"Pitti\", \"dei Pitti\")\n",
    "        if \"piazza Strozzi\" in obj or \"Piazza Strozzi\" in obj: \n",
    "            obj = obj.replace(\"Strozzi\", \"degli Strozzi\")\n",
    "        if \"Piazza San Lorenzo\" in obj or \"San Lorenzo\": \n",
    "            obj = obj.replace(\"Piazza San Lorenzo\", \"Piazza di San Lorenzo\")\n",
    "            obj = obj.replace(\"San Lorenzo\", \"Piazza di San Lorenzo\")\n",
    "        if \"via Ginori\" in obj: \n",
    "            obj = obj.replace(\"via Ginori\", \"via dei Ginori\")\n",
    "        locator = Nominatim(user_agent=\"myGeocoder\")\n",
    "        location = locator.geocode(obj)\n",
    "        lat.append(location.latitude)\n",
    "        long.append(location.longitude)\n",
    "        address.append(obj)\n",
    "Data = DataFrame({\"address\":address, \"latitude\":lat, \"longitude\":long})"
   ]
  },
  {
   "cell_type": "code",
   "execution_count": null,
   "metadata": {},
   "outputs": [],
   "source": [
    "Data['longitude'],Data['latitude'] = transform(inProj,outProj,Data['longitude'].values,Data['latitude'].values)\n",
    "Data.head()"
   ]
  },
  {
   "cell_type": "code",
   "execution_count": null,
   "metadata": {},
   "outputs": [],
   "source": [
    "# create a dictionary with lists\n",
    "source = ColumnDataSource(data=dict(\n",
    "    lat=Data.latitude.values.tolist(),\n",
    "    lon=Data.longitude.values.tolist(),\n",
    "    name=Data.address.values.tolist()\n",
    "))"
   ]
  },
  {
   "cell_type": "code",
   "execution_count": null,
   "metadata": {},
   "outputs": [],
   "source": [
    "# draw the frame\n",
    "p = figure(outer_width=900, outer_height=700,\n",
    "           x_axis_type=\"mercator\", y_axis_type=\"mercator\", # labels on axes\n",
    "           tooltips=[ (\"Name\", \"@name\")],\n",
    "           title=\"Firenze Cultural Event's sites\")\n",
    "\n",
    "# add tile\n",
    "p.add_tile(cartodb)\n",
    "\n",
    "# draw points\n",
    "p.circle(x='lon', y='lat',\n",
    "         size=10,\n",
    "         fill_color=\"gold\", line_color=\"gold\",\n",
    "         fill_alpha=0.3,\n",
    "         source=source)\n",
    "\n",
    "# add for colab output\n",
    "output_notebook()\n",
    "\n",
    "show(p)"
   ]
  },
  {
   "attachments": {},
   "cell_type": "markdown",
   "metadata": {},
   "source": [
    "<h4 style=\"text-align:center\">Cultural Properties' sites in Florence</h4>"
   ]
  },
  {
   "cell_type": "code",
   "execution_count": null,
   "metadata": {},
   "outputs": [],
   "source": [
    "graph = rdflib.Graph()\n",
    "FlorenceCPData = graph.parse(\"data/FirenzeCP.ttl\", format=\"ttl\")\n",
    "\n",
    "address= []\n",
    "lat = []\n",
    "long = []\n",
    "\n",
    "for obj in example_result.objects(predicate=res.value, unique=True):\n",
    "    if \"http\" not in obj:\n",
    "        if \"Firenze\" not in obj:\n",
    "            obj = obj + \" - Firenze\"\n",
    "        obj = obj.replace(\"de’\", \"dei\")\n",
    "        obj = obj.replace(\"de'\", \"dei\")\n",
    "        if re.search(r'\\d, \\d', obj):\n",
    "            obj = obj.replace(\",\", \"-\")\n",
    "        obj = obj.replace(\"La Pira\", \"Giorgio La Pira\")\n",
    "        obj = obj.replace(\"pia zza\", \"piazza\")\n",
    "        obj = obj.replace(\"P.zza\", \"Piazza\")\n",
    "        obj = obj.replace(\"p.zza\", \"Piazza\")\n",
    "        obj = obj.replace(\"P.za\", \"Piazza\")\n",
    "        obj = obj.replace(\"p.za\", \"Piazza\")\n",
    "        obj = obj.replace(\"SS.\", \"della Santissima\")\n",
    "        obj = obj.replace(\"S.ma\", \"della Santissima\")\n",
    "        if \"Pitti\" in obj or \"pitti\" in obj: \n",
    "            obj = obj.replace(\"Piazza Pitti\", \"Piazza dei Pitti\")\n",
    "            obj = obj.replace(\"piazza pitti\", \"Piazza dei Pitti\")\n",
    "            obj = obj.replace(\"piazza Pitti\", \"Piazza dei Pitti\")\n",
    "        locator = Nominatim(user_agent=\"myGeocoder\")\n",
    "        location = locator.geocode(obj)\n",
    "        lat.append(location.latitude)\n",
    "        long.append(location.longitude)\n",
    "        address.append(obj)\n",
    "Data = DataFrame({\"address\":address, \"latitude\":lat, \"longitude\":long})"
   ]
  },
  {
   "cell_type": "code",
   "execution_count": null,
   "metadata": {},
   "outputs": [],
   "source": [
    "Data['longitude'],Data['latitude'] = transform(inProj,outProj,Data['longitude'].values,Data['latitude'].values)\n",
    "Data.head()\n",
    "\n",
    "# create a dictionary with lists\n",
    "source = ColumnDataSource(data=dict(\n",
    "    lat=Data.latitude.values.tolist(),\n",
    "    lon=Data.longitude.values.tolist(),\n",
    "    name=Data.address.values.tolist()\n",
    "))"
   ]
  },
  {
   "cell_type": "code",
   "execution_count": null,
   "metadata": {},
   "outputs": [],
   "source": [
    "# draw the frame\n",
    "p = figure(outer_width=900, outer_height=700,\n",
    "           x_axis_type=\"mercator\", y_axis_type=\"mercator\", # labels on axes\n",
    "           tooltips=[ (\"Name\", \"@name\")],\n",
    "           title=\"Firenze Cultural Properties's sites\")\n",
    "\n",
    "# add tile\n",
    "p.add_tile(cartodb)\n",
    "\n",
    "# draw points\n",
    "p.circle(x='lon', y='lat',\n",
    "         size=10,\n",
    "         fill_color=\"mediumpurple\", line_color=\"mediumpurple\",\n",
    "         fill_alpha=0.3,\n",
    "         source=source)\n",
    "\n",
    "# add for colab output\n",
    "output_notebook()\n",
    "\n",
    "#show_map\n",
    "show(p)"
>>>>>>> 9fb7496c460357f2af693790ce106cde2cc223a0
   ]
  }
 ],
 "metadata": {
  "kernelspec": {
   "display_name": "Python 3",
   "language": "python",
   "name": "python3"
  },
  "language_info": {
   "codemirror_mode": {
    "name": "ipython",
    "version": 3
   },
   "file_extension": ".py",
   "mimetype": "text/x-python",
   "name": "python",
   "nbconvert_exporter": "python",
   "pygments_lexer": "ipython3",
   "version": "3.10.0"
  },
  "orig_nbformat": 4,
  "vscode": {
   "interpreter": {
    "hash": "aee8b7b246df8f9039afb4144a1f6fd8d2ca17a180786b69acc140d282b71a49"
   }
  }
 },
 "nbformat": 4,
 "nbformat_minor": 2
}
