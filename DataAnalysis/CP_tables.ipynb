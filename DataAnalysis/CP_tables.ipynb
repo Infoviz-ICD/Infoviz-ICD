{
 "cells": [
  {
   "attachments": {},
   "cell_type": "markdown",
   "metadata": {},
   "source": [
    "arco:CulturalProperty is a class which contains different subclasses. Since each subclass has different attributes, we treat them separately. \n",
    "For a first inspection we want to know how many properties there are for each class, and the overall number of cultural properties.\n"
   ]
  },
  {
   "cell_type": "code",
   "execution_count": 4,
   "metadata": {},
   "outputs": [
    {
     "data": {
      "text/plain": [
       "{'CP_count': 127592,\n",
       " 'DEAH_count': 68262,\n",
       " 'HOAP_count': 2151937,\n",
       " 'MCP_count': 3229609,\n",
       " 'ICP_count': 1375,\n",
       " 'AP_count': 331294,\n",
       " 'AOLH_count': 93183,\n",
       " 'ImCP_count': 100600}"
      ]
     },
     "execution_count": 4,
     "metadata": {},
     "output_type": "execute_result"
    }
   ],
   "source": [
    "#count of all the triples in the dataset\n",
    "from sparql_dataframe import get\n",
    "endpoint = 'https://dati.cultura.gov.it/sparql'\n",
    "\n",
    "Count = {}\n",
    "\n",
    "query_CP = '''\n",
    "    SELECT (COUNT(DISTINCT ?CP) as ?CPcount)  WHERE {\n",
    "    ?CP a arco:CulturalProperty .\n",
    "    }\n",
    "'''\n",
    "CP_count = get(endpoint, query_CP)\n",
    "Count[\"CP_count\"] = CP_count.iloc[0,0]\n",
    "\n",
    "query_DEAH ='''\n",
    "    SELECT (COUNT(DISTINCT ?DEAH) as ?DEAHcount) WHERE {\n",
    "        ?DEAH a arco:DemoEthnoAnthropologicalHeritage .\n",
    "    }\n",
    "    '''\n",
    "DEAH_count = get(endpoint, query_DEAH)\n",
    "Count[\"DEAH_count\"] = DEAH_count.iloc[0,0]\n",
    "\n",
    "query_HOAP ='''\n",
    "    SELECT (COUNT(DISTINCT ?HOAP) as ?HOAPcount) WHERE {\n",
    "        ?HOAP a arco:HistoricOrArtisticProperty .\n",
    "    }\n",
    "    '''\n",
    "HOAP_count = get(endpoint, query_HOAP)\n",
    "Count[\"HOAP_count\"] = HOAP_count.iloc[0,0]\n",
    "\n",
    "query_MCP ='''\n",
    "    SELECT (COUNT(DISTINCT ?MCP) as ?MCPcount) WHERE {\n",
    "        ?MCP a arco:MovableCulturalProperty .\n",
    "    }\n",
    "    '''\n",
    "MCP_count = get(endpoint, query_MCP)\n",
    "Count[\"MCP_count\"] = MCP_count.iloc[0,0]\n",
    "\n",
    "query_ICP ='''\n",
    "    SELECT (COUNT(DISTINCT ?ICP) as ?ICPcount) WHERE {\n",
    "        ?ICP a arco:IntangibleCulturalProperty .\n",
    "    }\n",
    "    '''\n",
    "ICP_count = get(endpoint, query_ICP)\n",
    "Count[\"ICP_count\"] = ICP_count.iloc[0,0]\n",
    "\n",
    "query_AP ='''\n",
    "    SELECT (COUNT(DISTINCT ?AP) as ?APcount) WHERE {\n",
    "        ?AP a arco:ArchaeologicalProperty .\n",
    "    }\n",
    "    '''\n",
    "AP_count = get(endpoint, query_AP)\n",
    "Count[\"AP_count\"] = AP_count.iloc[0,0]\n",
    "\n",
    "query_AOLH ='''\n",
    "    SELECT (COUNT(DISTINCT ?AOLH) as ?AOLHcount) WHERE {\n",
    "       ?AOLH a arco:ArchitecturalOrLandscapeHeritage .\n",
    "    }\n",
    "    '''\n",
    "AOLH_count = get(endpoint, query_AOLH)\n",
    "Count[\"AOLH_count\"] = AOLH_count.iloc[0,0]\n",
    "\n",
    "query_ImCP ='''\n",
    "    SELECT (COUNT(DISTINCT ?ImCP) as ?ImCPcount) WHERE {\n",
    "        ?ImCP a arco:ImmovableCulturalProperty .\n",
    "    }\n",
    "    '''\n",
    "ImCP_count = get(endpoint, query_ImCP)\n",
    "Count[\"ImCP_count\"] = ImCP_count.iloc[0,0]\n",
    "\n",
    "Count"
   ]
  },
  {
   "attachments": {},
   "cell_type": "markdown",
   "metadata": {},
   "source": [
    "The overall number of all the cultural properties in the dataset will be of 3408816"
   ]
  },
  {
   "cell_type": "code",
   "execution_count": 1,
   "metadata": {},
   "outputs": [
    {
     "data": {
      "text/html": [
       "<div>\n",
       "<style scoped>\n",
       "    .dataframe tbody tr th:only-of-type {\n",
       "        vertical-align: middle;\n",
       "    }\n",
       "\n",
       "    .dataframe tbody tr th {\n",
       "        vertical-align: top;\n",
       "    }\n",
       "\n",
       "    .dataframe thead th {\n",
       "        text-align: right;\n",
       "    }\n",
       "</style>\n",
       "<table border=\"1\" class=\"dataframe\">\n",
       "  <thead>\n",
       "    <tr style=\"text-align: right;\">\n",
       "      <th></th>\n",
       "      <th>CPcount</th>\n",
       "    </tr>\n",
       "  </thead>\n",
       "  <tbody>\n",
       "    <tr>\n",
       "      <th>0</th>\n",
       "      <td>3408816</td>\n",
       "    </tr>\n",
       "  </tbody>\n",
       "</table>\n",
       "</div>"
      ],
      "text/plain": [
       "   CPcount\n",
       "0  3408816"
      ]
     },
     "execution_count": 1,
     "metadata": {},
     "output_type": "execute_result"
    }
   ],
   "source": [
    "from sparql_dataframe import get\n",
    "endpoint = 'https://dati.cultura.gov.it/sparql'\n",
    "\n",
    "query = '''\n",
    "SELECT (COUNT(DISTINCT ?CP) as ?CPcount)  WHERE {\n",
    "    ?CP a ?type\n",
    "FILTER(?type = arco:CulturalProperty || ?type = arco:DemoEthnoAnthropologicalHeritage || ?type = arco:HistoricOrArtisticProperty || ?type = arco:MovableCulturalProperty || ?type = arco:IntangibleCulturalProperty || ?type = arco:ArchaeologicalProperty || ?type = arco:ArchitecturalOrLandscapeHeritage || ?type = arco:ImmovableCulturalProperty)\n",
    "}\n",
    "'''\n",
    "\n",
    "Overall = get(endpoint, query)\n",
    "Overall"
   ]
  },
  {
   "cell_type": "code",
   "execution_count": null,
   "metadata": {},
   "outputs": [],
   "source": [
    "from sparql_dataframe import get\n",
    "endpoint = 'https://dati.cultura.gov.it/sparql'\n",
    "\n",
    "query = '''\n",
    "SELECT ?institution (COUNT(DISTINCT ?CP) as ?CPcount)  WHERE {\n",
    "    ?CP a ?type .\n",
    "FILTER(?type = arco:CulturalProperty || ?type = arco:DemoEthnoAnthropologicalHeritage || ?type = arco:HistoricOrArtisticProperty || ?type = arco:MovableCulturalProperty || ?type = arco:IntangibleCulturalProperty || ?type = arco:ArchaeologicalProperty || ?type = arco:ArchitecturalOrLandscapeHeritage || ?type = arco:ImmovableCulturalProperty).\n",
    "?CP a-loc:hasCulturalInstituteOrSite ?institution.\n",
    "}\n",
    "'''\n",
    "InstitutionCP_count = get(endpoint, query)\n",
    "InstitutionCP_count.to_csv(\"InstitutionCP_count\")"
   ]
  },
  {
   "cell_type": "code",
   "execution_count": null,
   "metadata": {},
   "outputs": [],
   "source": [
    "query = '''\n",
    "SELECT DISTINCT(?institution) ?institutionLabel ?site ?siteLabel WHERE {\n",
    "    ?CP a ?type .\n",
    "FILTER(?type = arco:CulturalProperty || ?type = arco:DemoEthnoAnthropologicalHeritage || ?type = arco:HistoricOrArtisticProperty || ?type = arco:MovableCulturalProperty || ?type = arco:IntangibleCulturalProperty || ?type = arco:ArchaeologicalProperty || ?type = arco:ArchitecturalOrLandscapeHeritage || ?type = arco:ImmovableCulturalProperty).\n",
    "?CP a-loc:hasCulturalInstituteOrSite ?institution.\n",
    "?institution rdfs:label ?institutionLabel.\n",
    "?institution cis:hasSite ?site.\n",
    "?site rdfs:label ?siteLabel\n",
    "}\n",
    "'''\n",
    "\n",
    "#final query with institution-label-count-site-label-city-label\n",
    "query = '''\n",
    "SELECT DISTINCT(?institution) ?institutionLabel COUNT(DISTINCT(?CP) as ?count) ?site ?siteLabel ?city ?cityLabel WHERE {\n",
    "    ?CP a ?type .\n",
    "FILTER(?type = arco:CulturalProperty || ?type = arco:DemoEthnoAnthropologicalHeritage || ?type = arco:HistoricOrArtisticProperty || ?type = arco:MovableCulturalProperty || ?type = arco:IntangibleCulturalProperty || ?type = arco:ArchaeologicalProperty || ?type = arco:ArchitecturalOrLandscapeHeritage || ?type = arco:ImmovableCulturalProperty).\n",
    "?CP a-loc:hasCulturalInstituteOrSite ?institution.\n",
    "?institution rdfs:label ?institutionLabel.\n",
    "?institution cis:hasSite ?site.\n",
    "?site rdfs:label ?siteLabel.\n",
    "?site cis:siteAddress ?city.\n",
    "?city rdfs:label ?cityLabel.\n",
    "}\n",
    "'''\n",
    "#just too big, needs to be managed splitted in sub-queries"
   ]
  },
  {
   "attachments": {},
   "cell_type": "markdown",
   "metadata": {},
   "source": [
    "Note that: every time you use rdfs:label it is necessary to add the bind for other languages label!\n",
    "    SELECT DISTINCT ?DEAH ?label WHERE {\n",
    "        {?DEAH a arco:DemoEthnoAnthropologicalHeritage ;\n",
    "rdfs:label ?label}\n",
    "        MINUS {?DEAH a arco:CulturalProperty.}\n",
    "    }\n",
    "Having tried befor only the ones that are also Cultural Property and then what remains not all are both CP and other labels, inspect why + search for cultural properties that are not inside any other category."
   ]
  },
  {
   "cell_type": "code",
   "execution_count": null,
   "metadata": {},
   "outputs": [],
   "source": [
    "#query to have institution-label-numberOfCulturalProperties\n",
    "query = '''\n",
    "SELECT ?institution ?label (COUNT(DISTINCT ?CP) as ?CPcount)  WHERE {\n",
    "    ?CP a ?type .\n",
    "FILTER(?type = arco:CulturalProperty || ?type = arco:DemoEthnoAnthropologicalHeritage || ?type = arco:HistoricOrArtisticProperty || ?type = arco:MovableCulturalProperty || ?type = arco:IntangibleCulturalProperty || ?type = arco:ArchaeologicalProperty || ?type = arco:ArchitecturalOrLandscapeHeritage || ?type = arco:ImmovableCulturalProperty).\n",
    "?CP a-loc:hasCulturalInstituteOrSite ?institution.\n",
    "?institution rdfs:label ?label.\n",
    "}\n",
    "'''"
   ]
  },
  {
   "cell_type": "code",
   "execution_count": 1,
   "metadata": {},
   "outputs": [
    {
     "data": {
      "text/html": [
       "<div>\n",
       "<style scoped>\n",
       "    .dataframe tbody tr th:only-of-type {\n",
       "        vertical-align: middle;\n",
       "    }\n",
       "\n",
       "    .dataframe tbody tr th {\n",
       "        vertical-align: top;\n",
       "    }\n",
       "\n",
       "    .dataframe thead th {\n",
       "        text-align: right;\n",
       "    }\n",
       "</style>\n",
       "<table border=\"1\" class=\"dataframe\">\n",
       "  <thead>\n",
       "    <tr style=\"text-align: right;\">\n",
       "      <th></th>\n",
       "      <th>callret-0</th>\n",
       "    </tr>\n",
       "  </thead>\n",
       "  <tbody>\n",
       "    <tr>\n",
       "      <th>0</th>\n",
       "      <td>245781</td>\n",
       "    </tr>\n",
       "  </tbody>\n",
       "</table>\n",
       "</div>"
      ],
      "text/plain": [
       "   callret-0\n",
       "0     245781"
      ]
     },
     "execution_count": 1,
     "metadata": {},
     "output_type": "execute_result"
    }
   ],
   "source": [
    "\n",
    "from sparql_dataframe import get\n",
    "endpoint = 'https://dati.cultura.gov.it/sparql'\n",
    "\n",
    "query = '''\n",
    "SELECT COUNT(DISTINCT(?s) as ?count) WHERE {\n",
    "?s a arco:CulturalPropertyComponent\n",
    "}\n",
    "'''\n",
    "CPC_count = get(endpoint, query)\n",
    "CPC_count"
   ]
  },
  {
   "cell_type": "code",
   "execution_count": null,
   "metadata": {},
   "outputs": [],
   "source": [
    "query = '''\n",
    "SELECT ?s ?label WHERE {\n",
    "?s a arco:CulturalProperty ;\n",
    "rdfs:label ?label.\n",
    "\n",
    "FILTER ( LANG(?label) = \"it\" )\n",
    "}\n",
    "'''\n",
    "\n",
    "#result = a table with property, institution, site and city\n",
    "query ='''\n",
    "SELECT ?propertyLabel ?institutionLabel ?siteLabel ?cityLabel WHERE {\n",
    "?property a arco:CulturalProperty ;\n",
    "rdfs:label ?propertyLabel.\n",
    "?property a-loc:hasCulturalInstituteOrSite ?institution .\n",
    "?institution cis:hasSite ?site;\n",
    "rdfs:label ?institutionLabel.\n",
    "?site cis:siteAddress ?address;\n",
    "rdfs:label ?siteLabel;\n",
    " cis:siteAddress ?city.\n",
    "?city rdfs:label ?cityLabel.\n",
    "\n",
    "FILTER ( LANG(?propertyLabel) = \"it\" )\n",
    "}\n",
    "\n",
    "'''\n",
    "\n",
    "query = '''\n",
    "SELECT ?institutionLabel (COUNT(DISTINCT ?propertyLabel) as ?count) ?siteLabel ?cityLabel WHERE {\n",
    "?property a arco:CulturalProperty ;\n",
    "rdfs:label ?propertyLabel.\n",
    "?property a-loc:hasCulturalInstituteOrSite ?institution .\n",
    "?institution cis:hasSite ?site;\n",
    "rdfs:label ?institutionLabel.\n",
    "?site cis:siteAddress ?address;\n",
    "rdfs:label ?siteLabel;\n",
    " cis:siteAddress ?city.\n",
    "?city rdfs:label ?cityLabel.\n",
    "\n",
    "FILTER ( LANG(?propertyLabel) = \"it\" )\n",
    "}\n",
    "'''"
   ]
  }
 ],
 "metadata": {
  "kernelspec": {
   "display_name": "Python 3",
   "language": "python",
   "name": "python3"
  },
  "language_info": {
   "codemirror_mode": {
    "name": "ipython",
    "version": 3
   },
   "file_extension": ".py",
   "mimetype": "text/x-python",
   "name": "python",
   "nbconvert_exporter": "python",
   "pygments_lexer": "ipython3",
   "version": "3.10.7"
  },
  "orig_nbformat": 4,
  "vscode": {
   "interpreter": {
    "hash": "909775f4c1c1337c10dd26386ad7fdd8e68c24cfe611dcacc1a198b9e09c3e1f"
   }
  }
 },
 "nbformat": 4,
 "nbformat_minor": 2
}
