{
 "cells": [
  {
   "cell_type": "code",
   "execution_count": null,
   "metadata": {},
   "outputs": [],
   "source": [
    "query = '''\n",
    "SELECT ?s ?label WHERE {\n",
    "?s a arco:CulturalProperty ;\n",
    "rdfs:label ?label.\n",
    "\n",
    "FILTER ( LANG(?label) = \"it\" )\n",
    "}\n",
    "'''\n",
    "\n",
    "#result = a table with property, institution, site and city\n",
    "query ='''\n",
    "SELECT ?propertyLabel ?institutionLabel ?siteLabel ?cityLabel WHERE {\n",
    "?property a arco:CulturalProperty ;\n",
    "rdfs:label ?propertyLabel.\n",
    "?property a-loc:hasCulturalInstituteOrSite ?institution .\n",
    "?institution cis:hasSite ?site;\n",
    "rdfs:label ?institutionLabel.\n",
    "?site cis:siteAddress ?address;\n",
    "rdfs:label ?siteLabel;\n",
    " cis:siteAddress ?city.\n",
    "?city rdfs:label ?cityLabel.\n",
    "\n",
    "FILTER ( LANG(?propertyLabel) = \"it\" )\n",
    "}\n",
    "\n",
    "'''\n",
    "\n",
    "query = '''\n",
    "SELECT ?institutionLabel (COUNT(DISTINCT ?propertyLabel) as ?count) ?siteLabel ?cityLabel WHERE {\n",
    "?property a arco:CulturalProperty ;\n",
    "rdfs:label ?propertyLabel.\n",
    "?property a-loc:hasCulturalInstituteOrSite ?institution .\n",
    "?institution cis:hasSite ?site;\n",
    "rdfs:label ?institutionLabel.\n",
    "?site cis:siteAddress ?address;\n",
    "rdfs:label ?siteLabel;\n",
    " cis:siteAddress ?city.\n",
    "?city rdfs:label ?cityLabel.\n",
    "\n",
    "FILTER ( LANG(?propertyLabel) = \"it\" )\n",
    "}\n",
    "'''"
   ]
  }
 ],
 "metadata": {
  "kernelspec": {
   "display_name": "Python 3",
   "language": "python",
   "name": "python3"
  },
  "language_info": {
   "name": "python",
   "version": "3.10.7 (tags/v3.10.7:6cc6b13, Sep  5 2022, 14:08:36) [MSC v.1933 64 bit (AMD64)]"
  },
  "orig_nbformat": 4,
  "vscode": {
   "interpreter": {
    "hash": "909775f4c1c1337c10dd26386ad7fdd8e68c24cfe611dcacc1a198b9e09c3e1f"
   }
  }
 },
 "nbformat": 4,
 "nbformat_minor": 2
}
