{
 "cells": [
  {
   "attachments": {},
   "cell_type": "markdown",
   "metadata": {},
   "source": [
    "## cis:CulturalEvents\n",
    "List of all the predicates used with objects that have type \"Cultural Entity\"."
   ]
  },
  {
   "cell_type": "code",
   "execution_count": null,
   "metadata": {},
   "outputs": [],
   "source": [
    "from rdflib import *\n",
    "from pprint import pprint\n",
    "from sparql_dataframe import get\n",
    "\n",
    "endpoint = 'https://dati.cultura.gov.it/sparql'\n",
    "\n",
    "query = '''\n",
    "PREFIX cis: <http://dati.beniculturali.it/cis/>\n",
    "\n",
    "SELECT DISTINCT ?p WHERE {\n",
    "?s a cis:CulturalEvent; \n",
    "?p ?o .\n",
    "}\n",
    "'''\n",
    "\n",
    "execute_query = get(endpoint, query, True)    "
   ]
  },
  {
   "attachments": {},
   "cell_type": "markdown",
   "metadata": {},
   "source": [
    "We procede extracting all the places in which has taken place a cultural event, thorugh the property cis:isHostedBySite. We take the label for each place. \n",
    "Furthermore we are interested in the number of cultural events for place."
   ]
  },
  {
   "cell_type": "code",
   "execution_count": null,
   "metadata": {},
   "outputs": [],
   "source": [
    "query= '''\n",
    "    PREFIX cis: <http://dati.beniculturali.it/cis/>\n",
    "\n",
    "    SELECT DISTINCT ?s ?label WHERE {\n",
    "    ?s a cis:CulturalEvent; \n",
    "    cis:isHostedBySite ?o .\n",
    "\n",
    "    ?o rdfs:label ?label.\n",
    "    }\n",
    "'''"
   ]
  },
  {
   "cell_type": "code",
   "execution_count": null,
   "metadata": {},
   "outputs": [],
   "source": [
    "query = '''\n",
    "PREFIX cis: <http://dati.beniculturali.it/cis/>\n",
    "PREFIX arco: <https://w3id.org/arco/ontology/arco/>\n",
    "PREFIX clvapit:<https://w3id.org/italia/onto/CLV/>\n",
    "\n",
    "SELECT DISTINCT ?s ?label WHERE {\n",
    "?s a cis:CulturalEvent; \n",
    "clvapit:hasSpatialCoverage ?o .\n",
    "\n",
    "?o rdfs:label ?label.\n",
    "}\n",
    "'''"
   ]
  }
 ],
 "metadata": {
  "kernelspec": {
   "display_name": "Python 3",
   "language": "python",
   "name": "python3"
  },
  "language_info": {
   "name": "python",
   "version": "3.10.7 (tags/v3.10.7:6cc6b13, Sep  5 2022, 14:08:36) [MSC v.1933 64 bit (AMD64)]"
  },
  "orig_nbformat": 4,
  "vscode": {
   "interpreter": {
    "hash": "909775f4c1c1337c10dd26386ad7fdd8e68c24cfe611dcacc1a198b9e09c3e1f"
   }
  }
 },
 "nbformat": 4,
 "nbformat_minor": 2
}
