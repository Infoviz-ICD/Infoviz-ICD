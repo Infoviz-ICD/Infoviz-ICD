{
 "cells": [
  {
   "attachments": {},
   "cell_type": "markdown",
   "metadata": {},
   "source": [
    "List of all the predicates used with objects that have type \"Cultural Entity\"."
   ]
  },
  {
   "cell_type": "code",
   "execution_count": null,
   "metadata": {},
   "outputs": [],
   "source": [
    "from rdflib import *\n",
    "from pprint import pprint\n",
    "from sparql_dataframe import get\n",
    "\n",
    "endpoint = 'https://dati.cultura.gov.it/sparql'\n",
    "\n",
    "query = '''\n",
    "PREFIX cis: <http://dati.beniculturali.it/cis/>\n",
    "\n",
    "SELECT DISTINCT ?p WHERE {\n",
    "?s a cis:CulturalEvent; \n",
    "?p ?o .\n",
    "}\n",
    "'''\n",
    "\n",
    "execute_query = get(endpoint, query, True)\n",
    "\n",
    "for quad in g.quads():\n",
    "    pprint.pprint(quad)\n",
    "\n",
    "    "
   ]
  }
 ],
 "metadata": {
  "kernelspec": {
   "display_name": "Python 3",
   "language": "python",
   "name": "python3"
  },
  "language_info": {
   "name": "python",
   "version": "3.10.7 (tags/v3.10.7:6cc6b13, Sep  5 2022, 14:08:36) [MSC v.1933 64 bit (AMD64)]"
  },
  "orig_nbformat": 4,
  "vscode": {
   "interpreter": {
    "hash": "909775f4c1c1337c10dd26386ad7fdd8e68c24cfe611dcacc1a198b9e09c3e1f"
   }
  }
 },
 "nbformat": 4,
 "nbformat_minor": 2
}
