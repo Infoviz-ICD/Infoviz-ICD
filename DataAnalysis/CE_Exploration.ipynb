{
 "cells": [
  {
   "attachments": {},
   "cell_type": "markdown",
   "metadata": {},
   "source": [
    "## cis:CulturalEvents\n",
    "List of all the predicates used with objects that have type \"Cultural Entity\"."
   ]
  },
  {
   "cell_type": "code",
   "execution_count": null,
   "metadata": {},
   "outputs": [],
   "source": [
    "from rdflib import *\n",
    "from pprint import pprint\n",
    "from sparql_dataframe import get\n",
    "\n",
    "endpoint = 'https://dati.cultura.gov.it/sparql'\n",
    "\n",
    "query = '''\n",
    "PREFIX cis: <http://dati.beniculturali.it/cis/>\n",
    "\n",
    "SELECT DISTINCT ?p WHERE {\n",
    "?s a cis:CulturalEvent; \n",
    "?p ?o .\n",
    "}\n",
    "'''\n",
    "\n",
    "execute_query = get(endpoint, query, True)    "
   ]
  },
  {
   "attachments": {},
   "cell_type": "markdown",
   "metadata": {},
   "source": [
    "We procede extracting all the places in which has taken place a cultural event, thorugh the property cis:isHostedBySite. We take the label for each place. \n",
    "Furthermore we are interested in the number of cultural events for place."
   ]
  },
  {
   "cell_type": "code",
   "execution_count": null,
   "metadata": {},
   "outputs": [],
   "source": [
    "query= '''\n",
    "    PREFIX cis: <http://dati.beniculturali.it/cis/>\n",
    "\n",
    "    SELECT DISTINCT ?s ?label WHERE {\n",
    "    ?s a cis:CulturalEvent; \n",
    "    cis:isHostedBySite ?o .\n",
    "\n",
    "    ?o rdfs:label ?label.\n",
    "    }\n",
    "'''"
   ]
  },
  {
   "cell_type": "code",
   "execution_count": null,
   "metadata": {},
   "outputs": [],
   "source": [
    "query = '''\n",
    "PREFIX cis: <http://dati.beniculturali.it/cis/>\n",
    "PREFIX arco: <https://w3id.org/arco/ontology/arco/>\n",
    "PREFIX clvapit:<https://w3id.org/italia/onto/CLV/>\n",
    "\n",
    "SELECT DISTINCT ?s ?label WHERE {\n",
    "?s a cis:CulturalEvent; \n",
    "clvapit:hasSpatialCoverage ?o .\n",
    "\n",
    "?o rdfs:label ?label.\n",
    "}\n",
    "'''"
   ]
  },
  {
   "cell_type": "code",
   "execution_count": null,
   "metadata": {},
   "outputs": [],
   "source": [
    "#aentities for the addresses of cultural places.\n",
    "query = '''\n",
    "PREFIX cis: <http://dati.beniculturali.it/cis/>\n",
    "PREFIX arco: <https://w3id.org/arco/ontology/arco/>\n",
    "PREFIX clvapit:<https://w3id.org/italia/onto/CLV/>\n",
    "\n",
    "SELECT DISTINCT ?o2 WHERE {\n",
    " ?s a cis:CulturalEvent; \n",
    "    cis:isHostedBySite ?o .\n",
    "?o cis:siteAddress ?o2 .\n",
    "\n",
    "}\n",
    "'''\n",
    "#from the addresses we retrieve the predicates related to that site. Some are very interesting like cvlapit:hasCity. \n",
    "#With the city information we can provide geospatial information interoperable with the results of the other queries.\n",
    "query = '''\n",
    "PREFIX cis: <http://dati.beniculturali.it/cis/>\n",
    "PREFIX arco: <https://w3id.org/arco/ontology/arco/>\n",
    "PREFIX clvapit:<https://w3id.org/italia/onto/CLV/>\n",
    "\n",
    "SELECT DISTINCT ?p WHERE {\n",
    " ?s a cis:CulturalEvent; \n",
    "    cis:isHostedBySite ?o .\n",
    "?o cis:siteAddress ?o2 .\n",
    "?o2 ?p ?o3 .\n",
    "}\n",
    "'''\n",
    "\n",
    "#retrieve the label of all the cities. we could also relate the sites to the cities and count how many different cultural sites per city there are.\n",
    "query = '''\n",
    "PREFIX cis: <http://dati.beniculturali.it/cis/>\n",
    "PREFIX arco: <https://w3id.org/arco/ontology/arco/>\n",
    "PREFIX clvapit:<https://w3id.org/italia/onto/CLV/>\n",
    "\n",
    "SELECT DISTINCT ?label WHERE {\n",
    " ?s a cis:CulturalEvent; \n",
    "    cis:isHostedBySite ?o .\n",
    "?o cis:siteAddress ?o2 .\n",
    "?o2 clvapit:hasCity ?o3 .\n",
    "?o3 rdfs:label ?label.\n",
    "}\n",
    "'''\n",
    "\n",
    "#with the third spatial property we didn't found any object linked."
   ]
  },
  {
   "attachments": {},
   "cell_type": "markdown",
   "metadata": {},
   "source": [
    " ## Time after Space\n",
    " Now we look at all the data related to time information."
   ]
  },
  {
   "cell_type": "code",
   "execution_count": null,
   "metadata": {},
   "outputs": [],
   "source": [
    "query = '''\n",
    "PREFIX cis: <http://dati.beniculturali.it/cis/>\n",
    "PREFIX arco: <https://w3id.org/arco/ontology/arco/>\n",
    "PREFIX clvapit:<https://w3id.org/italia/onto/CLV/>\n",
    "PREFIX tiapit:<https://w3id.org/italia/onto/TI/>\n",
    "\n",
    "SELECT DISTINCT ?s ?o WHERE {\n",
    " ?s a cis:CulturalEvent; \n",
    "    tiapit:time ?o .\n",
    "}\n",
    "'''\n",
    "\n",
    "#https://ontopia-lode.agid.gov.it/lode/extract?url=https://w3id.org/italia/onto/TI#objectproperties"
   ]
  },
  {
   "cell_type": "code",
   "execution_count": null,
   "metadata": {},
   "outputs": [],
   "source": [
    "#with the second property tiapit:atTime we have found time-spans that are probably referred to the registration in the catalogue and not to the event.\n",
    "query = '''\n",
    "PREFIX cis: <http://dati.beniculturali.it/cis/>\n",
    "PREFIX arco: <https://w3id.org/arco/ontology/arco/>\n",
    "PREFIX clvapit:<https://w3id.org/italia/onto/CLV/>\n",
    "PREFIX tiapit:<https://w3id.org/italia/onto/TI/>\n",
    "\n",
    "SELECT DISTINCT ?s ?start ?end WHERE {\n",
    " ?s a cis:CulturalEvent; \n",
    "    tiapit:atTime ?o .\n",
    "?o tiapit:startTime ?start .\n",
    "?o tiapit:endTime ?end.\n",
    "}\n",
    "'''"
   ]
  },
  {
   "attachments": {},
   "cell_type": "markdown",
   "metadata": {},
   "source": [
    "## Little Plus: Event Organiser"
   ]
  },
  {
   "cell_type": "code",
   "execution_count": null,
   "metadata": {},
   "outputs": [],
   "source": [
    "query= '''\n",
    "SELECT DISTINCT ?label WHERE {\n",
    "?s a cis:CulturalEvent; \n",
    "a-ce:hasEventOrganiser ?o.\n",
    "?o rdfs:label ?label.\n",
    "}\n",
    "'''"
   ]
  }
 ],
 "metadata": {
  "kernelspec": {
   "display_name": "Python 3",
   "language": "python",
   "name": "python3"
  },
  "language_info": {
   "name": "python",
   "version": "3.10.7 (tags/v3.10.7:6cc6b13, Sep  5 2022, 14:08:36) [MSC v.1933 64 bit (AMD64)]"
  },
  "orig_nbformat": 4,
  "vscode": {
   "interpreter": {
    "hash": "909775f4c1c1337c10dd26386ad7fdd8e68c24cfe611dcacc1a198b9e09c3e1f"
   }
  }
 },
 "nbformat": 4,
 "nbformat_minor": 2
}
