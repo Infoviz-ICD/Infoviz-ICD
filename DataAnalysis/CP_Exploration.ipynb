{
 "cells": [
  {
   "attachments": {},
   "cell_type": "markdown",
   "metadata": {},
   "source": [
    "## arco:CulturalProperty\n",
    "List of all the predicates which have type \"Cultural Property\"."
   ]
  },
  {
   "cell_type": "code",
   "execution_count": null,
   "metadata": {},
   "outputs": [],
   "source": [
    "query = '''\n",
    "\n",
    "PREFIX arco: <https://w3id.org/arco/ontology/arco/>\n",
    "\n",
    "SELECT DISTINCT ?p WHERE {\n",
    "?s a arco:CulturalProperty; \n",
    "?p ?o .\n",
    "}\n",
    "'''\n",
    "\n",
    "#through the property cis:hasSite we find the exact site of each institution and therefore its address with the relative city.\n",
    "query = '''\n",
    "PREFIX arco: <https://w3id.org/arco/ontology/arco/>\n",
    "PREFIX a-loc: <https://w3id.org/arco/ontology/location/>\n",
    "\n",
    "SELECT DISTINCT ?s ?label WHERE {\n",
    "?s a arco:CulturalProperty; \n",
    " a-loc:hasCulturalInstituteOrSite ?o .\n",
    "?o cis:hasSite ?o2.\n",
    "?o2 cis:siteAddress ?o3.\n",
    "?o3 rdfs:label ?label.\n",
    "}\n",
    "'''\n",
    "\n",
    "#dc:coverage -> check if it refers to the same places of the institutions\n",
    "query = '''\n",
    "SELECT DISTINCT ?s ?o WHERE {\n",
    "?s a arco:CulturalProperty; \n",
    " dc:coverage ?o .\n",
    "}\n",
    "'''"
   ]
  },
  {
   "attachments": {},
   "cell_type": "markdown",
   "metadata": {},
   "source": [
    "No time, only space, since time was to know the time span of cultural events"
   ]
  },
  {
   "cell_type": "code",
   "execution_count": null,
   "metadata": {},
   "outputs": [],
   "source": [
    "#those are the properties of the planning instrument objects\n",
    "query = '''\n",
    "PREFIX arco: <https://w3id.org/arco/ontology/arco/>\n",
    "PREFIX a-loc: <https://w3id.org/arco/ontology/location/>\n",
    "\n",
    "SELECT DISTINCT ?p WHERE {\n",
    "?s a arco:CulturalProperty; \n",
    "a-cd:hasUrbanPlanningInstrument ?o.\n",
    "?o ?p ?o2.\n",
    "}\n",
    "'''"
   ]
  }
 ],
 "metadata": {
  "kernelspec": {
   "display_name": "Python 3",
   "language": "python",
   "name": "python3"
  },
  "language_info": {
   "name": "python",
   "version": "3.10.7"
  },
  "orig_nbformat": 4,
  "vscode": {
   "interpreter": {
    "hash": "909775f4c1c1337c10dd26386ad7fdd8e68c24cfe611dcacc1a198b9e09c3e1f"
   }
  }
 },
 "nbformat": 4,
 "nbformat_minor": 2
}
