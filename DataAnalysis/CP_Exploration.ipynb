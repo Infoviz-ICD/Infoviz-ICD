{
 "cells": [
  {
   "attachments": {},
   "cell_type": "markdown",
   "metadata": {},
   "source": [
    "## arco:CulturalProperty\n",
    "List of all the predicates which have type \"Cultural Property\"."
   ]
  },
  {
   "attachments": {},
   "cell_type": "markdown",
   "metadata": {},
   "source": [
    "\n",
    "Cultural Property is the superclass. The subjects usually are registered with both the superclass 'Cultural Property' and the appropriate subclass."
   ]
  },
  {
   "cell_type": "code",
   "execution_count": null,
   "metadata": {},
   "outputs": [],
   "source": [
    "#list of all the classes of a Cultural Property\n",
    "query = '''\n",
    "SELECT DISTINCT ?o WHERE {\n",
    "?s a arco:CulturalProperty; \n",
    "rdf:type ?o.\n",
    "}\n",
    "'''\n",
    "\n",
    "#subjects and their class\n",
    "query = '''\n",
    "SELECT ?s ?o WHERE {\n",
    "?s a arco:CulturalProperty; \n",
    "rdf:type ?o.\n",
    "}\n",
    "'''"
   ]
  },
  {
   "cell_type": "code",
   "execution_count": null,
   "metadata": {},
   "outputs": [],
   "source": [
    "query = '''\n",
    "\n",
    "PREFIX arco: <https://w3id.org/arco/ontology/arco/>\n",
    "\n",
    "SELECT DISTINCT ?p WHERE {\n",
    "?s a arco:CulturalProperty; \n",
    "?p ?o .\n",
    "}\n",
    "'''\n",
    "\n",
    "#through the property cis:hasSite we find the exact site of each institution and therefore its address with the relative city.\n",
    "query = '''\n",
    "PREFIX arco: <https://w3id.org/arco/ontology/arco/>\n",
    "PREFIX a-loc: <https://w3id.org/arco/ontology/location/>\n",
    "\n",
    "SELECT DISTINCT ?s ?label WHERE {\n",
    "?s a arco:CulturalProperty; \n",
    " a-loc:hasCulturalInstituteOrSite ?o .\n",
    "?o cis:hasSite ?o2.\n",
    "?o2 cis:siteAddress ?o3.\n",
    "?o3 rdfs:label ?label.\n",
    "}\n",
    "'''\n",
    "\n",
    "#dc:coverage -> check if it refers to the same places of the institutions\n",
    "query = '''\n",
    "SELECT DISTINCT ?s ?o WHERE {\n",
    "?s a arco:CulturalProperty; \n",
    " dc:coverage ?o .\n",
    "}\n",
    "'''"
   ]
  },
  {
   "attachments": {},
   "cell_type": "markdown",
   "metadata": {},
   "source": [
    "No time, only space, since time was to know the time span of cultural events"
   ]
  },
  {
   "cell_type": "code",
   "execution_count": null,
   "metadata": {},
   "outputs": [],
   "source": [
    "#those are the properties of the planning instrument objects\n",
    "query = '''\n",
    "PREFIX arco: <https://w3id.org/arco/ontology/arco/>\n",
    "PREFIX a-loc: <https://w3id.org/arco/ontology/location/>\n",
    "\n",
    "SELECT DISTINCT ?p WHERE {\n",
    "?s a arco:CulturalProperty; \n",
    "a-cd:hasUrbanPlanningInstrument ?o.\n",
    "?o ?p ?o2.\n",
    "}\n",
    "'''\n",
    "\n",
    "#there are the links to the documentation, mostly links to the cities' administration online\n",
    "query = '''\n",
    "PREFIX arco: <https://w3id.org/arco/ontology/arco/>\n",
    "PREFIX a-loc: <https://w3id.org/arco/ontology/location/>\n",
    "\n",
    "SELECT DISTINCT ?url WHERE {\n",
    "?s a arco:CulturalProperty; \n",
    "a-cd:hasUrbanPlanningInstrument ?o.\n",
    "?o smapit:URL ?url\n",
    "}\n",
    "'''\n",
    "\n",
    "\n",
    "#reasons of intervention\n",
    "query = '''\n",
    "PREFIX arco: <https://w3id.org/arco/ontology/arco/>\n",
    "PREFIX a-loc: <https://w3id.org/arco/ontology/location/>\n",
    "\n",
    "SELECT DISTINCT ?o3 WHERE {\n",
    "?s a arco:CulturalProperty; \n",
    "a-cd:hasUrbanPlanningInstrument ?o.\n",
    "?o a-cd:hasEligibleIntervention ?o2.\n",
    "?o2 l0:name ?o3.\n",
    "}\n",
    "'''"
   ]
  },
  {
   "attachments": {},
   "cell_type": "markdown",
   "metadata": {},
   "source": [
    "Each subtype of cultural property has its own specification, so they must be treated separately (e.g. DemoEthnoAnthropologicalProperties have hasInstitutionorSite as spatial property, while the ArcheologicalSite have only dcterms:spatial and dc:coverage)"
   ]
  },
  {
   "attachments": {},
   "cell_type": "markdown",
   "metadata": {},
   "source": [
    "##SOME TRIALS"
   ]
  },
  {
   "cell_type": "code",
   "execution_count": null,
   "metadata": {},
   "outputs": [],
   "source": [
    "#number of all distinct cultural properties -> 127592\n",
    "'''\n",
    "SELECT COUNT(DISTINCT(?property) as ?count) WHERE {\n",
    "?property a arco:CulturalProperty .\n",
    "}\n",
    "'''\n",
    "\n",
    "#number of all distinct institution and the number of cultural properties per institution \n",
    "query ='''\n",
    "SELECT DISTINCT(?institution) COUNT(DISTINCT(?property) as ?count)  WHERE {\n",
    "?property a arco:CulturalProperty ;\n",
    " a-loc:hasCulturalInstituteOrSite ?institution .\n",
    "}\n",
    "'''\n",
    "\n",
    "#institution and label without language tag (e.g. @de)\n",
    "'''\n",
    "SELECT DISTINCT(?institution) ?stripped_institutionLabel WHERE {\n",
    "?property a arco:CulturalProperty ;\n",
    " a-loc:hasCulturalInstituteOrSite ?institution .\n",
    "?institution rdfs:label ?institutionLabel.\n",
    "BIND (STR(?institutionLabel)  AS ?stripped_institutionLabel) \n",
    "}\n",
    "'''\n",
    "\n",
    "#now the institution URI (to keep them unique), the label and the count of property per institution\n",
    "'''\n",
    "SELECT DISTINCT(?institution) ?stripped_institutionLabel COUNT(DISTINCT(?property) as ?count)  WHERE {\n",
    "?property a arco:CulturalProperty ;\n",
    " a-loc:hasCulturalInstituteOrSite ?institution .\n",
    "?institution rdfs:label ?institutionLabel.\n",
    "BIND (STR(?institutionLabel)  AS ?stripped_institutionLabel) \n",
    "}\n",
    "'''"
   ]
  }
 ],
 "metadata": {
  "kernelspec": {
   "display_name": "Python 3",
   "language": "python",
   "name": "python3"
  },
  "language_info": {
   "name": "python",
   "version": "3.10.7 (tags/v3.10.7:6cc6b13, Sep  5 2022, 14:08:36) [MSC v.1933 64 bit (AMD64)]"
  },
  "orig_nbformat": 4,
  "vscode": {
   "interpreter": {
    "hash": "909775f4c1c1337c10dd26386ad7fdd8e68c24cfe611dcacc1a198b9e09c3e1f"
   }
  }
 },
 "nbformat": 4,
 "nbformat_minor": 2
}
