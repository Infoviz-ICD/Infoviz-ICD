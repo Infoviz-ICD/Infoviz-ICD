{
 "cells": [
  {
   "attachments": {},
   "cell_type": "markdown",
   "metadata": {},
   "source": [
    "After we have explored our dataset, now we procede by extracting the information we would like to analysis and visualize later.\n",
    "First of all We want a list with all the cultural events and their places (both sites and cities). We will save it in a dataframe with three columns: event, site, city.\n",
    "Second, we want the number of events per city, so a table with city and count.\n",
    "Third, information about the event and the time of the event, in order to get information about how long a city hosted events, or iin which years (stratified information also: e.g. year 1976 and all the points in the map with the events)."
   ]
  },
  {
   "attachments": {},
   "cell_type": "markdown",
   "metadata": {},
   "source": [
    "For what concern the cultural properties, first we must consider the different types of cultural properties provided by arco: \n",
    "- DemoHethnoAntropologicalHeritage\n",
    "- HistoricOrArtisticProperty\n",
    "- MovableCulturalProperty\n",
    "- IntangibleCulturalProperty\n",
    "- ArchaeologicalProperty\n",
    "- ArchitecturalOrLandscapeHeritage\n",
    "- ImmovableCulturalProperty\n"
   ]
  },
  {
   "cell_type": "code",
   "execution_count": null,
   "metadata": {},
   "outputs": [],
   "source": []
  }
 ],
 "metadata": {
  "kernelspec": {
   "display_name": "Python 3",
   "language": "python",
   "name": "python3"
  },
  "language_info": {
   "name": "python",
   "version": "3.10.7 (tags/v3.10.7:6cc6b13, Sep  5 2022, 14:08:36) [MSC v.1933 64 bit (AMD64)]"
  },
  "orig_nbformat": 4,
  "vscode": {
   "interpreter": {
    "hash": "909775f4c1c1337c10dd26386ad7fdd8e68c24cfe611dcacc1a198b9e09c3e1f"
   }
  }
 },
 "nbformat": 4,
 "nbformat_minor": 2
}
