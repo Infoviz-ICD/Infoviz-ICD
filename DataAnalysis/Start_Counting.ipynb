{
 "cells": [
  {
   "attachments": {},
   "cell_type": "markdown",
   "metadata": {},
   "source": [
    "## Data on Events\n",
    "After we have explored our dataset, now we procede by extracting the information we would like to analysis and visualize later.\n",
    "First of all We want a list with all the cultural events and their places (both sites and cities). We will save it in a dataframe with three columns: event, site, city.\n",
    "Second, we want the number of events per city, so a table with city and count.\n",
    "Third, information about the event and the time of the event, in order to get information about how long a city hosted events, or iin which years (stratified information also: e.g. year 1976 and all the points in the map with the events)."
   ]
  },
  {
   "attachments": {},
   "cell_type": "markdown",
   "metadata": {},
   "source": [
    "## Data on Properties\n",
    "For what concern the cultural properties, first we must consider the different types of cultural properties provided by arco: \n",
    "- DemoHethnoAntropologicalHeritage\n",
    "- HistoricOrArtisticProperty\n",
    "- MovableCulturalProperty\n",
    "- IntangibleCulturalProperty\n",
    "- ArchaeologicalProperty\n",
    "- ArchitecturalOrLandscapeHeritage\n",
    "- ImmovableCulturalProperty\n",
    "Since some of them refers mainly to objects, the table will consider the cultural institution or site of each one as representative of the whole. We will keep information about the objects held in the institution or site through the counting. We will have a table with: cultural institution, number of cultural properties, city. \n",
    "Then the second table will have the count of cultural institutions and sites per city. \n",
    "We can add information about the time-span of the object held by the institutions if necessary to the research"
   ]
  },
  {
   "attachments": {},
   "cell_type": "markdown",
   "metadata": {},
   "source": [
    "## Gather data\n",
    "At this point we want to confront the information coming from the two datasets. \n",
    "We must be careful: \n",
    "- Institutions that held events can be the same as the institutions that held objects (this step is essential in the data normalization. Maybe we can take the viaf authority if there is or another authority that is shared between the two datasets for the label)\n",
    "We will provide a table with the information about: the city, the number of properties, the number of events.\n",
    "A second table will have information about: institution, number of events, number of properties.\n",
    "\n",
    "---\n",
    "It could be interesting to have also the date of acquisition of property, we can try to compare the datespan of events and the datespan of acquisition of properties."
   ]
  },
  {
   "cell_type": "code",
   "execution_count": null,
   "metadata": {},
   "outputs": [],
   "source": []
  }
 ],
 "metadata": {
  "kernelspec": {
   "display_name": "Python 3",
   "language": "python",
   "name": "python3"
  },
  "language_info": {
   "name": "python",
   "version": "3.10.7 (tags/v3.10.7:6cc6b13, Sep  5 2022, 14:08:36) [MSC v.1933 64 bit (AMD64)]"
  },
  "orig_nbformat": 4,
  "vscode": {
   "interpreter": {
    "hash": "909775f4c1c1337c10dd26386ad7fdd8e68c24cfe611dcacc1a198b9e09c3e1f"
   }
  }
 },
 "nbformat": 4,
 "nbformat_minor": 2
}
