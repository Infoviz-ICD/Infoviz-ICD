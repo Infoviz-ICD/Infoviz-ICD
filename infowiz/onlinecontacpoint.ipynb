{
 "cells": [
  {
   "attachments": {},
   "cell_type": "markdown",
   "metadata": {},
   "source": [
    "I tried to use the proper <a href=\"https://ontopia-lode.agid.gov.it/lode/extract?url=https://w3id.org/italia/onto/SM#d4e1494\"><b>hasOnlineContactPoint</b></a> to actually obtain a view where these events were shared on social medias.\n"
   ]
  },
  {
   "cell_type": "code",
   "execution_count": null,
   "metadata": {},
   "outputs": [],
   "source": [
    "query = '''PREFIX cis: <http://dati.beniculturali.it/cis/>\n",
    "PREFIX arco: <https://w3id.org/arco/ontology/arco/>\n",
    "PREFIX clvapit:<https://w3id.org/italia/onto/CLV/>\n",
    "PREFIX tiapit:<https://w3id.org/italia/onto/TI/>\n",
    "PREFIX smapit: <https://w3id.org/italia/onto/SM/>\n",
    "\n",
    "SELECT DISTINCT ?o ?label WHERE {\n",
    " ?s a cis:CulturalEvent; \n",
    "    smapit:hasOnlineContactPoint ?o .\n",
    "?o rdfs:label ?label\n",
    "}\n",
    "'''"
   ]
  },
  {
   "attachments": {},
   "cell_type": "markdown",
   "metadata": {},
   "source": [
    "I then extracted all the properties from this first initial one and moved onto finding some rather useful ones, such as: hasEmail, hasTelephone, hasWebsite, hasAccessConditions."
   ]
  },
  {
   "cell_type": "code",
   "execution_count": null,
   "metadata": {},
   "outputs": [],
   "source": [
    "query='''PREFIX cis: <http://dati.beniculturali.it/cis/>\n",
    "PREFIX arco: <https://w3id.org/arco/ontology/arco/>\n",
    "PREFIX clvapit:<https://w3id.org/italia/onto/CLV/>\n",
    "PREFIX tiapit:<https://w3id.org/italia/onto/TI/>\n",
    "PREFIX smapit: <https://w3id.org/italia/onto/SM/>\n",
    "\n",
    "SELECT DISTINCT ?p WHERE {\n",
    " ?s a cis:CulturalEvent; \n",
    "    smapit:hasOnlineContactPoint ?o .\n",
    "?o ?p ?o2\n",
    "}'''"
   ]
  },
  {
   "attachments": {},
   "cell_type": "markdown",
   "metadata": {},
   "source": [
    "hasAccessConditions -> inutile, ti dice gli orari, ma tu non li puoi vedere (e le altre non danno risultati, perciò niente)"
   ]
  },
  {
   "cell_type": "code",
   "execution_count": null,
   "metadata": {},
   "outputs": [],
   "source": [
    "query = '''SELECT DISTINCT ?o2 ?label WHERE {\n",
    " ?s a cis:CulturalEvent; \n",
    "    smapit:hasOnlineContactPoint ?o .\n",
    "?o accessCondition:hasAccessCondition ?o2.\n",
    "?o2 rdfs:label ?label\n",
    "}'''"
   ]
  },
  {
   "attachments": {},
   "cell_type": "markdown",
   "metadata": {},
   "source": [
    "I am not too sure but this should be for counting how many events in each city"
   ]
  },
  {
   "cell_type": "code",
   "execution_count": null,
   "metadata": {},
   "outputs": [],
   "source": [
    "query ='''PREFIX cis: <http://dati.beniculturali.it/cis/>\n",
    "PREFIX arco: <https://w3id.org/arco/ontology/arco/>\n",
    "PREFIX clvapit:<https://w3id.org/italia/onto/CLV/>\n",
    "\n",
    "SELECT DISTINCT ?label (count (?s) as ?count) WHERE {\n",
    " ?s a cis:CulturalEvent; \n",
    "    cis:isHostedBySite ?o .\n",
    "?o cis:siteAddress ?o2 .\n",
    "?o2 clvapit:hasCity ?o3 .\n",
    "?o3 rdfs:label ?label.\n",
    "}'''"
   ]
  }
 ],
 "metadata": {
  "kernelspec": {
   "display_name": "Python 3",
   "language": "python",
   "name": "python3"
  },
  "language_info": {
   "name": "python",
   "version": "3.10.0 (v3.10.0:b494f5935c, Oct  4 2021, 14:59:19) [Clang 12.0.5 (clang-1205.0.22.11)]"
  },
  "orig_nbformat": 4,
  "vscode": {
   "interpreter": {
    "hash": "aee8b7b246df8f9039afb4144a1f6fd8d2ca17a180786b69acc140d282b71a49"
   }
  }
 },
 "nbformat": 4,
 "nbformat_minor": 2
}
